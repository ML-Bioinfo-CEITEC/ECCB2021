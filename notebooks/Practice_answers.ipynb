{
  "nbformat": 4,
  "nbformat_minor": 0,
  "metadata": {
    "colab": {
      "name": "Practice.ipynb",
      "provenance": [],
      "collapsed_sections": [],
      "toc_visible": true,
      "authorship_tag": "ABX9TyNJW7mPuwfxen5HpS9JboY9",
      "include_colab_link": true
    },
    "kernelspec": {
      "name": "python3",
      "display_name": "Python 3"
    },
    "language_info": {
      "name": "python"
    }
  },
  "cells": [
    {
      "cell_type": "markdown",
      "metadata": {
        "id": "view-in-github",
        "colab_type": "text"
      },
      "source": [
        "<a href=\"https://colab.research.google.com/github/ML-Bioinfo-CEITEC/ECCB2021/blob/main/notebooks/Practice_answers.ipynb\" target=\"_parent\"><img src=\"https://colab.research.google.com/assets/colab-badge.svg\" alt=\"Open In Colab\"/></a>"
      ]
    },
    {
      "cell_type": "markdown",
      "metadata": {
        "id": "jQQnegoivCgW"
      },
      "source": [
        "# Get data into the correct format"
      ]
    },
    {
      "cell_type": "markdown",
      "metadata": {
        "id": "XiQIXYQX4uzl"
      },
      "source": [
        "## create TF dataset"
      ]
    },
    {
      "cell_type": "code",
      "metadata": {
        "id": "dOLJMaQYtaBx"
      },
      "source": [
        "#imports\n",
        "#DATA DOWNLOAD\n",
        "#TODO load data from folders\n",
        "#DATA LOAD hint: https://colab.research.google.com/github/ML-Bioinfo-CEITEC/ECCB2021/blob/main/notebooks/04_Transfer_Learning.ipynb\n",
        "#DATA PREPROCESS"
      ],
      "execution_count": null,
      "outputs": []
    },
    {
      "cell_type": "code",
      "metadata": {
        "id": "BRZyNguShwhz"
      },
      "source": [
        "from io import BytesIO\n",
        "from urllib.request import urlopen\n",
        "from zipfile import ZipFile\n",
        "from pathlib import Path\n",
        "\n",
        "_URL = 'https://github.com/ML-Bioinfo-CEITEC/ECCB2021/raw/main/data/intergenic_vs_coding_20000_seqs.zip'\n",
        "PATH = Path('/content/datasets/dna_dataset')\n",
        "with urlopen(_URL) as zipresp:\n",
        "  with ZipFile(BytesIO(zipresp.read())) as zfile:\n",
        "      zfile.extractall(PATH)"
      ],
      "execution_count": 1,
      "outputs": []
    },
    {
      "cell_type": "code",
      "metadata": {
        "colab": {
          "base_uri": "https://localhost:8080/"
        },
        "id": "7s44UxiUjm0h",
        "outputId": "29e1f9fa-10e3-4c55-829c-08e71911f80a"
      },
      "source": [
        "import pandas as pd\n",
        "import numpy as np\n",
        "import tensorflow as tf\n",
        "import matplotlib.pyplot as plt\n",
        "\n",
        "train_dset = tf.keras.preprocessing.text_dataset_from_directory(PATH/'intergenic_vs_coding_10000_seqs'/'train')\n",
        "valid_dset = tf.keras.preprocessing.text_dataset_from_directory(PATH/'intergenic_vs_coding_10000_seqs'/'valid')\n"
      ],
      "execution_count": 111,
      "outputs": [
        {
          "output_type": "stream",
          "text": [
            "Found 18335 files belonging to 2 classes.\n",
            "Found 1665 files belonging to 2 classes.\n"
          ],
          "name": "stdout"
        }
      ]
    },
    {
      "cell_type": "code",
      "metadata": {
        "colab": {
          "base_uri": "https://localhost:8080/"
        },
        "id": "p8rirOpAu6SQ",
        "outputId": "e1483769-7890-46cf-898c-3b032691f096"
      },
      "source": [
        "for x,y in dset.take(1):\n",
        "  print(x)\n",
        "  print(y)"
      ],
      "execution_count": 73,
      "outputs": [
        {
          "output_type": "stream",
          "text": [
            "tf.Tensor(\n",
            "[b'TGGGCTTTTAAAAAGTGACAGCTGCTCTTCAGAGTGATAGACAGGTGTCCACATTTCAGCTTTCTTTGTTTGTCACTGTGTGTGTTTGTTCTTACCAGTAATGCCTGGGAAGGGCGGCAAACACTGTTGTGCTTGGATACGAAAACCAAGGCCTGATTAGCGTAAGCGTTTGTTGAAAAAGCATTTTCTCTGCACACTAA'\n",
            " b'GCTGATGCCCCCATGTTCGTCATGGGTGTGAACCATGAGAAGTATGACAACAGCCTCAAGATCATCAGCAATGCCTCCTGCACCACCAACTGCTTAGCACCCCTGGCCAAGGTCATCCATGACAACTTTGGTATCGTGGAAGGACTCATGACCACAGTCCATGCCATCACTGCCACCCAGAAGACTGTGGATGGCCCCTC'\n",
            " b'ACCGACACACAGTGCAAGCGCGTAGGAACACAATGCTGGGTGTTTGGGGTCATTGGTTTCCTGGAGGCCATTGTTTGCATAAAATTTGGACAAGATCTCTTCTCTAAGACCCAAATACTCTATGTTGTGCTTTGGCTTCTTTGCGTGGCTTTCACCACTTTCCTCTGTCTGTACGGCATGATTTGGTATGCAGAACACTA'\n",
            " b'TTAAGATTGGGCAGCCCAAGAAACAGATTGTGCCCAAAACAGTGGAGAGAGACTTTGAAAGGGAGTATGGAAAACTTCAGCAGCTGGAAGAGCAGACCCGGAGGCTGCAGAAAGACATGAAGAAGAGCACCGACGCAGACCTGGCCATGTCAAAATCTGCCGTGAAGATATCCTTGGACTTACTCTCCAATCCCCTCTGT'\n",
            " b'CGCTGGACCAACCCCCAGTACCGGCAGTTCATCACCATCTTGGAAGCAACACATCGGAACCAGTCTTCAGAAAACAAGAGGCAGCTTGCCAACTACAACTTTGACTTCCGGAGCTGGCCAGTCGACTTCCACTGGGAAGAACCCAGCAGCCGGAAGGAGTCTCGAGGGGGCCCTTCCCGCCGGGGTGTGGCCCTGCTTCG'\n",
            " b'GAGTAAGCTTGATGGAGAGGCATCCATTAACAATCGCAAAGGGAAACTTATCTTCTTTTATGAATGGAGCGTCAAACTAAACTGGACAGGTACTTCTAAGTCAGGAGTACAATACAAAGGACATGTGGAGATCCCCAATTTGTCTGATGAAAACAGCGTGGATGAAGTGGAGATTAGTGTGAGCCTTGCCAAAGATGAGC'\n",
            " b'GCATCAGTGAATGAAAACCATGAAATATACATGAAGGATTCTATGTCTGCTGCAGAGGTTGGTACTGGCCAGTACGCCACAACAAAAGGCATCTCTCAGACCAACTTGATCACCACTGTGACTCCGGAGAAGAAGGCTGAGGAGGAGCGGGACGAGGAAGAGGACAAACGGAGGAAGGGGGAAGAAGTCACGCCCATCTC'\n",
            " b'TCTACCAGTCTTACGGCGCCTCGGGCCAGTTCACCCATGAATTTGATGAGGAACAGCTGTTCTCTGTGGACCTGAAGAAAAGCGAGGCCGTGTGGCGTCTGCCTGAGTTTGGTGACTTTGCCCGCTTTGACCCGCAGGGCGGGCTGGCCGGCATCGCCGCAATCAAAGCCCATCTGGACATCCTGGTGGAGCGCTCCAAC'\n",
            " b'AGGATGCTGCTAAACCATCATGAGAAATTCACCCCCAGGATCCCATCACCTCCCACCAGGCCCTACATCCAACGTTGGGGATTACATTTCAACATGAGATTTGGGTAGAAACACATCCAAAGTGTATCACCACCTGTGTATTTTCTTTGGTGAGGTGTCTATTCAGATCTTTTGCCTATTTTTCAGTTGGGTTGCTTGTT'\n",
            " b'GCCACATATTACCGATTTTGGTATCCAAAATGGGAAATGCCCCGGCCAGTTGTGTGTGATCCACTGTGCACATTCATTTTATTATTGAGAATATTATGTTTTATCCTGTGTGTCATAACTGTTTTGATAGTACAGTCTCAGTTTCCAAATATCTTGTTGGAACAACAAATGATATTTACCCCTGAGGAATCTGAAGCAGG'\n",
            " b'GGCAACTCTTCAGCTAAGATGAGTGTCAACGAAGTATCAGCTTTCTCATTGACTCTGGAGCAAAAAACTGGCTTTGCTTTTGTTGGGATTTTGTGTATCTTCTTGGGACTTCTTATTATCCGATGCTTCAAAATCCTGCTAGACCCATATAGTAGCATGCCTTCCTCTACATGGGAAGATGAAGTTGAAGAGTTTGATAA'\n",
            " b'AGATTGAGGAGAACTGGACCAATTGATCTCCAAAGCCTGTTCCAGTCCTAGGACACCATAGTTCCTCAACTTAGACTCTCTCTTCAAGGAGAACTTTCTTCCAAGAGCTCAACATAAGCAGCTCTCCCCAGAGACAATAAGGAAGGAGATCAAAGAGCTGCTGCTTCATTCTCAAAAAGGAAAAAAAGGTGAGTTTTTTA'\n",
            " b'TGTTTCATATCGCTGGGAAACATAGACATTGTTTAATAAACATTAGCCATTTTAAGAAAAAACTTACATTAAACCACATAATGAAATAAAGTACATGCTAATTAAAGATTTTAATATCGATAATAAATACATTAAGATATTAAAGATTAAATCAGTTTTTCAAATCTTGCAGTAGAGAAAGCTTTCATGAAAATGACACC'\n",
            " b'AGGCTGGTCTTGAGTTCTTGAGCTCAAGTGATCAGCCTGCCTCAACCTTCAGAATTACTGGGATTACAGACGTGAGCCATTGTGCCCGGCCAGGAGTGAGTTATCTAATGAAGAGTAACAATAACAGAAAATGTTTATGAGCTCCTGCATACAATAATTTCACAAGTATTTATCGAAAATTGATTACATACCAGGCAAAA'\n",
            " b'AGAGGAACAATTATTTGTTTCCTTCCATAGCAAGAAGAAAGATGTTTTGGGGGGTTCGGTGACTGAAATACTTATGTGTAAATTTATTTCTACTAGGAACCCCAGTATGTGGTCTTATGTGTAAATAGAGCCTTCACATGTGTAATTGGTTAAGAATGTCGAGGTAAAATTATCCTGAATTTAGGGTGGGCCTTAAATCC'\n",
            " b'TTGTGGGGTTCCATTCAGAGCCGATACATCAGCATGAGTGTGTGGACAAGCCCACGGAGACTTGTGGAGCTGGCAGGGCAGAGCCTGCTGAAGGATGAGGCCCTGGCCATTGCCGCCCTGGAGTTGCTGCCCAGGGAGCTCTTCCCGCCACTCTTCATGGCAGCCTTTGACGGGAGACACAGCCAGACCCTGAAGGCAAT'\n",
            " b'TGTTCAAGTACTTTGCCCATTTTTAATGGAGTTATTTCTTTTTTTGCTTGTTGATTTGTTAAGTTCCCTATAAATTCTGGACATTAGGCCTATTAGAGGGCGGAGGGAAGCAGGAGCATAAAATCTACCTATAGGGTGCTGTGCTCACTCCTTGGGTGATGAGGTCTGTATTTCAAACCACAGCATCACATGATATTTCC'\n",
            " b'GATGCTGGCAACTCCATTGGAGGAGGCAGAGGGGAACCTGGCCCTCCAGGGCTCCCTGGGCCCCCAGGGCCAAAGGGAGAAGCAGGTGTCGATGGCCAGGTTGGCCCCCCAGGGCAGCCAGGAGACAAGGGGGAGCGTGGAGCAGCTGGAGAACAGGGACCAGATGGCCCCAAGGGCTCCAAGGGAGAACCAGGGAAAGG'\n",
            " b'TAAGGAAGAACCTACTCTTATGGACCCAACCCCATTCCTCACTTTCCCTATAGAATAGACCTCATCATAGAAACATTTGCCTAGGGCCTGAGTAATCACAGACCTGCCTGGTGATTCAAAGCAGGAAAGTGAGTAGGATAGCTTTCCTGGAAATTACTGACAGCTACACAGTTAATTTCCCGGAGCAATATATGGTAATG'\n",
            " b'CCTCTGAGTCCCCTCGGCCTTGCTCTCTGCCCATCCGCCCCTGCTATGGTTTAGAGCCTGGCCCAGCTACTCCAGACTTCTATGCTTTGGTGGCCCAGCGGCTGGAACAGCTGGTCCAAGAGCAGCTGAAATCTCCGCCCAGCCCAGAATTACAGGGTCCCCCATCGACAGAGAAGGAAGCCATACTGCGGAGGCTGGTG'\n",
            " b'GAGATGTGGGTACCGCCTTGTGCGGAGACAGAGAAGTGCCGACGAGCAGCTGCACTGTGCCGGCAAGGCCAAGAGAAGTGGCGGCCACGCGCCCCGAGTGCGGGAGCTGCTGCTGGACGCCCTGAGCCCCGAGCAGCTAGTGCTCACCCTCCTGGAGGCTGAGCCGCCCCATGTGCTGATCAGCCGCCCCAGTGCGCCCT'\n",
            " b'TCAGAATGCTTCAGTCTCGTTTTCATGTGAAGAAGATTCCTTTTCCACCATATTCCTCATGTGCTCCAAATAAACACTTGCAGATTCCGCTAAAAGAGTGTTTCAAAACTGCTCAATCAAAAGAAAGGTTCTAGTCGGTGAGATGAATGCACACATCACAAAGAAGTTTCTATGAATGTTTCTGTCTGATTTATATTGAA'\n",
            " b'ACCCCATGACTCCTGAGAATGGGTTCTGGGCTGTAGAGTTGTATGGAAATGGGTACTGGGCCCTCACTCCTCTCCGGACCCCTCTCCCATTGGCAGGGCCCCCACGCCGGGTTGGGATTTTCCTAGACTATGAATCAGGAGACATCTCCTTCTACAACATGAATGATGGATCTGATATCTATACTTTCTCCAATGTCACA'\n",
            " b'AAAAAGAAAGAAAGAAAGAAAGAAAATGCATGGGCAATTCTCTGATTTTTCTCCCTTCCCCTGTCATTGTGACCAAGAAGGTCTTATATTACAGATATTAGAACTACAAAATGATGTACCCAACTTTTTGAGTGATTCTTTTGTTTTTGTTATTTATTTATTTATTTTGAGACAGAGTCTCACTCTTTCACCCAGGCTGG'\n",
            " b'TCTCCTCTGTCATTCGGTCAGCCGTCTCAGTCCATTTGCGGAGGAACATTGGTGTTACAGCAGTGGCATTTAATAAGGAACTTGATCCTATACAGAAACTCTTTGTGGACAAGATTAGAGAATACAAATCTAAGCGACAGACATCTGGAGGACCTGTTGATGCTAGTTCAGAGTATCAGCAAGAGCTGGAGAGGGAGCTT'\n",
            " b'CCATCGGGCTGGGCCTGCACAGTCTTGAGGCCGACCAAGAGCCAGGGAGCCAGATGGTGGAGGCCAGCCTCTCCGTACGGCACCCAGAGTACAACAGACCCTTGCTCGCTAACGACCTCATGCTCATCAAGTTGGACGAATCCGTGTCCGAGTCTGACACCATCCGGAGCATCAGCATTGCTTCGCAGTGCCCTACCGCG'\n",
            " b'ATGAAGATGAAGAAGTTGAAGCTGACAGAAATGTTAACCATCTCCCCAGTCTTGTCCTTTCTGATACCATGAAAACAGGTTTGAAGAGGGAATTTGATGAAGTTTTTACAAAGAAAATGATTGAGTCTATGAGCCGTCCTTCCATGGAGCTTGTTCTCTGGAAACCCCTCCCTGAACTCCTTTCTGATAAGCCAAAGCCA'\n",
            " b'AAAAGGCAGAGGCCACTCTCAATTAAGATGCAGTTCAGTGACCAATATCACTTGGTTAGGAAACACTTGTGCAAAGTGCCATGCTATCTTCACTTTAGTCGGTGTCTGTCCTACCTGGCGTATACCTTGGGCAGATCACTTAATCAAAGACTGTTCCCATCACCCATAAAGTGAGAGAATTGGACTAGTTTGTCCACAGA'\n",
            " b'AAAGGTCCTCCTGTGGCTCCCAAGCCAGCCTGGTTTCGCCAAAGCTTGAAAGGTTTGAGGAATCGTGCTTCAGACCCAAGAGGGCTCCCTGATCCTGCCTTGTCCACCCAGCCAGCACCTGCTTCCAGGGAGCACCTAGGATCACACATCCGGGCCTCCTCCTCCTCCTCCTCCATCAGGCAGAGAATCAGCTCCTTTGA'\n",
            " b'GCTGAGCTTCAAAAGGGGGGACATCCTCAAGGTTTTGAACGAAGAATGTGATCAGAACTGGTACAAGGCAGAGCTTAATGGAAAAGACGGCTTCATTCCCAAGAACTACATAGAAATGAAACCACATCCGTGGTTTTTTGGCAAAATCCCCAGAGCCAAGGCAGAAGAAATGCTTAGCAAACAGCGGCACGATGGGGCCT'\n",
            " b'CCAAGTGCAACAAGGAGGTGTACTTCGCCGAGAGGGTGACCTCTCTGGGCAAGGACTGGCATCGGCCCTGCCTGAAGTGCGAGAAATGTGGGAAGACGCTGACCTCTGGGGGCCACGCTGAGCACGAAGGCAAACCCTACTGCAACCACCCCTGCTACGCAGCCATGTTTGGGCCTAAAGGCTTTGGGCGGGGCGGAGCC'\n",
            " b'CCAGGTCAGGAGCCGTGGCTGGGTGGCTGCAGCTGCACCCAGAAGCTTGGGGCTCCCACCCTGCCAACTCAGTAGGGGGCGTGGCTCCCACCTGTTCCTGCCTCCCACCAGCTCCATAGAGAGCACAGCCCTGGATGCCCTTCCCCTGCTGCAACTGGCATCCCTGCAGTGGCTGCTCCAGACAGGCTGCTGGGAGCATC'], shape=(32,), dtype=string)\n",
            "tf.Tensor([0 1 1 1 1 1 1 1 0 1 1 0 0 0 0 1 0 1 0 1 1 0 1 0 1 1 1 0 1 1 1 0], shape=(32,), dtype=int32)\n"
          ],
          "name": "stdout"
        }
      ]
    },
    {
      "cell_type": "markdown",
      "metadata": {
        "id": "YGq6VuMJkhrq"
      },
      "source": [
        "## preprocessing"
      ]
    },
    {
      "cell_type": "code",
      "metadata": {
        "colab": {
          "base_uri": "https://localhost:8080/"
        },
        "id": "-AgUo2Z1vFbs",
        "outputId": "745a2e36-cfcc-4735-b227-c5d835791aa0"
      },
      "source": [
        "from tensorflow.keras.layers.experimental.preprocessing import TextVectorization\n",
        "\n",
        "def splitter(input):\n",
        "  return tf.strings.substr(input, 0, 1)\n",
        "\n",
        "vectorize_layer = TextVectorization(output_mode='int', split=splitter, ngrams=3)\n",
        "vectorize_layer.adapt(train_text)\n",
        "print(len(vectorize_layer.get_vocabulary()))\n",
        "print(vectorize_layer.get_vocabulary())\n",
        "\n"
      ],
      "execution_count": 112,
      "outputs": [
        {
          "output_type": "stream",
          "text": [
            "86\n",
            "['', '[UNK]', 'a', 't', 'g', 'c', 'a a', 't a', 'a t', 't t', 'g a', 'a g', 'a c', 'c t', 'c a', 't c', 'g t', 't g', 'g g', 'c g', 'g c', 'c c', 'a a a', 't a a', 'a a t', 't t a', 'a t a', 'a t t', 't a t', 't t t', 'a a g', 'a a c', 'g a a', 'a g t', 'a c a', 'g g a', 'g t a', 'c a a', 't c t', 't a g', 'a t g', 'a c t', 'c t t', 't a c', 'g a t', 't g t', 'c t a', 'a t c', 't g a', 'g c a', 'a g c', 'c a t', 'a g a', 'g a g', 'a c g', 'a g g', 't t c', 'c g a', 't t g', 't c a', 'c a c', 'c g g', 'c c t', 't c g', 'g g g', 'c t c', 'c a g', 'a c c', 'g a c', 'g t t', 'c t g', 'g t c', 't g c', 'g c t', 't g g', 'g c g', 't c c', 'g t g', 'g g t', 'c g c', 'c c a', 'c c c', 'g c c', 'g g c', 'c g t', 'c c g']\n"
          ],
          "name": "stdout"
        }
      ]
    },
    {
      "cell_type": "code",
      "metadata": {
        "colab": {
          "base_uri": "https://localhost:8080/"
        },
        "id": "BrjPRxGMz2H-",
        "outputId": "4a30f834-03dd-445d-e1d9-1bb414f0f13a"
      },
      "source": [
        "# def vectorize_text(text, label):\n",
        "#   text = tf.expand_dims(text, -1)\n",
        "#   return vectorize_layer(text)-2, label\n",
        "#   return vectorize_layer(text), label\n",
        "\n",
        "# dset2 = dset.map(vectorize_text)\n",
        "\n",
        "# for x,y in dset2.take(1):\n",
        "#   print(x)\n",
        "#   print(y)\n",
        "\n",
        "model = tf.keras.Sequential([vectorize_layer])\n",
        "model.predict(dset)\n"
      ],
      "execution_count": 108,
      "outputs": [
        {
          "output_type": "execute_result",
          "data": {
            "text/plain": [
              "array([ 3,  4,  3, ..., 79, 83, 63])"
            ]
          },
          "metadata": {
            "tags": []
          },
          "execution_count": 108
        }
      ]
    },
    {
      "cell_type": "markdown",
      "metadata": {
        "id": "UXLKrEMdvSZI"
      },
      "source": [
        "# Define neural network model"
      ]
    },
    {
      "cell_type": "code",
      "metadata": {
        "id": "Veiu_OnOvWLs"
      },
      "source": [
        "model = tf.keras.Sequential([\n",
        "    vectorize_layer,\n",
        "    tf.keras.layers.Lambda(lambda x: tf.one_hot(tf.cast(x,'int64'), 86)),\n",
        "    tf.keras.layers.Bidirectional(tf.keras.layers.LSTM(64)),\n",
        "    tf.keras.layers.Dense(50, activation='relu'),\n",
        "    tf.keras.layers.Dense(1, activation='sigmoid')\n",
        "])\n",
        "\n",
        "#possible improvements\n",
        "# Adjust layers, number of neurons, correct activation function\n",
        "#LSTM layer - change parameters\n",
        "# add augmentations layer, embedding layer, split into different tokens (not only letters), dropout\n"
      ],
      "execution_count": 113,
      "outputs": []
    },
    {
      "cell_type": "markdown",
      "metadata": {
        "id": "QbiH9rjKvZW3"
      },
      "source": [
        "# Train the model"
      ]
    },
    {
      "cell_type": "code",
      "metadata": {
        "colab": {
          "base_uri": "https://localhost:8080/",
          "height": 868
        },
        "id": "OpT37LzSvbZ8",
        "outputId": "30407015-917d-4d67-be76-1a0af35d4a9b"
      },
      "source": [
        "model.compile(loss=tf.keras.losses.BinaryCrossentropy(),\n",
        "              optimizer=tf.keras.optimizers.Adam(learning_rate=0.001),\n",
        "              metrics=['accuracy'])\n",
        "\n",
        "history = model.fit(train_dset, epochs=10, validation_data=valid_dset)\n",
        "\n",
        "#possible improvements\n",
        "# change number of epochs, learning rate (if training is unstable), increase data amount"
      ],
      "execution_count": 114,
      "outputs": [
        {
          "output_type": "stream",
          "text": [
            "Epoch 1/10\n"
          ],
          "name": "stdout"
        },
        {
          "output_type": "error",
          "ename": "ValueError",
          "evalue": "ignored",
          "traceback": [
            "\u001b[0;31m---------------------------------------------------------------------------\u001b[0m",
            "\u001b[0;31mValueError\u001b[0m                                Traceback (most recent call last)",
            "\u001b[0;32m<ipython-input-114-a19efc1e4d79>\u001b[0m in \u001b[0;36m<module>\u001b[0;34m()\u001b[0m\n\u001b[1;32m      3\u001b[0m               metrics=['accuracy'])\n\u001b[1;32m      4\u001b[0m \u001b[0;34m\u001b[0m\u001b[0m\n\u001b[0;32m----> 5\u001b[0;31m \u001b[0mhistory\u001b[0m \u001b[0;34m=\u001b[0m \u001b[0mmodel\u001b[0m\u001b[0;34m.\u001b[0m\u001b[0mfit\u001b[0m\u001b[0;34m(\u001b[0m\u001b[0mtrain_dset\u001b[0m\u001b[0;34m,\u001b[0m \u001b[0mepochs\u001b[0m\u001b[0;34m=\u001b[0m\u001b[0;36m10\u001b[0m\u001b[0;34m,\u001b[0m \u001b[0mvalidation_data\u001b[0m\u001b[0;34m=\u001b[0m\u001b[0mvalid_dset\u001b[0m\u001b[0;34m)\u001b[0m\u001b[0;34m\u001b[0m\u001b[0;34m\u001b[0m\u001b[0m\n\u001b[0m\u001b[1;32m      6\u001b[0m \u001b[0;34m\u001b[0m\u001b[0m\n\u001b[1;32m      7\u001b[0m \u001b[0;31m#possible improvements\u001b[0m\u001b[0;34m\u001b[0m\u001b[0;34m\u001b[0m\u001b[0;34m\u001b[0m\u001b[0m\n",
            "\u001b[0;32m/usr/local/lib/python3.7/dist-packages/tensorflow/python/keras/engine/training.py\u001b[0m in \u001b[0;36mfit\u001b[0;34m(self, x, y, batch_size, epochs, verbose, callbacks, validation_split, validation_data, shuffle, class_weight, sample_weight, initial_epoch, steps_per_epoch, validation_steps, validation_batch_size, validation_freq, max_queue_size, workers, use_multiprocessing)\u001b[0m\n\u001b[1;32m   1181\u001b[0m                 _r=1):\n\u001b[1;32m   1182\u001b[0m               \u001b[0mcallbacks\u001b[0m\u001b[0;34m.\u001b[0m\u001b[0mon_train_batch_begin\u001b[0m\u001b[0;34m(\u001b[0m\u001b[0mstep\u001b[0m\u001b[0;34m)\u001b[0m\u001b[0;34m\u001b[0m\u001b[0;34m\u001b[0m\u001b[0m\n\u001b[0;32m-> 1183\u001b[0;31m               \u001b[0mtmp_logs\u001b[0m \u001b[0;34m=\u001b[0m \u001b[0mself\u001b[0m\u001b[0;34m.\u001b[0m\u001b[0mtrain_function\u001b[0m\u001b[0;34m(\u001b[0m\u001b[0miterator\u001b[0m\u001b[0;34m)\u001b[0m\u001b[0;34m\u001b[0m\u001b[0;34m\u001b[0m\u001b[0m\n\u001b[0m\u001b[1;32m   1184\u001b[0m               \u001b[0;32mif\u001b[0m \u001b[0mdata_handler\u001b[0m\u001b[0;34m.\u001b[0m\u001b[0mshould_sync\u001b[0m\u001b[0;34m:\u001b[0m\u001b[0;34m\u001b[0m\u001b[0;34m\u001b[0m\u001b[0m\n\u001b[1;32m   1185\u001b[0m                 \u001b[0mcontext\u001b[0m\u001b[0;34m.\u001b[0m\u001b[0masync_wait\u001b[0m\u001b[0;34m(\u001b[0m\u001b[0;34m)\u001b[0m\u001b[0;34m\u001b[0m\u001b[0;34m\u001b[0m\u001b[0m\n",
            "\u001b[0;32m/usr/local/lib/python3.7/dist-packages/tensorflow/python/eager/def_function.py\u001b[0m in \u001b[0;36m__call__\u001b[0;34m(self, *args, **kwds)\u001b[0m\n\u001b[1;32m    887\u001b[0m \u001b[0;34m\u001b[0m\u001b[0m\n\u001b[1;32m    888\u001b[0m       \u001b[0;32mwith\u001b[0m \u001b[0mOptionalXlaContext\u001b[0m\u001b[0;34m(\u001b[0m\u001b[0mself\u001b[0m\u001b[0;34m.\u001b[0m\u001b[0m_jit_compile\u001b[0m\u001b[0;34m)\u001b[0m\u001b[0;34m:\u001b[0m\u001b[0;34m\u001b[0m\u001b[0;34m\u001b[0m\u001b[0m\n\u001b[0;32m--> 889\u001b[0;31m         \u001b[0mresult\u001b[0m \u001b[0;34m=\u001b[0m \u001b[0mself\u001b[0m\u001b[0;34m.\u001b[0m\u001b[0m_call\u001b[0m\u001b[0;34m(\u001b[0m\u001b[0;34m*\u001b[0m\u001b[0margs\u001b[0m\u001b[0;34m,\u001b[0m \u001b[0;34m**\u001b[0m\u001b[0mkwds\u001b[0m\u001b[0;34m)\u001b[0m\u001b[0;34m\u001b[0m\u001b[0;34m\u001b[0m\u001b[0m\n\u001b[0m\u001b[1;32m    890\u001b[0m \u001b[0;34m\u001b[0m\u001b[0m\n\u001b[1;32m    891\u001b[0m       \u001b[0mnew_tracing_count\u001b[0m \u001b[0;34m=\u001b[0m \u001b[0mself\u001b[0m\u001b[0;34m.\u001b[0m\u001b[0mexperimental_get_tracing_count\u001b[0m\u001b[0;34m(\u001b[0m\u001b[0;34m)\u001b[0m\u001b[0;34m\u001b[0m\u001b[0;34m\u001b[0m\u001b[0m\n",
            "\u001b[0;32m/usr/local/lib/python3.7/dist-packages/tensorflow/python/eager/def_function.py\u001b[0m in \u001b[0;36m_call\u001b[0;34m(self, *args, **kwds)\u001b[0m\n\u001b[1;32m    931\u001b[0m       \u001b[0;31m# This is the first call of __call__, so we have to initialize.\u001b[0m\u001b[0;34m\u001b[0m\u001b[0;34m\u001b[0m\u001b[0;34m\u001b[0m\u001b[0m\n\u001b[1;32m    932\u001b[0m       \u001b[0minitializers\u001b[0m \u001b[0;34m=\u001b[0m \u001b[0;34m[\u001b[0m\u001b[0;34m]\u001b[0m\u001b[0;34m\u001b[0m\u001b[0;34m\u001b[0m\u001b[0m\n\u001b[0;32m--> 933\u001b[0;31m       \u001b[0mself\u001b[0m\u001b[0;34m.\u001b[0m\u001b[0m_initialize\u001b[0m\u001b[0;34m(\u001b[0m\u001b[0margs\u001b[0m\u001b[0;34m,\u001b[0m \u001b[0mkwds\u001b[0m\u001b[0;34m,\u001b[0m \u001b[0madd_initializers_to\u001b[0m\u001b[0;34m=\u001b[0m\u001b[0minitializers\u001b[0m\u001b[0;34m)\u001b[0m\u001b[0;34m\u001b[0m\u001b[0;34m\u001b[0m\u001b[0m\n\u001b[0m\u001b[1;32m    934\u001b[0m     \u001b[0;32mfinally\u001b[0m\u001b[0;34m:\u001b[0m\u001b[0;34m\u001b[0m\u001b[0;34m\u001b[0m\u001b[0m\n\u001b[1;32m    935\u001b[0m       \u001b[0;31m# At this point we know that the initialization is complete (or less\u001b[0m\u001b[0;34m\u001b[0m\u001b[0;34m\u001b[0m\u001b[0;34m\u001b[0m\u001b[0m\n",
            "\u001b[0;32m/usr/local/lib/python3.7/dist-packages/tensorflow/python/eager/def_function.py\u001b[0m in \u001b[0;36m_initialize\u001b[0;34m(self, args, kwds, add_initializers_to)\u001b[0m\n\u001b[1;32m    762\u001b[0m     self._concrete_stateful_fn = (\n\u001b[1;32m    763\u001b[0m         self._stateful_fn._get_concrete_function_internal_garbage_collected(  # pylint: disable=protected-access\n\u001b[0;32m--> 764\u001b[0;31m             *args, **kwds))\n\u001b[0m\u001b[1;32m    765\u001b[0m \u001b[0;34m\u001b[0m\u001b[0m\n\u001b[1;32m    766\u001b[0m     \u001b[0;32mdef\u001b[0m \u001b[0minvalid_creator_scope\u001b[0m\u001b[0;34m(\u001b[0m\u001b[0;34m*\u001b[0m\u001b[0munused_args\u001b[0m\u001b[0;34m,\u001b[0m \u001b[0;34m**\u001b[0m\u001b[0munused_kwds\u001b[0m\u001b[0;34m)\u001b[0m\u001b[0;34m:\u001b[0m\u001b[0;34m\u001b[0m\u001b[0;34m\u001b[0m\u001b[0m\n",
            "\u001b[0;32m/usr/local/lib/python3.7/dist-packages/tensorflow/python/eager/function.py\u001b[0m in \u001b[0;36m_get_concrete_function_internal_garbage_collected\u001b[0;34m(self, *args, **kwargs)\u001b[0m\n\u001b[1;32m   3048\u001b[0m       \u001b[0margs\u001b[0m\u001b[0;34m,\u001b[0m \u001b[0mkwargs\u001b[0m \u001b[0;34m=\u001b[0m \u001b[0;32mNone\u001b[0m\u001b[0;34m,\u001b[0m \u001b[0;32mNone\u001b[0m\u001b[0;34m\u001b[0m\u001b[0;34m\u001b[0m\u001b[0m\n\u001b[1;32m   3049\u001b[0m     \u001b[0;32mwith\u001b[0m \u001b[0mself\u001b[0m\u001b[0;34m.\u001b[0m\u001b[0m_lock\u001b[0m\u001b[0;34m:\u001b[0m\u001b[0;34m\u001b[0m\u001b[0;34m\u001b[0m\u001b[0m\n\u001b[0;32m-> 3050\u001b[0;31m       \u001b[0mgraph_function\u001b[0m\u001b[0;34m,\u001b[0m \u001b[0m_\u001b[0m \u001b[0;34m=\u001b[0m \u001b[0mself\u001b[0m\u001b[0;34m.\u001b[0m\u001b[0m_maybe_define_function\u001b[0m\u001b[0;34m(\u001b[0m\u001b[0margs\u001b[0m\u001b[0;34m,\u001b[0m \u001b[0mkwargs\u001b[0m\u001b[0;34m)\u001b[0m\u001b[0;34m\u001b[0m\u001b[0;34m\u001b[0m\u001b[0m\n\u001b[0m\u001b[1;32m   3051\u001b[0m     \u001b[0;32mreturn\u001b[0m \u001b[0mgraph_function\u001b[0m\u001b[0;34m\u001b[0m\u001b[0;34m\u001b[0m\u001b[0m\n\u001b[1;32m   3052\u001b[0m \u001b[0;34m\u001b[0m\u001b[0m\n",
            "\u001b[0;32m/usr/local/lib/python3.7/dist-packages/tensorflow/python/eager/function.py\u001b[0m in \u001b[0;36m_maybe_define_function\u001b[0;34m(self, args, kwargs)\u001b[0m\n\u001b[1;32m   3442\u001b[0m \u001b[0;34m\u001b[0m\u001b[0m\n\u001b[1;32m   3443\u001b[0m           \u001b[0mself\u001b[0m\u001b[0;34m.\u001b[0m\u001b[0m_function_cache\u001b[0m\u001b[0;34m.\u001b[0m\u001b[0mmissed\u001b[0m\u001b[0;34m.\u001b[0m\u001b[0madd\u001b[0m\u001b[0;34m(\u001b[0m\u001b[0mcall_context_key\u001b[0m\u001b[0;34m)\u001b[0m\u001b[0;34m\u001b[0m\u001b[0;34m\u001b[0m\u001b[0m\n\u001b[0;32m-> 3444\u001b[0;31m           \u001b[0mgraph_function\u001b[0m \u001b[0;34m=\u001b[0m \u001b[0mself\u001b[0m\u001b[0;34m.\u001b[0m\u001b[0m_create_graph_function\u001b[0m\u001b[0;34m(\u001b[0m\u001b[0margs\u001b[0m\u001b[0;34m,\u001b[0m \u001b[0mkwargs\u001b[0m\u001b[0;34m)\u001b[0m\u001b[0;34m\u001b[0m\u001b[0;34m\u001b[0m\u001b[0m\n\u001b[0m\u001b[1;32m   3445\u001b[0m           \u001b[0mself\u001b[0m\u001b[0;34m.\u001b[0m\u001b[0m_function_cache\u001b[0m\u001b[0;34m.\u001b[0m\u001b[0mprimary\u001b[0m\u001b[0;34m[\u001b[0m\u001b[0mcache_key\u001b[0m\u001b[0;34m]\u001b[0m \u001b[0;34m=\u001b[0m \u001b[0mgraph_function\u001b[0m\u001b[0;34m\u001b[0m\u001b[0;34m\u001b[0m\u001b[0m\n\u001b[1;32m   3446\u001b[0m \u001b[0;34m\u001b[0m\u001b[0m\n",
            "\u001b[0;32m/usr/local/lib/python3.7/dist-packages/tensorflow/python/eager/function.py\u001b[0m in \u001b[0;36m_create_graph_function\u001b[0;34m(self, args, kwargs, override_flat_arg_shapes)\u001b[0m\n\u001b[1;32m   3287\u001b[0m             \u001b[0marg_names\u001b[0m\u001b[0;34m=\u001b[0m\u001b[0marg_names\u001b[0m\u001b[0;34m,\u001b[0m\u001b[0;34m\u001b[0m\u001b[0;34m\u001b[0m\u001b[0m\n\u001b[1;32m   3288\u001b[0m             \u001b[0moverride_flat_arg_shapes\u001b[0m\u001b[0;34m=\u001b[0m\u001b[0moverride_flat_arg_shapes\u001b[0m\u001b[0;34m,\u001b[0m\u001b[0;34m\u001b[0m\u001b[0;34m\u001b[0m\u001b[0m\n\u001b[0;32m-> 3289\u001b[0;31m             capture_by_value=self._capture_by_value),\n\u001b[0m\u001b[1;32m   3290\u001b[0m         \u001b[0mself\u001b[0m\u001b[0;34m.\u001b[0m\u001b[0m_function_attributes\u001b[0m\u001b[0;34m,\u001b[0m\u001b[0;34m\u001b[0m\u001b[0;34m\u001b[0m\u001b[0m\n\u001b[1;32m   3291\u001b[0m         \u001b[0mfunction_spec\u001b[0m\u001b[0;34m=\u001b[0m\u001b[0mself\u001b[0m\u001b[0;34m.\u001b[0m\u001b[0mfunction_spec\u001b[0m\u001b[0;34m,\u001b[0m\u001b[0;34m\u001b[0m\u001b[0;34m\u001b[0m\u001b[0m\n",
            "\u001b[0;32m/usr/local/lib/python3.7/dist-packages/tensorflow/python/framework/func_graph.py\u001b[0m in \u001b[0;36mfunc_graph_from_py_func\u001b[0;34m(name, python_func, args, kwargs, signature, func_graph, autograph, autograph_options, add_control_dependencies, arg_names, op_return_value, collections, capture_by_value, override_flat_arg_shapes)\u001b[0m\n\u001b[1;32m    997\u001b[0m         \u001b[0m_\u001b[0m\u001b[0;34m,\u001b[0m \u001b[0moriginal_func\u001b[0m \u001b[0;34m=\u001b[0m \u001b[0mtf_decorator\u001b[0m\u001b[0;34m.\u001b[0m\u001b[0munwrap\u001b[0m\u001b[0;34m(\u001b[0m\u001b[0mpython_func\u001b[0m\u001b[0;34m)\u001b[0m\u001b[0;34m\u001b[0m\u001b[0;34m\u001b[0m\u001b[0m\n\u001b[1;32m    998\u001b[0m \u001b[0;34m\u001b[0m\u001b[0m\n\u001b[0;32m--> 999\u001b[0;31m       \u001b[0mfunc_outputs\u001b[0m \u001b[0;34m=\u001b[0m \u001b[0mpython_func\u001b[0m\u001b[0;34m(\u001b[0m\u001b[0;34m*\u001b[0m\u001b[0mfunc_args\u001b[0m\u001b[0;34m,\u001b[0m \u001b[0;34m**\u001b[0m\u001b[0mfunc_kwargs\u001b[0m\u001b[0;34m)\u001b[0m\u001b[0;34m\u001b[0m\u001b[0;34m\u001b[0m\u001b[0m\n\u001b[0m\u001b[1;32m   1000\u001b[0m \u001b[0;34m\u001b[0m\u001b[0m\n\u001b[1;32m   1001\u001b[0m       \u001b[0;31m# invariant: `func_outputs` contains only Tensors, CompositeTensors,\u001b[0m\u001b[0;34m\u001b[0m\u001b[0;34m\u001b[0m\u001b[0;34m\u001b[0m\u001b[0m\n",
            "\u001b[0;32m/usr/local/lib/python3.7/dist-packages/tensorflow/python/eager/def_function.py\u001b[0m in \u001b[0;36mwrapped_fn\u001b[0;34m(*args, **kwds)\u001b[0m\n\u001b[1;32m    670\u001b[0m         \u001b[0;31m# the function a weak reference to itself to avoid a reference cycle.\u001b[0m\u001b[0;34m\u001b[0m\u001b[0;34m\u001b[0m\u001b[0;34m\u001b[0m\u001b[0m\n\u001b[1;32m    671\u001b[0m         \u001b[0;32mwith\u001b[0m \u001b[0mOptionalXlaContext\u001b[0m\u001b[0;34m(\u001b[0m\u001b[0mcompile_with_xla\u001b[0m\u001b[0;34m)\u001b[0m\u001b[0;34m:\u001b[0m\u001b[0;34m\u001b[0m\u001b[0;34m\u001b[0m\u001b[0m\n\u001b[0;32m--> 672\u001b[0;31m           \u001b[0mout\u001b[0m \u001b[0;34m=\u001b[0m \u001b[0mweak_wrapped_fn\u001b[0m\u001b[0;34m(\u001b[0m\u001b[0;34m)\u001b[0m\u001b[0;34m.\u001b[0m\u001b[0m__wrapped__\u001b[0m\u001b[0;34m(\u001b[0m\u001b[0;34m*\u001b[0m\u001b[0margs\u001b[0m\u001b[0;34m,\u001b[0m \u001b[0;34m**\u001b[0m\u001b[0mkwds\u001b[0m\u001b[0;34m)\u001b[0m\u001b[0;34m\u001b[0m\u001b[0;34m\u001b[0m\u001b[0m\n\u001b[0m\u001b[1;32m    673\u001b[0m         \u001b[0;32mreturn\u001b[0m \u001b[0mout\u001b[0m\u001b[0;34m\u001b[0m\u001b[0;34m\u001b[0m\u001b[0m\n\u001b[1;32m    674\u001b[0m \u001b[0;34m\u001b[0m\u001b[0m\n",
            "\u001b[0;32m/usr/local/lib/python3.7/dist-packages/tensorflow/python/framework/func_graph.py\u001b[0m in \u001b[0;36mwrapper\u001b[0;34m(*args, **kwargs)\u001b[0m\n\u001b[1;32m    984\u001b[0m           \u001b[0;32mexcept\u001b[0m \u001b[0mException\u001b[0m \u001b[0;32mas\u001b[0m \u001b[0me\u001b[0m\u001b[0;34m:\u001b[0m  \u001b[0;31m# pylint:disable=broad-except\u001b[0m\u001b[0;34m\u001b[0m\u001b[0;34m\u001b[0m\u001b[0m\n\u001b[1;32m    985\u001b[0m             \u001b[0;32mif\u001b[0m \u001b[0mhasattr\u001b[0m\u001b[0;34m(\u001b[0m\u001b[0me\u001b[0m\u001b[0;34m,\u001b[0m \u001b[0;34m\"ag_error_metadata\"\u001b[0m\u001b[0;34m)\u001b[0m\u001b[0;34m:\u001b[0m\u001b[0;34m\u001b[0m\u001b[0;34m\u001b[0m\u001b[0m\n\u001b[0;32m--> 986\u001b[0;31m               \u001b[0;32mraise\u001b[0m \u001b[0me\u001b[0m\u001b[0;34m.\u001b[0m\u001b[0mag_error_metadata\u001b[0m\u001b[0;34m.\u001b[0m\u001b[0mto_exception\u001b[0m\u001b[0;34m(\u001b[0m\u001b[0me\u001b[0m\u001b[0;34m)\u001b[0m\u001b[0;34m\u001b[0m\u001b[0;34m\u001b[0m\u001b[0m\n\u001b[0m\u001b[1;32m    987\u001b[0m             \u001b[0;32melse\u001b[0m\u001b[0;34m:\u001b[0m\u001b[0;34m\u001b[0m\u001b[0;34m\u001b[0m\u001b[0m\n\u001b[1;32m    988\u001b[0m               \u001b[0;32mraise\u001b[0m\u001b[0;34m\u001b[0m\u001b[0;34m\u001b[0m\u001b[0m\n",
            "\u001b[0;31mValueError\u001b[0m: in user code:\n\n    /usr/local/lib/python3.7/dist-packages/tensorflow/python/keras/engine/training.py:855 train_function  *\n        return step_function(self, iterator)\n    /usr/local/lib/python3.7/dist-packages/tensorflow/python/keras/engine/training.py:845 step_function  **\n        outputs = model.distribute_strategy.run(run_step, args=(data,))\n    /usr/local/lib/python3.7/dist-packages/tensorflow/python/distribute/distribute_lib.py:1285 run\n        return self._extended.call_for_each_replica(fn, args=args, kwargs=kwargs)\n    /usr/local/lib/python3.7/dist-packages/tensorflow/python/distribute/distribute_lib.py:2833 call_for_each_replica\n        return self._call_for_each_replica(fn, args, kwargs)\n    /usr/local/lib/python3.7/dist-packages/tensorflow/python/distribute/distribute_lib.py:3608 _call_for_each_replica\n        return fn(*args, **kwargs)\n    /usr/local/lib/python3.7/dist-packages/tensorflow/python/keras/engine/training.py:838 run_step  **\n        outputs = model.train_step(data)\n    /usr/local/lib/python3.7/dist-packages/tensorflow/python/keras/engine/training.py:795 train_step\n        y_pred = self(x, training=True)\n    /usr/local/lib/python3.7/dist-packages/tensorflow/python/keras/engine/base_layer.py:1030 __call__\n        outputs = call_fn(inputs, *args, **kwargs)\n    /usr/local/lib/python3.7/dist-packages/tensorflow/python/keras/engine/sequential.py:394 call\n        outputs = layer(inputs, **kwargs)\n    /usr/local/lib/python3.7/dist-packages/tensorflow/python/keras/layers/wrappers.py:585 __call__\n        return super(Bidirectional, self).__call__(inputs, **kwargs)\n    /usr/local/lib/python3.7/dist-packages/tensorflow/python/keras/engine/base_layer.py:1013 __call__\n        input_spec.assert_input_compatibility(self.input_spec, inputs, self.name)\n    /usr/local/lib/python3.7/dist-packages/tensorflow/python/keras/engine/input_spec.py:219 assert_input_compatibility\n        str(tuple(shape)))\n\n    ValueError: Input 0 of layer bidirectional_1 is incompatible with the layer: expected ndim=3, found ndim=2. Full shape received: (None, 86)\n"
          ]
        }
      ]
    },
    {
      "cell_type": "markdown",
      "metadata": {
        "id": "HFXXFXKrvb9a"
      },
      "source": [
        "# Evaluate"
      ]
    },
    {
      "cell_type": "code",
      "metadata": {
        "colab": {
          "base_uri": "https://localhost:8080/",
          "height": 513
        },
        "id": "YH7JxlcSvdKs",
        "outputId": "8c8bed0a-b5ab-4d49-f1b6-7be70e7f710d"
      },
      "source": [
        "def plot_metrics(history):\n",
        "  acc = history.history['accuracy']\n",
        "  val_acc = history.history['val_accuracy']\n",
        "\n",
        "  loss = history.history['loss']\n",
        "  val_loss = history.history['val_loss']\n",
        "\n",
        "  plt.figure(figsize=(8, 8))\n",
        "  plt.subplot(2, 1, 1)\n",
        "  plt.plot(acc, label='Training Accuracy')\n",
        "  plt.plot(val_acc, label='Validation Accuracy')\n",
        "  plt.legend(loc='lower right')\n",
        "  plt.ylabel('Accuracy')\n",
        "  plt.ylim([min(plt.ylim()),1])\n",
        "  plt.title('Training and Validation Accuracy')\n",
        "\n",
        "  plt.subplot(2, 1, 2)\n",
        "  plt.plot(loss, label='Training Loss')\n",
        "  plt.plot(val_loss, label='Validation Loss')\n",
        "  plt.legend(loc='upper right')\n",
        "  plt.ylabel('Cross Entropy')\n",
        "  plt.ylim([0,2.0])\n",
        "  plt.title('Training and Validation Loss')\n",
        "  plt.xlabel('epoch')\n",
        "  plt.show()\n",
        "\n",
        "plot_metrics(history)"
      ],
      "execution_count": 11,
      "outputs": [
        {
          "output_type": "display_data",
          "data": {
            "image/png": "[encoded data removed]",
            "text/plain": [
              "<Figure size 576x576 with 2 Axes>"
            ]
          },
          "metadata": {
            "tags": [],
            "needs_background": "light"
          }
        }
      ]
    }
  ]
}