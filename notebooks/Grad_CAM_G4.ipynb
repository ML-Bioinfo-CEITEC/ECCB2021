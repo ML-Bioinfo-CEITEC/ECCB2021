{
  "nbformat": 4,
  "nbformat_minor": 0,
  "metadata": {
    "colab": {
      "name": "Grad-CAM_G4.ipynb",
      "provenance": [],
      "collapsed_sections": [
        "nA6HfzRprTIf",
        "082WsN60kuqm"
      ],
      "toc_visible": true,
      "authorship_tag": "ABX9TyNYceq6trah8oD8IzjH4dNu",
      "include_colab_link": true
    },
    "kernelspec": {
      "name": "python3",
      "display_name": "Python 3"
    },
    "language_info": {
      "name": "python"
    },
    "accelerator": "GPU"
  },
  "cells": [
    {
      "cell_type": "markdown",
      "metadata": {
        "id": "view-in-github",
        "colab_type": "text"
      },
      "source": [
        "<a href=\"https://colab.research.google.com/github/ML-Bioinfo-CEITEC/ECCB2021/blob/main/notebooks/Grad_CAM_G4.ipynb\" target=\"_parent\"><img src=\"https://colab.research.google.com/assets/colab-badge.svg\" alt=\"Open In Colab\"/></a>"
      ]
    },
    {
      "cell_type": "markdown",
      "metadata": {
        "id": "sTrkmjCcY8h4"
      },
      "source": [
        "## Set up"
      ]
    },
    {
      "cell_type": "code",
      "metadata": {
        "id": "UK3ILipwZE_3"
      },
      "source": [
        "from tensorflow import keras as K\n",
        "import tensorflow as tf\n",
        "import numpy as np\n",
        "import pandas as pd\n",
        "import matplotlib.pyplot as plt\n"
      ],
      "execution_count": null,
      "outputs": []
    },
    {
      "cell_type": "markdown",
      "metadata": {
        "id": "oiU6IX8O5Gzn"
      },
      "source": [
        "## Load and preprocess datasets"
      ]
    },
    {
      "cell_type": "code",
      "metadata": {
        "id": "RA7TxENR9exo"
      },
      "source": [
        "# get train dataset\n",
        "!wget --quiet https://raw.githubusercontent.com/ML-Bioinfo-CEITEC/penguinn/master/Datasets/train_set_1_1.txt\n",
        "\n",
        "nucleo_dic = {\n",
        "    \"A\": 0,\n",
        "    \"C\": 1,\n",
        "    \"T\": 2,\n",
        "    \"G\": 3,\n",
        "    \"N\": 4,\n",
        "}\n",
        "\n",
        "df_train = pd.read_csv(\"train_set_1_1.txt\", sep='\\t', names=['sequence', 'label'])\n",
        "\n",
        "# translate text labels to numbers 0, 1\n",
        "labels_train = np.array(list(map((lambda x: 1 if x == 'positive' else 0), list(df_train['label']))))\n",
        "dataset_train = df_train['sequence'].tolist()\n",
        "# numericalize using the dictionary\n",
        "dataset_ordinal_train = [[nucleo_dic[letter] for letter in sequence] for sequence in dataset_train]\n",
        "# translate number values to one-hot vectors\n",
        "dataset_onehot_train = tf.one_hot(dataset_ordinal_train, depth=5)\n"
      ],
      "execution_count": null,
      "outputs": []
    },
    {
      "cell_type": "code",
      "metadata": {
        "id": "awr8pAcdgD4A"
      },
      "source": [
        "# get test dataset\n",
        "!wget --quiet https://raw.githubusercontent.com/ML-Bioinfo-CEITEC/penguinn/master/Datasets/test_set_1_1.txt\n",
        "\n",
        "# preprocess the test set similarly\n",
        "df_test = pd.read_csv(\"test_set_1_1.txt\", sep='\\t', names=['sequence', 'label'])\n",
        "\n",
        "labels_test = np.array(list(map((lambda x: 1 if x == 'positive' else 0), list(df_test['label']))))\n",
        "dataset_test = df_test['sequence'].tolist()\n",
        "\n",
        "# we use the same nucleo_dic as on the example before\n",
        "dataset_ordinal_test = [[nucleo_dic[letter] for letter in sequence] for sequence in dataset_test]\n",
        "dataset_onehot_test = tf.one_hot(dataset_ordinal_test, depth=5)"
      ],
      "execution_count": null,
      "outputs": []
    },
    {
      "cell_type": "code",
      "metadata": {
        "colab": {
          "base_uri": "https://localhost:8080/"
        },
        "id": "EF70id9geaG1",
        "outputId": "b6940ec0-99cf-483b-dbaa-7142f6dcd3ff"
      },
      "source": [
        "# Make the training dataset smaller to demonstrate overfitting.\n",
        "number_of_examples = 1000\n",
        "\n",
        "print(dataset_onehot_train[0:number_of_examples].shape)\n",
        "print(labels_train[0:number_of_examples].shape)\n",
        "\n",
        "dataset_onehot_train_small = dataset_onehot_train[0:number_of_examples]\n",
        "labels_train_small = labels_train[0:number_of_examples]"
      ],
      "execution_count": null,
      "outputs": [
        {
          "output_type": "stream",
          "text": [
            "(1000, 200, 5)\n",
            "(1000,)\n"
          ],
          "name": "stdout"
        }
      ]
    },
    {
      "cell_type": "code",
      "metadata": {
        "id": "qEwFZsCcf9x_"
      },
      "source": [
        "# sequence_size = length of the sequence\n",
        "sequence_size = 200\n",
        "# channel = each channel corresponds to a nucleotide\n",
        "channel = len(nucleo_dic)"
      ],
      "execution_count": null,
      "outputs": []
    },
    {
      "cell_type": "markdown",
      "metadata": {
        "id": "PVmL3SHF5L5x"
      },
      "source": [
        "## Model with dropout"
      ]
    },
    {
      "cell_type": "code",
      "metadata": {
        "id": "TIDGnsCSTSw7"
      },
      "source": [
        "# create the NN model\n",
        "\n",
        "dropout_rate = 0.2\n",
        "\n",
        "model = tf.keras.Sequential([\n",
        "  tf.keras.layers.Conv1D(\n",
        "    filters=10,\n",
        "    kernel_size=6,\n",
        "    strides=1,\n",
        "    padding='same',\n",
        "    data_format=\"channels_last\",\n",
        "    activation='relu',\n",
        "    input_shape=(sequence_size, channel)),\n",
        "\n",
        "  tf.keras.layers.Dropout(dropout_rate),\n",
        "\n",
        "  tf.keras.layers.Conv1D(\n",
        "    filters=10,\n",
        "    kernel_size=6,\n",
        "    strides=1,\n",
        "    padding='same',\n",
        "    data_format=\"channels_last\",\n",
        "    activation='relu',\n",
        "    name=\"last_conv\"),\n",
        "\n",
        "  tf.keras.layers.Dropout(dropout_rate),\n",
        "  \n",
        "  tf.keras.layers.Flatten(),\n",
        "  \n",
        "  tf.keras.layers.Dense(10, activation=\"relu\"),\n",
        "  \n",
        "  tf.keras.layers.Dropout(dropout_rate),\n",
        "\n",
        "  tf.keras.layers.Dense(1, activation='sigmoid')\n",
        "])\n",
        "\n",
        "optimizer = K.optimizers.Adam()\n",
        "\n",
        "model.compile(\n",
        "    optimizer=optimizer,\n",
        "    loss='binary_crossentropy',\n",
        "    metrics=['accuracy']\n",
        ")\n"
      ],
      "execution_count": null,
      "outputs": []
    },
    {
      "cell_type": "code",
      "metadata": {
        "id": "tU14v1calLxM",
        "colab": {
          "base_uri": "https://localhost:8080/"
        },
        "outputId": "d2aed65e-2dd5-4aa3-cd01-057d7a3af044"
      },
      "source": [
        "num_epochs=20\n",
        "validation_split=0.2\n",
        "\n",
        "history = model.fit(\n",
        "    dataset_onehot_train_small,\n",
        "    labels_train_small,\n",
        "    batch_size=32,\n",
        "    epochs=num_epochs,\n",
        "    # notice the validation split, this split is always taken from the end of the training dataset before shuffle\n",
        "    #   so, as long as our dataset is the same, train-validation split will also be the same\n",
        "    validation_split=validation_split\n",
        ")"
      ],
      "execution_count": null,
      "outputs": [
        {
          "output_type": "stream",
          "text": [
            "Epoch 1/20\n",
            "25/25 [==============================] - 3s 12ms/step - loss: 0.6897 - accuracy: 0.5450 - val_loss: 0.6737 - val_accuracy: 0.5200\n",
            "Epoch 2/20\n",
            "25/25 [==============================] - 0s 4ms/step - loss: 0.6414 - accuracy: 0.6562 - val_loss: 0.5469 - val_accuracy: 0.8300\n",
            "Epoch 3/20\n",
            "25/25 [==============================] - 0s 4ms/step - loss: 0.4297 - accuracy: 0.8087 - val_loss: 0.3413 - val_accuracy: 0.8750\n",
            "Epoch 4/20\n",
            "25/25 [==============================] - 0s 4ms/step - loss: 0.3085 - accuracy: 0.8612 - val_loss: 0.3175 - val_accuracy: 0.8800\n",
            "Epoch 5/20\n",
            "25/25 [==============================] - 0s 4ms/step - loss: 0.2711 - accuracy: 0.8850 - val_loss: 0.3015 - val_accuracy: 0.8800\n",
            "Epoch 6/20\n",
            "25/25 [==============================] - 0s 4ms/step - loss: 0.2753 - accuracy: 0.8875 - val_loss: 0.3269 - val_accuracy: 0.8700\n",
            "Epoch 7/20\n",
            "25/25 [==============================] - 0s 4ms/step - loss: 0.2650 - accuracy: 0.8938 - val_loss: 0.2953 - val_accuracy: 0.8850\n",
            "Epoch 8/20\n",
            "25/25 [==============================] - 0s 4ms/step - loss: 0.2242 - accuracy: 0.9013 - val_loss: 0.3016 - val_accuracy: 0.9100\n",
            "Epoch 9/20\n",
            "25/25 [==============================] - 0s 4ms/step - loss: 0.1995 - accuracy: 0.9225 - val_loss: 0.3122 - val_accuracy: 0.9100\n",
            "Epoch 10/20\n",
            "25/25 [==============================] - 0s 4ms/step - loss: 0.2113 - accuracy: 0.9250 - val_loss: 0.3209 - val_accuracy: 0.8700\n",
            "Epoch 11/20\n",
            "25/25 [==============================] - 0s 4ms/step - loss: 0.1972 - accuracy: 0.9262 - val_loss: 0.3014 - val_accuracy: 0.9000\n",
            "Epoch 12/20\n",
            "25/25 [==============================] - 0s 4ms/step - loss: 0.1878 - accuracy: 0.9237 - val_loss: 0.3013 - val_accuracy: 0.8900\n",
            "Epoch 13/20\n",
            "25/25 [==============================] - 0s 4ms/step - loss: 0.1692 - accuracy: 0.9325 - val_loss: 0.3065 - val_accuracy: 0.8900\n",
            "Epoch 14/20\n",
            "25/25 [==============================] - 0s 4ms/step - loss: 0.1666 - accuracy: 0.9325 - val_loss: 0.3015 - val_accuracy: 0.8900\n",
            "Epoch 15/20\n",
            "25/25 [==============================] - 0s 4ms/step - loss: 0.1494 - accuracy: 0.9513 - val_loss: 0.3114 - val_accuracy: 0.8900\n",
            "Epoch 16/20\n",
            "25/25 [==============================] - 0s 4ms/step - loss: 0.1486 - accuracy: 0.9388 - val_loss: 0.3102 - val_accuracy: 0.8850\n",
            "Epoch 17/20\n",
            "25/25 [==============================] - 0s 4ms/step - loss: 0.1360 - accuracy: 0.9525 - val_loss: 0.3252 - val_accuracy: 0.8750\n",
            "Epoch 18/20\n",
            "25/25 [==============================] - 0s 4ms/step - loss: 0.1241 - accuracy: 0.9525 - val_loss: 0.3182 - val_accuracy: 0.8850\n",
            "Epoch 19/20\n",
            "25/25 [==============================] - 0s 4ms/step - loss: 0.1241 - accuracy: 0.9488 - val_loss: 0.3118 - val_accuracy: 0.8850\n",
            "Epoch 20/20\n",
            "25/25 [==============================] - 0s 4ms/step - loss: 0.1347 - accuracy: 0.9400 - val_loss: 0.3165 - val_accuracy: 0.8750\n"
          ],
          "name": "stdout"
        }
      ]
    },
    {
      "cell_type": "markdown",
      "metadata": {
        "id": "5N9bVTPSGL02"
      },
      "source": [
        "## Plot learning curves"
      ]
    },
    {
      "cell_type": "code",
      "metadata": {
        "id": "6oEdGv_LKjhS"
      },
      "source": [
        "metrics = model.evaluate(\n",
        "    dataset_onehot_test,\n",
        "    labels_test,\n",
        "    verbose=0\n",
        ")\n"
      ],
      "execution_count": null,
      "outputs": []
    },
    {
      "cell_type": "code",
      "metadata": {
        "colab": {
          "base_uri": "https://localhost:8080/"
        },
        "id": "KxGAi8ZuKpUq",
        "outputId": "a66beb21-089d-412e-e5a4-b62476ee4995"
      },
      "source": [
        "print('dropout model evaluation on unknown (that is \"test\") dataset [loss, accuracy]:', metrics)\n",
        "\n",
        "# Simple trick for the visualization\n",
        "for met in range(len(metrics)):\n",
        "  repeted_list = []\n",
        "  for i in range(len(history.history['accuracy'])):\n",
        "    repeted_list.append(metrics[met])\n",
        "  metrics[met] = repeted_list\n",
        "# print(metrics)\n"
      ],
      "execution_count": null,
      "outputs": [
        {
          "output_type": "stream",
          "text": [
            "dropout model evaluation on unknown (that is \"test\") dataset [loss, accuracy]: [0.2906227111816406, 0.8901399970054626]\n"
          ],
          "name": "stdout"
        }
      ]
    },
    {
      "cell_type": "code",
      "metadata": {
        "colab": {
          "base_uri": "https://localhost:8080/",
          "height": 325
        },
        "id": "QPGB6HgUfpYF",
        "outputId": "8024ec24-ba03-458a-e73e-926dd96da26b"
      },
      "source": [
        "acc = history.history['accuracy']\n",
        "val_acc = history.history['val_accuracy']\n",
        "\n",
        "loss = history.history['loss']\n",
        "val_loss = history.history['val_loss']\n",
        "\n",
        "plt.figure(figsize=(16, 10))\n",
        "# acc\n",
        "plt.subplot(2, 2, 1)\n",
        "plt.plot(acc, label='Training Accuracy')\n",
        "plt.plot(val_acc, label='Validation Accuracy')\n",
        "plt.plot(metrics[1], label='Testing Accuracy')\n",
        "plt.legend(loc='lower right')\n",
        "plt.ylabel('Accuracy')\n",
        "plt.ylim([min(plt.ylim()),1])\n",
        "plt.title('Dropout model - Training and Validation Accuracy')\n",
        "\n",
        "# loss\n",
        "plt.subplot(2, 2, 2)\n",
        "plt.plot(loss, label='Training Loss')\n",
        "plt.plot(val_loss, label='Validation Loss')\n",
        "plt.plot(metrics[0], label='Testing Loss')\n",
        "plt.legend(loc='upper right')\n",
        "plt.ylabel('Cross Entropy')\n",
        "plt.ylim([0,2.0])\n",
        "plt.title('Dropout model - Training and Validation Loss')\n",
        "plt.xlabel('epoch')\n",
        "plt.show()"
      ],
      "execution_count": null,
      "outputs": [
        {
          "output_type": "display_data",
          "data": {
            "image/png": "[encoded data removed]",
            "text/plain": [
              "<Figure size 1152x720 with 2 Axes>"
            ]
          },
          "metadata": {
            "tags": [],
            "needs_background": "light"
          }
        }
      ]
    },
    {
      "cell_type": "markdown",
      "metadata": {
        "id": "K3IdsA4Z-yt_"
      },
      "source": [
        "# Define Grad-CAM"
      ]
    },
    {
      "cell_type": "code",
      "metadata": {
        "id": "AX5jBkYD-rPl"
      },
      "source": [
        "import tensorflow.keras as keras\n",
        "import matplotlib.cm as cm\n",
        "\n",
        "def get_img_array(img_path, size):\n",
        "    # `img` is a PIL image of size 299x299\n",
        "    img = keras.preprocessing.image.load_img(img_path, target_size=size)\n",
        "    # `array` is a float32 Numpy array of shape (299, 299, 3)\n",
        "    array = keras.preprocessing.image.img_to_array(img)\n",
        "    # We add a dimension to transform our array into a \"batch\"\n",
        "    # of size (1, 299, 299, 3), 1 being the batch size\n",
        "    array = np.expand_dims(array, axis=0)\n",
        "    return array\n",
        "\n",
        "def make_gradcam_heatmap(img_array, model, last_conv_layer_name, pred_index=None):\n",
        "    # First, we create a model that maps the input image to the activations\n",
        "    # of the last conv layer as well as the output predictions\n",
        "    grad_model = tf.keras.models.Model(\n",
        "        [model.inputs], [model.get_layer(last_conv_layer_name).output, model.output]\n",
        "    )\n",
        "\n",
        "    # Then, we compute the gradient of the top predicted class for our input image\n",
        "    # with respect to the activations of the last conv layer\n",
        "    with tf.GradientTape() as tape:\n",
        "        last_conv_layer_output, preds = grad_model(img_array)\n",
        "        if pred_index is None:\n",
        "            pred_index = tf.argmax(preds[0])\n",
        "        class_channel = preds[:, pred_index]\n",
        "\n",
        "    # This is the gradient of the output neuron (top predicted or chosen)\n",
        "    # with regard to the output feature map of the last conv layer\n",
        "    grads = tape.gradient(class_channel, last_conv_layer_output)\n",
        "\n",
        "    # This is a vector where each entry is the mean intensity of the gradient\n",
        "    # over a specific feature map channel\n",
        "    pooled_grads = tf.reduce_mean(grads, axis=(0, 1, 2))\n",
        "\n",
        "    # We multiply each channel in the feature map array\n",
        "    # by \"how important this channel is\" with regard to the top predicted class\n",
        "    # then sum all the channels to obtain the heatmap class activation\n",
        "    last_conv_layer_output = last_conv_layer_output[0]\n",
        "    # heatmap = last_conv_layer_output @ pooled_grads[..., tf.newaxis]\n",
        "    heatmap = tf.reduce_mean(tf.multiply(pooled_grads, last_conv_layer_output), axis=-1)\n",
        "    heatmap = tf.squeeze(heatmap)\n",
        "\n",
        "    # For visualization purpose, we will also normalize the heatmap between 0 & 1\n",
        "    heatmap = tf.maximum(heatmap, 0) / tf.math.reduce_max(heatmap)\n",
        "    return heatmap.numpy()\n",
        "\n"
      ],
      "execution_count": null,
      "outputs": []
    },
    {
      "cell_type": "markdown",
      "metadata": {
        "id": "r3r9V_dy-9ZG"
      },
      "source": [
        "# Apply Grad-CAM"
      ]
    },
    {
      "cell_type": "code",
      "metadata": {
        "id": "La9MH5bZ-4cI"
      },
      "source": [
        "def apply_gradcam(test_sample):\n",
        "  # It is common to name our layers in more complex NNs\n",
        "  # f.e: model.add(Dense(units = 10, name=\"dense_1\"))\n",
        "  last_conv_layer_name = \"last_conv\"\n",
        "\n",
        "  sample = tf.reshape(test_sample, [-1,200,5])\n",
        "  preds = model.predict(sample)\n",
        "  print(\"Predicted:\", preds)\n",
        "\n",
        "  # Generate class activation heatmap\n",
        "  heatmap = make_gradcam_heatmap(sample, model, last_conv_layer_name)\n",
        "\n",
        "  print(test_sample.shape)\n",
        "  print(heatmap.shape)\n",
        "  # Display heatmap\n",
        "  plt.matshow([heatmap, heatmap, heatmap])\n",
        "  plt.show()\n",
        "  \n",
        "  return heatmap"
      ],
      "execution_count": null,
      "outputs": []
    },
    {
      "cell_type": "markdown",
      "metadata": {
        "id": "5P8NEKGcAkVb"
      },
      "source": [
        "# Visualize"
      ]
    },
    {
      "cell_type": "code",
      "metadata": {
        "id": "vg4vgOKIAj70"
      },
      "source": [
        "import seaborn as sb\n",
        "def plot_heatmap(df_to_vis):\n",
        "  ticks = \"auto\"\n",
        "  fig, ax = plt.subplots(figsize=(25, 2.8))\n",
        "  sb.heatmap(df_to_vis[:100].T, cmap=\"Blues\", annot=False, vmin = 0, vmax = 1, xticklabels=ticks, yticklabels=ticks, cbar_kws={\"orientation\": \"horizontal\"}, ax=ax, cbar=False)\n",
        "  ax.invert_yaxis()\n",
        "  plt.show()\n",
        "\n",
        "  fig, ax = plt.subplots(figsize=(25, 4))\n",
        "  sb.heatmap(df_to_vis[100:].T, cmap=\"Blues\", annot=False, vmin = 0, vmax = 1, xticklabels=ticks, yticklabels=ticks, cbar_kws={\"orientation\": \"horizontal\"}, ax=ax)\n",
        "  ax.invert_yaxis()\n",
        "  plt.show()"
      ],
      "execution_count": null,
      "outputs": []
    },
    {
      "cell_type": "markdown",
      "metadata": {
        "id": "0acxH-JID6-_"
      },
      "source": [
        "# Use it all together"
      ]
    },
    {
      "cell_type": "code",
      "metadata": {
        "colab": {
          "base_uri": "https://localhost:8080/",
          "height": 118
        },
        "id": "e7gvVewgBnY5",
        "outputId": "be51952e-d40f-433c-ed3c-b791a25d82fa"
      },
      "source": [
        "sample_num = 2\n",
        "heatmap = apply_gradcam(dataset_onehot_test[sample_num])"
      ],
      "execution_count": null,
      "outputs": [
        {
          "output_type": "stream",
          "text": [
            "Predicted: [[0.02440628]]\n",
            "(200, 5)\n",
            "(200,)\n"
          ],
          "name": "stdout"
        },
        {
          "output_type": "display_data",
          "data": {
            "image/png": "[encoded data removed]",
            "text/plain": [
              "<Figure size 1152x144 with 1 Axes>"
            ]
          },
          "metadata": {
            "tags": [],
            "needs_background": "light"
          }
        }
      ]
    },
    {
      "cell_type": "code",
      "metadata": {
        "colab": {
          "base_uri": "https://localhost:8080/"
        },
        "id": "3EznHf-Y_MAy",
        "outputId": "c1c29218-7413-477f-abae-1eca533bacc2"
      },
      "source": [
        "print(df_test['sequence'][sample_num])\n",
        "print(labels_test[sample_num])"
      ],
      "execution_count": null,
      "outputs": [
        {
          "output_type": "stream",
          "text": [
            "NNNNTTGTTCTCTTCTTAGTTCCTTGAGGAGCAACATTATGTTATTTGAGCTCTTTCTTCTTTTTGATATAGGCATTTATTGCTGCAAACATTGATCTTACTGCTTTTGCTGTATTTCATAAGCTTTTGGTATGTTGTGTTTCCATTTTTGTTTNNNNNNNNNNNNNNNNNNNNNNNNNNNNNNNNNNNNNNNNNNNNNN\n",
            "0\n"
          ],
          "name": "stdout"
        }
      ]
    },
    {
      "cell_type": "code",
      "metadata": {
        "colab": {
          "base_uri": "https://localhost:8080/",
          "height": 418
        },
        "id": "Gw-bRFJ6_UAo",
        "outputId": "be63d70b-6f77-4662-efd4-a760834e7bfe"
      },
      "source": [
        "chars = [char for char in dataset_test[sample_num]]\n",
        "visualize_1 = pd.DataFrame(heatmap.reshape((200,1)), chars)\n",
        "visualize_1"
      ],
      "execution_count": null,
      "outputs": [
        {
          "output_type": "execute_result",
          "data": {
            "text/html": [
              "<div>\n",
              "<style scoped>\n",
              "    .dataframe tbody tr th:only-of-type {\n",
              "        vertical-align: middle;\n",
              "    }\n",
              "\n",
              "    .dataframe tbody tr th {\n",
              "        vertical-align: top;\n",
              "    }\n",
              "\n",
              "    .dataframe thead th {\n",
              "        text-align: right;\n",
              "    }\n",
              "</style>\n",
              "<table border=\"1\" class=\"dataframe\">\n",
              "  <thead>\n",
              "    <tr style=\"text-align: right;\">\n",
              "      <th></th>\n",
              "      <th>0</th>\n",
              "    </tr>\n",
              "  </thead>\n",
              "  <tbody>\n",
              "    <tr>\n",
              "      <th>N</th>\n",
              "      <td>0.147943</td>\n",
              "    </tr>\n",
              "    <tr>\n",
              "      <th>N</th>\n",
              "      <td>0.085242</td>\n",
              "    </tr>\n",
              "    <tr>\n",
              "      <th>N</th>\n",
              "      <td>0.226174</td>\n",
              "    </tr>\n",
              "    <tr>\n",
              "      <th>N</th>\n",
              "      <td>0.305971</td>\n",
              "    </tr>\n",
              "    <tr>\n",
              "      <th>T</th>\n",
              "      <td>0.448673</td>\n",
              "    </tr>\n",
              "    <tr>\n",
              "      <th>...</th>\n",
              "      <td>...</td>\n",
              "    </tr>\n",
              "    <tr>\n",
              "      <th>N</th>\n",
              "      <td>0.112942</td>\n",
              "    </tr>\n",
              "    <tr>\n",
              "      <th>N</th>\n",
              "      <td>0.107698</td>\n",
              "    </tr>\n",
              "    <tr>\n",
              "      <th>N</th>\n",
              "      <td>0.100946</td>\n",
              "    </tr>\n",
              "    <tr>\n",
              "      <th>N</th>\n",
              "      <td>0.107854</td>\n",
              "    </tr>\n",
              "    <tr>\n",
              "      <th>N</th>\n",
              "      <td>0.103304</td>\n",
              "    </tr>\n",
              "  </tbody>\n",
              "</table>\n",
              "<p>200 rows × 1 columns</p>\n",
              "</div>"
            ],
            "text/plain": [
              "           0\n",
              "N   0.147943\n",
              "N   0.085242\n",
              "N   0.226174\n",
              "N   0.305971\n",
              "T   0.448673\n",
              "..       ...\n",
              "N   0.112942\n",
              "N   0.107698\n",
              "N   0.100946\n",
              "N   0.107854\n",
              "N   0.103304\n",
              "\n",
              "[200 rows x 1 columns]"
            ]
          },
          "metadata": {
            "tags": []
          },
          "execution_count": 32
        }
      ]
    },
    {
      "cell_type": "code",
      "metadata": {
        "colab": {
          "base_uri": "https://localhost:8080/",
          "height": 384
        },
        "id": "BboxQZvi_VLl",
        "outputId": "45d3f6ae-d21b-4493-e26f-d7cffdb8550a"
      },
      "source": [
        "plot_heatmap(visualize_1)"
      ],
      "execution_count": null,
      "outputs": [
        {
          "output_type": "display_data",
          "data": {
            "image/png": "[encoded data removed]",
            "text/plain": [
              "<Figure size 1800x201.6 with 1 Axes>"
            ]
          },
          "metadata": {
            "tags": [],
            "needs_background": "light"
          }
        },
        {
          "output_type": "display_data",
          "data": {
            "image/png": "[encoded data removed]",
            "text/plain": [
              "<Figure size 1800x288 with 2 Axes>"
            ]
          },
          "metadata": {
            "tags": [],
            "needs_background": "light"
          }
        }
      ]
    },
    {
      "cell_type": "markdown",
      "metadata": {
        "id": "DjBeMmXFCALH"
      },
      "source": [
        "This one did not have G4 in it. Let's try an example containing G4 structure."
      ]
    },
    {
      "cell_type": "code",
      "metadata": {
        "colab": {
          "base_uri": "https://localhost:8080/",
          "height": 174
        },
        "id": "Gei2ewJX_WVg",
        "outputId": "d23c16e3-1cf5-4594-85cb-d4ee4d1d16ca"
      },
      "source": [
        "sample_num = 1\n",
        "heatmap = apply_gradcam(dataset_onehot_test[sample_num])\n",
        "\n",
        "print('df_test ', df_test['sequence'][sample_num])\n",
        "print('labels_test ', labels_test[sample_num])\n",
        "\n",
        "chars = [char for char in dataset_test[sample_num]]\n",
        "visualize_2 = pd.DataFrame(heatmap.reshape((200,1)), chars)\n"
      ],
      "execution_count": null,
      "outputs": [
        {
          "output_type": "stream",
          "text": [
            "Predicted: [[0.9976628]]\n",
            "(200, 5)\n",
            "(200,)\n"
          ],
          "name": "stdout"
        },
        {
          "output_type": "display_data",
          "data": {
            "image/png": "[encoded data removed]",
            "text/plain": [
              "<Figure size 1152x144 with 1 Axes>"
            ]
          },
          "metadata": {
            "tags": [],
            "needs_background": "light"
          }
        },
        {
          "output_type": "stream",
          "text": [
            "df_test  AACCCGGGTCCCCTGGGTCCGGGGTGGGGTCGGTTAAGGTAGTGGTTCAAGAAACTGGAGGTGAGGACTGTAACTTGGTCTAGGGACGAGAAGGAGGACGATAGGGGTAACAGGGGACAGGGTCGGTGAGAGTCGTGTATGGACCCAGTAATCTGTCTAGGACAGAGGGCGGAGAGGACGGAGGGGACGACCGGAACAAT\n",
            "labels_test  1\n"
          ],
          "name": "stdout"
        }
      ]
    },
    {
      "cell_type": "code",
      "metadata": {
        "colab": {
          "base_uri": "https://localhost:8080/",
          "height": 788
        },
        "id": "IyBC5_5iCZ6_",
        "outputId": "19d4f0f2-acf1-41e0-9ae2-9ff743718e1a"
      },
      "source": [
        "print('label ', labels_test[2])\n",
        "plot_heatmap(visualize_1)\n",
        "\n",
        "print('label ', labels_test[1])\n",
        "plot_heatmap(visualize_2)\n",
        "\n"
      ],
      "execution_count": null,
      "outputs": [
        {
          "output_type": "stream",
          "text": [
            "labels_test  0\n"
          ],
          "name": "stdout"
        },
        {
          "output_type": "display_data",
          "data": {
            "image/png": "[encoded data removed]",
            "text/plain": [
              "<Figure size 1800x201.6 with 1 Axes>"
            ]
          },
          "metadata": {
            "tags": [],
            "needs_background": "light"
          }
        },
        {
          "output_type": "display_data",
          "data": {
            "image/png": "[encoded data removed]",
            "text/plain": [
              "<Figure size 1800x288 with 2 Axes>"
            ]
          },
          "metadata": {
            "tags": [],
            "needs_background": "light"
          }
        },
        {
          "output_type": "stream",
          "text": [
            "labels_test  1\n"
          ],
          "name": "stdout"
        },
        {
          "output_type": "display_data",
          "data": {
            "image/png": "[encoded data removed]",
            "text/plain": [
              "<Figure size 1800x201.6 with 1 Axes>"
            ]
          },
          "metadata": {
            "tags": [],
            "needs_background": "light"
          }
        },
        {
          "output_type": "display_data",
          "data": {
            "image/png": "[encoded data removed]",
            "text/plain": [
              "<Figure size 1800x288 with 2 Axes>"
            ]
          },
          "metadata": {
            "tags": [],
            "needs_background": "light"
          }
        }
      ]
    },
    {
      "cell_type": "code",
      "metadata": {
        "id": "LWEP8zo-CnWe"
      },
      "source": [
        ""
      ],
      "execution_count": null,
      "outputs": []
    }
  ]
}