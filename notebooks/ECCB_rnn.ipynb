{
  "nbformat": 4,
  "nbformat_minor": 0,
  "metadata": {
    "colab": {
      "name": "ECCB_rnn.ipynb",
      "provenance": [],
      "collapsed_sections": [],
      "authorship_tag": "ABX9TyPnLJaltbP3TpJaUJQmfI5F",
      "include_colab_link": true
    },
    "kernelspec": {
      "name": "python3",
      "display_name": "Python 3"
    },
    "language_info": {
      "name": "python"
    },
    "accelerator": "GPU"
  },
  "cells": [
    {
      "cell_type": "markdown",
      "metadata": {
        "id": "view-in-github",
        "colab_type": "text"
      },
      "source": [
        "<a href=\"https://colab.research.google.com/github/ML-Bioinfo-CEITEC/ECCB2021/blob/main/notebooks/ECCB_rnn.ipynb\" target=\"_parent\"><img src=\"https://colab.research.google.com/assets/colab-badge.svg\" alt=\"Open In Colab\"/></a>"
      ]
    },
    {
      "cell_type": "markdown",
      "metadata": {
        "id": "2RX83YHMs0DR"
      },
      "source": [
        "# Text generation"
      ]
    },
    {
      "cell_type": "code",
      "metadata": {
        "id": "uUOxo3u535iU"
      },
      "source": [
        "import numpy as np\n",
        "import tensorflow as tf\n",
        "from tensorflow import keras\n",
        "from tensorflow.keras import layers\n",
        "from tensorflow.keras.layers.experimental import preprocessing"
      ],
      "execution_count": 1,
      "outputs": []
    },
    {
      "cell_type": "markdown",
      "metadata": {
        "id": "Vck-VKLUKsL0"
      },
      "source": [
        "## Data processing"
      ]
    },
    {
      "cell_type": "code",
      "metadata": {
        "colab": {
          "base_uri": "https://localhost:8080/"
        },
        "id": "yAWNlh1DIgOB",
        "outputId": "b0a23409-750d-422f-cfdc-9b85008cf30c"
      },
      "source": [
        "#source https://www.tensorflow.org/text/tutorials/text_generation\n",
        "path_to_file = tf.keras.utils.get_file('shakespeare.txt', 'https://storage.googleapis.com/download.tensorflow.org/data/shakespeare.txt')"
      ],
      "execution_count": 2,
      "outputs": [
        {
          "output_type": "stream",
          "text": [
            "Downloading data from https://storage.googleapis.com/download.tensorflow.org/data/shakespeare.txt\n",
            "1122304/1115394 [==============================] - 0s 0us/step\n"
          ],
          "name": "stdout"
        }
      ]
    },
    {
      "cell_type": "code",
      "metadata": {
        "colab": {
          "base_uri": "https://localhost:8080/"
        },
        "id": "MsNbAAouwz8_",
        "outputId": "3b49437b-667c-4a34-b12f-fb9e18f2c0cd"
      },
      "source": [
        "complete_text = open(path_to_file, 'rb').read().decode(encoding='utf-8')\n",
        "print(f'Length of text: {len(complete_text)} characters')"
      ],
      "execution_count": 3,
      "outputs": [
        {
          "output_type": "stream",
          "text": [
            "Length of text: 1115394 characters\n"
          ],
          "name": "stdout"
        }
      ]
    },
    {
      "cell_type": "code",
      "metadata": {
        "colab": {
          "base_uri": "https://localhost:8080/",
          "height": 52
        },
        "id": "LOIunPlJIcpd",
        "outputId": "1434d323-9f0e-459a-daf5-dcd3d35635d9"
      },
      "source": [
        "complete_text[:250]"
      ],
      "execution_count": 4,
      "outputs": [
        {
          "output_type": "execute_result",
          "data": {
            "application/vnd.google.colaboratory.intrinsic+json": {
              "type": "string"
            },
            "text/plain": [
              "'First Citizen:\\nBefore we proceed any further, hear me speak.\\n\\nAll:\\nSpeak, speak.\\n\\nFirst Citizen:\\nYou are all resolved rather to die than to famish?\\n\\nAll:\\nResolved. resolved.\\n\\nFirst Citizen:\\nFirst, you know Caius Marcius is chief enemy to the people.\\n'"
            ]
          },
          "metadata": {
            "tags": []
          },
          "execution_count": 4
        }
      ]
    },
    {
      "cell_type": "code",
      "metadata": {
        "colab": {
          "base_uri": "https://localhost:8080/"
        },
        "id": "cNvJNSBkw30l",
        "outputId": "347e1d6b-1ee2-4342-8542-65fe63aa5ebe"
      },
      "source": [
        "vocab = sorted(set(complete_text))\n",
        "print(f'{len(vocab)} unique characters')\n",
        "print(vocab)"
      ],
      "execution_count": 5,
      "outputs": [
        {
          "output_type": "stream",
          "text": [
            "65 unique characters\n",
            "['\\n', ' ', '!', '$', '&', \"'\", ',', '-', '.', '3', ':', ';', '?', 'A', 'B', 'C', 'D', 'E', 'F', 'G', 'H', 'I', 'J', 'K', 'L', 'M', 'N', 'O', 'P', 'Q', 'R', 'S', 'T', 'U', 'V', 'W', 'X', 'Y', 'Z', 'a', 'b', 'c', 'd', 'e', 'f', 'g', 'h', 'i', 'j', 'k', 'l', 'm', 'n', 'o', 'p', 'q', 'r', 's', 't', 'u', 'v', 'w', 'x', 'y', 'z']\n"
          ],
          "name": "stdout"
        }
      ]
    },
    {
      "cell_type": "code",
      "metadata": {
        "colab": {
          "base_uri": "https://localhost:8080/"
        },
        "id": "Fj8ti0IFw7lN",
        "outputId": "916239f1-2beb-43a2-aa04-b73fe838b586"
      },
      "source": [
        "chars_to_ids = preprocessing.StringLookup(vocabulary=list(vocab), mask_token=None)\n",
        "\n",
        "def text_to_ids(text, vocab=vocab):\n",
        "  chars = tf.strings.unicode_split(text, input_encoding='UTF-8')\n",
        "  return chars_to_ids(chars)\n",
        "\n",
        "text = 'Hi mom!'\n",
        "ids = text_to_ids(text)\n",
        "print(ids)"
      ],
      "execution_count": 6,
      "outputs": [
        {
          "output_type": "stream",
          "text": [
            "tf.Tensor([21 48  2 52 54 52  3], shape=(7,), dtype=int64)\n"
          ],
          "name": "stdout"
        }
      ]
    },
    {
      "cell_type": "code",
      "metadata": {
        "colab": {
          "base_uri": "https://localhost:8080/"
        },
        "id": "xWRNMQyWIoGg",
        "outputId": "0343141c-1446-4e4b-a4e8-5e0f8c413522"
      },
      "source": [
        "chars_from_ids = preprocessing.StringLookup(vocabulary=chars_to_ids.get_vocabulary(), invert=True, mask_token=None) #mask token = None - id_from_chars adds [UNK] token, not interested in that one\n",
        "\n",
        "def ids_to_text(ids):\n",
        "  return tf.strings.reduce_join(chars_from_ids(ids), axis=-1).numpy()\n",
        "\n",
        "print(ids_to_text(ids))"
      ],
      "execution_count": 7,
      "outputs": [
        {
          "output_type": "stream",
          "text": [
            "b'Hi mom!'\n"
          ],
          "name": "stdout"
        }
      ]
    },
    {
      "cell_type": "markdown",
      "metadata": {
        "id": "PEctOXyI3Qba"
      },
      "source": [
        "## Creating the dataset for our model"
      ]
    },
    {
      "cell_type": "code",
      "metadata": {
        "colab": {
          "base_uri": "https://localhost:8080/"
        },
        "id": "ejDBV90LORTP",
        "outputId": "67373006-97be-4842-8a9c-f7bcab0655a7"
      },
      "source": [
        "all_ids = text_to_ids(complete_text)\n",
        "all_ids"
      ],
      "execution_count": 8,
      "outputs": [
        {
          "output_type": "execute_result",
          "data": {
            "text/plain": [
              "<tf.Tensor: shape=(1115394,), dtype=int64, numpy=array([19, 48, 57, ..., 46,  9,  1])>"
            ]
          },
          "metadata": {
            "tags": []
          },
          "execution_count": 8
        }
      ]
    },
    {
      "cell_type": "code",
      "metadata": {
        "colab": {
          "base_uri": "https://localhost:8080/"
        },
        "id": "cR9Fwjs55ZfZ",
        "outputId": "c2c00c26-6712-4d18-c96e-a55eab0a3de0"
      },
      "source": [
        "ids_dataset = tf.data.Dataset.from_tensor_slices(all_ids)\n",
        "seq_length=100\n",
        "#We could have some sequences of length 50, some of 150 etc...!\n",
        "sequences = ids_dataset.batch(seq_length, drop_remainder=True)\n",
        "\n",
        "for s in sequences.take(1):\n",
        "  print(ids_to_text(s))\n",
        "for s in sequences.take(1):\n",
        "  print(s)\n"
      ],
      "execution_count": 9,
      "outputs": [
        {
          "output_type": "stream",
          "text": [
            "b'First Citizen:\\nBefore we proceed any further, hear me speak.\\n\\nAll:\\nSpeak, speak.\\n\\nFirst Citizen:\\nYou'\n",
            "tf.Tensor(\n",
            "[19 48 57 58 59  2 16 48 59 48 65 44 53 11  1 15 44 45 54 57 44  2 62 44\n",
            "  2 55 57 54 42 44 44 43  2 40 53 64  2 45 60 57 59 47 44 57  7  2 47 44\n",
            " 40 57  2 52 44  2 58 55 44 40 50  9  1  1 14 51 51 11  1 32 55 44 40 50\n",
            "  7  2 58 55 44 40 50  9  1  1 19 48 57 58 59  2 16 48 59 48 65 44 53 11\n",
            "  1 38 54 60], shape=(100,), dtype=int64)\n"
          ],
          "name": "stdout"
        }
      ]
    },
    {
      "cell_type": "code",
      "metadata": {
        "colab": {
          "base_uri": "https://localhost:8080/"
        },
        "id": "N_GQIgpqQYUg",
        "outputId": "465837cf-f0c0-411f-ee98-3a3c216910b6"
      },
      "source": [
        "def split_input_target(sequence):\n",
        "    input_text = sequence[:-1]\n",
        "    target_text = sequence[1:]\n",
        "    return input_text, target_text\n",
        "\n",
        "train_dataset = sequences.map(split_input_target)\n",
        "\n",
        "for input_example, target_example in train_dataset.take(1):\n",
        "    print(\"Input :\", ids_to_text(input_example))\n",
        "    print(\"Target:\", ids_to_text(target_example))"
      ],
      "execution_count": 10,
      "outputs": [
        {
          "output_type": "stream",
          "text": [
            "Input : b'First Citizen:\\nBefore we proceed any further, hear me speak.\\n\\nAll:\\nSpeak, speak.\\n\\nFirst Citizen:\\nYo'\n",
            "Target: b'irst Citizen:\\nBefore we proceed any further, hear me speak.\\n\\nAll:\\nSpeak, speak.\\n\\nFirst Citizen:\\nYou'\n"
          ],
          "name": "stdout"
        }
      ]
    },
    {
      "cell_type": "code",
      "metadata": {
        "id": "ziQzeDuAUDBD"
      },
      "source": [
        "#Only training dataset\n",
        "train_dataset = train_dataset.shuffle(buffer_size=10000).batch(batch_size=64)"
      ],
      "execution_count": 11,
      "outputs": []
    },
    {
      "cell_type": "markdown",
      "metadata": {
        "id": "_TU2vdI8KqDB"
      },
      "source": [
        "# Model architecture\n"
      ]
    },
    {
      "cell_type": "code",
      "metadata": {
        "id": "NuYy8FsQ7F75"
      },
      "source": [
        "#We are defining the model a bit differently this time. This is done to allow us to customize the text-generation process.\n",
        "class MyBasicModel(tf.keras.Model):\n",
        "  def __init__(self, vocab_size, rnn_units):\n",
        "    super().__init__(self)\n",
        "\n",
        "    self.onehot = tf.keras.layers.Lambda(lambda x: tf.one_hot(tf.cast(x,'int64'), vocab_size))\n",
        "    self.rnn = tf.keras.layers.SimpleRNN(rnn_units,\n",
        "                                   return_sequences=True,\n",
        "                                   return_state=True)\n",
        "    self.dense = tf.keras.layers.Dense(vocab_size)\n",
        "\n",
        "  def call(self, inputs, states=None, return_state=False, training=False):\n",
        "    x = inputs\n",
        "    x= self.onehot(x)\n",
        "    if states is None:\n",
        "      states = self.rnn.get_initial_state(x)\n",
        "    x, states = self.rnn(x, initial_state=states, training=training)\n",
        "    x = self.dense(x, training=training)\n",
        "\n",
        "    if return_state:\n",
        "      return x, states\n",
        "    else:\n",
        "      return x\n",
        "\n",
        "model = MyBasicModel(vocab_size=66, rnn_units=256)\n",
        "\n",
        "#This is how we would define the model in a simple way\n",
        "# model = tf.keras.Sequential([\n",
        "#     tf.keras.layers.Lambda(lambda x: tf.one_hot(tf.cast(x,'int64'), 66)),\n",
        "#     tf.keras.layers.SimpleRNN(256, return_sequences=True), #Return sequences allows us to compute loss from all the intermediate-states?\n",
        "#     tf.keras.layers.Dense(66, activation='softmax'),\n",
        "# ])"
      ],
      "execution_count": 19,
      "outputs": []
    },
    {
      "cell_type": "code",
      "metadata": {
        "colab": {
          "base_uri": "https://localhost:8080/"
        },
        "id": "tVD_Oh50rsA0",
        "outputId": "c0e4e6d5-e80a-49ce-84f3-14c765f561d8"
      },
      "source": [
        "model.compile(optimizer='adam',\n",
        "              loss=tf.keras.losses.SparseCategoricalCrossentropy(from_logits=True),\n",
        "              metrics=['accuracy'])\n",
        "\n",
        "history = model.fit(train_dataset, epochs=20)"
      ],
      "execution_count": 20,
      "outputs": [
        {
          "output_type": "stream",
          "text": [
            "Epoch 1/20\n",
            "175/175 [==============================] - 14s 71ms/step - loss: 2.8479 - accuracy: 0.2535\n",
            "Epoch 2/20\n",
            "175/175 [==============================] - 14s 77ms/step - loss: 2.2728 - accuracy: 0.3623\n",
            "Epoch 3/20\n",
            "175/175 [==============================] - 14s 73ms/step - loss: 2.1399 - accuracy: 0.3892\n",
            "Epoch 4/20\n",
            "175/175 [==============================] - 13s 70ms/step - loss: 2.0626 - accuracy: 0.4067\n",
            "Epoch 5/20\n",
            "175/175 [==============================] - 13s 71ms/step - loss: 2.0028 - accuracy: 0.4205\n",
            "Epoch 6/20\n",
            "175/175 [==============================] - 14s 75ms/step - loss: 1.9507 - accuracy: 0.4324\n",
            "Epoch 7/20\n",
            "175/175 [==============================] - 14s 75ms/step - loss: 1.9054 - accuracy: 0.4427\n",
            "Epoch 8/20\n",
            "175/175 [==============================] - 14s 74ms/step - loss: 1.8662 - accuracy: 0.4527\n",
            "Epoch 9/20\n",
            "175/175 [==============================] - 14s 73ms/step - loss: 1.8329 - accuracy: 0.4614\n",
            "Epoch 10/20\n",
            "175/175 [==============================] - 14s 77ms/step - loss: 1.8022 - accuracy: 0.4695\n",
            "Epoch 11/20\n",
            "175/175 [==============================] - 14s 74ms/step - loss: 1.7738 - accuracy: 0.4769\n",
            "Epoch 12/20\n",
            "175/175 [==============================] - 14s 77ms/step - loss: 1.7523 - accuracy: 0.4828\n",
            "Epoch 13/20\n",
            "175/175 [==============================] - 13s 72ms/step - loss: 1.7297 - accuracy: 0.4889\n",
            "Epoch 14/20\n",
            "175/175 [==============================] - 13s 72ms/step - loss: 1.7104 - accuracy: 0.4939\n",
            "Epoch 15/20\n",
            "175/175 [==============================] - 14s 75ms/step - loss: 1.6917 - accuracy: 0.4986\n",
            "Epoch 16/20\n",
            "175/175 [==============================] - 15s 78ms/step - loss: 1.6758 - accuracy: 0.5031\n",
            "Epoch 17/20\n",
            "175/175 [==============================] - 14s 73ms/step - loss: 1.6609 - accuracy: 0.5073\n",
            "Epoch 18/20\n",
            "175/175 [==============================] - 14s 72ms/step - loss: 1.6479 - accuracy: 0.5107\n",
            "Epoch 19/20\n",
            "175/175 [==============================] - 15s 78ms/step - loss: 1.6341 - accuracy: 0.5147\n",
            "Epoch 20/20\n",
            "175/175 [==============================] - 14s 74ms/step - loss: 1.6212 - accuracy: 0.5177\n"
          ],
          "name": "stdout"
        }
      ]
    },
    {
      "cell_type": "markdown",
      "metadata": {
        "id": "qePzTz_uy2Yx"
      },
      "source": [
        "# Text generation"
      ]
    },
    {
      "cell_type": "code",
      "metadata": {
        "id": "-wrtd7q4YXmv"
      },
      "source": [
        "class OneStep(tf.keras.Model):\n",
        "  def __init__(self, model, chars_from_ids, ids_from_chars, temperature=1.0):\n",
        "    super().__init__()\n",
        "    self.temperature = temperature\n",
        "    self.model = model\n",
        "    self.chars_from_ids = chars_from_ids\n",
        "    self.ids_from_chars = ids_from_chars\n",
        "\n",
        "    # Create a mask to prevent \"[UNK]\" from being generated.\n",
        "    skip_ids = self.ids_from_chars(['[UNK]'])[:, None]\n",
        "    sparse_mask = tf.SparseTensor(\n",
        "        # Put a -inf at each bad index.\n",
        "        values=[-float('inf')]*len(skip_ids),\n",
        "        indices=skip_ids,\n",
        "        # Match the shape to the vocabulary\n",
        "        dense_shape=[len(ids_from_chars.get_vocabulary())])\n",
        "    self.prediction_mask = tf.sparse.to_dense(sparse_mask)\n",
        "\n",
        "  @tf.function\n",
        "  def generate_one_step(self, inputs, states=None):\n",
        "    # Convert strings to token IDs.\n",
        "    input_chars = tf.strings.unicode_split(inputs, 'UTF-8')\n",
        "    input_ids = self.ids_from_chars(input_chars).to_tensor()\n",
        "\n",
        "    # Run the model.\n",
        "    # predicted_logits.shape is [batch, char, next_char_logits]\n",
        "    predicted_logits, states = self.model(inputs=input_ids, states=states,\n",
        "                                          return_state=True)\n",
        "    # Only use the last prediction.\n",
        "    predicted_logits = predicted_logits[:, -1, :]\n",
        "    predicted_logits = predicted_logits/self.temperature\n",
        "    # Apply the prediction mask: prevent \"[UNK]\" from being generated.\n",
        "    predicted_logits = predicted_logits + self.prediction_mask\n",
        "\n",
        "    # Sample the output logits to generate token IDs.\n",
        "    predicted_ids = tf.random.categorical(predicted_logits, num_samples=1)\n",
        "    predicted_ids = tf.squeeze(predicted_ids, axis=-1)\n",
        "\n",
        "    # Convert from token ids to characters\n",
        "    predicted_chars = self.chars_from_ids(predicted_ids)\n",
        "\n",
        "    # Return the characters and model state.\n",
        "    return predicted_chars, states\n",
        "\n",
        "def generate_shakespeare(model, length, start_string='ROMEO:'):\n",
        "  ids_from_chars = preprocessing.StringLookup(\n",
        "      vocabulary=list(vocab), mask_token=None)\n",
        "  chars_from_ids = tf.keras.layers.experimental.preprocessing.StringLookup(\n",
        "      vocabulary=ids_from_chars.get_vocabulary(), invert=True, mask_token=None)\n",
        "\n",
        "  one_step_model = OneStep(model, chars_from_ids, chars_to_ids)\n",
        "\n",
        "  states = None\n",
        "  next_char = tf.constant([start_string])\n",
        "  result = [next_char]\n",
        "\n",
        "  for n in range(length):\n",
        "    next_char, states = one_step_model.generate_one_step(next_char, states=states)\n",
        "    result.append(next_char)\n",
        "\n",
        "  result = tf.strings.join(result)\n",
        "  print(result[0].numpy().decode('utf-8'), '\\n\\n' + '_'*80)\n"
      ],
      "execution_count": 14,
      "outputs": []
    },
    {
      "cell_type": "code",
      "metadata": {
        "colab": {
          "base_uri": "https://localhost:8080/"
        },
        "id": "sF595Aphy8iR",
        "outputId": "2881b360-69c1-4e38-b963-b98895884960"
      },
      "source": [
        "generate_shakespeare(model, 400, start_string='ROMEO:')"
      ],
      "execution_count": 22,
      "outputs": [
        {
          "output_type": "stream",
          "text": [
            "ROMEO:\n",
            "I dlank. Pemplace it now him coppeich.\n",
            "I have one string\n",
            "Hat whug nied u'll prives in a villed from whith of houth ind,\n",
            "I had the longs or allist Of of stallom thee.\n",
            "\n",
            "BENVOLIO:\n",
            "Well, well, in the fate tanged?\n",
            "\n",
            "YORK:\n",
            "Farthall my warding thrisoriod encoing it\n",
            "But whenief that make herseling they\n",
            "If ry lef Cloods, the Ohat would bevour you his hath gillvon arve I high.\n",
            "\n",
            "BUCKINGHAM:\n",
            "Then, all thit st \n",
            "\n",
            "________________________________________________________________________________\n"
          ],
          "name": "stdout"
        }
      ]
    },
    {
      "cell_type": "markdown",
      "metadata": {
        "id": "ZKTMW9FjzmzE"
      },
      "source": [
        "# LSTM + Embedding\n"
      ]
    },
    {
      "cell_type": "markdown",
      "metadata": {
        "id": "DWllVvSOjvMh"
      },
      "source": [
        "Embedding layer can improve our model further"
      ]
    },
    {
      "cell_type": "markdown",
      "metadata": {
        "id": "c-SyjLU_i4_W"
      },
      "source": [
        "![image.png](data:image/png;base64,iVBORw0KGgoAAAANSUhEUgAAA8AAAAIcCAYAAAA5Xcd7AAAgAElEQVR4AeydP8wVR7jeKSgoKCgoXFBQuKCgoKCgcOGCgsKFCxcuKFxQULhwQeGCwgUFhQsKCqKghOhaCVcX3Ti6VuKrWEFXjoIioqArR0FXREERiVDiRFZCIitxool+5/ue871nmN09s2e/Of+eQR+7Z3d23pnfzM7OMzM7eyLZmYAJmIAJmIAJmIAJmIAJmIAJmMAeEDixB2l0Ek3ABEzABEzABEzABEzABEzABEwgWQC7EJiACZiACZiACZiACZiACZiACewFAQvgvchmJ9IETMAETMAETMAETMAETMAETMAC2GXABEzABEzABEzABEzABEzABExgLwhYAO9FNjuRJmACJmACJmACJmACJmACJmACFsAuAyZgAiZgAiZgAiZgAiZgAiZgAntBwAJ4L7LZiTQBEzABEzABEzABEzABEzABE7AAdhkwARMwARMwARMwARMwARMwARPYCwIWwHuRzU6kCZiACZiACZiACZiACZiACZiABbDLgAmYgAmYgAmYgAmYgAmYgAmYwF4QsADei2x2Ik3ABEzABEzABEzABEzABEzABCyAXQZMwARMwARMwARMwARMwARMwAT2goAF8F5ksxNpAiZgAiZgAiZgAiZgAiZgAiZgAewyYAImYAImYAImYAImYAImYAImsBcELID3IpudSBMwARMwARMwARMwARMwARMwAQtglwETMAETMAETMAETMAETMAETMIG9IGABvBfZ7ESagAmYgAmYgAmYgAmYgAmYgAlYALsMmIAJmIAJmIAJmIAJmIAJmIAJ7AUBC+C9yGYn0gRMwARMwARMwARMwARMwARMwALYZcAETMAETMAETMAETMAETMAETGAvCFgA70U2O5EmYAImYAImYAImYAImYAImYAIWwC4DJmACJmACJmACJmACJmACJmACe0HAAngvstmJNAETMAETMAETMAETMAETMAETsAB2GTABEzABEzABEzABEzABEzABE9gLAhbAe5HNTqQJmIAJmIAJmIAJmIAJmIAJmIAFsMuACZiACZiACZiACZiACZiACZjAXhCwAN6LbHYiTcAETMAETMAETMAETMAETMAELIBdBkzABEzABEzABEzABEzABEzABPaCgAXwXmSzE2kCJmACJmACJmACJmACJmACJmAB7DJgAiZgAiZgAiZgAiZgAiZgAiawFwQsgPcim51IEzABEzABEzABEzABEzABEzABC2CXARMwARMwARMwARMwARMwARMwgb0gYAG8F9nsRJqACZiACZiACZiACZiACZiACVgAuwyYgAmYgAmYgAmYgAmYgAmYgAnsBQEL4L3IZifSBEzABEzABEzABEzABEzABEzAAthlwARMwARMwARMwARMwARMwARMYC8IWADvRTY7kSZgAiZgAiZgAiZgAiZgAiZgAhbALgMmYAImYAImYAImYAImYAImYAJ7QcACeC+y2Yk0ARMwARMwARMwARMwARMwAROwAHYZMAETMAETMAETMAETMAETMAET2AsCFsB7kc1OpAmYgAmYgAmYgAmYgAmYgAmYgAWwy4AJmIAJmIAJmIAJmIAJmIAJmMBeELAA3otsdiJNwARMwARMwARMwARMwARMwAQsgF0GTMAETMAETMAETMAETMAETMAE9oKABfBeZLMTaQImYAImYAImYAImYAImYAImYAHsMmACJmACJmACJmACJmACJmACJrAXBCyA9yKbnUgTMAETMAETMAETMAETMAETMAELYJcBEzABEzABEzABEzABEzABEzCBvSBgAbwX2exEmoAJmIAJmIAJmIAJmIAJmIAJWAC7DJiACZiACZiACZiACZiACZiACewFAQvgvchmJ9IETMAETMAETMAETMAETMAETMAC2GXABEzABEzABEzABEzABEzABExgLwhYAO9FNjuRJmACJmACJmACJmACJmACJmACFsAuAyZgAiZgAiZgAiZgAiZgAiZgAntBwAJ4L7LZiTQBEzABEzABEzABEzABEzABE7AAdhkwARMwARMwARMwARMwARMwARPYCwIWwHuRzU6kCZiACZiACZiACZiACZiACZiABbDLgAmYgAmYgAmYgAmYgAmYgAmYwF4QsADei2x2Ik3ABEzABEzABEzABEzABEzABCyAXQZMwARMwARMwARMwARMwARMwAT2goAF8F5ksxNpAiZgAiZgAiZgAiZgAiZgAiZgAewyYAImYAImYAImYAImYAImYAImsBcELID3IpudSBMwARMwARMwARMwgW0jcO/evXT+/Pn3/i5cuJA++eST9OjRo/THH3+8lyxdc/Xq1d7zhF9yhHn58uW53Z9//rnkzcdMYCsJWABvZbY50iZgAiZgAiZgAiZgArtO4JtvvkknTpzo/fv444/Tu3fvFlDEa0oiV+cJv+R++OGHBZuff/55yZuPmcBWErAA3spsc6RNwARMwARMwARMwAR2nUAUwN9+++1sxJdR36+//no2Oishe/PmzQUUOs72zJkz6e3bt8XzXQL4s88+WxDAp06dSr/++utCGP5hAttKwAJ4W3PO8TYBEzABEzABEzABE9hpAlEAv379eiGtjPoy1RmRe/LkyfTmzZv5+SiA2c9HcHW+JIARy4SHH6ZByy8C3M4EdoGABfAu5GJFGp6lZ+lGupG+KPx7lxanz5SC5TWTR49S+vjjlM6eTenUqZQuXEjpxo2Unj9PiZk0331XujKlFy8O/OH/xImUzp1L6dq1A/8//JDSV1+llM3gOQjo//6e0l9/m9I/+iilv3c2pb99MqV/8GFKP32e0uvvU3p2K6U3Px4Z/eKLlGr+vv/+6NrDPZ4xt26ldPHiQRpJ65UrKd29e5BO4vry5dFlsLudbheofpF+SD8ceezZy/l88MERnx9/7Obz228H8SJ+Z86kdPp0SpcuHcSfMInr06fBcA0b/AY+lJ+b6WYxnb+l34KR8i7lh/Jx9Wp3+aF8Fd1/+yWln2+m9GcXU3p4KqW/eyalJ5dS+pdfp/TvHqf0L75K6X8d9nDzrlJtOgs923D/7LODskqZPX/+4DfllXhS3guvXh3E4/ntg/gRz79z+iDef3Ujpf/wQ0r//MuU/uuLeTL7ys/36f3yOb+QAlmTzocPDy5dkc/9dL9YBr5NyzWOGIi4fbt8fz17ltKXXy7eX/P0skNe/2MqjnMp/a0TB1t+v3x4UE/8m/sL3uc//vurA+55+aH++PdPFsvP/KKUEvUPYf7Fxyn9yQeL9Q/XUf7I05L7T09T+mfXD+or6i2upx57cTelv3l0cO3/O3x3j/usJi+poDKn+4t6lfrj5MmD+vn69YN6686dlB48WLyI+qn0PPgyfbnoMf5asfzMg+rjQ37CFv6H7nl63ln/vE2Lo1u6Jm7H8NH1v/ySEgNsPL/gCl+eg/AEB2U2G2DTpd6awEoE+gQwAd+/f38uUB+EG1yiNW5/+umneVx0vCSAEbo6/+LFi3Tu3LnZb947tjOBXSBgAbwLuViRhovpYjrR8e9BylpGWbivXh0IK4RA3x+Ng9x9/XX/NQov1N0HQfz2MqW/f/6goUtjt+vvT0OlrMCW3WbvvyBsEPZDlyP65R6lRx1UT6RL6ZK8dW4RA0P2OJ+vVUHDi46EoWsR8nM35Dk/H/hcSVc604ko6nM0DhHmefD5b8rPex0hCBAERFf+6zjCAkcm5gEP/Q4969j/9NPlgkCwLTjEEKJXcera/uWn88u+S991cuWe7XS0wIfSFc8jsHAr8Pkl/dIZ11PpVPo19U+Re/LkoJMmRqu0/97rZv/nXUo/XB3mCm91hAjcsuXnX9/RFQdb6h8627ryUMcR49Ehaums0fm+LZ14OO6zEoiuY/TGBMf9RSdYl/d4PPb1nE6nO/Pzp3TUWA6mVio/s3Bq+NDJcOiupqudcb2bDu99ec62Y/kQDFlDvRQZlvbpj7IzgakJDAngZ8+ezcXql/TEHDoJ2C+++CIxfZnfCNjffz/oVNL5kgDGH+cv8dBOaTbdWv6fLvSoy5q3JrBdBCyAtyu/Vo7tw/QwfXz472w6u9CYuJwud4bPKOOHHx41AKgTEW0IMoQgI4+xQRADiuIOf/SiM4sGUYwwi9cFrZXS/3h9MGKixiON33/1zcFoDKM2iF6dQyTLKUB6KhEIUSSUjgWjDMLocho8NMKJKyMnjFrqHFtpCcy+Tq/TJ+mTGVkEb97JwMhpl+vjc/nyos0Q1dkINKO9ihPxI540whi1jCJ+oa2sC0osSseCUYS+ys8H6YOFdPYJNQQlQcs05Yf87yo/QYum9G8fHOUzwpJRVGYEIHaffnEwuqpyQPnARYGnMhAjUDoWjH7yyVFcGelhsI24soWl0sF2oS3w9ucjoY5g/6efpYSoIr4IIkYAFVdGFA/dm/QmfZo+7Sw/T1McwtdV6ahsaziKdOlmLB1ToV2Bzx/pj3Q9XZ/F9aP00UIZoNz3jQIzoi4hwZZy2nV/kZS5QzAxcip2jOIyOoiwZaQ9nsMPdYccI4m6jvJDmaHs9JUfrkVE5/mFrV/uHcw6IQ4Kl210UfwSBrMTuI7y+U8+OSojXMdIMI77jALFjavyqcJWOhZuau6vWJeyz/0FW+pbZrDEMhuKerqT7szv6VwMf5Y+i6k62o/lB9VNfOP9pWOxxysaZQaE2OV86BiKnV3ik1J6kp7M45rXP+dTeAYcxXS2R3u/jw+3Shcf6lOd49bieUddQL2ddziEqjKLgX+awHgCQwKYadESp4hdOR3j+rt378793KGhkCjXBwtr5QKY1Z51TlOeX758OT+WT6WWPW9NYJsIZE/tbYq647oKARqxakBEIcwUs5JjGq0aAaVebgRybAwoDKbgqsHL+TjyID/37x+FvdCA0GgPjaH/WBiJoFGMwKAhVRLANNLkFPnSsUOjNCLVEGLLlLfcIXYkLMNzZsHb1+nrmSg4mU6mM+nMbJ8phiWX8ylNoeviQ5uTZMH38eP3Q6e9qfZzaCsfwS6xKB1byJQDO5Sfc+ncLG2x/HQJfYSjsuDw2bsQ4bz8zNvKTFtlujN5/OeXU/q9MLr4P98cieCSAJYl0qZIlI4dGoWlvCHQDjvLdcVsyjOd7PIzF8BM1dRoIY16pmznjlFMCacggKO3b9I375Wfz1PH6psqBLEwLnNsiIUiFP3NM0Un02x6vzp7VNYvpDAb48jrjKNmK3B/UfZzF+8vkjF3dCJIMCmP5ycPdxCY8iMBjIhV+WG6fD4yzKUcY4o618awVbdQ/zDtuuSY3sx12JCjrlI8CCNM4ZWXxNRf+ZHA4z6jUMWbdclj8sbl1NW5o26LnTqFrExMIabOIj+Vl/wuTi0ulYvSMTJUN4qMxrR38aEjKeeTJQrBG+PK/o8pvAoT/Od88tcWuvgw60n1Pfo+vF45Dz3WF9ixM4GpCQwJ4FevXs3FaZcA5pNGGtVlNDiK5lwAEwYCOH+n+MqVK7PjXgxr6hx2eOsgYAG8DuobYJOedDVcecdQDZ6SUKNxoEbAe9MSQ1p4L5K2DoJMjt5yjtFzXmo8yJ+EJz3rM4d4UANI01rlOW7V2AzTSecNLhpkcmqElY4dtlp4PVLewmsyCmG+VUMyToHWydixwOgJ79HBmamhpXdkGZ3BJnxr+CAeFNdSh4Tio4Yfox9zpwtLLErHCq26WH7YlwhmZDB3CEiNVCMouxyjg4oaZW7mGDmjHCAwJGpKAUiIaDop6VBg8j907LCB/tFHB5cy4yEXvwqKjhwFzzT0mUMkqcyGaZu6Zr6VUGMEM3OxY4EZBbfSrXn5KU4tXkbsYiP3N8RC8Yr+JGB0LqXZrAfKN50hj9PjeZ1SGrHm3W8xo67octQx+JuXFTq6ePcftrzr2+XoHEHI0vkg0cmILdchYulM6XLMKsCfhC5+lZeE0eU04s8ItBxx5Fo65ejw6HIIcuLFNGucbtZKAYyY0wgv7/52uahFSx2RTCHWM4H8035xanGpXJSORaMqP+JDPvXxocMLPoWOJISu4ke5U2dcacR6WT7cxyqf6ojU7Bzq57jmQ85Yg999dXF+jX+bwLIEhgTwjz/+OBfAt8LaABrFlcCNI7vXrl2bX6PzxIdFtTRdmi2fV9Kf3gMmXI0ML5sG+zOBTSNgAbxpOdIoPkxjpQGh0Zo+oYYYVMOAha66HA0NRh9oB8lp2nRJLMoPW6YeM6o2b5gxZZRGJMKnr5HExYzg0EiWk9qKq3EpATFyajUyxJoOGtx4WxCLCjNsYUB6Sg2iKAxppL1ML+cNtdI7smo4DfFBMCCWxYepjcSVhtlcLIY4apeGHNchLuduWT7v9UrMQ0jX0rVZujTtsE+oxYblXCweBTXfo/wwbXPhPXCNliJw+xz5H0f3eNEUQLE3JjbQFVac834IUkUFxn1O0yCJ98wxtZYyyyjwkGPUuuBYkEgNe/ZfpVfz38WpxSgeIkwmy+Vil+N5r82yfNSrhQ2G6YNj2rZGDBm1zjt/gtfZLoPUBEOd0OeYeYHf+QyM//L8SIyWZoLEwP73b4v1BSKTPGGksc9RfmKexGn3pVkHMSzKnQQ34SDasJm/TxyvYZ9rYthMjQBQrIBKolhzcg9BUh9xGX/ozS5HOUXQzTsZM48aUeXextEBQ1nUPb7gPZYL3QDx/pLYjTe/Ki+NyNfyCRFA6BI3ZjFR7uKsCcpldJFPX8cm1+R8NIN73hkTAw771K/cghLO4ZR3TWBlAkMCmM8hSezy7V45HYsC98aNG3O/pfMsoqXjfVsvhiXK3m4rAQvgbc25FeIdRZka1XFhm1yoxXaN2jrLmlfDbEHULHOx3qGLU5uXuQ4/DOXSGokNdkUkCmAEMv4OG2Yl3bCsSfmTMPwwHbXy884G+WWraB1q8Hiqd59oc20cLOq9IJ6EQUj37JQi0sNHQfC+s0SaRodKZUr+Y/npGlGV3/e2aizHqanveSocQMzSoxLBxojoEiJEr01QBULRJyZ0+cKWKc0IH1YnH+mi6KBhjyuVqXnwCIwFtVgY7cUzK3XhTz1YpHskH9kuiY44/T+fOqv7q28WicJe2L767kgAx06OBU8dP7QYWW35wT95WVv/MEuB6/iLK9N3RG/hMKKRnjA6ZeRKAhiVhT86MdLBquoqs9KYunzZbRxR1arjeWfMQliF+2bhvXsJYPmLvUlj+RxGIE7Vprzh8s6YGNc4RVnRiuf79qlfYVuYBNN3mc+ZwKQE+gTw8+fPZ9/4Rax+8MEH8wWuiIAEbBTAfMf37Nmz83P4ief1yaPTp0/PjnMu/mkaNNd5MaxJs9mBNSZgAdwY+CaY6xqt04I2+WJGJd2wbDrUMIu6aqlrNZpWaoAyZZD3yOIfn5TRKEzJwBIRUQMdnTDGRWGojgXC6ZsaukS0ilEhjlw7SgCXQqyISJfI0QqtmlUgM6uUn7mYyAUMef2fny2WAcpD3zTpJSMiFKMFMGU3d5TPWF7Zz6Z2xka8OhYIJp9VkAf93u+xBXlJPtiLU7VZvEsu3gMxDZwfG63ZIlESTTKkLYI450q5YCQYp+tqy0+fAGZ6dG6TUWrKZBTA+ImOmSxMmc6vjaPA0T/7JQGc+anItuzKo58aUWUqsTpeYh7TMTPoYkT6lKbyZCQfyhUdcMw+oLzJqfMopoFzy0ZL4cStBXCk4f11EUCASswiQDUlWe/06tzjbDEQHY8ClzQ8evRoHh5+dJ7PHema+C5xTDeiV368GFYk4/1tI2ABvG05tmJ8f0+/z9/X5L3N+P1HVoHWyF5czCg2IGrNS0wQRpXrEsBxRVc1pLSN7+HlxpaIyOgG+qEtCUMYIgrElgWMxDVfzGiJaOUpmf1elwCmURwXT1Ma2cbyE98BXaX8dAqYfNVflQG2lJGSWzIiypPJBHBc8TbGk33OHTqNqFJWaMyLLe9Vq/yU3nHU9fPt2IK8JB/sxNFBPo2luLLVegL51Nmx0VoQwLGTi04FTTfOufIuMCJYx3MB3Fd+WFm6SwDH0WiFrS3T9bsEMOKXd17lN25JA6K95CoFMAOutS6OqDJzJeYlvyl7iM18avF7dmL5qRXAQ3yCWNZUbcpZjGv8RBvlU27ZaMl/3FoARxreXxeBKIAlPuP2zJkz6aG+8R4iKT8SuOHUTETn5/mEko7F7wXH69g/f/78zJ8Xw8rJ+Pc2EbAA3qbcmiCucTRSjerSNgo1vS6IMOhr15Sipy+y8G5nlWOBIBqJNBqjO0YBrNcp+ZxQraNjQcKwxFPH8u+k6jXksG7FUqbVLoZv7bT0ogGpPlqLPS6ORipNpW0UavE129J70z3mjkRDvmDUP7xSFhOUmYkEcNaZ3hvN2Uk+b4N9ttFpOn8UPdo/FMCxY6HEU8c6V+WN9sYqzagUYniFfY22KV5d27gqr76rzCJjVY7vKotXXMhqGQHMDBKuzctPnwDm/V+tOs0U6uj66h+tMq24xoXQEHhayEvntV1RAMfF40ora8fol/b5DFJX/sXjdND0ulh++h4USrcWHCPQIQF82EEQp2rHuOX7ccSajixVb3oDoDcd4aTWaOCNETsTWBcBRl0RsfkfC1F9//33C9OeYxzlvzRVmZWj8/P37t2bHdNnkmJYcZ9Ft3TtL/PFGqIP75vA5hOwAN78PJo0hnofldFffc81bpm+SmMiCjVWJ9anjIaELK/dxkaYGr2sp9S3WBOJ5DXF+QhGXFGXhm50cQq0Rorjyq/Rr/bVAuoReFqDhrQOCTXOxwVPYscCIxGRqfa1YFCcHs3iKkStlk9cmGxIqBHPvvboDNESfPCn91GHyk8UaryXqPLDa6d9Li8/s1V/aTAjLqLLp0BrdI1Vo7tcbKB3+UlH37seEmp0PFBm5x0QWnFYo4+ywcJITJHV1FetgouI51w2zXmo/ORTi2Vmvj1mARynavO6hMp33GoUOAoRXrNWMYt1xDzeYWfh/mKas0QTK2hHF6dAa3Vt/KrO0KeMGJ2Nbqj88P6ubDJtObpS/YNfRBzuu3MH1+YLtzEirTLAVuEz4tzl1NPV864D9apW6R8SatSvkX2c5szU4ZiH2teIaz61+L0ox/urr8JRp0SJT5wiXuCjqdqUL8UvbimPEsOaHr0KH161pszS0Tj0fjVch55x7zHzARMwARMwgbUQsABeC/b1GI0LFeULXSlG8R2+KNQ05RYhU5hpM7ucbyaqx1yrbcbed9rlpUYEAgJhREMDwTxzNFAlahA/cYXWQy+zTddUxeiHfbW8ewQwQlEj1qSjSwQTBBz4pqkcjTAaXvn7rzrPVqNmcWpoXCQVwdXFR99hZjFfOa1QyqLOC6s8y0M6WBWW88S3r026DJ+ushHMLSxGE4Wayg/ZENelitcSP5Wf+TpAfNZIDWEE5qFgjNfN9tWozqe6Ro+xgR6PZ/vET8UFQTHvlAn+aOhqYWVWjp05Ric1JZfPckkQhetmu+q0Cd8BVsdCLBv5ZWr8DwqRYxbAmqodOznyuMb3NDV1ls4N3V8sYNw1cMDadJRXOoXm7NVpwIhs13ThKCr1LngsP3SOLFt+8Kf6508vDNc/lFE51UkcY8p0l1O51neAS/6WEMBcRjlVme36FA8dmbq/tEB+nMoepw3HqMRPIjEDpNPF+6uvshnJJ07V7hqN5lNhdN5SF2uBLOKr+hNG8Jl3WoXElPggaimLXEf93PWpOjqG5ScE6V0TMAETMIENJRCe2hsaQ0drEgJ85kijuzQOeF+T91Tjt0Vvp9uzXnU1IBjlQ7ThB2GG4FMjiy91MG2X9hl/rOyqUQj8SAATeTUOOE4D+Pr1o+tomOg9K84vfG4iTjdkNWBGc2g88YcYYqqpVgnOF8uihYPqQgxIEGCAFiC/mefM8F3mYhuOhg8iR2kkHVeuHDEg3j+ln5IWf4Ir06ARw7ExyfvU+NH7dPhjlO9ROphuHPkgVmEpm318aJzhn2TxRwONsHQtcVfjjbxZaJPCh+GNPj7hm0XLlB+mUpJ2lR9GaRB2CGfKjz6JRVyHys+CoI/TVclnpg2rHCBq9KkbBAXHo2POI3PbSada/0RA6aYwzlXWwYWgoXiIK0IMgSGu7HNM5zk+d/F9X6a8InYVV6bhxrT8xced5Ucr8RLuUPmZ2Wb6gtIklUkkdayr14pCtCQfPslEfmp093Q6Pctv8l0OkUK9cildmo/EUe+w8B4uTocfur+ob+ZChQXDdK+Tzz9cPZjWLLasvB2nGEsAYxS/Eps15SfOQsE2nRqyl9c/hC/HSK9GgTlO+Xx26+hapsTH87kA5jMmyjdVjtzAOlaYRkGHTCze3GvUHSqzFPNYV/zJn/2eeLeczhTqI/6xCCLv1DIqjGN7I92Y5bH84J/XY3jlY+boxSiVHypK4ktllg+L0jGkDqsuPvH83zxKPJvi84vyRTlT5wpxUf1DuSS+qn8ot0N8eFTotuG+VgcB4cJQ9zrZEOtnnoHUZTo/5vWZA5D+3wRMwARMoCWB8NRuada2WhNQAybfxh59TdHN/XyXDkYxGOHVqKMe+PmWRm0+wkcjFmEmMZZfo98IuDiteMaId/E0qqZGbL7lfFhMaHYdDTMF3LVFABYcWiE2FkuX0y5lhDgucBW5IXjlaETGc9pHLMoxijiGDxo1dkyU4krDbj6iKoNEvuQ5Hgt8FOd8y9RvuaHyw+jJ5cv9ZmGwICgJnGmu+sRQnvfxNyN2+adn4tBPTFvcD0JfaaHBrOnp0Wu+j7CYizQuZuTwr24cCa4Yv7iPoHpxdyYwcqb8juXnZrpZLD90Ys3dUIFFHZVc7H3JE6ffh3zupXvFeNDhIUddUUoPZUMOcRHFhszELWUabb7geBc4itzIM+5TVrQKNAFQfqIIjn7jfqn8MD05Cu/oP+7n3xlmmjQjx9FPaZ9vRjM9PjotRhCB5PvxE2+H11J3xg66/BJ+c39R19CpUsonjr1IB441RVoAACAASURBVODjjI/c78/pcFq43hspGdOxwv2VKvkM1S0gkPDN40q5xdXwOUQ635DMofqZZ+N7z695CN4xARMwARPYJAIWwJuUG8cYF0Yb44qZ7NNjrt5+TCOGcz/0vL9Lh++2MSrwR0q8c4o4YJSBRgGNWR7+9IYjkrscmhQ9gl+u4VrCoEf9PYEWA2H6M0KYRqxGTmgI8w4lIzFxtCdehxKna7/0xyhKT2RpyNDoQZRroSoa5bRN+aaxBg2ZVs7oaOSGYHmejhq1jECU/MSVtok20YFhzgfWLES2ILRCOokLSSVuEsMM/hF30tDZKCMhJTYcy/ggdGMa2Wca4nwkqKL8kJYx5Wf2/iSjZ4yo6fuujBQxMscoWlwhWHxIPIWuK51d8yEPr6ftTj8AozyM/vCHluRYqV0vs7NPHFE2//zy0VRaBBbi7K+/Tenw0zddZSOWH4TIV+mrBf6UsYXyw5A5kSqlk+NdS1pX8KEeYFppLAd07sTRavxQZ0Q/7MeONhhhFvSUUY2m6/6iLOv+mvPUDqOHzAwhzxGPdH7xzjXv+FI2uqZHz4z+fOAnLz/MJCHMUvnhOgS06h+NTFL/kLfkcVyYS/FkS2cIC2HxritimHgSX+LNiDWCvjQlm1kLTDMo5SXHBl76py6lTs3rZ26D2KnAKy55PuWvxjxID97zw/T2+XODjKTS6opr3/1F2pmi3sWHc4d8lnk2MeuG8hjTRHmNzy+yZVk+MSvZp36m80D1M/oextRlZElX/ZyH498mYAImYALrJ2ABvP48cAxMwARMwARMwARMwARMwARMwAQaELAAbgDZJkzABEzABEzABEzABEzABEzABNZPwAJ4/XngGJiACZiACZiACZiACZiACZiACTQgYAHcALJNmIAJmIAJmIAJmIAJmIAJmIAJrJ+ABfD688AxMAETMAETMAETMAETMAETMAETaEDAArgBZJswARMwARMwARMwARMwARMwARNYPwEL4PXngWNgAiZgAiZgAiZgAiZgAiZgAibQgIAFcAPINmECJmACJmACJmACJmACJmACJrB+AhbA688Dx8AETMAETMAETMAETMAETMAETKABAQvgBpBtwgRMwARMwARMwARMwARMwARMYP0ELIDXnweOgQmYgAmYgAmYgAmYgAmYgAmYQAMCFsANINuECZiACZiACZiACZiACZiACZjA+glYAK8/DxwDEzABEzABEzABEzABEzABEzCBBgQsgBtAtgkTMAETMAETMAETMAETMAETMIH1E7AAXn8eOAYmYAImYAImYAImYAImYAImYAINCFgAN4BsEyZgAiZgAiZgAiZgAiZgAiZgAusnYAG8/jxwDEzABEzABEzABEzABEzABEzABBoQsABuANkmTMAETMAETMAETMAETMAETMAE1k/AAnj9eeAYmIAJmIAJmIAJmIAJmIAJmIAJNCBgAdwAsk2YgAmYgAmYgAmYgAmYgAmYgAmsn4AF8PrzwDEwARMwARMwARMwARMwARMwARNoQMACuAFkmzABEzABEzABEzABEzABEzABE1g/AQvg9eeBY2ACJmACJmACJmACJmACJmACJtCAgAVwA8g2YQImYAImYAImYAImYAImYAImsH4CFsDrzwPHwARMwARMwARMwARMwARMwARMoAEBC+AGkG3CBEzABEzABEzABEzABEzABExg/QQsgNefB46BCZiACZiACZiACZiACZiACZhAAwIWwA0g24QJmIAJmIAJmIAJmIAJmIAJmMD6CVgArz8PHAMTMAETMAETMAETMAETMAETMIEGBCyAG0C2CRMwARMwARMwARMwARMwARMwgfUTsABefx44BiZgAiZgAiZgAiZgAiZgAiZgAg0IWAA3gGwTJmACJmACJmACJmACJmACJmAC6ydgAbz+PHAMTMAETMAETMAETMAETMAETMAEGhCwAG4A2SZMwARMwARMwARMwARMwARMwATWT8ACeP154BiYgAmYgAmYgAmYgAmYgAmYgAk0IGAB3ACyTZiACZiACZiACZiACZiACZiACayfgAXw+vPAMTABEzABEzABEzABEzABEzABE2hAwAK4AWSbMAETMAETMAETMAETMAETMAETWD8BC+D154FjYAImYAImYAImYAImYAImYAIm0ICABXADyDZhAiZgAiZgAiZgAiZgAiZgAiawfgIWwOvPA8fABEzABEzABEzABEzABEzABEygAQEL4AaQbcIETMAETMAETMAETMAETMAETGD9BCyA158HjoEJmIAJmIAJmIAJmIAJmIAJmEADAjslgJ+lZ+lGupG+KPx7l94N4vzjj5QePUrp449TOns2pVOnUrpwIaUbN1J6/jylb75J6bvvysG8eHHgD/8nTqR07lxK164d+P/hh5S++iqld8NRKAfedfQ/PU3pn11P6R98mNLfOpHSn3yQ0l98nNKLuym9fJjSv/ompf/3x8HVDx+m9MUXy//duvWe1WX4wG8K9zq9Tl+mLws5+UV6kV4sZeLHH1P67LODvCBPzp8/+M1x4kl+kqbcvX2bEsm/ePGgDFAWrlxJ6e7dlJ49O8jLly/zq0b8JsCaPCEPD91x8qG89vFRHEZt/93jlP4xN8a5gzLL9p98clBeKbf/9sFRsCvwUSDcc99+e5B/Z86kdPr0Qb6Sv9yz3Jc//STfE23/19uUnt9O6cmllP7umZQenkrpzy6m9Fc3Unr9fUr//MuU/utRGaZuup1uF8v6k/SkO1K1fPC/qgNcTZn9/vu5xefpebqZbhbT+Wv6de6va4d7lfqXevWDD1I6efKgfr5+/aB+vnMnpQeh+HSFU3X8//6e0r+5f1CvUr/+7ZMH9e0//Sylf/8kpX/5dUr/4YdykLF+5jqu/0cfHdXPXEv4ufv914O6O5afP71wVH7+xVcp/Zfn+VWr/f7vr1IiXMrp3zl9UG6x/+zWUZmlXON+/rmuDFBefn0/f58+TYm8o16O9TNFhny+fbtcP9cm9Pf0e/omfVMsd4/T4+7gpri/+soPdSFlgHI0geO52HV/vUlvlrLw+PHi/fXhhwd5xHOPevTevXIwr16ldPPmwf3Ifcn9STvq/v2UyGfqWZ6rdiZgAiawKQR2SgBfTBfTiY5/D1J/y4gK/NKlgwcxD+OuPyr33H39dbf/GM5kjTNE7dMvDgQEwrfv7+3PB9GlERIjM7RPqyS4N2+W5/N7oU0Xglpqlwd5V17SwdHnED2ffrpccnmwR4fwQyQN4aFTZGVHC2HIUDxPHh66dfGR/eotjfofrvaXVZVj/OJW4MPl5C0dURFhaZ9Oq8ncmx8PxIPS0rVF9B+679J3nWX9QuqJXC0f/K/qpFZKIEvH6GU6dFfT1c50fpu+lbfilsYznVAlE/mxgtYqhjl48LeXKSE8u/JQxxG20VE//3xz+Dquz8UPovnvnR2+lk6kqRydTgh0padrS4cqjkoyhz70+/XreWzpyED4Dl3CeTorV3WI3K5nyfm0+JxbsLXq/UX5oUOhi6eO00k2gbuWrnWmkw6APsf99dFHy+VJLmTpJ6BdNJSfdFDZ1RP45ptv0okTJ5b6ex3usyFLT58+nYf5iHt6DU7pIo3H6V6+fJkehgEEbJ0/f36W/i9Cu+o44+CwN4/ATgngh+lh+vjw39l0duFhcDld7qT/228p0dOpChwhTO8zvZ0IHUaOdI5tdPjTOfzRC0pPKaKYEUSdYzvZPc6orx6ef//8Qc/9L/cORg1oWMfGDA0qnAQwkeTBzh/dtESMoW4dUwM3CGD4aGQb70N8KurgiHJhn9F8GszkJ42U2IA5lU6l39JvC/7jD0aIxJ1kMGhFXrJV8nSe3mk5Rj51nAf6558f5CUP7qtXj87hZ5I6Uw0sdZfzW4WtdCwYjXw+TB9W8YmdA5hZlo84VW8RBP/wylGZpVHIyAcja4yUxnOU6/9x2FhegQ8dWrEjg/wjH7k3yVeKvPI6FPXqpC1c8J+fHd173IN/+WlK//pOSn/97cGoL0JJ9y0zNQ4do5+fpk9nZf1SurSQl5T7pykUUl3EtpYP/ld1uoHYEh5/glk6Fio9RrNVP3+QPlhIJ2W4y9GhFetS9qlfyUvqW2ZoKC/ZTlH/JEY78/yirFLPMiqaC5sYeUb4lc+EwW/Vz5SJWD//TWh4MqrL6CvXxvLDtYSRxyfaHLuPfcUVIUbHKjMx+GOfYzrPb1wUwPRKUAbiA0LHYo9yyJQofql/GB0kL0v18xTt8nh/0Q6IzxL2f0gdI/ikiwJVqotLz1H8y9GJp1ku8GPkf9nyozAqt6Sj6/46l86lP1JhulNKiQ7rmFW6v3hmfvnlUTNB91jIytkIr45TDdBe4jraRXmHVagKKlO2394tgFfL/6+++iqdPHky5ULXAng1rrtwdSbndiFJaVbRq4EVhTBT8EqOB7Aq8dIsQQRgrMwVBlMo1fPJ+dLIA1OAFPYkDwCm26lBwjQ8TXFWpNhGP7kAjg9pieKoAIgkEQ7HavnEB2SM1th99WyfSWfmjZf76X4xOKbOiTfTn/PRaEYfeKjLjwQw/mjncJwteZs7/KqtH7Ro7m3532pgxcCWPRasfJI+mXGJfLpG1JjiprTX8Anm6ncRgSqz7JccDW75yQXwCD7CyP1JmnNHGVWnVyjqubflf3Mf6lUERvD+2y/vX/t/3h1MiyadQQBHj3fT3XkZV931efo8ejnaVyKX5YP/VR2wKECxMlv2WLCtTi2lESHyYyoP96lKwix1Ue4QyJ98clSuJ6l/fvr8oDwiRJmqWnLqiMSPHPWtyjH1c2mKM7Ny5EcCmPKj0WbKT5gir6BnYf355YNrO8rP3O8yO4h8CW5s/8/CNFn8SAQjwnFRAAt26RgVpiqbQ3+xk5GOOPIuOurnOKNqCgEcw6delABWfUn9WXR991e8l7j/SGc8phlafeVHfigLEztmjpBOpbFP6NMxqGzi/iIPouPZGDtNleWMBOt5SP+Hjsdr4/MmVhnRj/f7CTCqy2it/hByGjl9/Pjx/Djnf88bPD1Bb8IIMCPP/L0oNbh64l5zSqxyAfzkyZOZ7Z95pcNuLwlMX/NuAEZGGvSQ+z59P38IlKbO8gBWJc7IUJfTg5sGtRy9nTw46AxminCXk7CiZ3RlR08yD0wa26XGlQxwnncPJSZKD2kdiwpArc3DY9SnGklDMHW5yKeiDu4Kbn6cd12Vl4iDj9JHs99Mdy85TePigdwVDx7ceuBrCjSzY3Ssb9qdGgKTToFeVsBEf4eJ592uk+nkjAnT3BgBgFfX1FnxQfx18aEjRyxWfjbQsNeUzr5pm4yY0BhnlEvluq8BGllk/ng/W/Hva3TR2YU/ysrKDpEkUZNPa42BM90Uf4yAZ44RGglDOn2+Tl/P8pL8fZsKL9Bl6Z4F13eMc6u6ZcVuyd+hbYSu7mmmp6qz8rP0fgVDY1wjvMzs6HJRa5U6IruuKx6nzlReMtrb5RixReBQJ8tRxrmWckyHR5dDyHKtOkp4N1w2uwQ3Yan88L7uqo4RSWwSD6brdjlN55ZYL4nd0rGYKYfqSDNpKB65+JV5jqtjObxCrtMrbSUMqSepLymH3F/Fd2SXvZf0HNX9RUcCTGGrToNSrOnkwB8zYCZ0zBjR/cXrFapTuoS+XhNR9EtR4TmpOlVToDX7jbz6pdDfp3A0uuwp0CKy2jaOCHdNeX779m168OBBun37dsL/999/n/7Ieja6BDB+JUzfhIYt1yO4+8J89erV/FpSibC9c+fO7JpSHGRHApitjpW28kfYiH3iQ/pu3bo1s/NTWNDj3bt3s7AkgD/66KPZb+KI6xPAcL137176+uuv3wt3dnFKKU/rL7/8ku7evTu7hnjlvHWdt5tDYCcFcC4CWEyJB0Jp6iz3iyp2FrrqctQd9I7GHmmNIA2JIR7ijDqu3DAjcmokMa2yz9H40ruU+NMwbnzK6cF9KHZnwak7mHlQ6WCBoGX5MIUte81iFsYq/+UiIL7PlU8NZaRecWXkvc9pmpaeCXR+cO1hsjsvpYyQ35MsgqW52szjlCs1ujS8VShoeSOujw8mxIcph30u59Pnt/cc04JVZv/jwGpT//u3RdEwkg9xJ500zCgTXY77EfR03qzsWOCKdNLxNORKI20pzaZiquHKdMa88+e9YMUnlotS+VGvTV8P1nuBdxyQsI29eToWextUORam1CB0SSfCF9Gf3+PRMvebyix6qstxH+u1lS4/Sx9nAUGVWS381HUx59VhQ2cPnY5c2zXTQeFwTayfEUpcx7TZIddRfoYue++8RpPD++jv+eEA6Yo26SFUpkjFlgQwvWfyd6ia1Nk8JIZ4jvA86eqkK8Zz4GAUhtSTeefhe5frvil1tsXnKPcf6aSexr367qj8RG7vGaAV/+tR+SmdH3GMGSPcX8yuYAGwOKuEOiU6Bt6URUP1IPdXfG5oVpySHcON+xQX6lkJ53jO+/UEhgQwwvfUqVPzUWIJwAsXLiTehZUrCWBEn/x/9tlncxGHoL548eL8nPxwjHNyiFadi/HUsU+5p4LTcfziStfID1v5Q5hrCnM8z75sIGLzc/wmjjhdn48MI3qZMp1f+/HHH3emFW75NQhui+AZ6o39b+cE8Mv0ct77qWmgv6Rf5sfyqbPxuS0xtGxu6cEx2eJWyxhWw0xTm5e5Bj/0evEgj8ObJQGMPx7oh0/DVfgsG7UufzSO89EhHuiaNplPDY0jf32N5ZK9km4o+Zv0GL0v5EF4KM2m0VGwYqNLq65m04Tgw7tdNHY0egYfMcv5EHeV2Vo+o9MdG4MI3BpXSncpoxiegNdhDxYNZ9IZ+3VqzI7yy5RU7k2mvY50msoe39fT9H9Gcd5zy/KBS+DzXjg1B3jHgNZs7M0rCWDmPlKPhMYRZhjJ1owFVr7GRSFCYz26+EpDNBn9TL7PYk/LitFoPI4csxhajdMCcUNitCbMIb+sH0E6tbjVkH+dR5XSoRo7QeKDQnNh1WscOkFU/8THkII97q2EIfUj9SROnTHxnpvHI6tXZsdV/0QBrPtL04lUfpgF0NjxvjMd/TwTbqWD2QvxnqOzKbrYl6Fsi+f79ku3fZ9/n5uGQBSJ+Qjwjz/+OBduH3zwwWxk9MaNG3Nxdu7cufTbYa9wLoAZEZWI++STTxbE25UrV2bhnj59ejYi+u233ybCRyQiDOWiACYsxOT9+/cTdiUon+k+mbVHDhb3krDlesLTHyJS17GVeP38888X4oPo5xr5ff78efr1119n7/3q2Icffjj7rSnPJQFMuuQfcc9oNyx0LIraPK1ffvnlbNQdO/L/w1CvksB5uxYCOyeAqfSp/HkIxE9rdE2djc/t2hzQw5wwmrkuAYy4QBTHP941i6MMeSRpFA8ohVX45OZqf8ep7PH9wK48jjPuagWe2jVRd9bGdxL/FRHp4qMRNe6BfOqsymwtn9Fpi4vs5IEwehbLK/uMGPcJ5SX4LFGs85is/lsCWAsFxRCZ6pinU1NfD/1FERhXbOUVDuoz/sV7IAa/sL8EnwX/U/yoaAlrNCqfdloS/0RtLfWPBAwCMXd8LijPS6ZCM6IbBTB+omNGDvVxfq3q5zHlh5HZVVyXACYtpCmPK2nvcjGjepRU8/rnML5RGEYRGKfjU58OOt1fbLtcX/mhjORcVX66wqs4Ht9xfpWO8ktCX7MuFOSS2SbvC9uK237hOv9YjUCfAL58+fJMfJ09e7ZztJIpybgogBHJiFuEGyKP6cNyCEYJuriSMtONdZzpv7goChGTcohr+ZWI5ZyOSQDLv7bXr1+f+7kZZsoRd0ZdmVYtRxwU3nf0nB46HctHenMBzJTqM2fOzMJA/EYGCGGFI5sxrZyXi7wiA533dnMI7JQAjqODjBLG7wHH1R9/TkcvvccHQG226GFOGM1cSQAjGLSYic5ryztGPGBLbgmlsAqfksmaYxr9orEc8zJ+TkWj/IRLx6LypFbgqV2zTQJYfBBHkU88no+ojeVTk28LfrsEMGVS78mprGrLojtdIniJjNKMRBpozVyXgOFdTaUr3zJt+tBpKjt5iRhUfl5P1+cCmJWiB90SfAbDqPWwZEs4zlhgcR6lke2VdGWezrgqb6x/ppwO25vELgET3/PO85JVobsEMIIyruAcr+UeQBCp/LCwVnS8gxz9x/3cb7xumf0uAax1JqIt7bMidcnFjNpAAayOF+4v6sdY9jim46WkLRzT/cW2y3WVH9YGEMd8yyJkEzi949x3f0WhHxep6sm2YsyWvO2L1/rgeAJdApiRXYm0KBZlCVHMeY3YRgGs69hG8ci1cVSUd1wRfvwx6qrr2MdFURjf143iFD9yur4kgKPovHbt2sKItK7X541Ibxx5LdkYEsCMTCs+jFpHx2iyzjHSi4tpje8ex6nXpXTFcL2/XgI7JYDj+496qJW2cWrokydHoqn2AaAv1rBqZTOnBycrPcsNCeDSiqJcu4QAjnwO1w6Q1WPdxvcfS3moY3GxJ2ZbSuCVVv7ti7Bes+1r1/RdP9k5NbAGlPiyfPKps2P5jE5fXNwnjiAdowDWa+ws3lb7WsPodDJ1lXuTqazR9QlgFhdKB6vWayq7ynVpm4+aRjPz/SXLz9z/FDtLtoQRtqV05cfiYj1ximb2BsAUMS+HoRXJ6YiJLk7nVz2sLQKY0Vz9jgtZDQlgRoaZOs+1cUEtbB+nAOZ9dWzmC301EMBNXxvifb/sU3p5mdPv/B3ZmP2zfd1ffQ8K1ueAK++DR9cngCk/K7r4jrPSU9rSASAXO43DzFSd7t2yXgbPk4FHVW8YPllPoEsADwkvTWNm5BPXJYA5H1eTjvYkAvOthF4UhXF6doxbSZzqetFgpFk28tFY/CBWL126NPfDdGv86ZqSjSEBzHRlXc+Ide50TuHEtMJSLqY1T5f8eLsZBHZKAGvxK0Z/2c//qXc0To9mkTutODkkZHl1IjbCtEYGqzyHGSPFnOXhMskIhlbUzVeXRARralUcqUCAdLklBDDv3YkP71b2uZxPn9+hc3Eab56P/I4jRnFqqNbeYbXjPocw4tUtCSStCDy0oiVh8spu9mpjn6m6c2pgDbQqWvChzIpPXSKCbxaBkShgBdvo4hRoRpbkr6vDhmuX4MOzSEJ/aFE28nGSjh2N+jATI45eM001ToHWKsEsQHQ4hTUKQ8p1qbzrvdk4PTqinO8vwWfud6qdJQWwpjkzOlVKIyu702CPQp96VQsnhRlwxZhTv8b6uehpmYMs1qaymC/cxmrJqmdZyVv+tOKzRlXz0VnKRJwCrev4FjZOohvRlC+8NVB+lklS0Y9EN6OPcTo1gp1XEZROjV7zaagut+QIsFYEZttXt3BukvonpdmrAxKCXfeX3puN06OLSdX9xbbLwU35W1t+usJc4rjece66v+I3xlkrBcc9o6888H3mPoffw2UWZt64H6lnGQgYeh5yX/YtSNhn1+cWCURBGkXmKiPAvM8bpylrmjSWGfWV+Ms/u4Tw40/xiKJQxwgjisKSOI1CkfeY9S4y8YqLbBEWC0vpnWJEL6OvTFcesiHhKpr5FOhVRoAtgEV1u7Y7I4Dj4lf5QlfKkjhqFqfOSgcifrp6phkd5nMpVPhaaT02tHkelhZp4UGu785mC+ApWnVbjSgxdS6OMsRQuqbiRT/sK+GHPYL5af2Wt2X5rPre/9BCTsQrTqfUAlAcj99d5gFd6nSgUa12jF7d4AGuEX3yOa5LJQ5saefBgU9HHItTxHoEcFwcLM5myOOjUcXIh/ItcdjHRyPi4pOHXfVbC/wwokbDuuRio5Hy2+WW4MOlly8fpJPGXVd5ZA0p8pz87Mrvrmi8d5zRbU3p/stPF1ezjp717U+mvB46CcN8tF7n2eodvuJiPdHjknziJSvvLyGAu95xjrbje5paIIvzqj8pt2E9pXjp7DN0qp/D618Lfpb+gRjU6CjisKs8xtWiFbg6QhBAjBh3OQkkfVqIjiKVHzpJYidKDKNQfuLpqv34vXieK1EEx4Ak6kvvt8vfkgI4emPl/VLHMcdYsJz8Zq2tVZ3unfz91xguU6IRyXGBrHh+vq/7i22Xi+WHctRVfrpeD+kKt+c4az0Mifjf0m9zP1ogiyC1aCC8mT1T6pjg+agRX3Uq8tondSfX0eEcvpizEFPNyBnqlF64yD86CXQJYC7QqCjvskbhGIUpghaHaJOw1bu9eueWVaT1CaSSP13PYlSEJ7Eb7egYfofEqQQwU6X1LjLiN65aPYt0Flacqsy7uUpPSWQPCeC+d4BZzEtha2GrmFYLYOXOdm13QgDzmSON7vIQ431f3peLi2DRoGLUQQ8JRolpePLgQLjqW3hU5lT0PBRYmZ0/HtQaheC8BDBZzagxx/ijMU0vqq7j4a22Ieen+ArJbJqdeuRpRPENQaaw0fDij/cK+ZSGGlgIi+iYG8zDmz99oJjE6VhB8cAnpmOIzyorfD5MD2f5px578pUpWy/Si3kq+LYheUljBX+MGPFe8LP0bPbw1rcmYU4SEXrKE/aVbM4frgcxCzu+D8WDHRGo68hnffaB6yYVwERC/KXCiaSOqcWRUsr5fJg+nPF5no7e8+ZVgJwPv8fwIf0rO0aw1LinXCKIGT1TmWVkCXGsMps3GCv4KK40zjSyQX6Rd+Sh8pO8VeONbe3rD7KzsI3TVZmpgWBQGkmv3vMknX/xcWItAsqtRncpz+RTfEePPMMP+ax7glEsysHcsdiIyspA+Zlfs8qOevVkU5UjlQTHuAFDJcmoWqyfGYmifo4LtN1Jd2ZpP51Oz9LJKBb3PZ2WCCKJW/KSWR7UrcpL+opiXte+/lBEEaerMirLFHflJVt+c1xlVoEwEizByLknlxbrZ6a9x/MSwFwfR5S5HxhFlk2VH91HoQNFpkdtNSOBuBIv4iebiGLiYESeuwAAIABJREFUrzTmApheIz7FRZ7HDOJm4xgPzsKwnz45R15SzfHOvvIyr5+HZh31pVn3ju4vzQzj+SHHc4VyFssn7YcHKcxWYbVrlXXdX2x1LHtfcBb2UPmhk6xUfhSxii33jmZPUEfo/orTuenwp27hvsIP9xnpZqEs7i+JW/KE2zi/v5RszscOJs2c4jjVAHmrvCTvYrgWwBWZ2uO1TwDHUVze+eV9VT5npBFV3pPV4k5R2EowIlT1CSXEsJwW19Iq0LzzqxFU7Ghl6SgKxwjgOI0ZW9iIfwhubCk9fNoJQUp8tCo1QlXpIf5RUJMmRphxin8Uxox8S+jC6quvvkq8f6xjV3m2HbqYVgtgUdmu7U4IYDUM821sSOohmPvRw5BpkJqeRWVe+qOhnD/raAvSsFZjunQdx6j8h6YJLV10eH9SIxRqnJS2NF5yMRHVYSmyJKTgEAjL8OkaoSkEWTwUG/oxr+KIUFzQLPq5mQ7eqeSBrunppSTqGPV73tvNCEVsTMtv3NJAWHnEMKZeAiIaifs0Lg9dbKjFtMcefa14Hs+zH/lohCWayfdLfBSP6i1T8aPILZVXjtGwz0e/hjIk8InxYgpl7NjK08dvgi687hODWX6fkR99D7grfRyn4fvibrqRbsxFbcwrBK+cvmEez7NPI3fuYuu0lEgU45SOoZ6SnXgsNJ6G6l6ipo7JPJ2azUPdGTugointU3UV+u/Gp5wp+1GkdOUpYiY6pkkzctzlX8epw+MChZQffQ9Yfkrbw/ITTY7eR7BHEVyyxzHu3XxEW0N7yoDSNrwbpzhS52pWUekSHaMOpy4f66jv8vKU3ztx8bnol+fQ3Om9GkUs33bdX2PLz9zwcjtd91fsJEP8x/RpX4skcn/RRsmTlv+mrZM7nvlD7R/aDpO1f/II7NnvPgEMCsSgRKyEG1tGh1+F931KApjr4+JT+mQR1yE2Y3jsM9KszwpxbRSFYwSwRGluR7+1gFdkoHMIVU2N1kJVxEmfTJI/rcwsW1EA4//WrVtzga1r2PI5JHUe5Gm1AIbI9rmdEMCP0qOFVR2ZzkSvKFNF5RDDceVH9hFV79LRE5YHM6MHiAOeaVTqtC2pvOnNDHWHgp1vGXGi1xS/XMO1hEGPaFipfe5/5R0aS0yBZvSMxhaNIv7YZ+QgLpIVjfESD93stEBKfz1qAD6cHsMnRqFv/6f000wYxLz6Kn21MFpEzz6Nm+gHoRB7vLHBFFdGF9BHaEz+6JHmGOe6HA9q2nY0CM6ePWgUIKQY7KADpDStuiuspY5TQIhUKT/Iq9CIZKEThFNMe86H0eASn/hZDOIlPjARH1gRjT4+S6Wp5Alhy7RRBAOjTYxm8c4sC8Aw8tQ1PZoe2y4+HA98crPkFdO+yTuJYfKUvCWPj6VRxieOnt9Oifd8NVuDLeKedz0P3/EkPyi3MS/Jtziazygp+Zv7oRzM3RCfMBo7v2bVHaCWyivHmLMceoiWqXv53FNerhk5jvUzUeZWoU7N62fq3kne/825kFfkGbMWNHKLGCRvyWPEbslRP9PpQ11MnUw5p7wjeqmzOYefklP5YTGqnvJTunT0Md5P5h6k01QdVaSXkW7uWd4Lzh03Dw/GrnKAMsp7GEMYdFBx+1L/0BFFHaT6p+eWDiH07/I8KN07PD/kuL/oPIz3F+WQ59Dccf/01T999xflh/UN8vIDZ0b1u8rP3PjwTun+yu8d1snI7y/SHWfJYYnXRei70v1FvtCmGbq/aBvR+cSrJ+qPo6OYTgxGjHuKwXAC7WOBAKsrIzT5i4IsemLVYs4jFPljlJR3Z6NjirTCicKYEVYdlwDmOq4nHIWJH438KlzC0bUxbuzreLSlY1oxmhFsHSttNXqLPYS34qJVmBGiXKdPFeGPqc1M8cYv4lf2ZSsKeKWD6d90JHANU7wjB/mJaY3TzWNalS5d4+1mEdgJAbxZSB0bEzABEzABEzABEzABEzABEzCBTSRgAbyJueI4mYAJmIAJmIAJmIAJmIAJmIAJTE7AAnhypA7QBEzABEzABEzABEzABEzABExgEwlYAG9irjhOJmACJmACJmACJmACJmACJmACkxOwAJ4cqQM0ARMwARMwARMwARMwARMwARPYRAIWwJuYK46TCZiACZiACZiACZiACZiACZjA5AQsgCdH6gBNwARMwARMwARMwARMwARMwAQ2kYAF8CbmiuNkAiZgAiZgAiZgAiZgAiZgAiYwOQEL4MmROkATMAETMAETMAETMAETMAETMIFNJGABvIm54jiZgAmYgAmYgAmYgAmYgAmYgAlMTsACeHKkDtAETMAETMAETMAETMAETMAETGATCVgAb2KuOE4mYAImYAImYAImYAImYAImYAKTE7AAnhypAzQBEzABEzABEzABEzABEzABE9hEAhbAm5grjpMJmIAJmIAJmIAJmIAJmIAJmMDkBCyAJ0fqAE3ABEzABEzABEzABEzABEzABDaRgAXwJuaK42QCJmACJmACJmACJmACJmACJjA5AQvgyZE6QBMwARMwARMwARMwARMwARMwgU0kYAG8ibniOJmACZiACZiACZiACZiACZiACUxOwAJ4cqQO0ARMwARMwARMwARMwARMwARMYBMJWABvYq44TiZgAiZgAiZgAiZgAiZgAiZgApMTsACeHKkDNAETMAETMAETMAETMAETMAET2EQCFsCbmCuOkwmYgAmYgAmYgAmYgAmYgAmYwOQELIAnR+oATcAETMAETMAETMAETMAETMAENpGABfAm5orjZAImYAImYAImYAImYAImYAImMDkBC+DJkTpAEzABEzABEzABEzABEzABEzCBTSRgAbyJueI4mYAJmIAJmIAJmIAJmIAJmIAJTE7AAnhypA7QBEzABEzABEzABEzABEzABExgEwlYAG9irjhOJmACJmACJmACJmACJmACJmACkxOwAJ4cqQM0ARMwARMwARMwARMwARMwARPYRAIWwJuYK46TCZiACZiACZiACZiACZiACZjA5AQsgCdH6gBNwARMwARMwARMwARMwARMwAQ2kYAF8CbmiuNkAiZgAiZgAiZgAiZgAiZgAiYwOQEL4MmROkATMAETMAETMAETMAETMAETMIFNJGABvIm54jiZgAmYgAmYgAmYgAmYgAmYgAlMTsACeHKkDtAETMAETMAETMAETMAETMAETGATCVgAZ7nyxx9/pGfPnqVvvvkmffzxx7P9zMvW//zll1/SjRs30oULF9KZM2dmW36/fPly69OWJ4C03rt3L3366aezbX5+23+/evUqffXVV+nSpUvp7Nmz6YMPPpiV20ePHiXK8q64p0+fps8++yydP38+nT59Ol28eDHdunUr/frrr7uSxPfS8e2336Yvvvhi9vfw4cP3zm/rgRcvXizUP+fOnUvXrl1LP/zww7YmaSHelEnlW2nL/fr8+fOFa7b1x2+//ZZu3749q394lnB/Utf++OOP25qkwXj//PPP6fr16+nDDz+cPz+//vrrnalvaf/cvXt3dk8+efJkkIc9mIAJmMA2ErAAPsw1BAONMBrXJ06cmP/R8N4lR0P65MmT8/TFtJL277//fuuT+9NPP6XPP/98JgZj+ujU2CX3+PHjdOrUqWJekm4E4y6IYIRuzMe4j+DfxY4bBFK8TxFSu+AQSzH/8n3yetvd69eve9NImumw2naHUOL+y/NQv3chL2MevXv3biZ8lb58izDeVofQpeOCToyYLtpFduslQH1CO3SZv99//33pyNJ5pTDfvn279HX77DHmRSsO5I3yqSZ/W8Vvm+1YAB/mXqz04z4Fb1dcbFTzoPvyyy9nI92M/kpIIYK3vTLMH+LKz10TwMoztggk0qfRGKX5/v37W118v/vuu3mDjMY2jWrSSQeHBCKjTrv2YLhy5co83eTlLghgZmOoXMb6h9Ez8lDntr3OjQKYMkva4h+zF7Z9RJ/7jZF78oz7kPuR+5L7M4riXRlBRPx+9NFH8zLKbBuen+QjHY3MFkNQbKMj3rr38q0F8PpzlPsqz5eu39Q9yzrqWYXjfF6OWsyL5a5Y3Rd5o3yqyd/VLe9+CBbAh3n8ySefpMuXLycaYzzUVOC2vTEWizCNFNJF4zMfNaP3WoKCm3ybHQ0TGpk3b95MjJKqQbbt6crzhB57GtYIi+gY9VVjjTK9zY58pMwyXZ9GaHTxwbAr02dJXxT9qod2QQCTf5RH/vJONs5JUNEht80uCuBden7EPInPSOrY6BBUTA+m7FIP7YKjrtW9SPnM66JtTyPpY1YC0/OZBaa0WhitP2ej6FK+dG1rBJIFcH3exryov3rcFbGdU5O/46zt11UWwIX83tUGDD3VVJyI/JKTaNqFxnZMn0aXdk0AxzTm++QxeU3at9mpIY0oLDlGYkjnruQt4kEdNqRdI8G7dk+W8pJOSPLy6tWrpdNbc2xXnx8xAySAuzrYNNV92+sf0hwFIZ2q++C4D/mzAN683I4ibBVBZAFcn7eRff3V466gs4185m8XXmkbR+F4rrIALnDd1QYMNxKVXukmouEtMbFrD/l9E8CUX4koRMU2O0YKu96tYxaDGmosdLYLTh0XpIuFhJhayf6uC2DyWFP6t/3d0fj8IC3Up+QjHZCU010ZPSTP8pF83YPqzGDmxrY7OmS4B6lTd+1Vi668Ub1qAdxFaH3Howijrik5Om2ob5hBRScVs+LyWX8lAUzbEL88b/iL9zfXM/tBYVKv5WFSJ+hawmIxNTpxNSPvzZs3peguHKPOJAzSQPgsOEc9Qh364MGDBb/4kb24ICbX6bjiGI+RLl4PY9CHuDHzgXqZdjD2mQ1BvKmvY3s5sseeZhsSDmmNfhVRZqcxw4IObdJw586d916X4FriS8cinf3Yp95hnYXIVGmMaeEY9yn+4QSvfFYgceEVSLHEL+xi2IrvPm0tgAu5HRswVBK77rhp1WBRw3uX0rwPApiKmsqVilhCgintu1p+eYBR2VNeSWdXQ2CbyjEreus1BHVckKekkYfjrjkaHaSPhobSzRoE256X8fkhIRG3TPVWo2zX8pT0sHq50kseb7tTfUrnFPWs6h3ykcbyrnRoxHxS/lkARyqbsR9FWF5X0pbTq27KQ22pY+M7+SUBrFmCXENZl2Nh0XyBWPxwDBElR3mRPc0o1G+2tMWGOpHUXistSksYiEW5LhYxbWoDxWOluPEs0r0d4xxnTEZ7Jb+EEUVw9B/D5NrYuaDnPMf1LMQ/X0yITJXfMS0xz2SDfImdDXSmx3DlL3IQ033aWgAXcjs2YHTzFLztxCEe3urh5qagh2jXnCpUKqNddWqkqWJju+3vUnblVRS/pJMG9y44Hvikh7xEDOP0YNw1ARzr2Fhm8x7+bcxXymdME40aOjTo1ddxxBOjDbvmYoOPdG+7OIzlVDOklIfaMoK0a3mptFkAb94dGu8xCSLFklFN5R11DsKHEUW1gRBB6nyLIop8pjNH10aRiWDVjDLuaUYlEWYST9RlEn1RrHEc+9jTs43wOdbnFFf88tzjekZR1cYhDnJdLGLa1IaPx1gHh84AwlY6sIdt/DFaqjSTDrloj3gg/hltjWsEMIqLg5F4ch5bpF3hxme6nvP4Z8QeOzofmSq/Y1oQu6zDQJuBUXnZVLuIvJFN/JJu/Oo1FflXGvdpawFcyO340NPNU/C29YdoqOkdQ24CepJUkW194kICVKFSqeyqQzjwkKFSVoWW9/juQtp5iPBAUhp3YYSJfOEBrzTxYJLTg1EPQx3fhS3ppPMt5icPaBof2+6oa+iAohEUHQ0V5XNsZEY/27jPcyM2vqiH4gjHNqaJOMe2gPKNBjNCIzZ6d+3+VFotgDev5EYRJkGkWKoupVMmtuXiCvxM28VFERVFYP5Mjc8mRoLlosBTOzmKtTjazHXLlim11xBtMQ1xpFNx6GIR06a4xWOxLUjbqRQ37mkdL9mLI990gPHswr9mb8GZ3wj3OOqtGTLxuJ7z+M/zNDLVuZgWplTLMR1acVY+Ek8dy585Md8Vxj5tLYALuR0ferp5Ct62+hBCQgsMcXMwbSZWNluduCzyqlBjpZd52amf8fuc9HTuyugE96IeMpTZXclPHo66F8kvGivUQfypg4qHf3yI7lSBTWnWg628ZaR0l51m3NDo2QXHKC+NPjWydkX8kjdMI1S62OazatRIprNR7+ftQp4qzRbAm5ebXaIvzjyJ03aVAnWOa+G6KKKU32zz5yoCS+d5DlHm9afjmi4dxRptTDlGHOV3qEypvZbXj7rXCEeui0VMm9rw8ViMQ4yz/BJ+XI+jZE/HtNWzmvjjJGp5rokXW9X/pEPv6spvHG1WuDF+JQEc08I14owtXLw+po9zcRR45nnP/jsqSXuW8L7k7roApjeOhrZulFJl2cdn286pQs0r9m1LR018Y2Ufe2Jrwtgkv0wr0jssbDXNaJPiODYucVRQ92RpS4/4Lotg9YyT9th4Gst1U6/TVEM1lDY1nsvEC4EYp3bTkNv2ac95ujX1snT/xZG1ODqWh7Ftv1X/5I3rbUvHLsa3S/TFdmuprYPwJV8RwrjYRuC42oSU9/j+aLSncpFvZS+KLYk1bMW4DZUptdfWLYBjulWOSsd0TiJW9bp+56zibwlS+S11/paYxrzL6x2Fv4wA7kuP0rXLWwvgQu7Gm1UFtOBtKw/lQmIX3rkbyghVqKqkh/zvynlVhEMPnE1OL7MSYk8sval5hb/J8V8mbvEBpzwrbWmg7Jq4iHyimNi1ejemk3UWyN9SYyf62/T9ONOE9JCuXZxFpJEdRm5yF9sKu9DRqPSp/tnmZ4fSsmvbKFqiyKRzVJ3EjNRGxznNsGHqPi6KKAQYold+4lowjO6qPAx1TMZnWYxbvE+GypTaa8QpOgSd4qHjXSy4F+VXz5KY3hiHGGf5JfwYdslezkLxpr7A6RUJOs6GnARwnmaui/ET05iWGGf8K90SwLx3rGO8uhFdfDc7Ht+XfQvgQk7HmzUvXAXvW3GIhgnvBOhGoKIrLUYQe/62ImFLRFIV0y4JYIQQQrCrwRkrzW0VjPnUSvJRU4aU7aR/2981JP7UM6U/ja7xoNr2KZZKp/Iu38aOjm3NU8oj08q6vlvNs0UjLfl02pzHJv8mfRoZ5ZlSqlspr7swY4H35vTczN9Pj4sO5e97b3L+DcVN6Y1CYegan29DIAozCSJZ1qsICGE996mT9D4q+aq6iedNns8xbDq4cAg9+WP2ihxln4XhEG0Sg7HdEeMW29RDZUrttVwMlgRwFOd81gdHeqOwUxu+lF78xzjLL8cji1nA2TFYYwsXZ3FpDY9YN8S2NsKYV57opND1xymAaUfpmYMYJ1+pl2O9Rv7uo9vPVBdyWt9qpCCqx5dCQQOUY/zxnuy2jsDEm590UckoXdqqsR1fqi+g2vhDTKVUmtiqoRbTTAWplXY3PkGFCGoUiYqUhxKVNX+IiPiOCdOdVMkWgtnoQ/HBRJllYY+Yr+zrvSY9/DY6QUtGDuHAQ5L0xQeXFi9ZMpiN86b6hal4NBJUZim/5C15zF8+erFxCemJUBx54DnC/ah00oBTftJA3WbBpLxiS5ry+5LfpJFFVrbdsYaC8o0t9yF5SgeGRtwov9vsuAdjHip/qV91nDpp2zvhtjmPFHfKnvInikzOI0Q1iosf3imNq5drgSb8xjahRCnCSAtp6V1h/EbxSb1GHa2yT72uNkZ8Zse4HZcAjrOGaOeRPtpEkYFEbSm9pC3GWX45HjnzG6djsU0Z9QKs1XkLS4l5WMGMe0l5FzsTdJxt7mL8xDSmJcaZaxW+RoA5FjsKdF7lQ79zu/vw2wL4MJdVCIa2ceW3bSog8YYZSmO8cbYpjYqrKvChdG6z0I+jZV3phIN6ZsVmm7ax4u9Ko47zYNoVh5hXuvLtNjdANTqRpyn+RkioAbGN+Un+RDEf06Z9GkNaNGYb00iclZahLWndBcc9qQZ/nmYa2/nI8DalGfGSp6nrt0YPtyl9uxZXiTDySIIoppGONQkq5SOCDcEloYr/2CbkWSsXn7s6zsAPg0T5PUBne6yv47UxbsclgIkz7bgYLzpt4jNUAnGZ9Mov4UbOYqNjCFteJ1THGJwR3ho1l3/SXcoLOtFiXsjPcQlg4sOItNrGCHUGipQe4r+Pbj9TXchp3oVF+PX9MWUgFtpCMBt7CCHUl7Z4btsXGGK6Cb3zMU35Pg+DWHFvbMb1RIxKnl7F2ONJBceoC2V121d/prMpz7eu37DYFUcdw0M9T+u2Nz5JF/UsQpgGBI0W/tjnGOd2YcosaYjppHGBSEIYUy9t88iv7rG8bPb91jXbvqVxS33LNEI1eBEFsaG/rWlkCmdfHnKOWRvbOgNuW/NllXjzOhuCjufoVPlGm4LwCHeTyj0dj8Spdd0KV3jQAdanDWJetG6X8TwijqXXG2kHU5fRQbKPzgJ4H3PdaTYBEzABEzABEzABEzABE9hZAoh0jZDTEauOCwbFNEV7F15VGZOBFsBjqPkaEzABEzABEzABEzABEzABE9hgAsw8YqS362+XVrCvyQYL4Bpa9msCJmACJmACJmACJmACJmACW0CA6dm888uCZXpvmfeAWQw2rlC9BUmZNIoWwJPidGAmYAImYAImYAImYAImYAImYAKbSsACeFNzxvEyARMwARMwARMwARMwARMwAROYlIAF8KQ4HZgJmIAJmIAJmIAJmIAJmIAJmMCmErAA3tSccbxMwARMwARMwARMwARMwARMwAQmJWABPClOB2YCJmACJmACJmACJmACJmACJrCpBCyANzVnHC8TMAETMAETMAETMAETMAETMIFJCVgAT4rTgZmACZiACZiACZiACZiACZiACWwqAQvgTc0Zx8sETMAETMAETMAETMAETMAETGBSAhbAk+J0YCZgAiZgAiZgAiZgAiZgAiZgAptKwAJ4U3PG8TIBEzABEzABEzABEzABEzABE5iUgAXwpDgdmAmYgAmYgAmYgAmYgAmYgAmYwKYSsADe1JxxvEzABEzABEzABEzABEzABEzABCYlYAE8KU4HZgImYAImYAImYAImYAImYAImsKkELIA3NWccLxMwARMwARMwARMwARMwARMwgUkJWABPitOBmYAJmIAJmIAJmIAJmIAJmIAJbCoBC+BNzRnHywRMwARMwARMwARMwARMwARMYFICFsCT4nRgJmACJmACJmACJmACJmACJmACm0rAAnhTc8bxMgETMAETMAETMAETMAETMAETmJSABfCkOB2YCZiACZiACZiACZiACZiACZjAphKwAN7UnHG8TMAETMAETMAETMAETMAETMAEJiVgATwpTgdmAiZgAiZgAiZgAiZgAiZgAiawqQQsgDc1ZxwvEzABEzABEzABEzABEzABEzCBSQlYAE+K04GZgAmYgAmYgAmYgAmYgAmYgAlsKgEL4E3NGcfLBEzABEzABEzABEzABEzABExgUgIWwJPidGAmYAImYAImYAImYAImYAImYAKbSsACeFNzxvEyARMwARMwARMwARMwARMwAROYlIAF8KQ4HZgJmIAJmIAJmIAJmIAJmIAJmMCmErAA3tSccbxMwARMwARMwARMwARMwARMwAQmJWABPClOB2YCJmACJmACJmACJmACJmACJrCpBCyANzVnHC8TMAETMAETMAETMAETMAETMIFJCVgAT4rTgZmACZiACZiACZiACZiACZiACWwqAQvgTc0Zx8sETMAETMAETMAETMAETMAETGBSAjsvgD/++ON04sSJtfx98803k2ZWV2DYWVca4dvK7Us6XWaP9351mZ3+jt2HMgu1fUjnvtSz+5LOfSiz09doDtEETGDXCey8AEYYrsO1ttvanpi2ttva3jrSuQ9phKvTqdJ1PNuWfFvairRa221tT2ltbbe1PadTBKbf7kteTk/OIZqACewygfWow4ZE96XydzqPt1C15NvSVqTW2m5re0pra7ut7a0jnfuQRrg6nSpdx7Ntzbe1PVFrabelLaWP7brsxjh43wRMwAS6CFgAd5FZ8Xjryr+1PeFpbbe1vXWkcx/SCFenU6XreLYt+ba0FWm1ttvantLa2m5re06nCEy/3Ze8nJ6cQzQBE9hlAhbAx5S7rR86re0JW2u7re2tI537kEa4Op0qXcezbcm3pa1Iq7Xd1vaU1tZ2W9tzOkVg+u2+5OX05ByiCZjALhOwAD6m3G390GltT9ha221tbx3p3Ic0wtXpVOk6nm1Lvi1tRVqt7ba2p7S2ttvantMpAtNv9yUvpyfnEE3ABHaZgAVwT+5+9dVX6fz58+nNmzc9vsqnWj90xth7/PhxunTp0iyNN2/eTO/evSsnpufoGLs9wQ2eGmvv5cuXs3Teu3dv0EbJw1i7pbCGjo2x9fbt2/TZZ5/N0vjRRx+lZ8+eDZl57/wYu+8FUnFgjD3SRfq4L0kv6a51Y+zW2oj+x9h79OhRunjxYvrwww/TrVu30h9//BGDXGp/jN2lAi54GmOL+oZ6h7wkrd99910h5P5DY+z2h9h/dow96p5r167N0smW37VujN1aG9H/GHs//PBDunz58iydN27c2Nnnyd27d9OFCxdmf+yPcWP4jrHDNavYoh7i/tyG58lYPr7OBExgPwlYAHfkOw82Hhz8vX79usNX9+FVHjrdoXafqbX3888/pzNnzqSffvpp1iDjUwk0Wmpdrd3a8HP/Y+zR4KTBwrV8+mKMG2N3jB2uGWPrypUrMzFBWaXRcvr06WpxOMbu2DSOSSdil3SRPtJJeSXdtW7T0/nkyZP0wQcfJO7RFy9ezDqpxpTblukcY4v8QxC+evUqIZ7IW9Jc48bYrQk/91tr7/fff591Yty5c2dWZtmeO3cucbzG1dqtCbvkt9Ye5ZT8Ix/Jz086j4NOAAAgAElEQVQ//TR9/vnnpaB7j9Xa7Q1siZO19u7fvz97lpBeRCHikPqo1tXarQ0/+h9r68cff5zlKdc/ffo0BrnU/li7SwVuTyZgAiawIgEL4AJAGtVU3idPntxZAXz9+vX05ZdfzlP/yy+/pFOnTlX32rd+yNXaoyODdCkvxwgJINXanYMdsVNrq5R3CAsa2zWu1m5N2CW/tfbIy6tXr86DQkTQ6KYxWuNq7daEXfJba4/OqG+//XYeFJ1UZ8+enf9edqfW7rLhlvzV2mL0l3uSsivHSDf1Uo2rtVsTdslvrT0EIYI3ujGj3bV2o70x+7X2GMmPHajMmiJ/a2do1Nodk7Z4Ta09BC8zp+QePnw4G/XW72W3tXaXDbfkb4ytL774YvbMo37legvgElkfMwET2GYCFsCF3GP0hel4+oD8Lo4A0wjLe653cQQGwcRIBIKCB/kuCmDykans0d2+fXs2ChOPDe2PaSgNhdl3vtYeU56//vrrhSCZckkjtMbV2q0Ju+S31h73IaJX7tdff52V3dpXMWrtyt6Yba0tRs8QSNFR5zJTo8bV2q0Ju+S31h71DaOh0SHyeb2mxtXarQm75LfWHp3GDx48WAiK5yijiDWu1m5N2CW/tfbwzwi3HJ1vtWFw7ZhrZLN2O8YW9yFll+cI11sA11K3fxMwgU0nYAFcyCFNT9tlAUxPdmxkg4Fj33//fYFI96ExD9fu0IbP1NrTe82IRK7dRQFMmiir0ZWOxfOl/Vq2pTBqjtXaI415/pWODcWh1u5QeEPna+3hP39PlGO17+HV2h1KR9/5Wls0qKlvoisdi+dL+7V2S2HUHKu1x6goo2nRMfMmPxbPl/Zr7ZbCqDlWa4+8zDtUS8eG4lBrdyi8ofO19vD/22+/zYOlc5xju9Q5ReLUBqK+JX0WwPMs944JmMCOELAA7snIfRTATNmrcbUNiJqwS37H2rMALtFcPDaW7WIoy/+qtVcSu6VjQzGotTsU3tD5Wnv4Lwng58+fD5laOF9rd+Hiyh+1tkpit3RsKBq1dofCGzpfa88CuO792Fq+Q/k1dL7WHv5LAniTp3rXpjEyswCONLxvAiawSwQsgHtyc5cFcGkKNO/KbvIoE1k19mG+ywKYqaP5FGimCjNluMaNZVtjI/qttcdU9n2YAs3idHHEZV+mQHOPUi/VuNoyVBN2yW+tPd7DL02B5n3nGldrtybskt9ae6zMnk+B5r31fJZRyVY8Vms3Xjtmv9Ye/vMp0PlU/mXiUWt3mTC7/KxiywK4i+r6jlP+eOaTN9QvLJrIM2LdjtkQPLf40wyCGKeh89HvFPt0VCk+fdu8s3kK28cRBp1sSoc64WIadew4bO9qmBbAPTm7ywKYKXj7sAiWsneXBXBpESzefY4LKYlD33aVhlJfuF3nau2RnrgIFtPb6bSJCyl12YrHa+3Ga8fs19rL8660kNIy8ai1u0yYXX5qbZXyjvooLqTUZSser7Ubrx2zX2uPd2DzRbD4tFVcSGmZeNTaXSbMPj+19hD0Me+0CFZto6zWbl8aljlXa493Y2PeIfoR/7Wu1m5t+NH/KrYsgCPJ9e4jgOjUJj/zP56D3IMl4dkq1iorxK20bs7Q+WXjSQcAi3wOOcRizqn0u/Z1lCG7x3VebVjSQNpwMY06dlz2dzFcC+CeXN1lAcziHYw00XuIgOAhXrswC+i4GVu6sfZUeVAJj3Fj7bayhWji4cjDgU91kLebPC0PLrVMSQ/pIn2kk/Qu8yDM86DWbn597e9aewhejZ4x7ZlGd21nxhi+temK/mvTyLUIXuod6h/qoV1c0ZvvN5N/pJUyy6JCvBtb21AdwzfmT+1+rT11wiEOGVHh2RkF8bL2a+0uG26Xv1p71D10YDBTigYnC31FQdxlJz9eaze/vub3KrYkWsY0rlexW5O+ffDLCC/1CEz5Y9YBvymLOsaW+nTMN+OnYKiyQjyOSwDT4UTasTHkojiMjPJ9C+Ahkrt7frgUbXnal7lRupLIZ1e4OcZML1nFbld8+o6PsUdDm4YK0w6ZWjqm4hxjty8dQ+fG2uP7ouRl7SJfis9Yu7q+ZjvGFmWUBicPRaZc1r4vSvzG2K1JV+53jD3SRfpIJ+nd1XuTKW6srMvU9jHit3V+jslL6hvqHeof6qHaFYNbp3GsPRqDTN+nzLJFCNe6MXxrbUT/Y+wx3ZmOOPKT0SgtQBjDHdofY3cozL7zY+zdu3dv9ukjVqCnY3WMG2N3jB2uWcUWz0uem2Omia5id2xad/U68gCe/H3yyScLndvUJ/p0J+drP384FbMWAjhyGIp3FMBj79MhGy3PaxCHPFaHFB2pPF/4q+1UbRn3TbVlAXxMOUMhbela21PaWtttbW8d6dyHNMLV6VTpOp5tS74tbUVare22tqe0trbb2p7TKQLTb/clL6cntxkh6nUC8pER35LQoSOY2VH4YfaQBjPUgaHp0YhjOqnocGQ2SukVBQZGmF2FH2ZY0eFTspnTWUUAM7uL+ChudHLTCax0YIsBqTjijRjmWJcbI4DhRLhwo2OBTnY40OnQJaKZAUJ88Uf8SUdp9h3HYNSXRqUFQcusIeUBtksCmI4p4sufOqkoC/EYHcvKTzpgS+v85PZgH8MeM9CgtGzytq1KWwOJfan8nc7jLVwt+ba0Fam1ttvantLa2m5re+tI5z6kEa5Op0rX8Wxb821tT9Ra2m1pS+ljuy67MQ67sI8YgSV/fYLv5s2bc38SORKlTNVnerTC0ZaR4+iYkaNzcctsh6EZHbLFdQiq3HWdZ3aexHu0yT5iUXYRg/l5jnW5MQKY11OwgfDnlZzcHp0BcohzhGXuh9/wjjN9lk0jYSM8uT4PlxlEOqYR4JhGHYO9/JXixxTyOEOwy14sL6X8FIdt3loAH1PuUQBbutb2lLbWdlvbW0c69yGNcHU6VbqOZ9uSb0tbkVZru63tKa2t7ba253SKwPTbfcnL6cltRohROPa9JsL7seQ1fxqtjNcioLge8cOrNfLLejC4KKauX78+W5uB0U0JwaE1YqIthd21laBiZJlFAvGHHV73IY6MVOpahD2ONMV4Y0/pnHnI/ovpUVilreLC5RLA+IsMWGSMY/ErBQ8fPpzHkRFX7HFMfhkVxtWkEf+IfmwhVOGBQGWrd585J7Eb06hjUQBzDZ0mhMHINNfyx+iynDoW8MsaByV7kZGu24VtW5W2BmJk9jpca7ut7Ylpa7ut7a0jnfuQRrg6nSpdx7NtybelrUirtd3W9pTW1nZb23M6RWD67b7k5fTkNiPEKCwlckoxi1NkJQzjtYxCysVRZYWJiKOsMBobpzwrDKZW9zn5I4yhPwmqKCJZCDE6ph0TDsJMU7UVR44PuSgO++KjuBCeBDCiPE6/RswSBuJWTu9dMy07OkaJmUqtxfFiGuEeXUwj04xJp+KKAI+O3zqnPItp1LEogOlIiE4j7Vo8FJsKM1+0MNqLjGJ4274/XIq2PIVk7jpca7ut7Ylpa7ut7a0jnfuQRrg6nSpdx7NtybelrUirtd3W9pTW1nZb23M6RWD67b7k5fTkNiPEKCz7FvFEeJHX/EloxWvje5wl4aTRVUZi9Q4p2zgVlveRu1y0hfjDRvyL4lWCCtGlOEfRjY0oHPU98RhGVzx0PKaRqd0xLnE/2pUAzqdWl+xqpDcXqrKvbU0a6aQQD9IfXRzhJ/64mEYdiwKYPIkuT1+8PrcX+Su/Yli7sL8eddiQHIVpHa613db2xLS13db21pHOfUgjXJ1Ola7j2bbk29JWpNXabmt7Smtru63tOZ0iMP12X/JyenKbESIjo+Qhf4wsdrn4vqemNUdRGq+LwkfCSeJItkrbPiEUbZX8lc6XhKXiGUe0Jfz7/Os6bWMaNSKuc11bMVhGAIsPcepzfXGOaSSf++Ic/SrPon8dGyuAc0bRXik/+9K8LefWow4b0lEhXcc27305rmTHimUd6TyudOXh7ks615GHsukym5e61X67zA5Ph1PZG7ttVWYpCWPjOMV1rdK5L2V2X9I5RdkbG0arMrtaLb3ZVzNyq9FGprCWRmH5DrfeEWX6rlws4zrGtiSc9C4oI8FjXLRVEkyl8wh6la38Glas1jkJ+j4xmcc5pjEXd7lf/a4RwFqoihHy6Bit5p1dVtNmdDkuLBYXxuKaPI2cV5p5Zze6yE9iN6ZRx2oEMO/7yl7eucI73zqX502M1zbv74UAXkcGUXBautb2lLbWdlvbW0c69yGNcHU6VbqOZ9uSb0tbkVZru63tKa2t7ba253SKwPTbfcnL6cltTohRKPLOKQtF8Y4qAovpxhJj5DVTZeWiaNIxtiXhFP3GVYJ5/xVRPDTSGa8vCabS+TjlFzuajoyg551j0sPiXXJxISf51bl8G9OIICVOpb/YoVAjgPWOLB0Per+aOLFiNvEmT3DLpDG+R6xFwdjqc0psdZywJXZjGnWMNOKHP5hHV0qfPi3F1HdNNWfEXZ0uhFPKzxjutu63VWlroETmrcO1ttvanpi2ttva3jrSuQ9phKvTqdJ1PNuWfFvairRa221tT2ltbbe1PadTBKbf7kteTk9uc0JEWMV3ccnT0l/+PmoUnTE1JeHESLOENGKIBZQ0KoytfEQyhsd+tFUSTF3n44rPjHCzuJRGs6O4xAZCVukmrvnoa4xTTKOuKW0RhXIlgci50sgzo6dwIkziifCVaOdY/GSSxDLHh9IY373FL3nAlj/FX2I3plHHagVwnGKv8NmqLLBfyk8x2+btetRhQ2Jk3jpca7ut7Ylpa7ut7a0jnfuQRrg6nSpdx7NtybelrUirtd3W9pTW1nZb23M6RWD67b7k5fTkNitERnwRkVFkkbf8MToYR34V8yg6dYxtSThxHFGnxbAUNuKO6bBxVeQYlvajrZJg6jpPuEwTjiOO2GZkUiOrskG4Mf3sd7mYRqWltB0rgLFL/DSCqrBJB1Obo6tJI9dxvToBCFefsJINid2YRh2rFcDYY9E0jTATfz6TFIV4KT9j+rZ1fz3qsCEtCsw6XGu7re2JaWu7re2tI537kEa4Op0qXcezbcm3pa1Iq7Xd1vaU1tZ2W9tzOkVg+u2+5OX05DYzRMQUU5SZpsp7pno/thRbPquDeMkFDCPKOl6aSowQRlDxp08QlcKPx6KtklgeOv/u3buZoMRmX5rwp7hpinCMh/ZjGpXW0jZOgWYfP3m4jI7rWoUft+QHcUIQE78ut2wauR6bhKnp6DBVHJRnMY06Fv3leVdKH+ErvWyVd3HV6cioK23beHw96rAhqX2p/J3O4y1ULfm2tBWptbbb2p7S2tpua3vrSOc+pBGuTqdK1/FsW/NtbU/UWtptaUvpY7suuzEO3jcBE+gnEEd+1fGA+L569ersHu4bZe8PefPPWgAX8ojeLz4UzdQItvyuda0r/7H26DXinYv8g9nLpnes3WXDz/3V2qM3i+k1TFO5ePHi7B2SPMxlftfaXSbMLj9jbNFzx2cQKLO8F/Ps2bOu4DuPj7HbGdgSJ1axp7QuYeY9L6vYfS+wJQ6MsceqlZRXyi0LoKhXdglzcy9j7M4vrtwZY4ve8Js3b87KLGnVtytrTI+xWxN+7neMvX16nlBOaTj1vZuXM42/x/CN19fuj7F39+7d2ZREpiWyP8aNsTvGDteMscXzhDYBzxPebWTRpVo3xm6tDfs3ARNYjUBciZp7Nv8bW8etFqs2V1sAZ5wRhPSIUCiYbsCL/zwEahugrSv/MfZogOrbcbxoP8aNsTvGjq6ptUc+8gBnVUGmp/Biv74ppzCX2dbaXSbMLj9jbNGJgZigzCKeWJxB01q67OTHx9jNw6j5PcYe92Fcnr/GnvyOsatrx2xr7bEoBeWU8kqPLO9k8f5Urau1Wxt+9D/G1o0bN2YdjHz6gal8lFnSXOPG2K0JP/dba4/nCZ0Yep6w5fmi6Wp5+F2/a+12hbPs8TH2SJOeJzwzx7gxdsfY0TW19u7fvz8Tv9yXdDKSzmU/sSKbbGvtxmtr98fYouOfhX+4N/U8yT/hMhSPMXaHwvR5EzCB6QlQr9FO1nvYbPnNe8C77CyAs9xlFIIGS3Q85Gig1bjWlX+tPR7eNMS0it2uCmCmb8S8YxXBMWmt5VtTVnK/tbYQ91RY8d0TGjA0tmtcrd2asEt+a+0h7hkp5DotEFEKd+hYrd2h8IbO19qjfFJO5fg0wZhpSLV2ZW/MttYWZZU8pOzKMdKdr2Kqc13bWrtd4Sx7vNYedQ/1bHRjRrtr7UZ7Y/Zr7fEeGc9N3Ze7KoBJF5+dkaOBSEOx1tXyrQ0/+q+1pW+RMg1Sjo6NoVWA5VfbWru6zlsTMAETaEHAAjijzOhS3gjbhsq/9mFDry4PbhouXDtGFIKu1m6Gu/pnjT1e3Md/HAllUQHEYq2rsVsbdu6/1hZ5mX+8nsYK39WrcbV2a8Iu+a21R97RyGY6Hg3R2usVh7HX6fraba09OqX0PT5s0RAljNqFKGrt1qYr+q+1RQccYik6Oh/jNx/jua79Wrtd4Sx7vNYeI/f5fcjzhedMjau1WxN2yW+tPdVB5CvX7qoAJm1xJJSR4FpW8B5zTSmfljlWawuBnw8CMA2STtUaV2u3Jmz7NQETMIFVCVgAZwSZ9pN/8Lt0LLvsvZ+tK/9ae3EKHtfuogAuNU7Uu/1ehg0cqOU7EFzv6VpbNLLz/Csd6zXauFFGXGrTSZnVqwi7LIDhkq87wDHERY2r5VsTdu631hadGblIKh3L7eS/a+3m19f+rrXHNO/8ecInJvJjQ/GotTsU3tD5Wntx9gnX5nk7ZE/na+3qurHbWnv4jyurMiuFY7vUOUVnRv48KR0bYl7Ldig8nzcBEzCBKQlYAGc0S2K3dCy77L2frSv/Vexxbf7Aey9BHQdWsdsRZO/hGntMr8z9WwB3481Zdfuc5swq9vZRAOtzCMvSX4Xvsjbkr9ZWSeyWjin8rm2t3a5wlj1ea29fBHDkB6N9E8BxllFk0bVfW466wlnmeK2tktgtHRuyXWt3KDyfNwETMIEpCVgAZzRL76ExhW3X3qeMyeZBtYsCmEYJaYuNExrZTDGtdS0f5rW2mDqaT4Fm5Wum7te4Wrs1YZf8rmJvlwXwmTNnZt//E7N9mQJNI5v3Y2vcKmWoxo781trjuVGaAs1zpsbV2q0Ju+R3FXtcu8sCOJ8CnU/lL/HMj63CNw9r6HetLRbhy6dAU449BXqItM+bgAlsEwEL4Cy38vdfmHLJIiZxIaXskuLP2odOMZCKg6vY49pdFMDgy/OOxYX4TEetW4XvcdsqLYJFGuNCSsvEoWUaic8q9nZZAOd5V1pIadPyszYvmTLLu/hxESymBjNiWuNq7daEXfJba4/31fNFsBAXcSGlkp38WK3d/Pra36vY49pdFcC8ox7z7sGDB6M++bQK3+POS03rjotg0YlTuxJ9yzTWMrF/EzABE7AAzsoA7xny8GYRIXp6aZQxKqF3DzPvnT9bV/6r2OPaXRXA+mYj00e1mu6mf9NwTF4imhjxpcyypD2jiHHku7OghhNj7IbLq3dXsbfLAhjBy6rPlFfKLY3u2s4MMmMVvrWZOcYWdSvfi0UEM+rEzAze269xY+zWhJ/7rbXHc4P8I63cm/qsXlyDIbdR+l1rtxRGzbFV7HHtrgpg6lY6MHgfn9lEfK4sCuJlGa/Cd1kb8jfGFoKXP9YiQORvw/NE6fXWBEzABJYhYAFcoERDhY/A03BhWyskCHLMQ6cQlaUPrWKPd5zHfux6FbtLJy54HGMP8cAUYb6Vy3ThMW6M3TF2uGaMLXrrGT2jzNJwqX1fdKzdsWlc1R5TSGsXElJcx/DVtWO2Y+xRTimvlNsx4ndVvrXpHJNGxCFT9elgpANu0zumxjJlRC0+T3i+1LoxfGttRP+r2OO+rJ3iLdur2FUYNdsx9u7duzf7ggJfUWDa/hg3xu4YO1wzxhYzNPiuPM8Tpj7XLsA31u7YNPo6EzABE6glYAFcS2xJ/2MeOksGXfTW2p4i0dpua3vrSOc+pBGuTqdK1/FsW/JtaSvSam23tT2ltbXd1vacThGYfrsveTk9OYdoAiawywQsgI8pd1s/dFrbE7bWdlvbW0c69yGNcHU6VbqOZ9uSb0tbkVZru63tKa2t7ba253SKwPTbfcnL6ck5RBMwgV0mYAF8TLnb+qHT2p6wtbbb2t460rkPaYSr06nSdTzblnxb2oq0WtttbU9pbW23tT2nUwSm3+5LXk5PziGagAnsMgEL4GPK3dYPndb2hK213db21pHOfUgjXJ1Ola7j2bbk29JWpNXabmt7Smtru63tOZ0iMP12X/JyenIO0QRMYJcJWAAfU+62fui0tidsre22treOdO5DGuHqdKp0Hc+2Jd+WtiKt1nZb21NaW9ttbc/pFIHpt/uSl9OTc4gmYAK7TMAC+Jhyt/VDp7U9YWttt7W9daRzH9IIV6dTpet4ti35trQVabW229qe0trabmt7TqcITL/dl7ycnpxDNAET2GUCeyGAeQCs46/2w/FjCxp21pE+2Rwb79rr9iWd4rqOrctsbans9+8ye/x1b6syS06v456UzVbp3Jcyuy/pVPlZx7ZVme2vhbf/LN/V7vsb85mqLip8sm3MZ8yIQ+0n3kgT34Bv7camsXU8N9Xe2M+J5ulZV/4rHnshgJXYllseNi1da3tKW2u7re2tI537kEa4Op0qXcezbcm3pa1Iq7Xd1vaU1tZ2W9tzOkVg+u2+5OX05DYnRPLwxo0bs+9O8+3p/O/t27eTRZZvsvMt7xr35s2b2fP86dOnNZfNrhn7Le0qQ5nnu3fvpocPH2ZH/XMZAojfqeoUwllH/iudbVWarDbcTpVRtVFubbe1PfFobbe1vXWkcx/SCFenU6XreLYt+ba0FWm1ttvantLa2m5re06nCEy/3Ze8nJ7c5oRIHrYSCmME8OvXr7dKAG9Ozm5fTCiHU9UpLct1ibQFcInKBMemKiDLRqW1PcWrtd3W9taRzn1II1ydTpWu49m25NvSVqTV2m5re0pra7ut7TmdIjD9dl/ycnpymxMiebisAL5//366fPlyOn36dDp79my6du1aev78+UJiHj9+PPNz6tSpdOHChXTnzp30x/9n7wyhZamxrz8CgUAgEAgEAjECgRiBeAKBQDyBQIxAIBAIBAKBQCAQCAQCgUCMQCBGIBAI1hqBGDECgUCMGDFiBAKBQIzob/36/+07552XVOVUV53q23Wy1r2prkqdnbOTSrKTdPV//3tOgwB+8803z+fYovr000+fbfS2N7P6/PLLL5/785deeunE6ioBe9jF/hNPPHF68cUXT1988cUj+fB+ffjhh6eHDx/ebaXGBtvosUFe8eubb765swE2+f3hhx/OecTnF1544S4PdwndwXvvvfdIms8+++ycP/IJ1gcffHDHh7v1/JH74Zm8wg/HhJ9++un0+uuvn8/BPav2dnUeboT93HPPndO98cYbj6WBN1bhsU1eCKyyUy7Y5Tz32TKBK7auU2ZwRVl4vklP/rDBHxg2f9Qx8kdMeWHnwYMHJ22x/+677878UG7wzmfCr7/+enr33XdP+EQZvPrqq4/VuR9//PGujLD97bffnuvMaL0+A638rwTwyoTKXHank41XfoqB9eMqy/U5tRaz+c3Gk6+ZuJlY8o84GzcbT75m42bjlZ9iYP34KGW5PnPXY5Ey/PTTT0+stPo/K2AQYog4BB3bkRGLCDqEiQKCA3sIK9IgkhA6iC4CwgYbiBhEClten3322fN52bDxb7/9ds6bbCJGCYg1xBD2wcE+doVDGu6RAEJ4kV73ywZCje3K2CDP3KPvDWvlmTTY/f7778+ijjSI/F7AR23zJh3+C4OYfNh8ejvcTxoEMKITXPKicwhD/pgYgP/ff//9bAJMOEDI4yd/XEcQ2jTYQXjiL/lDYFKG2KNMwAObclH5k5bPcANXTCbAA+kJ5E+TGT5/lCGByQawEc/gYov8YReBjYBG1Kvc+Mx5/GHiQdj4iR1ELwHxDjZ5Ju/Yxh/ZOSfa4V8J4I1Ip2AzQzaefMvGzcbbw88j+Aiv5adq1zZxJr+ZWJatbNxsPPmajZuNV36KgfXjo5Tl+sxdj0XKsPeHGFNA9HjhhqDjXkQIAeGBOLWB+3QOe6SRICMdK5cIt16QEEV4EVgJBVPiVvch0hCbCDqC0rTEL+KJ6xK7soEAQ5QRhEv+bUAQsyLZC1YAcy/iDSGngECzK806r5j7/T2IPlZfrR38xF+txJKGzyoL7CEi8RNMgsSjRCnnJEzFG+fAoZzglECeEJg2MGmi1dt33nnnnD9brthDqDJhQgCHvEhUcw4eOAfXBE2gnD+cTud8cx0/bEDAs9pMgGPKxPqEEOY+X0esja2Pc1Xa1t407ENwNPz888/npXoqM9tH+BwNS3CjGDb9EjweOGZ68JOHw1ZOa3vqeAnulL25a1E8GgkaCBorZtloEJaEKO4SDN1zCRYzwJSnGj3ZHIkvwR2x79MswcMvGlZ89FuHvP3e5yW4PVsj55fg0SlQX6m3zDDbTnUEkzRLcEdt+3SXYNERUp5+oOMxWp8vwW3Zmzu3BO8o/QkrDawEUJYMUm+xP6F+IAYYgPOn7Z5z9cZfX1KPvI3Rz0uwGADzplzKkjLVVsdRTNItwY3YP1JauGQcg8D0f1pls3wgQHkeETbanoyAoVyxNfUWX4QU414bvOix1ziWEJUARvCB49sAiVqlIw3PEbEXrOSd89gCX39agfzll1/ucH39xGeEZC9YASwhRl0nD/BmRWLLBvdrwkDX6asZmyifirHLs0QgT+TNB+6V/6TBjg2sxsOTbCrm2ZQ9xrbwxZgewWlX0rHF/aTVvYrBZixFQACTXxsoK+yqzLiPzwpoB8St7C/qMOIAACAASURBVClGjHOeQP4lhnUfMeKb9HuF/3mxVw42xrUFNQJFxWdWhVk0HmoqEhUiOgCN4o7kbSpNFI+Hgy0JPPwM0HigaViiIYobte/TR/EoRxoJOgR8ZivH1Myex9PnKK7uWxIvxcIvZhe5X41VBH8pbgTDpo3i0XmrweTZpL6q8bd2546juHP25q5H8RCC1FPqKwMGOjQ6pmiI4kbt2/RLsfhuGr5y/5KOcCmuzXvkOIpHf8IAQ/0JsV9dGcGP4o7YnEoTxaOe8mwyeGQlgMGOBn1TOP5aFNffH/0cxWOCkYEk/jIZx9jg2utt1Ec4RAAxEKcs8Y+y9Ss8c1wvwZ2zedTrcDlSz+gzqJOkJ+Y5RNzwmT5TQpVxXy9Ycag0YE+Vp+xq3KGVRN2vWOk02YlNxqG0Faww81wpyAb5af0xHpA94erelg+6RuyvwxuClrwoT6yc94K/n3TwzV8rr6xwE3imuO4D4xiu9dJwD/1ky7ZtZ5nY4NnVOJD84BthJH9LBDD5hrdW3uSr9e+cmf//jzyN1Gt7z5rHJYAdm1QgBiw2UEh07JEw1VhE7IymjeLxsGvGCQwEIg+Nn7Gbw4/iztmbux7FYwbKlh2zZHoo57Ds9SiuvTd6vASLjo776ESIfYcwkocluCN2e2mieKy2MJOogLhgYGY7TV2biqO4U7ZGrkXxqJ92pwKDFc2kjuApTRRX9y2Jl2AxuUh9pQy5f0lHuAR3iX+6J4pH24PgtYGV/akVGJtWx1Fc3bc0juKxCmAnUNniR9kySI2EKG7EdittFI+xgLYqYo9BMhOs0RDFjdq36aNYCF3uYYVNARHF8xoJUdyI7aOlhcu59pFFGkQSAsiWncQrYpHz2NKWXPFIH8o5bND/SIzpumzos4+9EKV9A8c//1pt1Q410vAMgctEL39abGKyiet22y+4jFG1Qutxla+WD7pGbK+DZ/liUpZxBuNh4dh7/f26xsSYXxXmmuUAXlvtBf27ni/SkD8bKFO/Kuxtw4vG7+QbrtEywqPf0UqvtW19XyKA0RHUOx8oN5Ulq8HeJ67B8Vy99nbX/FwC2LHJTI2vxPeh8aehiAQeBl/xGIhqtmjUVhR31G4vXQSPQRjpbQOEMOShi4YIbtS2T78Eixk4BCJ1l/tvUQDzHOr7LuKMxn1qplbpbLyEX3t/9DiKx3NoZ+g1aLHfGxrJQxR3xGYvzRIsBhl0nhro+Paoh2XPL8G190ePo3gMKPzWL55RrQiM4kdxR+320kXxmOH3g2oGRX5rYg9P56O4um9pHMUjvV0JRThEbZDXJfdk+YjA94sA9C0MwiMh08dIvu5jWricax8Z55BO3+eUn4gPziMWCfSZXowguhBwBCsOzyca3/vUecUSouq3NAHm+2tWKxF7EpbWL0Qxk2a0mQRs2s/Coj2lbUFACdePd1o+6H5ie51xhUSi0sAh2F5867q9X+f4qhLjMNtPkz/Gm+z8IcAzdllwUtB3bDUp0BLA9JHcZyf7yRs8aOKRiVYmIm2Ab8b6BPLH2MLmj2PyJ/EdEcASt0zyUo52oYlr4Eq0K//Wb9oZW/4231nHMdWUlasVcSA4Eqh8/NnQOmevt46juC0bkXNRPGay1VgJh3PR7cFRXGEtjSN4rcGJZrej+BHcqG2ffgmWZv6oq9zvOwSP0fq8BLdlZ/RcFI9OR52jMFrndK0XR3F7dkbPR/FI7987wDl1kFvhjtptpYv6iA0NghjYcf/cAG8t3Jad0XNRPxmc+P4E0e/PzeFHcefszV2P4tF3+PJrnVsbd87e3PWon6S3g2INwO2gcg6T61HcEZu9NFEsypF21YbWOXu9dRzFbdmoc//HAFwiHHmmWn8SvQg5RBE7iBAdCBCECPdLfNCPIISYgKQ/ZUIOcSUB0xJ3lP9UeTL+QEghoiWmNLGJfXAQ4uDYMSY2bbuBSLNCj/tI07Oh58+Pd1o+2Lpkr7PoA6b4kFD0YrJ3v84zUY3/CFGEP38cc05tBu0+PFFGXNfLv+xuTNL454++krJEYJM/OMYuduCAwEKA5Yr845f4JQ+6B2xsUJds/uCbczbALXbFMZOafCaP2g2D0MYvMLFBXqlj+vktBDHnqMPym7zjj/JnMbOOY+owK1cr4lBQkUDl84OT1rk5m1HcOXtz16N4VPKWAFYjOIen61Fc3bc0juDR4Pv0tyqAxSd1FZ/VWOn8SOy5GrnnkjRRPBpcGlcbWufs9dZxFLdlI3Iuikf6lgBWZzKKHcUdtdtKdwmWBldLOsJLcFt+zJ2L4pUAjr3gJMrvXHnNXY/ikV6DWWxrAG53Gc1hcj2KO2KzlyaKxXPoB+Ctcz08nY/i6r6KH2eAfm/qT/09Igxhw2o9ooStyIgn7rX9B/0LQgrRRxtlJ1cpaytSyQ2LCb7v9blkPMn4QwKY6+QL+9QnRJ5EuO7Fpl3VREhzTt8RJh2Cy9qwfvAskl4iUHZbPugasb9OHsgffIg3m94f+/t1nfywW4JVagQ/x7a9gB/G3vACDun812HgHvs+UI5MKrBiTfnCs293GL+DAd9wpnohW/A7lT/SazJF98Ct55g04EgAkxY/8AkOqVt2pwzXyb92knAvdQE7tvyFmRXH1GFWrlbEiTbCFByzTTZQSbWFwZ6fOo7iTtkauRbFa22BZgbHNoRb4I7YnEoT8VNbgmwjwQPOzFQ0RHCjtn36S7BoWLjfN3weo/X5EtyWvblzUTwaV2YPbbjFLdDMitryu9Ut0CpHOnvqQqvTV5peHK1DPTuj56N49Bv0HzbQv9DPREIUN2K7lTaKx+y+3wLNbL+fZG1h2XNRXHvvkuMoHuntwI7BG6ss0RDFjdq36aNYiA+/BZp6XFugLat1XAzEGWB85ldY41bqjrUYKAHsmPTff2Hpnm0Mt7Qyiss8iHbbBbMxCGBtpXW0dD9GO9euocELUTxfdmwNYoYqGqK4Ufs2/SVYtyyAfdlp25WfVbZcto4v4bdlb+5cFI/6aV+CRdtDPY6GKG7Uvk1/CdYtC2BWL3zZIS7szLnlsXd8Cb89m1Pno3gIelYcFNgSjDC0qx+6NhVHcadsjVyL4rFd0JYdoh/xHw1R3Kh9mz6KpVVtJt4UmMRhFSgSorgR25W2GLiPDJQAvq5SKwHsyoNlemZo2F7ATC8ikdVSfeHbJe9+zG78o3jMXLPSxGwvAoJOPPpiFpyP4nYJG7wQxWPLBYMWts2wGsGqRPTFLNl+Rn201N2yAGYlnzrLNiCeTW0Fsv6PHF/C74h9nyaKh+DV6hn1lvprBbG33/scxe3ZGTl/CdYtC2D6DcqPfoQ6S79C/0I/EwmX8BvBUdooniZQEYe3/LN6tD1MYLBTil0afI/NCmLxNxdH+Z2zN3V9CRaClz/KEpFPu2t3Uk3h6doSXN1bcTFwiwwwHmUnW4XrYKAEcKMcGKhQSRm4EEcbfkxmN/5L8Bho810BBD5bS6Mi/774iXjg9fq8qdR/36JR/M1TS/htGho4eQkWL0JABPvvkA7A3os6iyBkYMazyYqTXaUY8ZE0l/A7imHTLcGjnlJfqbdLxG+2n0t8FEe8hIQ6G30DfbaPS/FYUbP9Cf1LNFzCbxRrqZ9MMLJ7gf6EFeHobqKluEv80z1LeOV7a3z1gr8l2/az/VziI2XHC21oZ9n6HP1qVLaPKs+Ki4FioBgYZaAE8ChTwXRLOp0gxCPJs/EEno2bjbeHn0fwEV7LT9WubeJMfjOxLFvZuNl48jUbNxuv/BQD68dHKcv1mSuLxUAxcMsMlADeqHSzO51sPNGWjZuNt4efR/ARXstP1a5t4kx+M7EsW9m42XjyNRs3G6/8FAPrx0cpy/WZK4vFQDFwywyUAN6odLM7nWw80ZaNm423h59H8BFey0/Vrm3iTH4zsSxb2bjZePI1Gzcbr/wUA+vHRynL9Zkri8VAMXDLDJQA3qh0szudbDzRlo2bjbeHn0fwEV7LT9WubeJMfjOxLFvZuNl48jUbNxuv/BQD68dHKcv1mSuLngG+2z/3Eieuz6Xxdm/tM+9i2SrwO8F69wlv2+eliku+o+/zx4sMp+zwwtxb+wmnEsC+Fqz0ObvTycYTTdm42Xh7+HkEH+G1/FTt2ibO5DcTy7KVjZuNJ1+zcbPxyk8xsH58lLJcn7my6BngZYW8OHUq8KZj/o4aeIHlVs8cb5zHNi9WJOgny3gj/SVBP1s39VI/vazyEpxru7cE8EYlstUD0MtuNp7ykY2bjbeHn0fwEV7LT9WubeJMfjOxLFvZuNl48jUbNxuv/BQD68dHKcv1mSuLnoERAezvOdpn/azfFn7L9toCWEJ6SgBv4c/eNg8hgOkA9viL/nD80soAzh7+CXNpvqP3HcVP8bpHXHU2Wiun01ed3b7tzaqzlPQez6Qws/w8Sp09ip+qP3vEWXV2uhW+/1fZmvrw4cPz704/+eST558as2KFn7BkezK/Ua3r/Gb1VGAbrX7q6oknnjhvb+WnBad+vkwCmBXe55577vx79dxjfyr0vffeO/FH4DwrxqxQ8nNaTz311DmPfoVYP2/I72q38v/dd9+dt1WztZjfpOYnAvlNdfLjA7+57u2TBg7Ji/8ZOn4OlJ9v02+zk47P5BUf8cVzwnZg8kBe4Zx6ThlQJvx0GM8aWOSbwAorPOEf+YcLfFaQf9wv/5Qfm0a2wSathCu88POQ5Jltyt7/H3/88Xzd8svPuREoI+yRZ+yr7ISrmDza1X/yD0/kF7vge25177XGhxDAe5BPZcoM2XjyLRs3G28PP4/gI7yWn6pd28SZ/GZiWbaycbPx5Gs2bjZe+SkG1o+PUpbrM3cdFhEVCK0333zzxG9t84fwo1z1nc2PP/74LEYRZohNfjue62zH7QVED4KH75RyD4IZnJ4Awg64iGV+AxtBxL0IQH6vHgFIQCRJKEmgIZDIo8079xIQhwi3N95443ydvMg/jgmIPYm7Dz744MSftgNb0YUt/EbU+oCgfOaZZ85i1V5DxCHeCPCJf+KaPMIR/sg/4cIT+UN8kjfyhNBE6JIH8kzefv3117OQhiPswQGTGdwjESzhi+CWfzaPHGNLtilfsMQv5caEAPkhX7bsEbhg4SPYll/KEHGv+oJ9zrUCecQugXsQvvCEPe6hTlAX7lPIVWk7MKMCy4bOxs3GE5/ZuNl4e/h5BB/htfxU7domzuQ3E8uylY2bjSdfs3Gz8cpPMbB+fJSyXJ+567CIuEAwSYCRK8Qc5YooISDi+LPhiy++OPG9zVZAlCGIEC82IEIlXu15HSNMEVt6CRPnEY3kRaKzJYD9TgCEKCvWBAlCu+KJr9jUSqbElzC4j/SIMISfAukR25YrXSNmddiKNH33VWKcldkHDx7YW04///zzOS9K8+KLL57Fuk0ELtwRlFddR/jDGVgK5A9BDB5B9zCBMRWUDuFLkABGNNvAKjCr+wTqADiUuQ2IYpWL7GC/F4TNdYQ75WPrFzwhpP1qec/eNZwvAbxRKVA5MkM2nnzLxs3G28PPI/gIr+Wnatc2cSa/mViWrWzcbDz5mo2bjVd+ioH146OU5frMXZdFVvIQrAhbxA3lKsHC6i2fEVWIIdL1RKD1CrGCmEF4ISQRTnMC2AtE7CFoJcJaAhiRawM4iGkbENXkmxVV+SeBJvFlhTf3ks4KWsSphLW1rWMJN62cI9jIu7hCqDIxAJ790wovIhKeKYNeUF51vSWquQbf4BF0jxXJut/GSucFsJ0YID1lMMUvEwFgi9+oAGbygTLEBm/8pszm8m79uJbjXJW2g9dHafzLz20rVya/mViWtWzcbDz5mo2bjbeHn0fwEV7LT9WubeJsfrPxxFombiaW/CPeC9fm4RaOEX2s7sInYg0BinjiM4JIARGrrbVcYyXUrtApnWLEDwKGP4Qzgolt0XMCuPUTR4ghts8SWgLYrzRbAYwIJ9/kmRVd/ENM81kCTcJPeVcsQYufbAnmHn7OZyrgq7Z5c2wFM/dry7P8UMwqb1Qokg/u10qvzRe+gUfo+WfT23ReAHt+wZQAhl9Wp8ESv/hMXRK/S/xiQoZ6CF/Y5o+6ockEn/dr/FwCeKNSUcXeyPxjZrPxlIFs3Gy8Pfw8go/wWn6qdm0TZ/KbiWXZysbNxpOv2bjZeOWnGFg/PkpZrs/cdVhklRPhgsBT8Fug+awtrggQVlxZGWVFtBUQTNQLXoRkBQurn4inXpBItte5nxVSbVeWYCSNhJUXaFYAI8a4X6uy3IdN8ieBNiUQ8RFByx/fQ50L+Iz4k3i2gpl8IOp80MozYpJ8+ReMsf2XVWGu+7zCaStf5Jd8EPw9Hl+flS4igJlMYJLD8os9zolflRP2e0HYuo4AVmD1l/KHm6nvnSv9tcQlgBslQWVmxoaHlJjP0UBFyAxL8PgyPzNg+Ekjy8MbDUtwoxg2fRSPhpQGQJ0BW16WhCjuEgzdswSLxohZPsqSGVTf2Mn2VLwEd8re3LUlePiFf/iJv7YRnsPT9SW4undJvBSPAQ2zq3aGOoK/FDeCobRLsGhvaHcoSwYxSzrOJbjK85J4Cd5R+hO24THQozxZDbrF/oQ6w0CP55I/DfqjdWlJPYpiKP0SLNpVVnMoS8q092IcYbTiJbgtO0c/h6BkZdYGiRHVP+oiLySywX/f1V7T/fYFUpQ5QntOAPOSKDsm1u/eSkhGBTCr214g6kVTEmjKr/VBx4zpeHkUYzwvTJXGxohZxB/jCI+rMZRtuxhzUJfJA4H7KA87cQDX5IHg86rPCG4F+nZW6FVmSqPrvZg2lrxEBDCr69QPG/g+M3bEL5xYH21aHds86n5bf0a2h8vWtcS5Km0HrynUSGAmjYrMF9epZMwG0QnYyj5iL4o7YnMqTRSPLSM0dswU0pjRaGkLyxSOvxbF9fdHP0fxKEcaORpnfKbR0csMIthR3Ihtn3YJFg0yYoI6S0PFTGZUHC7B9XmPfI7i4Q9+4R9+Ul/9wGAEP4o7YnMqzRI8OiQ6Wu7VVqYpjNa1JbgtOyPnlmBRfkww0onSsVO2U1v2WvlYgtuyM3ouikd/wsBM/Qkx/QvnIyGKG7HdShvFY3WK8qMcKU9WPVpbJVtY9lwU19675DiKxwCbwST+MjBmbEB7FA1R3Kh9m34JFs8l7Q5lqf7EDnat/d7xEtyerSOfR+DBJf07ZaFJQ8Zv+t6tRCiCClFDGoRq77uqlCXPK2Mj0nAPdZm6TdwL1AlWLWnDGBuzigmOnaSNCmB9f9n6h31wZBe/e/WJcQF5QNRqpbaXf53XlmAvmOGFMSI84B/8wjN9sTQAQhbuOAdvcA4+bR9B4hBhz7Z07iMtdvBHmgIf9b3ZKf+UZ2Jt82bcQ7kxDoIXv8JOGWjcwPdzScNn1R+w+UO4K5A/yl6c67xim0f6LyatSQ9H8KDFNO1E0H3XHMfU4TV70slb76HpJD+vQjBgsYFCVuW256eOo7hTtkauRfF4aG3lRyDSgNiZry1wR2xOpYn6SSNqy47OhMYhGqK4Ufs2fRSrVXYMYBhsR0IUN2K7lTaKx2y3fdMljTAdkd0a1sLx56K4/v7o5yge9ZV6y/PIverItsaN2rfpoz7SzjBo0KoBtuh4NSNubU8dR3GnbI1ci+JRlgw0bFiy2h3FtXhLjqN4DF7tBCoDO8r31ibhGAuwOqXA4NKvIunaVBzld8rW3LUoFiKAe6yYQDAwcI+EKG7E9tHSUs+YVGI1j34QkYHoRZQosJjBc6jFjLlVe4QczyzpGQvSj9IeI2Z6E3SIOzDBIj/82eeBvHBd+SKf2EOo2cA2ZLsQQXr5R3rqHnbxm0DeON8LPIPcPxrwXTj+Htos6jpcYxOR7PngGaG/YjwCh3biFsHLOJN+Wz5yDjs8R9hlbGaF4px/No8IX2zDTY9f+BQ298KlsPENfhHndoKEMsUXTapYTI59HsHGD5Wb7Pr7rvlzCWBXOsxo+UHYfWj8o50NgzA1UqIAMWEfZJ2fiqO4U7ZGrkXwGISR3g7CmClDWERDBDdq26ePYlGOzL7ZQGMU6RC4N4pr8ZYcR/F4Dn3jTMenTnI0D1HcUbu9dFE8OmYGJXRI3HuLApjVMwSSDQzomHmPhCi3EduttFE8ytI/h/Qv9DOREMWN2G6ljeJpRcLaYiVlbhBu03McxfX3Rz9H8UjP4FeBQWHUBvcuuUeY0TiKxWDZLwIguphUjYQobsR2pS0GxABCjDGdXejQtYqLgSkGSgA7dhhs+gFn65y77bGP2Y1/FI+ZbAbYNnDOzhrZa73jKG7Pzuj5CF5rcKLZ7VE8pYvg6p6lcRRLgsnitc7Z663jKG7LRuRcFA9RiF82tM7Z663jKG7LRuRcFE+zzdre5NujUewo7qjdVrooFhNRtDc2tM7Z663jKG7LRuRcFI8ZdV9+rLb4c3N5iOLO2Zu7HsWjLP2Eauvc2rhz9uauR/0kvV250TOqrYxzeLoexdV9S+IoFuVIu2pD65y93jqO4rZs1LlioMcAzx7jASbBmTjVFuVe+jpfDHgGSgA7Rlpit3XO3fbYx+zGP4rH4KQlgKOzaFHcx4gKnojgsZ3Hpy8B3Cfcc9VPuc6VKF5L7LbOzeUuijtnb+76UjwNrqNiSflZiqv7I3EUqyV2W+fm8hDFnbM3dz2KVwL4f1s057jlepTfEZtTaaJ4pG8JYLvLaApP16K4um9JHMVqid3Wubm8RHHn7NX1YsAywDPHTgV2n9iXctk0dVwMTDFQAtix0/oeGlvYbu37lK0t0GwjYWtiJGR3chE8GkjS28EJg2y2ekdDBDdq26ePYrF11G+BZqswW4YjIYobsd1KG8XjpTpH2AItrm5ZALe2QDPIpl2KhGgdithupY3i6TtS1hZboHsvGrHp7HEU19675DiKx0te7PfJwOR77H6SdS4vUdw5e3PXo3ik91ug/Vb+OUyuR3FHbPbSRLH4bqDfAk09ri3QPYbrfDFQDNxHBkoAu1Lz339hWwUvMbmllVFcZlXpCC/B8mXHywnsi5Rc8Xc/RgcRXUMDF6JYrZdg4SO+RkIUN2K7lTaK58uOFykxaWNfpNTC8eeiuP7+6OeleLcsgFtlR3vEimkkLOU2gmHTRvH4Dqx/CRbign4mEqK4EduttFE8BL0tO70Ey66WtnD8uSiuvz/6OYrHVktbdoh+xH80RHGj9m36KJbaHfsSLBYB/NdPLEbrOIrbslHnioFioBjYioESwI5Zvn/H9mBeIsRML4MyViWi3y/IbvyjeHw/lteeM9uLgKATj76YBeqiuI7u8McoHi/vYNDCW/9YjWBVIvpilmw/oz6SPwQvK77UWd42SNnale8RopfgjtjtpYni4Q9+4R9+4m90VYK8RHF7+R89vxRPA9Fb3AINd7SttDu0P7RDt/hGb/oN2h98pc7Sr9C/6HveW9ehUfs+XbTOahIOcXjLP6tH28MEBjsY2E3Ei76sIPY89j5H+e3ZGTm/BAvByx9lici/D/3JCBeVphgoBooBMVACWEyYmIEK2y0ZuBBHhQSmlnQ6JgvhwyV4rGrzHUoEPltLoyL/vvjJyiFbhPmuCNuFl4Ql/C7BWcops/WswFBnGbgg+KMh08elfuIX/uEn/tpVilF/74Of+IJviN/oW67FQ6afS7Bob2h3aH9oh659YmppnWUiw/Yn9C/RsITfKIZNvwSPCUYm4ihPVoSjP6kH/hJcm+/o8RI8fsKFF+/wx7b9JWEJ7hIc7lmCRdnxkzq0s0wyRr8atRR3qY91XzFQDBQDUQZKAEcZG0y/pNMZNN1Mlo2nTGTjZuPt4ecRfITX8lO1a5s4k99MLMtWNm42nnzNxs3GKz/FwPrxUcpyfebuj0V20LCzRIGdNUzUVMhngF9SmZuYt5PaTC5RdtE3yY94hl3qxiVhy/xdkq817i0BvAaLDRvZnU42nlzOxs3G28PPI/gIr+Wnatc2cSa/mViWrWzcbDz5mo2bjVd+ioH146OU5frM3R+L7ESw5YzwiX5n+/54e7055esQlAO7fnqBXYi2rPgqxdw9PVtz59lB9sMPP8wlm7y+Zf4mgRMulgDeiGRbwTeCeMRsNp7As3Gz8fbw8wg+wmv5qdq1TZzJbyaWZSsbNxtPvmbjZuOVn2Jg/fgoZbk+c/fHYgng6ygrlcOUAFYa5fjaBea15088LolLAC9hbeCe7E4nG08UZONm4+3h5xF8hNfyU7VrmziT30wsy1Y2bjaefM3GzcYrP8XA+vFRynJ95q7HIttQHz58eH7pGr98wPfsEVIKXlRNrQDzAlTeudD6szbZpsv33PmZL/B4AZwNem8D71bhZXBs/SXwLge2YPNSQ/LBy1Xt+wD0AkteSMrL1XhvwNx3zHkPD+/8AId7+F46fihwjZdi2vfY8B4C3heiFw7yQjfSgMsfx/b9PohWf90KWbjBF3jhRXj4Rz70Tgf85jvzPG9wYrlUPjmnNOJPAhP+4ILyJY2/ny3S/ISeeCOvwpZ9HwuD89jjXRS8+4d34oBD+fp3b7BlmvP4x/28BA+fLBe878GWsX3nA3nSfcoPPOPbtW3LLwGsElo5zu50svFEVzZuNt4efh7BR3gtP1W7tokz+c3Esmxl42bjydds3Gy88lMMrB8fpSzXZ+46LCIoECuIH4QHf2xtpVwlHBE3tpynBDBihPT2DzGD0JU9XhzKZ35FA4GG6EMQ2W3V4CFIyRdvudfb/DnPC9S4jy3BpMG+xCniCzEkXxCp2O59bxYBiyDkPkQi9yH+uEeijJdjkl/lT1uRJcrxGeGMMEXwSawi7MkX2OTTXkfcck75wjaY5AXfwMQvfuaOn3ujnBDi+A9/VqCrJnFOaeCfeySAyR/34R+cYkfbl7EPDvlDwJJGEyJWxAtHMTbAIZB/iWu2YWMHe5Z7eOEeBC35Ij/cwzlxDTZc2zKmCamPjQAAIABJREFUvpEfBSYKuI9JBwJckib6s3iyt1VcAngjZqkwmSEbT75l42bj7eHnEXyE1/JTtWubOJPfTCzLVjZuNp58zcbNxis/xcD68VHKcn3mrsMiogRxIQFJrhCFlKvEDbEt5ykB7L1ixY979QsZrNYiivjJNhtYCUTUSMRwD8LGBlZGrRDiGkKRtPq5MI7tajIC8+OPP35kNdbaJC249iVRcIF4RUwqYANhhrBDTNqf9cQXztmVaPLFSicilOusrNrrcMw58YCAJO9W2MIFedPKpspBYlF5s7HS6JwEMPwqgE0Z4BNB4lvccw4OEMX8kkIvkF/VEeUfvxVUNuSBgKD3ZYr/2JFPcObLmIkT0kiwk3/KB4ENN5SLxRX+3nGuStvBWwplrz8qXEZQxd7LzwwfwTiKn3uVI7hVZ9etzVVnt29/s+osNaOeze3Lc90nsG+tns3tyzLz2eyX9G1cYaUPoYJQYvWNtkjixouqUQGMYEHA2XLiHLYRVtjVH2KM8whyAsf2PvLHOfuGYzGPUCPPBAQWgogYcYQAnQqs9nK/8qEYscZqrAKCkHPkgdViRJgCK85etOkasWzJtmJEHPcS8BVefeBeVrEJ3Ae+xKJPa9PomgSwFdZcs2VIHvBV+VKMGEVk9gJ5IS2B/PPZBvLJOQlgyoVVXxskkknLBAHp2UqtPCjmPDsGFPCHuuXP6/o1xI+ycQ05WjkPkL9HyMbNxhOn2bjZeHv4eQQf4bX8VO3aJs7kNxPLspWNm40nX7Nxs/HKTzGwfnyUslyfueuwyAopAohyZEUSwaVVOYkbYlvOVjz1vGB7KvYQMzZIkCGs+C6n/+sJYIkprfRam+SHbdsERBRCCfFGnvkDQ1uN7X0cc43VW58PPvu8S+QJS7ZI68/pGjH5Y7tzC0MrydiGex90D+dVDksEsL/HliEYvfx5Dmz+4FZ1RNzY6yozCWCbXumUhljHiHH5bWNhcS8TEKTDpuzL5rXE+6jDRO8hf4+QjZuNJ06zcbPx9vDzCD7Ca/mp2rVNnMlvJpZlKxs3G0++ZuNm45WfYmD9+ChluT5z12GRlVMEoF0hRFxQrhIcEl7KsRVPOmdjVmsRJwg6u1JKGm1n5bueNpDObsEFH1GlwDXO2e3Nukb++V4pAaGr7dzcw4oxK4+9rbx8H5aVWB+sHa7BD3b0/Vn7+7esNiPUfGC1kxVoJhj81l/S2u/X4isi1AdWm7UVW+WAUOwFpdF1TTj4e2wZkreW+Lb5kz0b2zoyIoBbW9+1I4D8UQdaq8Rg+rxQ3pQ7K++s4Nu6Y/O45/E+6jDRYyrAHiEbNxtPnGbjZuPt4ecRfITX8lO1a5s4k99MLMtWNm42nnzNxs3GKz/FwPrxUcpyfeauwyLCzW9zlYjSllN9Vo6teNI5xazAIqYQwF60kAZxitBj67ENYCF+JNSoV1YAk5a8IgglcDmnF1IhqHlRFvdZcSo8XqTVCvrdXLuKiA9831hbj/msVUlssNrL6ra+N6yXOSnvpNELnxD88o38KcANAk5btyUgtQJOOk0W8L1jgr5PbXFkT7EvqxEBzKQC3NtJEAQl5STxLfs2hmvwCMq/vU4+SSNuKXN4hU8FbbeXT0wWMCFh04hLvXSMshY2ExWtnQayv2e8jzpM9JhC2CNk42bjidNs3Gy8Pfw8go/wWn6qdm0TZ/KbiWXZysbNxpOv2bjZeOWnGFg/PkpZrs/cdVhEvFGGCBHEDDECF3GmVVMvqqYEMPdgDxHM9lm7hVXbfREyCC7EDsIJQcln4cEMNrwA5vuirCKyvZlr5JX77PZjVgRJwwohacDgs94Y7FlHILMCShryxz0IMPzXPYhnrkukIQ5ZdcQ2gZVLhDnn8IE/7me1WNfhA6FGvthijhBEYEpEgwsG95FGNuxEAQIVXpiwaH0XGiy4JQ15QzCPCGDyT/6ETf4Q/ORPPp8dcf/AiQhgbGETfvGX+gFn2BEOkwTkQ2koE3jRCrq4t9+51sSAXrTmsrnbx33UYaK7FNweIRs3G0+cZuNm4+3h5xF8hNfyU7VrmziT30wsy1Y2bjaefM3GzcYrP8XA+vFRynJ95q7HImKK1U5EBauViAzEhMQNwgvBosDLpbSqp3OKEWCkbf3JHmmxibBEqCEUtbonO9zfwkAoIRARRNxnV3u5F0HLiibCEduklbiSbR9zD3njHuzae+CCvGgVVveydZfzss2KJdzBI3/WV+5BZJIv8YzItN9LxhYTC4h8hCHpKBfyZgMvKUPwe/tKQ3omNUgDp+QP2/hhgy9D5U8ckL/WCr61gV2tGlNWfLZB3IkjriH44ZeyQeSzRdznjzTgUxbkB97Eg3A0cSA80uDTNYV91GEiA0saf2aVKFgqO7FmmSLZXoIbse/TLsFjawqzYvjJTJ3d0uDt9z4vwe3ZGjkfxeOh5CFmNo8ZKxqeJSGKuwRD9yzBoiGkIaIsmSlka040LMGNYtj0S/DwC//wE3/nOgCLp+MluLp3SbwEj86T+kq9pTNS5xLBX4IbsW/TLsGivdFqBr4umR1egmvzHT2+BI92iHrrBwYjebgEd8S+T7MEjwEoKz/4yLa8W+xP4IlBNKsv/HG8JCzhdwkO9yzBol1lkE9ZUqZ22+doPpbgjtqudMVANgOIQJ6HCrfDQAlgV5bMsrDkzyvfmRVhloNKHx2AZjf+UTxmx9jGwF59BD7bYKa+S+BouvsYxb27ceFBFI9ypANn2wY+s73Dz2SOZCWKO2Kzl2YJFltuEBPUWcQTW1Ki4nAJbs+HkfNRPPzBL/zDT+qr/27UFrgjNqfSRP1kxpx6Sn1l9pZJKj9zO4Wna1Fc3bckXoJF+THByAwz4omyxedIWIIbse/TLsVjVYCtgNxvZ9u9/d7npbg9e3Pno3jUU8qPcqQ8WR1BQEVDFDdq36eP4rGKgfDFXybjGBv0Vno8lv0cxbX3Ro+XYPFcskJFWao/4TgSluBG7FfaYiCTgRLAmWznYJUAdjyzCsGqiw10cn57hb3eOs5u/KN4bE2xLx1AIPKbXdFZ+yhui6vIuSge3+mwZccKMGI/GqK4Ufs2fRSrVXYMYPQj6tb21HEUd8rWyLUoHqstbMtRYLKKQbe2+Oj8XBzFnbM3dz2KR/20OxWYpKIeR0MUN2rfpo9i0c4gCKm7Cqx06ztZOjcXR3Hn7M1dX4JHeXLfLQtgJt/sBCqr3Ph7a5NwjAXsz7ywBZIJ1mhYUo+iGEofxULoco/d/sluGxYDIiGKG7FdaYuBbAaYCFoyqZedz8IbZ6AEsOOKL3T7Qdh9aPyjnQ1bDv3M9a2twDAIgxc7COP7CQj9aIjyG7Vv00exKEdWCW1gsMIqTCREcSO2W2mjeDyHbCO1gcFn72UTNp09juLae5ccR/F4DhG9CgxEsRHdOhvFFd6SOIrF6hkCyQYmH1ldi4QobsR2K+0SPFbzWQGWEL7FFWB2YuCjDfgd3Tq7hF+LGT2O4pHeroQy+Ra1QR6X3BP1TemjWAh8vwjA5COTqpEQxY3YrrTFQDFQDFzKQAlgxyDbfvizoXXOXm8dZzf+UTxmsu0gGx84F90eHMVtcRU5F8FrDU40ux3BJG0EN2rbp49isTXHr2q3znkc/zmK6++Pfo7i4aPfCtw6N5ePKO6cvbnrUTzS+/cOcC76ve4o7pwfU9ejWExE0d7Y0Dpnr7eOo7gtG5FzS/DYqUC4ZQFMWfoJ1da5Oa6X8Dtnc+p6FI/09mU1TGZw7pYmpyhH35+0zk3xyrUot3P26noxUAwUA2syUALYsdkSu61z7rbHPmY3/lE8BictAWy3Cz/mVONEFLdhInQqgsf2Sp++BHCfbs9VP+U6V6J4LbHbOjeXuyjunL2561E80rcEMG+fjIQobsS2TxvFaond1jmP4z9Hcf390c+X4JUAnmf7En7nrT+eIopH+pYAtruMHkd5/EwU93EL42eiWC2x2zo3l4Mo7py9ul4MFAPFwJoMlAB2bLa+h8ZW0lv7PmVrCzRbg695lYmiinSqDEpIbwcnDLLZYhoNEdyobZ8+isXWUb8Fmq3CbBmOhChuxHYrbRSP798cYQs0L6ejniocZQs0g2zapUiI1qGI7VbaS/BuWQDzZna/BZrvrftJ1han9twl/Fo7o8dRPNL7LdB+K/8IdhR3xGYvTRSLl/D5LdCMf2oLdI/h6znP5Ay7EqIvbb0eDyonxUAeAyWAHdf++y80JLwV+pZWRnGZVe0jvATLlx0vF7IvUnLF3/0YHUR0DQ1ciGK1XoKFj/ZFSgOwocmFEXtzaaJ++rLjRUpM2tgXKc1hcj2KO2JzKk0Uz5cdbQ/1OBqiuFH7Nn0Uq1V2tEf2RUrWfu84ituzM3r+ErxbFsBMHNuy00uw7GrpCMeX8Dti36eJ4vEddfsSLEQ/4j8aorhR+zZ9FEvbuu1LsFgE8F8/sRit4yhuy0adG2eASQq9aK/X9/OdfFuu7AT0v9M7jthPybiZCc1I4DdilzxLEYwt0upt8FNfg4BjuJ5KY/PGZD9taiQII3LP0dOWAHY1gO9rUVF5iRAzvQzKWJWIzqhlN/5RPL4fy0oTDw0CgoaHF4BFQxQ3at+nj+LpNxvZPspqBKsS0RezkIcors935PMSLEQTK77UWX6qg7K1K98j+EtwR+z20kTx8Ae/8A8/8Te6KkFeori9/I+ej+IheLV6Rr1l0N0b0EzlIYo7ZWvu2hIs2lbaHdof2qFbfKO35e2WBbAm4RCHt/yzerQ9rI4y6GWXBi/6soLYlvfU8ZLnZcre1LUlWAhe/ihLRP596E+mODjCNSaDeYErz2Kr7+cn5qgL9iV8fI4K1REu9fvuI2mVhgkWxt73LdAOeF69D3DPopOdfPBp7Gf6CtJHgjAi9xw9bQngRg1gcM0MDANP4lZj0rjtkVNLOp1HDAQ/LMFjoM2DhsBna2lU5JPFJbhB1x5JvgQP8cAWYd5UynbhJWEJ7hIc7lmCRcPKCgx1loFL9PuiS3GX+rgUD7/wDz/xd7RDsflcwq+9P3q8BI96Sn2l3i4Rv0v5jfqm9Et8pL2h3aH9oR269ompSzllMi4yCBK3l+JaO6PHS8qTCUYm4ihPVi+iP6l3X/xkpYq3z/O3VDws4Xe07Hy6JViUHSKGdpZJxuhXo/YoS+/3kT6zskg5T9XHllCbu2cph7RzUTF7ywI4yuMSARzFqPSnUwngjWrBkk7nkqxk4ymv2bjZeHv4eQQf4bX8VO3aJs7kNxPLspWNm40nX7Nxs/HKTzGwfnyUslyfueuxyKotizHsDGI1nkkJdvERiJkspZyZsEA8+UAaJlNJQ1oJZT4zMcduKuzyVRsmr+xiCJMh7A5E0LJLh107rDb2AvbYGcGKNHlRPtlNAA4+8Kcda7LjBTALT0yo2d+fxtbDhw/PecUGk+B2gQps8op/cEEeyG9kQQA8+/VA8kdemRCygXNMVGtigV9QIb9ggs1uEQUmd+HC5pWdFUyisW2d9Haim7Ss5jNBTJlQNuDZ+2VbsTD0GZ/JD/dSHiwcsLhX4X8MlAD+HxerHmV3Otl4IisbNxtvDz+P4CO8lp+qXdvEmfxmYlm2snGz8eRrNm42XvkpBtaPj1KW6zN3HRYRPQgYxBK79hA6iEDEqLY7I54oZwShxK3NPTYQU6QhrUQpnxFsXEPIIf44J/GGEEaMIX7Z6k8aVncRbb1dAYhjRCcClbyAjfglv9gi//whxPFLW7KtAOYeRCF2tJME8YYNfOd+uMAG6fRTc+SNNHDF12r443rkHRoIUziRTX0n3p7DH3iCRwlghCbcshOGfHBdEwXwwGf5Sjo4xGfu12fxDk9cl6/cj/2pr3wJg3KHM9IjorEPX3DiX25n68gRj0sAb1TqVPbMkI0n37Jxs/H28PMIPsJr+anatU2cyW8mlmUrGzcbT75m42bjlZ9iYP34KGW5PnPXYRFxiqizL5RDmCJmWBUkSKQhgnpBQk0ijHTUDUSzDawUI+AIrGqSxq+gsrI4Jca4326BBgOxK1GJbUQa57SyKgEs8QuGxC/pEXPYtKvTfAUKYYpoJYCLcMSGAsIdH6zfutaKtZ0c0Uj48ssvz1/rwC4cEhCsEtXiVXngOnmkzPTrMRKnygOTA/L7bPB0Ok9C6JwmHayv1ANEbS8Ig+uUFz5LgHMO0U6+Lac9W0c5n6vSdmCVSrBHyMbNxhOn2bjZeHv4eQQf4bX8VO3aJs7kNxPLspWNm40nX7Nxs/HKTzGwfnyUslyfueuwiBhi+6oPbPVFQBIuEcBeNIPHHwEMhBxp7B/54XwveAHMKiwC1ge2dfPOAAICGGFIWsSmxKLuQfCzImzzwTFCVLY9LvdKoHp7stuKWS3FdwJ5RHyy2kweCfCj67LvJwkQ60pPPnkOyYNWj1nB7gXsyyelkQ199rG9rpf5MjlA/hHxo2+g9nZv+fM+6jCR0aM0/uXntpUqk99MLMtaNm42nnzNxs3G28PPI/gIr+Wnatc2cTa/2XhiLRM3E0v+Ee+Fa/NwC8cIQoSdD4grhCJhKwEMLiJKotjHPk/67IUoYhAR6YNNhz/UGVa1Sc/2XxsQ+5z3eeCzxKi1p3slUCMCmJVbeCew6spqMPkHi5V4eNdvnPfs9wSw0hP3Ajj4YoMVuPa8jv11VsHZ0o4f8MofYtiuKuveo8YlgDcq+ezGPxtPtGXjZuPt4ecRfITX8lO1a5s4k99MLMtWNm42nnzNxs3GKz/FwPrxUcpyfeauwyJbjRFEPiCQJNK2EsC8EKu17RYROCWkvBBlW7W2a1s/WElmtZWAAEbkYhfBSb1F1Cn0JgLsdmePy70SnBEBzHd7wec7xPruL3lC+LKaykq1/O/Z7wlgbbHGtg2sIGsb9VoCWPbB5AVh+LT0l1Bk65biQwhgCn2PP21/2LrCaOZsDx/BzApH8XOvcgS36uy6tbnq7PZtb1adpWbUs7l9ea77BPat1bO5fVlmPpv9kr7fV/jZLYQXL7xSQPQhTPWd0YgAtm8Cpj2zIhP7iC8Jbr5D6tMg/BCtEq7Kk40RzghABVYi2TJtt+GyFRhxqTpCbO9BzOKj7mGVl89W8OI3NvRd2xEBzHdguc9+H1n5tDF50U/0cZ70YHHebk+OCmBsIeb9CjefxemlAljf3bZlzaQFZSmRbX096nGeetmJYQp8j5CNm40nTrNxs/H28PMIPsJr+anatU2cyW8mlmUrGzcbT75m42bjlZ9iYP34KGW5PnPXYRHhpbcqsw0XMYkIQ0TxEijCiABGDFEXEFmIagKfpwQwaRCVCHDENiKVvCBme2+B5h7sYxtRh4hGfJFfvq+LD/yxiorA1EuZvADGN9JIKPLZ28Ae52RjRABrq/DUFmR8QHDjg8Q15xCmnENgKiwRwFpNxjf8ZiUcca08XSqAqTNwSz2BazBYheczZVHh/xjYRx0msk9l3SNk42bjidNs3Gy8Pfw8go/wWn6qdm0TZ/KbiWXZysbNxpOv2bjZeOWnGFg/PkpZrs/c9VhE0PATOQglRBPbWa2Q4RiRo5836uWcNyIjEiWAW/cgEL0o5j5WPXkzM6u7rN5OBQQpQh0svYmYc+QbH/jDH/xSQPwpX/YcedQqMH7KhniQ+OUehKm3weQANsQXHCEwJTaF5WNW3LnPrqLyvV/OWUxvX3bIhzDAtHkgDfb5vWHywuSCXeGHfyuySS8bsu9jfx1/Ee+qM5SHJkz8vUf9vI86TGT7KI1/+bltpcrkNxPLspaNm40nX7Nxs/H28PMIPsJr+anatU2czW82nljLxM3Ekn/Ee+HaPNRxMdBiACE/J+Jb99W522KgBPBG5Znd+GfjibZs3Gy8Pfw8go/wWn6qdm0TZ/KbiWXZysbNxpOv2bjZeOWnGFg/PkpZrs9cWbxFBlhpZRW5QjFQAnijOpDd6WTjibZs3Gy8Pfw8go/wWn6qdm0TZ/KbiWXZysbNxpOv2bjZeOWnGFg/PkpZrs9cWSwGioFbZqAEcKN02RrBq+f5wjjxkq0S2Z3OEjy+16EvxvMdBPu9hgYtzVNLcJuGBk9G8XhjIS8B4EfUeSnAp59+Ooj0aLIo7qN3xz4tweLNiPr9PF5SMfWCil5uluD2bI2cX4KHX/jHs4m/9o2QI5ikWYI7aruVbgke3wGivlJv+c6VfnKhZb93bgluz9bc+SVYtDe0O5Qlvi75eYYluHO+TF1fgneU/uTbb789v2CH8nz77bdvsj9R3eB7gfjpv2+o63Pxkno0Z7N3fQkW7Sq/GYqPvDSJl/ZEwxLcKEalLwaKgWJgKQMlgB1zfCmfN8vx5XG+3K437kUHoNmNfxSPFxPwSnm+1M8AjS/iM2iJhihu1L5PH8WjHOnA2faCz/zOnH+5gMdofY7itmyMnluC9fLLL5/FBHUW8cRbGqPicAnuqE+tdFE8/MEv/MNP6it+R0MUN2rfp4/i8fuA1FPqKy+2YJKKF2hEQxQ3at+mX4JF+THBiJhAPFG2emGKtT11vAR3yt7ctSge/QmTGOpPiOlf7Mtf5jC5HsUdsTmVJopHPaX8KEfKkxevIKCiIYobte/TL8Gj7eHNs9y75LkkD0twfd5HPy/B4rnkBUaUpfoTjiNhCW7EfqUtBoqBYuASBkoAO/ZYhWDAYgOzoHTskZDd+EfxeKMfb6BTQCDyGvboKnAUV3hL4yger9G3ZccKMGI/GqK4Ufs2fRSrVXYMYBhsR0IUN2K7lTaKx/d2eHmFAiKCQTeD70iI4kZst9JG8aifdqcCk1TU42iI4kbt2/RRLNoZ/9uWrHTb31e09nvHUdyendHzUTzaHgSvDUtWu6O4Fm/JcRSPlXw7gcpbWynfW5uE+/LLL89tDn0lHN2iAEbo4pt9Yyy7bVgMiIRoHYrYrrTFQDFQDFzKQAlgxyC//eUHYfeh8Y92NgzCmNm14dZWYBiEwYsdhPFaegYv0RDlN2rfpo9iUY6sEtrAYIVVmEiI4kZst9JG8XgO2c5uA6v7DEojIYobsd1KG8XjOUT0KjAQxYZ+CkLn5+Io7py9qetRLLayI5BsYPKRlbVIiOJGbLfSRvEQSP45pH+hn4mEKG7EdittFI+dGF988cUjptjFEN06G8V9BHDBhygeq6K0Q3x9iHtvUQDjm18EYPKRSdVIiHIbsV1pi4FioBi4lIESwI5BOjj+bGids9dbx9mNfxSPVW07yMYHzkW3B0dxW1xFzkXwWBn06TW7HcEkrbcTvT+SPorFIMyvarfOzeUhijtnb+56FA8f/YCzdW5t3Dl7c9ejfpLev3eAc9HvdUdx5/yYuh7FYiKK9saG1jl7vXUcxW3ZiJyL4rEq6vsTdt74c3N5iOLO2Zu7HsWjLP2Eauvc2rhz9uauR/3U1nXqKvf69mgOT9ejuLpvSRzFohx9f9I6N5eXKO6cvbq+LgNMqPKMRvsVnwu+soOd6AStt3PJZ7464ydUL7FX9x6DgRLArpxbYrd1zt322Mfsxj+KR4PVEsB2u/BjTjVORHEbJkKnInhsDfbpSwD36fZc9VOucyWK1xK7rXNzuYviztmbux7FI31LAP/jH/+Yg3rkehT3kZuDH6JYLbHbOjeXjSjunL2561G8EsCP7jJam985e3PXo+UpeyWAxUQ/Xspt32JdWZMBvstOGVGXLwlMjmAHe3sE+kV2m1R924P9+41ZAtiVX+t7aGxhu7XvU7a2QLM1ODobmN3oRPDY+kx6vwWaLabREMGN2vbpo1hsHfVboNkqzFa9SIjiRmy30kbxeKnOEbZA83I6Oyg5yhZoBlK0S5EQrUMR2620UTz6jdYWaPqZSIjiRmy30kbxeDO73wLN99b9JGsLy56L4tp7lxwvxbtlAcyKnt8CTT2uLdBLatj13nPfBTC7MaiXjFtZ0Fn6LF9vCVXOtmagBLBj2H//hbc/8xKTW1oZxWVWtY/wEixfdrxcyL5IyRV/92Nm4xrFar0ECx/ti5S6jpkLUVxz66LDKJ4vO16kROeH/5EQxY3YbqWN4vmya71IqYXjz0Vx/f2Rz1GsVtnRHtkXKY3gR3FHbE6lieLxHVj/EizEBf1MJERxI7ZbaaN4CHpbdmyHZEvir7/+2jLfPRfF7RoavLAU75YFsISRfQkWkzjR7d5LuR0sukMlo0x4dwCTSkyQUh72rdxcZ4JY15ms8C+HZJswE1X0mXp3BmVkJ1u5h3vBYFWVZ9rWA0jXhDt26KuYlMYOeegFVmnJMza5j4nOzz///C4542zeW8I7IGg3uD43fiHf2GPiVKvQdwbroBgYYKAEsCOJWSVmk3gYaWAYlPEw3trPINHQ0cgx24uAoGGMvpgF6rI7uSgeL++gUaUBZjWCDiL6YpZsP6M+kj86IlZ8qbN0LJStXfl21bz5cQlu09DgySge/uAX/uEn/kZXJchaFHfQnW6yKB6CV6tn1Fvq79xgoAUexW3ZGD23BIu2lXaH9od26Bbf6E2/QfnhK3WWfoX+Rd8l3ZLfUdutdNHy1CQcwv6Wf1ZPXN2yAMZHxAp/lCUr+/ehP1HZ3FrMJBKTaIhW+gbGL7x0jnO0I/SLCEF7/eHDh+f2VJPDej7pMxkHIRjpY3jOJYApa9pg7iUNWNhk/Kv2iuebexC93Ee/hGDlXE8AMxmGXWFzHwswFhs71DHsW7vksxfgRfkqAdxjqc5PMVACuMEOAxVm0xi4EEeFBCZ5uDPDEjwaOL5DSQNHgxYV+ffFTxpXtgjTaTB7uSQs4XcJzlJOmaVltpY6y8AF4RQNmT4u9VMzyfjZmp0e8fk++Ek9pb5Sb5eI36X8jvDXSrOEU9ob2h3aH9qha5+YWsqpVmfUn9C/RMMSfqMYNv0SPAbNTMRRnqwIR39SD/wluDbf0eOleIgFBvHRl0Yqf0txdX8kXoJF2fHTVtRZJhmjX40if0twI34dJe2eawtXAAAgAElEQVRnn312XjW141DaFMQp5UIbisC0uy1oW9lpgugksHrMxJsd40nMSgCThmfXpgETgatfWuA6Y2IbWDihrHsCmHYBUS2xyr1gcA8LFASeJSZDbQCTe0dCCeARliqNZyBXpXn0hM97NcLZuNl4Krps3Gy8Pfw8go/wWn6qdm0TZ/KbiWXZysbNxpOv2bjZeOWnGFg/PkpZrs/cdVhExDIZ2gtMHjLp7QPClJVhgiaMbRoEM3VDApgVZUQoYtL+YYPJZqX33/Vn4hI7PQEsTCbpwULYMrnCPdpWLwFLPhH0CF8rxGWjF+v+3vU6Xwy0GCgB3GJlhXPZnU42nijKxs3G28PPI/gIr+Wnatc2cSa/mViWrWzcbDz5mo2bjVd+ioH146OU5frMXYdFBC5/vYBoZAXVB8Qlq7cEfa3Pp6FuSABzTDrh2ZiVWgQuaRCbNnA/53sCmN0ErACThm3OiGxELp8lgLHHjkSEPKvZXEN4c24klAAeYanSeAZKAHtGVvrMA5wZsvHkWzZuNt4efh7BR3gtP1W7tokz+c3Esmxl42bjydds3Gy88lMMrB8fpSzXZ+46LLI12f/KAzlja7ReWtUSyIhixDGB+7UdWl5pRVcCmC3TrMz6oK3XbGFGUINrw9wKMF+HQNTabfTaAi0BjG1t4eYaL+wiz/4FghbXHpcAtmzU8SgDuSptNFcrpjtK419+rlhpGqYy+c3Esq5m42bjydds3Gy8Pfw8go/wWn6qdm0TZ/ObjSfWMnEzseQf8V64Ng+3cMz7IODSvtWZd2Fwjq3CCFKEqV54hc+IVlZbJWj5uSD/IjPeLYENCWDS+jTYxLa+q8v3wf33hPlOMHZ6K8C8F4DvK9ug7x9LAHPdC3S2cPOirpHQE8Bsu+7la8RupbltBkoAb1S+NAiZIRtPvmXjZuPt4ecRfITX8lO1a5s4k99MLMtWNm42nnzNxs3GKz/FwPrxUcpyfeauwyIromwbRgyydZg/tgdLMLJ6aq/rTfOs/uonjNiGzGdthUbsckzdkAAmrdJYHM7phXa8wA+RzHeSEa9sbSYv2OkJTX61getgIlSJWdnFH/0eOr8CQBp8wi5vzUd4I9xHQk8AswqO3QrFQIuBm68Ze1X+bNxsPFWmbNxsvD38PIKP8Fp+qnZtE2fym4ll2crGzcaTr9m42XjlpxhYPz5KWa7P3PVYRAQjJPmOLH8cc04BEazriFJWbLWlWGkQsQhKVnERoQhWxKYVrtzDvdgAh2OJX9khPcJVvwHMKjF2PJ7SEyNQsYdd0iK2WQXW26VJgxAnX2znRriOfv+Xe1kdx64PvKW9dd6nq8/HZOAQApgOYI+/rAcPnD38E2bWo3MUP8XrHnHV2XVrc9XZ7dverDpLzdjjmRRmlp9HqbNH8VP1Z484q86u22qXtWKgGDgCA4cQwHsUJJ1NZsjGk2/ZuNl4e/h5BB/htfxU7domzuQ3E8uylY2bjSdfs3Gz8cpPMbB+fJSyXJ+5slgMFAO3zECuStuByaM0/uXntpUrk99MLMtaNm42nnzNxs3G28PPI/gIr+Wnatc2cTa/2XhiLRM3E0v+Ee+Fa/NQx8VAMVAM9BgoAdxj5sLz2Y1/Np7oycbNxtvDzyP4CK/lp2rXNnEmv5lYlq1s3Gw8+ZqNm41XfoqB9eOjlOX6zJXFYqAYuGUGSgBvVLrZnU42nmjLxs3G28PPI/gIr+Wnatc2cSa/mViWrWzcbDz5mo2bjVd+ioH146OU5frMlcVioBi4ZQZKAG9UutmdTjaeaMvGzcbbw88j+Aiv5adq1zZxJr+ZWJatbNxsPPmajZuNV36KgfXjo5Tl+syVxWKgGLhlBkoAb1S62Z1ONp5oy8bNxtvDzyP4CK/lp2rXNnEmv5lYlq1s3Gw8+ZqNm41XfoqB9eOjlOX6zJXFYqAYuGUGSgBvVLrZnU42nmjLxs3G28PPI/gIr+Wnatc2cSa/mViWrWzcbDz5mo2bjVd+ioH146OU5frMlcVioBi4ZQZKAG9UutmdTjaeaMvGzcbbw88j+Aiv5adq1zZxJr+ZWJatbNxsPPmajZuNV36KgfXjo5Tl+syVxWKgGLhlBkoAb1S62Z1ONp5oy8bNxtvDzyP4CK/lp2rXNnEmv5lYlq1s3Gw8+ZqNm41XfoqB9eOjlOX6zJXFYqAYuGUGSgBvVLrZnU42nmjLxs3G28PPI/gIr+Wnatc2cSa/mViWrWzcbDz5mo2bjVd+ioH146OU5frMlcVioBi4ZQZKAG9UutmdTjaeaMvGzcbbw88j+Aiv5adq1zZxJr+ZWJatbNxsPPmajZuNV36KgfXjo5Tl+syVxWKgGLhlBkoAb1S62Z1ONp5oy8bNxtvDzyP4CK/lp2rXNnEmv5lYlq1s3Gw8+ZqNm41XfoqB9eOjlOX6zJXFYqAYuGUGSgBvVLrZnU42nmjLxs3G28PPI/gIr+Wnatc2cSa/mViWrWzcbDz5mo2bjVd+ioH146OU5frMlcVioBi4ZQZKAJvSff/990/ffPPN+cwvv/xyeuutt04///zz+fMPP/xw4vpoyO50InjeLz4rfPLJJ6cvv/xSH2fjCO6ssYEEo3iUl/ULn6xfXCPNaBjFHbU3lS6CNeUXdRc/qcsjIYI7Ym8uTQTPlpf3i2eWejsaIrijNqfSjeK1/LJtjm2fpvB0bRRX6S+JI1iUl/WLsuu1u3N5iuDO2Rq5HsGb8su3T3PYEdw5WyPXI3g8m7af5LMC7dMtPJu+vLxf1Odb6U9seVm/fPukMu7FkTrUs1Hni4FioBjYioESwIZZO8AsAWyImTjM7uRG8VoDlhLAEwW5w4rsaFmS6xLAp7NolFCcLsn/uxrhd8TeVJoIVgng01ksWaE4xS3XIvzO2Rq5HsErAfx/z2YJ4EdrVqQOPXpnfSoGioFiYHsGSgBvxHF245+NJ9qycbPx9vDzCD7Ca/mp2rVNnMlvJpZlKxs3G0++ZuNm45WfYmD9+ChluT5zZbEYKAZumYESwBuVbnank40n2rJxs/H28PMIPsJr+anatU2cyW8mlmUrGzcbT75m42bjlZ9iYP34KGW5PnNlsRgoBm6ZgRLAG5VudqeTjSfasnGz8fbw8wg+wmv5qdq1TZzJbyaWZSsbNxtPvmbjZuOVn2Jg/fgoZbk+c2WxGCgGbpmBEsAblW52p5ONJ9qycbPx9vDzCD7Ca/mp2rVNnMlvJpZlKxs3G0++ZuNm45WfYmD9+ChluT5zZbEYKAZumYESwBuVbnank40n2rJxs/H28PMIPsJr+anatU2cyW8mlmUrGzcbT75m42bjlZ9iYP34KGW5PnNlsRgoBm6ZgRLAG5VudqeTjSfasnGz8fbw8wg+wmv5qdq1TZzJbyaWZSsbNxtPvmbjZuOVn2Jg/fgoZbk+c2WxGCgGbpmBQwhgOoA9/j766KOUugPOHv4JM8XJ0+l0FD/F6x5x1dl1a3PV2e3b3qw6S83Y45kUZpafR6mzR/FT9WePOKvOrttql7VioBg4AgM3L4D3aoCzcbPx9HBk42bj7eHnEXyE1/JTtWubOJPfTCzLVjZuNp58zcbNxis/xcD68VHKcn3mymIxUAzcMgM3L4BvufDKt2KgGCgGioFioBgoBoqBYqAYKAaKgXEGSgCPc1Upi4FioBgoBoqBYqAYKAaKgWKgGCgG7jEDJYDvceFV1ouBYqAYKAaKgWKgGCgGioFioBgoBsYZKAE8zlWlLAaKgWKgGCgGioFioBgoBoqBYqAYuMcMlAC+x4VXWS8GioFioBgoBoqBYqAYKAaKgWKgGBhnoATwOFeVshgoBoqBYqAYKAaKgWKgGCgGioFi4B4zUAL4HhdeZb0YKAaKgWKgGCgGioFioBgoBoqBYmCcgRLA41xVymKgGCgGioFioBgoBoqBYqAYKAaKgXvMQAnge1x4lfVioBgoBoqBYqAYKAaKgWKgGCgGioFxBkoAj3NVKYuBYqAYKAaKgWKgGCgGioFioBgoBu4xAyWA73HhVdaLgWKgGCgGioFioBgoBoqBYqAYKAbGGSgBPM5VpSwGioFioBgoBoqBYqAYKAaKgWKgGLjHDJQAvseFV1kvBoqBYqAYKAaKgWKgGCgGioFioBgYZ6AE8DhXlbIYKAaKgWKgGCgGioFioBhIY+Avf/nLae7vr3/962r5+e233+7w/vnPf65md8qQ/Pvhhx+mkp2v/fjjj3f5U2J7jvxXKAbmGCgBPMdQXS8GioFioBgoBoqBYqAYKAZ2YOAPf/jDae7v+eefXy1n//rXv+7wEKYZQf699dZbs3AfffTRXf6U2J4j/xWKgTkGSgDPMVTXi4FioBgoBoqBYqAYKAaKgR0YkDh86qmnTgjd1t+DBw9Wy1kJ4NWoLENXzEAJ4CsunMpaMVAMFAPFQDFQDBQDxcBxGZAAHlkdXYOl+yiA1/C7bByLgRLAxyrv8rYYKAaKgWKgGCgGioFi4J4wEBXA77///gmx/M0335z+9re/nV577bXzqjGrxN9///3Z6y+++OL0pz/96Xz+9ddfP/388893bHgB/Pnnn59eeumlc9o33njj9I9//OMurQ645+233z798Y9/vEsnLKUh/v33308ff/zx6cUXXzyne/PNN08Wz4t8bCj/L7/88unrr78+2e3Oso2v3MvfL7/8cj6NTzr3n//85/TZZ5/N+mHx4IvvVvO9ZNkRXsX3n4ESwPe/DMuDYqAYKAaKgWKgGCgGioEbZEACGPGJWGz92Rc/sUWaexCMTzzxxN33ZTnHZ+zIpuJnn3329Ouvv57Zs4JUtpSO+MknnzyLQlGNIGZ7tk2jY4S2wn//+9/TK6+88lg6sJUeoanw1Vdf3Z3XdeLnnnvu7rzSWlFM/gmIf92HmNWxYvKMMFbg+866ZmN7r9JWfP8ZKAF8/8uwPCgGioFioBgoBoqBYqAYuEEGrBjrHduXVVnRymowgvDLL798RNyxqsv599577+683iRtBTCCGRHLOa4jfskDK70KrA5zDmHKailvjkbIco70EplW0GrVmbc3I9TllwQwK8VPP/30+TwCmZVZ8mCFLvco2POkI1gBbG2wUi08eCAwgWDxuHcK73xT/bvXDPyv9txrNyrzxUAxUAwUA8VAMVAMFAPFwG0xILE2FbcE8DPPPPMIEbofwamAANV52UD46Rxi0QYrmNli/NNPP92ltau9CFiJZYlMRC92WXnVajO2bR4kgL/77rumXdJbway8zQlgtj8rINDlH/cR2EKtc9YPrrXwZKvi+8tACeD7W3aV82KgGCgGioFioBgoBoqBG2ZAwiy6BZrtxjbIjkQm16zYbQlgLwZJIzuskvKdXH3mu7rY1p+2Rb/zzjvnbGilmO8e+yAbypvFQSDb8O67795h6vycALbfR2YrtvAkgBHIOoeot8GKfnu+ju83AyWA73f5Ve6LgWKgGCgGioFioBgoBm6UAQkzicM5N7UFOkMAW6HKNmOw/R/bsAlsm8YXuwItX7yP1q4XwNhTet0/J4AR6zbofgngTz755M6mxysBbJm7neMSwLdTluVJMVAMFAPFQDFQDBQDxcANMSCxtocA1uqt6PRCkZVV5Y9txFPh4cOH57R815ZVWIV///vfdzbkI983ll1WmW2QHa4rXCqALZ5f9a4t0GL5tuL/1Z7b8qu8KQaKgWKgGCgGioFioBgoBu41AxKCbDFmJbP3x/duCWuuALONWT97xMusZJvVXkSsfXnUq6++eidsv/322/N3gNn2rO3HdpsxQpqADftSKglgfspI3yHGhr4zjC37ZuuzkdPpkZdjtV6CNbcCjB/Cwzde5oW/H3zwwZ0Qt4JbuBXfXwZKAN/fsqucFwPFQDFQDBQDxUAxUAzcMAMSwHOxhJ9E6hpboFmtRXAiQvWdXvLBW6UVPv300zuRCDZCXWKSzxKviEzlDRtsidZPGvHCLs5JAGP7ww8/vLMLNt8dJo3e1syxwqUrwNixAh3b+kMQ61h4Fd9/Bv5Xe+6/L+VBMVAMFAPFQDFQDBQDxUAxcDMMSHzNxVsIYLYfs7IrbIStVm8twYhgiVilRYDzxmUb+CwhSzrELD+PRFo+WwHM6jArsHbF989//vOJt0oLQ7bXEMDYYvuzRPoLL7xwzht58njCrfj+MlAC+P6WXeW8GCgGioFioBgoBoqBYqAY2JQBxPXf//7385bnHhCClTcos92YLcxTASHM1mpt255KywqytiRPpbvkGqvT/PQSP+3k8yQBzGp1hdthoATw7ZRleVIMFAPFQDFQDBQDxUAxUAwUAwEGEOxa5WVVGiGMoEf0a2Wbl29VuB0GSgDfTlmWJ8VAMVAMFAPFQDFQDBQDxUAxEGRAK70SwjZmGzar0BVuh4ESwLdTluVJMVAMFAPFQDFQDBQDxUAxUAwEGWDFlxdhPXjw4Pw9YL4LzPeA33zzzfNKcNBcJb9yBkoAX3kBVfaKgWKgGCgGioFioBgoBoqBYqAYKAbWYaAE8Do8lpVioBgoBoqBYqAYKAaKgWKgGCgGioErZ6AE8JUXUGWvGCgGioFioBgoBoqBYqAYKAaKgWJgHQZKAK/DY1kpBoqBYqAYKAaKgWKgGCgGioFioBi4cgZKAF95AVX2ioFioBgoBoqBYqAYKAaKgWKgGCgG1mGgBPA6PJaVYqAYKAaKgWKgGCgGioFioBgoBoqBK2egBPCVF1BlrxgoBoqBYqAYKAaKgWKgGCgGioFiYB0GSgCvw2NZKQaKgWKgGCgGioFioBgoBoqBYqAYuHIGbl4Af/TRR7sUQTZuNp5IzcTNxJJ/xNm42XjyNRs3G6/8FAPrx1WW63NqLWbzm40nX7Nxs/H28PMIPorXiouBYqAYGGXg5gXwH/7wh9Nef1kdDzh7+QhuVtjTx6yyhMsj+HmUOnsUP49QZ+vZzOlLs/qTeja3L8/MfjOr3hROMVAM3AYDeeplJ74yBZp1MRs3G0++ZuJmYsk/4mzcbDz5mo2bjVd+ioH14yrL9Tm1FrP5zcaTr9m42Xh7+HkEH8VrxcVAMVAMjDJQAniUqWC67E4nG090ZOJmYsk/4mzcbDz5mo2bjVd+ioH14yrL9Tm1FrP5zcaTr9m42Xh7+HkEH8VrxcVAMVAMjDJQAniUqWC67E4nG090ZOJmYsk/4mzcbDz5mo2bjVd+ioH14yrL9Tm1FrP5zcaTr9m42Xh7+HkEH8VrxcVAMVAMjDJQAniUqWC67E4nG090ZOJmYsk/4mzcbDz5mo2bjVd+ioH14yrL9Tm1FrP5zcaTr9m42Xh7+HkEH8VrxcVAMVAMjDJweAH87bffnt5+++3Tu+++e/rpp5+6vP33v/89vw2Ylzro7y9/+Us3fXanM4VH3j/55JPTW2+9dfrwww9Pv/zySzffP//8851/8vNvf/tbN/0UbvemhRfmsP7973+f3n///bOfX3zxxQm/e4Fyl3+K//WvfzWTz+E2b7rg5Cge+ZW/X3311STiN99885i/v/766yP3jOI+ctMFH+bw8Ik6i4+9sgEeP1SGivG3F+Zwe/ctPT+CR12lzspf6nIvcE1+Km75O4Lbw4ieH8WirGiD8JM26ffff+9C0e7IP8W+HozidkGCF0bx8I22dCrIJ8X3qT/5/PPPz2U4159QXvJP8bX0J5TNSHlG+k/GEPJTccvfEdypuhO5Nof1j3/84/TOO++cx0H0i1OBNkp+Ke6ln8Pt3VfnH2cALv3fU089dXrllVdOf//73x+/IXiGsly7vOinvv7667ucgPH888/ffd7qAE7oXyLhhx9+OLWe04iNSnv/GDi0AGbA8eyzz54Hnh9//PHp6aef7g5a6NhocHiw9McgpxfWbkx6ODo/hffmm2+eXn755RP+cvziiy92xeGnn356euGFF+58xNfW4HoEV2nWiqd8ZGD93HPPnd57773Tl19+efrjH/94ntToYb/66qunBw8ePOJnb8A6hduzf8n5ETwmMai7iEP5SwfTC3/6059O+Ky6S+wnQkZwe/aXnJ/C43mkDPENH/H1P//5TxOGQdszzzzziG/c1wtTuL17Ljk/gke9femll87PKBNy1GU/QaE8MKiAD1uWLX9HcGXz0ngECyGBj+Sbtog26Y033uhC01ZRb62f/hkdwe0CLLgwgkcbSrqpARXC8IknnnjEt/vSn1A/1Z9QNjynvYkMhDKDXluG19KfUPwj5fn666+fhQZ1lvpKHe5Nro72nyO4C6pn85YpLMQv4xrq3meffXZuV6xo8QZJCwe2PH0afZ7CVZqKxxiAS5476qD+eLYYq1EmfmJwzOr/UvFMUqZrBi9EwaAv3zpQl1v94RQu/MJrhWMxcGgBzCDzr3/9612JswrcawRYjUIwjYbsxr+Hx4DxySefvBtM03HTaPY6OQadiI/R0MMdvT+SbgqLzptBmcI///nP8wDTizxdRzDR+Y+EKdyR+6NpRvBYeXn48OGdaXyhnH/77be7czqgzLk2tcOBtCO4srlG3MPDB/Jrywdf8bkV6PCmhJS/p4fr0631eQ6POooYsuKOtoY63QoMImir5sIc7tz9kesjWLQ5tD0SDwh8ytn6bTERGlNiibQjuNbmpcdTeEzQUE8RhKSbEsD4hX+jYQp31EYkXQ+PdpVrdjKKCdXegJN6Ghn09nAjeY+kncP78ccfz3VUk1HqP+24weLRDo30n3O41ualx1NYiPsPPvjgDgIRQHm2Av0Hz6ue31Yae24K16ar43kG4LIl0Gg7uTZS5+ZR1k3hBfC61te11uN3XZSydm0MHFYAsz2DSq+OjYJhUMIArRVYoaEzZ7WJhmhuxg3bmaGHx5YlVlFsYLsTf61A54fYZ7DKn+Wnlb6H20p76bkpLN+Rg8UER2sATdkjOOjQKUvKdKpTn8K91KfW/SN4rOay2mADOxhag27tXpC/33//vb3t7ngE9y7xCgc9PLYjMattA2KQDrUVNOhkUErdtYPzVvoebivtGufm8KijrOja4Cc47LXXXnvtLI7n/J3DtTYvPR7Bak0wMmnFSoYPrCjyjFIXpp7REVxv+5LPU3hM2LALgwkc0rWeRWFTvky2qj9BWE6FKdyp+5Ze6+HRJ3iBhMBl4rQV6HsQx9fYn5Dfnp/yhbppJ1Y5r69MKY2N4Yb6OufvHK61eenxFBYTwd99990dhMZFrYlj2hvKU8/k3NbbKdw7wDoYYgAuqVetwDWN53gWGavSV3KeYwJtE5OqnOOPY1t+9K92ezLjIUQ19YP0xEw023ES7Ry49NWkYbylPP75z38+T5ZwDbvUKzDsIlLrfjum4R7uZbxCvQODCRgwbT48J2Br0g0fsUHdZcIRG+RJkz7CkI/cS8A+aaz/fJ7C5T7aC02AYhM90RqD+jzX530YyFVpO/hIJWwFBif+Wuuc7kVw8PAx2GaWn2Meql7wtnvp1jrfw2NAZlcKwWud47wGnTQYDGhoMBiY91ZouKeHu5Zf1s4UFg2+X4WgsVWDbO0w6GRwjX/4iY/c39vGN4Vr7a51PIJHGXnfWufIE6IQf+lE5C8TBr4xH8Fdy0fs9PDwC19saJ3TdToZxD+dF88pHdyU+Ojhyt7a8RwevvlBNud6gp9OmTqLv9yH73Ywo/zP4SrdGvEIFm2n36bfOkd+WHnDJmWLUKQ+IC78hNwI7hr+ycYoHumm6iDPH30IbbP6EyYre2EUt3d/9HwPj0Gxr5eUqT8nPJ5F6ivtDnWVY8q2F3q4vfSXnp/DwzfqqA2tc1zXxAd1FX+pr4iC1uTGHK7Fu/R4CotrTIza0DrHdUQFdZY2Fk44lpCw9+t4CldpKh5jAC7pE3xAXHFNYx/aSsqFSVLEGNcZv/Ec0s7w7FHetD+cU9lTp215MVnJdTBZ7GFCh892FxYY9ENgkEY2mFABh/EVaWgHGVtx3fbrtBncT3ruRyAzTtFqNufIE2nwBZvCmGorsaudnGBjg3YHjpgIYFKAc+SbfCkNdVltE/fjL2Mn67/s+nLgM1yRf/LKPdjCf8rD91ut++tcPgNtdZifj80Q7UNtQVTp587pOpXaDjJ5ABl4XrtoosHQrJZ84VxrwEIHzjW7gkZDyUPcCz1+e+kvOT+FhT++g2idA5+GicZWAhB/1ci28jeF20p/6TmPR7nQoOqPfNOReH9b58gLM/bUXwX8pe7SuNvgce21LY57ePhlO0qwW+eUJzpMdeScoyPr7eTgeg9X9taOPZ7KkZiVFnzzzyPn7Gy58kTZ46+dlGJFisGGDx7XX1/zs8eiXbR+UodpR2hfbGBA4c9xHdFgVxy4H0HhB9we19re4ngUj3T0Mb3AYIznUoHynhoojeLK3qVxD6/Vd7TOgU+ZUVdtf0Jf1KrXym8PV9fXjj2erbMMWvHND3o51+oT8Zdr1l/6T/588Lj++pqfp7C4hs82cM6OdXSNiWOEkAL9KGklGnRe8RSu0lQ8xgBc8txQF/WHoEVw0S5qHMo1Py6lf2AiRmlA1BiCiRoC9Vblpa/keJHJZ9oo6jn9Len9IhD4tGUE+jQ+K4Chfp1VXe73u9EQ2MKgXpLGt/mssFq7sq/Y4mqcb8c/pIMj8qMAjvItXO8/bTbpWhNa2OE6fZYNwrdtvb1ex/sycFgBrMbb0s/DyEzRSKAR4GGw31O093EtM/TweCD94JqZ3KkGxOabRkGNlj2v4x6urq8ZT2G1tgTTMXiR18sPfPQ4mcLt2bvkvMejDDinPxpobS20OJQTs5ojgRl8Znlt8Lj22hbHPTwGWnTYNsBBS+TZNDpW52wHorpG3MO1adY89nh81h91jjpKp24DEzT+ubXX7bE6WXuOY4/rr6/52WMpT/KT8sNXbU0TNj76QYOu+ZjBkefE4/p71v48ikc6OBgNDEin7hnFHcWbS9fDY1DoBSwDSQbjI4HVHga4vUy6QEUAACAASURBVNDD7aW/9LzH47P+8Iu6Sd9iAytIvb7CpuO41396XH/fmp+nsCgLW081rvGiuJcf+hx8bIUp3Fb6OtdnAC7pI2j/9MczR/20q4vUS99GMg6S0LUIbCXWRDF1XeVF/8sxwpnz+sM257UFnuPWVnlhkA/7nGBHY0nyzf20ezZIGDMBIyHq65e3a+/n2F5XP2TrOGnIB/lRIC/CQdTz2QtdfT1gakzJJAN5Jw3CnbYSWx5fuBXvy0CuStvBVypfK1BRafztylFv0EkDw4PMA6Cgh/NaB9nKJwMOLyaYvW4NOmnYvChi5owGtBd6/PbSX3J+CssPSlS+rdlpZur87B6diR+cK69TuEqzZuzxGJRQ3/RHp0F9tPmdGrhQr32jTSehrUbKu8fV+a3iHp6eLXxS6E3akBYubFo6G55t37nKVg9X19eOPZ7KkZgBBHWU/NoZ+t73DFn5xV/rG5MezGj74HH99TU/eyx8sX5SPny/y6+c0TYx4PKBlSb7fTCu0zb53Swe19tZ+/MoHul6gx64oQztAIt6wD12Zd/mfRTX3nPJcQ8Pn6hrtv4xmWa3RgqXyWF9N1HnaIc06NY5G/dwbZo1jz2erbP0+9RNDdqFSx32dZNr9J/6zqXS0n+2Ju48rtJvEU9hMZGqgT/YDN7Z+tkKtMG+TrNg4FcBde8UrtJUPMYAXNpy6t1Fu0LfbgP1l/M+INBUtxGDKi9wOOa55j7/RxulNN6m/WyFKOetAOa4Vc+oX2AT8yy2/PZ2LSbH9rq1Z9NNCWD5Br4NGmP1yoHnn52E9OX6upm2W/vnxtqt4/0YaKvD/fKzOrIe6pZhBlP80ZkjZOmYVbmp7BxrYE0nRkNAWgYw17Q1GN96fpJXHkpEH4GHlIZHDzeDb3VgnGNLjcQSgh9O/PYRy2UP16ZZ63gKi8EWAzNNaNDA2oEHEwH4TqBcbVoaJxqtllgm/RTuWr5ZOyN45JnBhwbRNLS248Nf+YMApg5oAgdxgb+6V9gjuEq7RjyFhy8aTJJPfFUnwrOq51T1WwNwBq181xAB2QtTuL17Ljk/gkdd1YQEdZj6qfLDf/lLe8Q1pcVfOls7GaK8juAq7aXxCBbtC/VOzyFtkt2ax3nqLYGYtNphAxe0W7qu/I7gKu0a8Sge6VRfwVV/oglT6qj6HvoU+hbO9cIobu/+6PkeHnmlT5AApHwoFwl36qr6E3zlmiYbaX+YTFXdbeWph9tKu8a5OTy1L3r+KNNI/8lAu9V/zuGu4ZtsTGHRN9D20I7gKxPBdtICv9VP0KbS1pCWQDna51d4iqdwlabiMQbgUnVw6g7aETsOIC2rkH7ikfOMYTVGsgKYOg6e2mnhUe7UBeqJVkn13CsNedT40QpRrlsBzDMBhl9Bll36QPqLlt/errAV2+vyxbbFpJsSwFqFVt8ju3wmP60JW9KwQg/Xej44J1seXzYr3peBQwtgOmgeFgbXdGoacFMkdNY8JBINPOgMUBh88sfsmAYzrSLkQckMU3g0ZAxa6Kz8jC0doN3SxmoS6fiDExqtqTCFO3XfkmtzWDSqlA1ij4GWbZwZbFqRgF+kla9TW4fncJf4MnXPKB6r+JQRZcrARAMVbOMvZUtg0KqXWsjfViM+ijuV98i1KTx8wSc9m3bHAqsUPJsKfKbzIS1liu+auFIaG0/h2nRrHY/gUVeps9RdfLCDZgYF1l+eZ/xV2t5bMUdwM30EC18oJ+ohbZIdZPF8UnYK1F+4wHfu0SSerhNn+hjBI8/USwX1JzrH4I6+B//4Y4B6X/oTBoKUHfWPcrEDc8rX9ie0M5S16irtEO1RL1xjeVJHKU/8wF98VJjqPynXXv+Z6ecUFmWBsFU9RADbthO/5S/nGfeQFh5on20fK04UT+EqTcVjDMClfc56d7UEMHWUhQ0tDnAv5cYEoyajqKcqL036UNY20M9wD6KVP47t93OpHzznGmfRvlkbYFCfCFps0cQ156iLtB20LUrT8tsK3HNC989ejwhg9S/4Tx23fREQbCPnvH0+LDR8WA2he/ChBLBl6nqOc1XaDn7roZ6C1uznVBpdo/LzgMyFEdw5G5HrI3h+tm3K/tRgzN43gmvTX3I8irW2n6O4l/hm743g0Wms5W8E1+Z36fEIHr5NDZgt9uhzPIJr7V56HMGLlOUcNxHcTB/Bivg51RZl+ki+18ajP+kNqGyZrI1rbbeOR/CmysXbnKurSj+Cq7RrxBG8teos+Y7gXurnCBZjmpF6SF5Ia1e5evkbwe3dW+cfZQAulwpgygtRyGQ5IpZJKIQcYlNlbgUwyExcIeiY5ECk8j148qDdHKThGGHNpAlCmElZ/vScgMN1cBC8VgBzv1aBmfzjflajyZedJGz5bQXuoyz93yd7fVQAazJP35VmQUR5x3984LMmg1q4cEsa/MZXFsy4Dx+mFlhatupcDgMlgDfimUqfGbLx5FsmbiaW/CPOxs3Gk6/ZuNl45acYWD+uslyfU2sxm99sPPmajZuNt4efR/BRvN5qjKDSV2KmfERotYQyk8h89QmRxh/HdmLZC2Aw2IXFeVaVWdls4XOOa6ThaxF2YgRxzc4tbCCAEaPalSYf7P2ktZNq2Gr5jX9TgtJel/AmtoF82FVZVsfB0lc75D/iF9+4ZnfYWVs6hk9WkUmPCFYesem/uqN7Kt6XgVyVtoOvR2n8j+DnEXzkESk/t20osvnNxhN7mbiZWPJvj2el/LTsr3+czW82nhjLxM3Ekn/Ee+HaPNTxGAMIPLa1VygGjsRACeCNSju78c/GE22ZuJlY8o84GzcbT75m42bjlZ9iYP24ynJ9Tq3FbH6z8eRrNm423h5+HsFH8VpxjAFWLVmh5Hu3bNetUAwciYESwBuVdnank40n2jJxM7HkH3E2bjaefM3GzcYrP8XA+nGV5fqcWovZ/Gbjydds3Gy8Pfw8go/iteIYA7ycj+/58j1c/9bjmKVKXQzcPwZKAG9UZtmdTjaeaMvEzcSSf8TZuNl48jUbNxuv/BQD68dVlutzai1m85uNJ1+zcbPx9vDzCD6K14qLgWKgGBhloATwKFPBdNmdTjae6MjEzcSSf8TZuNl48jUbNxuv/BQD68dVlutzai1m85uNJ1+zcbPx9vDzCD6K14qLgWKgGBhl4BACmA5gjz9eLJARwNnDP2Fm+AiG8PaIs8ryKH4epc4exc89nklh1rO5bgt8lDp7FD/1nOwRZz6b6z4FZa0YKAZunYFDCOA9CpHOJjNk48m3TNxMLPlHnI2bjSdfs3Gz8cpPMbB+XGW5PqfWYja/2XjyNRs3G28PP4/go3ituBgoBoqBUQZyVdporlZMd5TG/wh+HsFHqn75uWID0DCVzW82nlzOxM3Ekn/E2bjZePI1Gzcbr/wUA+vHRynL9Zm7Dov8ru1eZegZeOWVV86/c8t5fluXfNnf0/Xpr+XzXhzCzX3h6FrKKjMfJYA3Yju7wcrGE22ZuJlY8o84GzcbT75m42bjlZ9iYP24ynJ9Tq3FbH6z8eRrNm423h5+HsFH8XqL8V7ircWlFcC//PLLWQz//PPPraRXde6HH364E+6ZGSsBnMl2HKsEcJyzoTuyO51sPJGQiZuJJf+Is3Gz8eRrNm42XvkpBtaPqyzX59RazOY3G0++ZuNm4+3h5xF8FK+3GF+rAL5Frtf2qQTw2oyua+/wAvjbb789vf3226d333339NNPP02yyyzSO++8c/7jeCpkdzojeL/++uvpgw8+mMr2+doXX3xxni17//33z9tcpm4YwZ26P3JtDovftCPPb7311gkf+JH3XoCLDz/88Jz2k08+Of3++++9pFcrgL/88svTXD2kTlO3qePU9akwx+/UvUuujeBRhu+9996s+chzPII7CxhIMIJH3aUeTgW4IA31m7rLDPxUGMGduj9ybRTru+++O33zzTeTpiPP8SjuJGDg4hwe/vGs0U/8/e9/n7Ss/oT033///WTaOdzJmxdcHMH77bffzr7Omf/qq6+usj8h31N+8nypj/j8888n+xPKjxc+2T+2iPbCFG7vnqXn57D4/Vfq60gfwWof/Qlt0Ndffz2ZpTncyZvr4h0DXgDTD3z88cenZ5999lx/n3766fO4h+eR8MYbb5zLUwYY2/zxj39snvvrX/+qZI/F//nPf06vv/766Yknnjg9+eST5/sfPHhwLnsS004///zzd+3cZ599dvrzn/98fgaeeuqpc95YMSYd406de/jw4Ul5xY5wwKDOvPTSSyfaUQXyCA59PDFpnnnmmfMYT2mwR50UBtzY/lQ2lB4OGStiR/bII+cVwKKvevXVV89p4AFubd5//PHH828oK+/gkw+lGRHA5FNl6e8Xxzxrzz333DkfxNQJG+Dr5ZdfPl/HH+xRR2ygP6L8uM4fftnVe3yRr7o+p4ms/ft4fGgBTCWioiCWqCw0JLZC2AKlg+M6D/mnn356PqZy9wIVKDPM4fFAUvl5qKcCjQINEOKKjg5+EIu9MIfbu2/J+Sks8kjDgFgi7zT45L8VaOTw8c033zw3JDQcNMq9MIXbu+eS8yN4NIg0yL4htLjUZeosdZs6TlnCTS+M4PbuXXJ+Do9yYmA2ly7yHJPPOXtLfJm6Zw6PAQD1lcHCVKC+Ulfxl+MXX3zxkQ7b3zuH69Nf8nkEC8FHBz/1ZtjIc0x+R3Av8cvfO4XHIMv2JwyKGFS0AlyoP6FPgRc76PP3TOH6tGt8nsOjP2EwOJeOtoe6TbtD3wI/1PdemLPXu2/p+R6eRAODWZ63P/3pT5NiH6EgccA9/PXGEuS1h7vUj6n7prAQv9Q9BuHUQ8qnJ2wR9NRZnl/6E/pbxkK9MIXbu6fOP84A9c9yybiGMqMMKBO1OxrD8Mwh7BQkwihbBdoaxg9Tk6iMkXh2aasQQtRx8kHdJvjvAFMvsImI4h4EK/mkniCMqWtMhpGGiSWCnjP6Ne7hmaGdII0mEOU/ecFX2lTskRcJNMZ9jG2xQb6YsOI6eATZOH84ne7EMnWd9KQjr0wCKXC/xk9gYpN8aRGJvOMbvHNduKSR+Bb3Pa2AwCa98kG5UHbKhzgmH/hO24lt8qYFDTjDBmMljvmDD9JoYvWf//zn2T/yCmfkV3qAcRY4YMgXlTd5QYTfashVaTuwSCXoBSovlUpBM5v6bGMqi23sOeZB74Up3N49l5yfwuPho3GgQZsSwDSGPEg8QAoMyvUw65yNp3BtujWOp7DovGlEFXjg8aXVwFPm8KDZPgbdNH40Cq0whdtKf+m5OTzED50ZDRYNey/QiKohJQ2NK3W+F+Zwe/ctPT+FR1lQnoi8qXRgR55j0s/ZW+pP774pPOoinQzP5pQA5plEUGkyirr7wgsvdAer2X5O+UheGPBQX8nzlACOPMfZPs7hSeiRjsBAiYFaK7z22muP8MBg1rZf/p45fn36Sz9P4dGf4Ovcs4lIps4y8FVggKXBr87ZeArXplvruIeHYMc/BQae9Ce9wSD9iQabumcq7uFO3bP02hQWokYDeuzTn1i/LSaDaluf8Ze2S/2oTcvxFK5PW5/7DFjxRvtPPfRjMgQUfPOs0XdyLAHJ88b4lXMa2yGWONcLlK21QTrKmb52SgBzjx1zMUlGu2/rCLiyQbuHP35SjDTUTYL8txOE8ACWxj+MxfmzOIhajelkA3uMDbnXLwZINHOdQBpb3zlHu61+GtHI+IrYBibL5N+cANbCm/p17MC9fJUApl+0gXZU5YfoJx/Wd47JPz4RtNqNaFegLmAHDJ5tytZexwbnptpr2bqvcV8d3lePXL6pBK1AR8Y1W/GYjWGA5oMqkx4mrtPQ0Ln3Qg+3l/7S81N4NJY0kBLCPSxmlOwsIel4QHlIemEKt3fP0vNTWL4jB4OHt7XdkokORKQNNCa+kdH1KVylWTOew6OxopNh0KUOoIXPIJVyV2BAim11gjqveA5X6daKp/DoGGm81Vn1MCPPsWxM4SrNmvEUHh0THR7lqI61hQ0XdKw2MIjhrxemcHv3LD0/h8WAgI6WeEoAR55j8jqHu9Sf3n09PJ5HrtnBkGbzW7boOxi4KPBMcj/PaCv0cFtp1zg3hUefwOBSg7seHv4xsWgDbexUPZ/CtXbWOu7h0T/QztqAMLTtqa5pMM74gOeYftQORpXOxj1cm2at4yksBKwG2+CpPbUiRvlgko52WUHjIjvBoWvEU7g2XR1PM2DFm545OxblbvXtEjyMDXhOCUysUW6c0xjHHjMJC4b+6HO1yuhzhiCUuJM4I08E2nXs2kBa/7zzWTaIEcjca//IM+M3gvy3bSvnqV9cs2m4BzGIT1bMyQZpabu4109maayhZ5w0fqKh5Q/5YpwJt/JH/qm8xNE5s+YfK620kfwxWYAot5MB4tiP2ViAY+LABuoEeSfP2p2jvhbONaFg79ExYwvKzpYBx5ybWujT/fc1bqvD++pNI9+9RlgV097SOsd1VUL7AOqcf4hkr4er62vHI3j45xsomw8aCTo5GzjnB972+giuTX/J8RQWD7if0UPUqoG0uDROahh0nobdn9O1KVylWTMexaMsW/4pLwyyfcOLbX9O6Udxlf7SeARPz1kPq/XMts7Z+0dwbfpLj0fwKEc/ULC41E0/EdU6Z+8ZwbXpLzkexWo9exY38hxz3yiuxbjkuIfHQMZfa50DuyWWW+dsPr1te22L4xG8ueeMOu37m9Y5m/8RXJv+0uMeHvXQ9weck6iwuOKBvpP6zSCcvqc3mcG9PVxrd63jKSyuUU9taJ3jOmVpxbLO4X8rTOG20te5NgM8M+KSyRWO7VhUd3Fe9ZPJG+qgJmcQUNRNRJDaJa10Uq7cqz/wqPt+8gocbPBHUN+s8uce/7yT1vdrfJYNxl0susiuj8GR/95n8ss1BfLB/djjGsJaCyCyYe3551P+yKa3z73Ylz9MANEnkw6/OYYDJspIR1DbII7OJ90/yoGJcBYssIWw1aqr8uR9Z6xLWgKCmTE6n8GmjJkI4bPaMK4rTw7+/JH8s/hHGv/nJwFa99/XcyWATcmpsppT58NWJWyds/epctpzWx6P4OGfb6Bsnnjw9XDrPOdaq+K6PoKrtJfGU1jkWw2XcFrnuMbsvhoGpeWh9+d0bQpXadaMR/EoS++zzQd2fMNLp+DP6Z5RXKW/NB7B03PWw2o9s61z9v4RXJv+0uMRvNazZ3Gpm347Fuf882rvGcG16S85HsWaes7Abz2zrXPK6yiu0l8a9/DYbuiv9equzhMraDXNntM1Ym/bXtvieARv7jmjTvv+pnXO5n8E16a/9LiHR53z/UHrHPgIClZktOrLwJo+c2rg2MO91J/W/VNYXPN1jnPaPmvtUZa+7+CcRIZNy/EUrk9bn/sM8MyIS1bbOWbXkA1qU7R6yXWElH3euKbVVr/QYW1xzIoxOHaHJOcRebThBGGqTvC8+OedtDw3NvBZNtiNp5VemwbbWlyS/616yjUCae3KKauh+Kjt/LJBWk0i+FV0teHiFv9lX3mz/ogj+a80mgjjs9pIn0Zpmfi0fuEH41OwdY1jv8sCwSzeyBOiX3xhm9Vv7lMbRrkxIWID7RV2aL/s1m6bBnFuebXXbuH4sAKYyk8FsYGKz5YgHzSLZiuqtkvYbRb2Pm/bXtvieASPh9A3UDYvNJD+OjNJvgGz94zg2vSXHE9hsU3DfkcbHBo/trv4QIPht7fRAGj21KefwvVp1/g8ikdZ+Qba4tNA/r/2zhdcmpv+4qaiAlGBQCARFQgEogKBQCAQCASisgJRUVmBQCAQFQgEAllRgUBUVNQhEIgKJBKBRCAQiPt7PvN7z8t50yST3cnN7p09eZ57ZzaT5OR78vckmd1yxZ60y85UcUZxFf7odQSPNtcLd0k7Vn576SnMzOsIHuXYa2dMpsvnDF6aSNTyO4Jbi3eN3ygW+dWgXMO5pB0TfxS3hnWNXwtP9dR3FehvW6/JkI7vvCl+a7LRwr3GhpE4I3ia3LXSY6KpSZrCUM97k+8RXKU149rCYxelrKdMIP0IcA+f8eUltM3ylBD1F058riM7EfUSWPK7pwVV5elsV9qM6imihXG/fN+VV2EoS/UfhKNsaH+qhzwjHea42mFscUVY0vM2wC4yfkpPfZbEHWHL+SNhy3GLz0qD+Ql58nmMFpCYk+Fkf1knPR51k2O/7hCSNQFM+nCjPCgOC8z4qw/39BXG7cFewrgGUJ+otPVZHCkdXTmuDWfCxF+7uy6AlR7PKRsEr+aw1IWyT5U4V/kxj2dBxMccjomTf/w4vs1znxsiqClv5hlndW8qwBNaSQHXHJWWwvUK0Xs/iQrHgC5H5Skbu55xbeF6mJn3I3g0wl6e4QJOvEHTsbJK13IjuK24l/r3sMoJh8q3XOUDE6GszlV5gBcvX/lz7eF6uFn3o3jk2QeOEh8bfVGAAYxOzjtbjzOK63GO3I/gaZBt4aicvR1jcznoevwRXA9/9H4Ej3Ls5ZmJQikmKN+XsMvk/DGQa1B2f91f0o6JM8Kt0p5x7eFxZNB3zijT1usjHHdjDJGjfBljWq6H24pzxH8ET5O7Fo7arvc397RoQ75bdvLFUD6hlqCoTWQpZ717KS6YfL+EcZP66WMI9bd29BW7ykUBJsjwx0S95lrc1sLGr80A5eNc0ldQRogehCwCiHG9fAVMO4m+CYAgJK3avKjMgY7RIgxpt/RPCE2JMbVvtYlrBDCYiEDyT3uj3YEBlo5oy/6eAGZhhjTggnyQFp/VxyoN2Yg/z1nUgkPeOWbu66cZ4MnbBnGxXeM0YlFpgIkd5Jty0Rcaqo8UR8LXFRsR3ZQLtjPfpmwlbsUxixaM94Rh3sf4od152ab2ie3iUOKV/gtbwaJfIq/YS3o4nmMX2DwDH1scR3k+07WuDk9koXccpVk0bP4ofFZVqDSq8Aza3GvwpqJQQfjMHwNHbyLXwy3zMePzCB6NsBTAdITqJMgHjVd2ISpoMD6pK/M6glvGufZzD4vOiLxKCGGDr4oxaOhLZ+hUaOjqlChnGrsLf89jD9fDzbofxasJYGzxgYMw1G3qOAMi9b3lRnFb8S/1H8HTAOBpY4/aKf69duzxdD+Cq7AzriN42KOBVZjUV+otjrpJHdUkR18wVE4KFJfrCK6HP3I/ilUTwPQ/mpDtteMyj6O4ZbxrP/fwmDhw1Iy2xuSESY2EkcYT6i6O0yaMIfhTtkzcNFmp5a2HWwt/1G8Ej/6zDEff4+MJdVqTOZ4xkVO/W8tjmV4tzEy/Fh71kTFCOyIsNDE/oGxxPp5gr4892EdcjTe1/LZwa2GP+vWwWPRnnKS+Ug+pv/7Fej6eIA4YTxC+8EA4Jt0t18NtxYn/1xmgLmpOpqe0JfzoT5mbqv/Uc67UXcL4AgVl2Drp5nF1Tx1GMFHW3BNfIpE6Q/oag6j31Cd3hPWxmmd8VhoKy+YDONhDW/M8y34JPsUB2+3GXi2wlZwoDcXlyoYA4TQmad6kMGX6+Jf2kK4Wbck3/Ts8wTFtBG6cI6XtV9oT4ckHHPhGjOY/+JE+YeC4nKvynDJiDGKOwHMWBTRfAI/8sBhCGMJqbqG88Jw4PAOHXWTGpzO7hxbAVFYGaAZlBiwN1BQ4lVKdPZ+pCKysMNARlgpChWm51Z3/CB5CtnwPgMbkfnQKTNyYbGOrJnD3YOeejeSVPJN3bMAWOUSSTzCZtFDu7KpRzvcyWSG/e3bKJsrNJ5v4Y4v7Uaepr9hKXdcEXGn4dRTX4xy5H8FTO3Qc6jF2yvXascL4dQTXwx+9H8GjzMrFCeqr+1FHmYRTZylPL+daHkdwa/Gu8RvFwqZykkQ9dr9eOy7zNopbxrv2cw+PMQIBQR/EHxMNjRGqx1pMxJ8xRGEZW3qTjR7utbb04o3gle2Q9KiTPp4wqUToa4xlEtdzI7i9+Jc+6+ExASTfjCe0u954wiSXfpZ+ifC+61bLUw+3Fv6IXw+Lekg9VT2k/no9LMcTdssICy/sct3TeHKEo8QNA/fIgARwb9HwHvP9UvL00AJYhaTVT33uXRkcfIBohe0NOq04R/xn4/kKXC9fs3FnYI3mHayRsCttJE+z8VgNLFdPazzPxq1huN9svNF2PBvXbardz8YbqbPkYzZuzTb5PQfWiJ3PgSubatcRPMaHcoW+lhZ+jzSeaDGgxQX+I/z24l/6bASvJ/JKvNGwI7hl2td+HsGivo7Ma8gD5XiP48m1/CReGLhXBiKAn7dkIoCfid+RQWcm9Go85X0l7kos2cd1Ne5qPNm6Gnc1XuwUA/OvKcv5nHqKq/ldjSdbV+OuxruFnY9go3jNNQyciQEWgTkp5KdPzmTfrW2JAH6mElg96KzGE20rcVdiyT6uq3FX48nW1bir8WKnGJh/TVnO59RTXM3vajzZuhp3Nd4t7HwEG8VrrmEgDISBUQYigEeZujDc6kFnNZ7oWIm7Ekv2cV2NuxpPtq7GXY0XO8XA/GvKcj6nnuJqflfjydbVuKvxbmHnI9goXnMNA2EgDIwyEAE8ytSF4VYPOqvxRMdK3JVYso/ratzVeLJ1Ne5qvNgpBuZfU5bzOfUUV/O7Gk+2rsZdjXcLOx/BRvGaaxgIA2FglIEI4FGmLgy3etBZjSc6VuKuxJJ9XFfjrsaTratxV+PFTjEw/5qynM+pp7ia39V4snU17mq8W9j5CDaK11zDQBgIA6MMRACPMnVhuNWDzmo80bESdyWW7OO6Gnc1nmxdjbsaL3aKgfnXlOV8Tj3F1fyuxpOtq3FX493CzkewUbzm+rT93CFfnNRz/LwVP92F43d5V9QR8uQ/X9jL38gzfUNy+TvDI3FnhuEniuCP/FzryjLw8rk2zcTbZ+AhBDCV8xZ/6mD2i+FYCHBuYZ8wj+V+PLbwbnFdVZawcQv7hLnKzkeps49ip+rPLa6r034Y+wAAIABJREFU6mza5ppxdHxEOBYybfP5y3Nl2zxWG84T+4c//OH2zcE9i/g99j/96U9bkFJ89eIdeTZbAOsbkv/85z8fydbhuHxDM7aN/GxfCwwbfNEiArjF1Fz/hxDAcykbS42J4Eq3Gk+2rcRdiSX7uK7GXY0nW1fjrsaLnWJg/jVlOZ9TT3E1v6vxZOtq3NV4t7DzEWwUr7mO7QA7Ty9VALsNZ7uPAF5TomtV2hqb3kB5lM7/Eex8BBupvLHzjSY8/cNqflfjibCVuCuxZB/X1bir8WTratzVeLFTDMy/PkpZzmfu9in+9a9/3Y4Nf/XVV68z84c//GHz45nc73//+6fvf//720d2gH/2s589ffDBB09vv/321kfi578l+4Mf/ODpt7/97Ra+JoA/+eSTp29/+9tb3G984xtP7Bj/97//FdzXrn/84x+fSJN4hKfOkZ+//OUvr8OWO8B///vft3wqPHn9+c9//sZO6j//+c9tZ1RhvvOd7zx9/vnnW5r/+Mc/Nh7AxmEP8cnDN7/5zS0PHl4Z+c1vfvP6+bvvvvv02WefbemQXs1hN/a/8847W5pcf/GLXzz95z//2YJjI4JV8cnDr3/969f8v/XWW6/t4hmfsZU0xCk2kIZcKYCxGT7hlb9vfetbT9ghJ/45cUH62KW0FSbXrzMQAfx1Tqb4rB50VuOJpJW4K7FkH9fVuKvxZOtq3NV4sVMMzL+mLOdz6imu5nc1nmxdjbsa7xZ2PoKN4vVsV0QMYs7Fzk9+8pNtTuJ+P/rRjzbBhf2IXcocwYlwRjyRxo9//OPX9LjAKgUwAhIR9bvf/W57r/WLL77YBJcf0X2d0Ksb0pDw+tvf/raJQUQ4whURiysFMCLtvffee0LI8/7sp59+uglDxCYO2xF9hCMPCGZEIzjYVb4DjPhDWJLml19++cSxYu4RrBKrpW0sJkhct97hhQfSIA+EQWwSB5GLK98Bhn+eYy+2EZ/yQLR+/PHHW971+oXEe1kGXj7Yis0fffTRtojBQgb3pImdOOJjO4IfPC1ubA/zr8lABHCTmmMPqJwr3Wo82bYSdyWW7OO6Gnc1nmxdjbsaL3aKgfnXlOV8Tj3F1fyuxpOtq3FX493CzkewUbye8fr+++9vohbbEIWIK4SdBO2///3vTSDpnV4EGKLRHcILESfnAsvFF0KRcL/85S8VdLsi1KhHiNCaUxqIXznSQngrLRfAvC+LmPWdbeIh7sk/DnEHJgLTHcKa/NQEMOEluImDaMVPOOxqf/jhh57c9mVghGkJYHbS4VMimsgsKujd45oAhl/fgeUzZeYObvSOvPjTcy8f0icPnh735Jl4OMVXnpROrn0G1qq0fl6e5SmVZMRREfdeYqdy0Wj526too7gjeRsJM4L3r3/9a1uB2kuP4zR0VqzEtToFpTGCq7BHr6NYHElhZa/n4IKOGTtZSfXOrYw3ilvGu/bzKB427tVDBiQ6fDpQHR1q5WsUtxX/Uv8RPDp6Vjv3HLZhI7b6IFyLN4Jbi3etXw+PyQv1T/WQzy0HFwpL3d3rr3q4LYxr/UexmJBootbC4igZfQ+c0Bf5wF/GGcUt4137eQ8P+6iHjBF+/K+Gp/GE8FrJr4XDbw+3Fe9a/xE86ip533Ps7NzjeEK+e3bSvjRGsKvSq4eXtOM93D0+L33es9HTopz2xhN2n+hjKU+OjvbcKG4vjTx72sQeO4DUMcQQAhjuuVInda85DAKS8nGnHUf5ucCSeOIZQpFy46gucfSnHcdWmZMGO5ylQ6RLqJMncN3R1zN2s2NJX4IolABmrOvVoZoALtOXOOUKFumV4w/9NP6tuS59M/yTNxYjsNXHXmEoPvlHyLurlUmrDIjnz5QOZQP/8PLTn/50yzN5wakMVQcUJ9c+A2PqsJ/GXT/tNSBlXJ2DKrD8/UojYGWMhsoxCu6p+C03gtuKe43/Hh6dJ+9olB1EicXE83vf+94mIBno6NQQiy23h9uKd43/CBYDNHkuBwDHY9DARnVmrMyVHZaHH8H18EfvR/DoCOmU1QHWMOGCespRHYQEvPQWBkZwazjX+u3hUU4Iib1wcIBt2Iit2IztLbeXXivetf49PA2W2OCThRoW9ZW6Sljuv/vd73Yn5T3cWvpH/EawmFwzaaO/bTn6GlbpmXBRV1l5px9quRHcVtxr/Ht47Ep4PeRImnYeSiy40HjCmAIviOeW6+G24hzx38NjPGEnZi8c7ZEypCwZW+DHd2jKPO6lV4Y/+rmFx0SSfDOO0N44itkT+5e0Y/Lcwj1qTy3+CBZ1d288YX5EnaX90tfSTpkLtdwIbitu/P/HAG2NvgShyIIM4od+En4Rb9RR/ORqYktzXIVxgUX9VllJzDEWkW7511ogIY3a3BIhTX5wpOVhaE/g0ieAxy41YRWePNMvthz1kfhg4wjv6eMne7gqfLnYyII56fTm//TjzEVIn7CUB23AMRS/xn/Nj7TIM87LgM/+jP5S7/8y5tPv6li1bC/jb4nm3y4DDy2AqbA0PCrVXgPQC/5ilI6f9y5ajvRWuh4ejZ8Ghejj2nKsajEIunig4bLi1HI93Faca/33sJhIMkBjJ51tyzHYw4NW9BlM6Ghbk9U93BbOtf57eIgfBg1sVQdYw2KA8UkbE2wmLS23h9uKd61/D4+yQOypbfYwsIkyldMOhT6X1x5uGXbG5xYe5cGqsuohEx3KtLZzSJtk0NViFHF436e1Ik++W7gzbCrT2MNi4oZt5FmDfpkGn2nDflSMI3f0Sb7i7vH2cD3sjPsenoSecJjQMQGsOcYd54HJlNtdxunhlmFnfO7hMZ5g617b1MTdv6yHhUbqQsv1cFtxjvi38BDs2CfHJJR6qC+6kT/XS9qx4rVw9XzmdQ+LiT39EP1obzxhUcrrM0LC+68yz3u4Zfh8bjNAf0E50UfQR+KY59CHUAbs3svVxBbhvDxcYLl4or8lXDmusCDEGNTaYSQN+vfSIdyYr+BcADNe13CYZ5N/nEQe/Yg7+kp2cSVoVWexsZzf0leBw5V0aMPloo3yIgHrWNzT9v0ZHFEejMc4YShMjf+aX6sMSNOfab7nfQ+2YJds9zLcMpV/QwysVWlDWZobiErScjQiGg2NmnCqwGV4Jps8d4HEoK4GUIbncw+3Fv6oXw8PAUuHRkMtOwjHZYURYeWOFfx72R3t2UieET6s5lGmPQFMOHXKspWOVwOL/HTdw1W4Wdc9PCYiCALKUh1gDZtJqg9k6jR9gcPj7eF62Bn3PTwGOQZADcgtPB1rkjAkHO0aodVyPdxWnCP+LTwEEqu57mhrtQUnuGAy4Y4JEX8t18JthT/iv4dFe6R/5Ur7bDl2MuDFHRPz8tianu/hKtysawuP9sgzH0MkjGrYjB2+m0KbJH452VPcFq6ez7728BgTmHBr4tfC1o6/P6eP1QTX/XXfw1WYmdcWHuMD/aw7BLH3p3p2STtWnBauns+87mHRh1B/KZfeeILg0q4X+dO8yBc4PN97uB42930GWJBhvPcNCuod4rdcIKyJLfpcLw8XWKV4Yt7AfEgLs+SMMYn4rbmD0vD6o/5BfbcLYEQo6fnCJmnTL6p/oC/FNp+XIUbZrCA/PCcNYWJjOb9VHrjiGG8JQzo4+lvtrnrfvT189Y8xmYUH5wMszf+Fofg1/mt+vTLwZ2y00fbcwQm2a64g/j1M7vcZaKvD/bgvIgSVZMQRThW4DK+G5s/l56syHm8U1+McuR/Bo6GWHYRj0ojKhoZfOfH2OCO4Hv7I/SgWnVNPANcm4XrnpZa/Udxa3Gv8RvEoS3X+NRw6aHX8ek7apZ8/0/2K64idamet/Gjw8ec1P38+guvhj9638KiHZT3lc03UUqfLhaian+e1hethZt2PYtXanueBiQKTPXdMxlr1fBTX0zty38LTMTpPu+bH85pYrvl5Wi1cDzPzfgRvr51RZuV4U/PzfI/gevij9y086iHtyx1+iP/SXdKOFbeFq+czr6NY2NdqZ+SHsmRRxx1+9zKeeL7Odq+FXt+goCwo2/IkIuVYjivUZa8HlJvqN2XuzziBhMhkwUeLOzzvndxQGuwCc+qMTQbS8BMD5En9AQvbwiAfhGehk7kmAlwOgYcIJh1eoSA+4wGbVpobqM6SjtJXfPVRqqMIX9Inn/DEAgLpYZ/P7xWfKws85BURDAfYQZ4kPoWh+DX+a369MvBnLDqRP8Q7NrJITNmQdy0Wi3/Pd+73GRhTh/vp3G0Ib9i9TPYagBqaKjjp1Pw8/VFcj3PkfgSPhlp2EI5JI6KhusPvXnbTRmwk73QS5QDgNrG6Txh3hC/99HwUV+GPXkfxKEt1/jVM0lHHr+d0/KWfno3iKvzR6wie2lkLS4OPP6/5+fMRXA9/9L6FR50r62nND3zqpk8m5Fe2V89rC9fDzLofxeq1M/KCPWWdrvkp36O4Cn/02sLTF6l4+q26K3+uctpNcz8949rC9TAz70fw9toZ5ViONzU/z/cIroc/et/Co86V40HND3zqtL9qIr+ybXteW7geZtb9KFavnZEXyrIcO/DTDl+Z31HcMl4+1xngFJAfdUYEUkfLd1ppY2WZUG5en9lBVFlystGfgY5QROBRhzkJobD1nP3vHVb6L4Qq7aHMA599N5cdXwScxgREvvLiR605SUIeCIcY1DNOfZFvncwkj54+eSU/hPF+lfgce4ZP0iZf1FXtCtdsRLBL/JIXP70jDJ1Cq/Ff8+uVgT8jP5zOZGEcXlkgxgZOo5AuTrzV8h6/NgMRwK+4oQF4I3HKqNjlcx3NVGP08Nyv7vxH8OggygmJ55sGVT6nk2BgbLkR3FbcS/1HsejwepMPdeqOzzsdtdV9wozienpH7kfxKCt1gDU8VlTLFXvSvpcjayN20iZ74ej4y+d6N63GCX5l+Fa4Wf4tPFa9y3qKyK2ttDMZKdshE40yvue5hethZt2PYpHfcrLleWA3o3xHi9Vun/h5+FFcj3PkvoWneupHmOlvdUyuxCQddojlFL81CWvhKv7s6wge9vXCMWmjD3JHf1WeMvLnvfQ83Kz7Fh67LGU9ZafIjwArD5e0Y8Vp4er5zOso1p4Arn3nwD0tqM7kLGldxgDterSeXZby3NCcoipPGOko+VykpPYSGIgAflVKNN6WACYIR08Y0OVYQSrFop5xXd0ZjODtCWAmZEzYXNSz6sQA33IjuK24l/qPYu0JYCbYCF53lKWXrz8bxfU4R+5H8fYEMDa6mGDFlaM7Pkn3fI7iepwj9yN4EgYtHOoqddbFBDaXYtHjj+B6+KP3LTwm0+UXH7XeM2QhoxQTlK+OYdXy2MKthT3qN4q1J4C10q/8qHy1yi9/XUdxFf7otYfHMTn/AjMmha3XRziGxxgiR/n68Ub569rDVZiZ1xG8PQGstuv9zT0t2sBXy04d/RSn7NC3xN4l7VjptXD1fOZ1FGtPAJeLAjqW6+9xer5HcT1O7l8mAy9FANP/0E+z2UGe+ezHmV8m+8n1tQxEAL9ijs7aBTCDNg1EgzcDIgMEn/ljYlOuEHshrO78R/BqApiJpU/EWJ2XXYgKBn2f1LmN3I/glnGu/TyKVRPATDB1bIVyphOEDxzlzOTThb/ncRTX4xy5H8WrCWBs4XQCjnvCsKvEBI6j3+UxWs/nKK7HOXI/gqdJtONgD7bJYRN/2Mgzdir8ucLpOoKrsDOuLTzySj3UETZOYNDe1OdQX7WDT92kjmr1mmfE9T6rzGsLtww34/MoVk0A0/9I4HI6AQ60oEFbfgk7hnDI8TR2GKiHnBpiMYMTNDjKlDpJmeOYgDGG4E/ZsvPNZKzlRvltxb/UfwSvJoDpe3w8YcxkUQPHM95bU79by9MIbi3etX4tPOoj7UunZVhool+hbHE+nuy141reWri1sEf9RrFqApg6q/GEo6KMJwhfeGBxHFHccqO4rfjxfzkMMB71TiPdiyXUW44Xs3jMuEJ/Xftiu3vJb/LxvAxEAL/iVx276KaTdz8mKryEzuSMgZHGrsFQcfy6uvMfwUPIcozLHZ2B+7FLyMSNyTa2agLncfx+BNfDH7kfxcKmcjKJQHI/JmlMxthVo5wljmv5G8Wtxb3GbxSPcvPJJljY4n5MPqmv2MoERxPwWr5GcWtxr/EbwVM79PSpx9gph03Yho3Yqgm3npfXEdwyzpHPPTwmlbQ16iF/Xg+pr75gwTMm4YTDVi/nWv56uLXwR/xGsbCJ9umOeux+9Dn0PfBCX0Sf1HKjuK34l/r38BgjmFCRd/4QxBojVI+1mIg/Y4jCMrYQv+V6uK04R/xH8Mp2CB510scTxBNCX22zd2KB+CO4R+wq4/bw2Nkl39RD2p3Xw3I86bXjEnO1nT0bPW/YVPYp5XjC6xnUWXjh9Mo9jSduS+7DQBgIA3sMRADvMVQ8Z5LSm6go+Oigo/BHr7PxWseaynzOxi3T98/PgTVi53Pgul3l/Ww8dpj0BQ0lln+ejetp1+5n42Fjaxff8Wfjetq1+xG83kSyTHOkzhJnBLdM+9rPz4E1Yudz4PY4GMFjfBiph+A80niixYCj/PbiX/pspDwvaZujYUdwL7WlFX42FuV4j+NJy/74h4EwEAZqDEQA11iZ4Dd70NnL0mo85Wcl7kos2cd1Ne5qPNm6Gnc1XuwUA/OvKcv5nHqKq/ldjSdbV+OuxruFnY9go3jNNQyEgTAwykAE8ChTF4ZbPeisxhMdK3FXYsk+rqtxV+PJ1tW4q/FipxiYf01ZzufUU1zN72o82boadzXeLex8BBvFa65hIAyEgVEGIoBHmbow3OpBZzWe6FiJuxJL9nFdjbsaT7auxl2NFzvFwPxrynI+p57ian5X48nW1bir8W5h5yPYKF7PeOWLyCjD3hcePpfdvMPf+0LJo7j6Ir1b2Fbmnff49eWL5bPn/sz3Kfj3f/Du/Uv4UrHn5uW5048AfiaGVw86q/FE20rclViyj+tq3NV4snU17mq82CkG5l9TlvM59RRX87saT7auxl2Ndws7H8FG8XrGK8IIMTTynQiz7efL355TiN2LANavTfS+oX42t54ebdQXGiKAnZ3nu48AfiZuVw86q/FE20rclViyj+tq3NV4snU17mq82CkG5l9TlvM59RRX87saT7auxl2Ndws7H8FG8ZrrXAaeW4hFAP9/edFGI4Dn1t2R1CKAR1i6IszqQWc1nihZibsSS/ZxXY27Gk+2rsZdjRc7xcD8a8pyPqee4mp+V+PJ1tW4q/FuYecj2Chez3jlp6kQovyUGo6fq+J3xNmZffvtt7f5Cb8j7j/TxU+R8XNy+FP+/Dwgv9vsv2BCmuXPXpE2fzjSeOutt7a4hMWBQZr4k+6777779Omnn27PWv84Rs3vRSuv/P6ujvvWBDC/dQ8e6RPn/ffff+PntvhtbvLGc/5I7/PPP38Dnp8wUxr6aUS33QPDKz8tSFr85Jl+LpPwcEZ8PSt/xo2dY35TGD7IK2VCHHEIDt8Mz2fZz0/7eX6VT35aTPHw46fxyjL2o+J8G/vHH3+8/SRZK3+kQz3ALvC//PJLN/3h708vgPl9UCrHLf5+9atfLalg4NzCPjDhd5V7hLKEy0ew81Hq7KPY+Qh1Nm3z+cfRleNJ2ubzlyccxx1joHwHmDYisYUYRMQinhBicggfRBn8c3T6iy++2MIgzuSYv/muI/6krTbIe6kIJ9LV0WCEJ595VxZh++GHH2443NccPweHuOS3wBG9CGiEHaISYVgKYH4Pnnwh8EmTfCOyEY36GTWJQ9LiD4FMejoiThrY/sknn7xOAzvArTny+Nlnn224xCVNHEKfeLwbjPBESJIuv4WNIx554w+u4ASh7/Ni8kzeCYP92ESZkI7EqDhAzH711Vdb2thIOghg/BDMlDG/My8ncU7eyR9XeIA7OdLAjzzzJ470/NGvpxfAj17AsT8MhIEwEAbCQBgIA2Hg5TFQE8CIKnfsWiKQ5BBQLojxZ1cU4aXfcEYc9QQwcUgHESaH8EaoySECSVe70/LXld1ccHznkjgIOYSfxJ+eYwOC1h0CkDTYaSbv3CNG5RB14HBFcJLGRx99pMfbFSFNPInbNx4+PW354zn5wSFW+ew7tfgjIuGAfLDwQBgX/9iG4NcigoS1hyEd7GcxQY50vCzgnUUDd5Qx/jj4Jg52u0P0kz/ygSPMBx984EFybwxEABsZuQ0DYSAMhIEwEAbCQBgIA/fAQE0AuygljzrNoPwilNjNdIf4QxBJ5JWii7C+A8znUgCz60g8BDhCmF1M7cw6lu4JL9EmP7+6AEYEk3Z5LJvw7MSy24xD2BPuvffe2wSpjlPzTDayEwsn+kMQ1+zdEqwIYIQk4SUkFY4dd/zJN2kidkvHMWYJYPLMDqzyoSvPEapyZd5K3glHXHEp8U36SpMr9YK02JHGcc8CRVydgQjgOi/xDQNhIAyEgTAQBsJAGAgDN2PgWgHsO4pkXgKTI724UnThtyeAEbvsauoYM2nwTdHlDucG8PS0CTKJNvn5tSaAJdA9nAtCRCk7nwhhxCV5YLfUj1TzDDFY/rlY9vTFjbARk6RbOuzEn3CkXbMNfwlg7sljmQ99Vvqk6eXl9iqMC2DVCb0nrPR01U53ma7SyvX/Gfh6CYeZMBAGwkAYCANhIAyEgTAQBm7KgMSOjgkjrhA67krBhoDCz53Ept4zrYkjdlUl3ojrQgzxi7DSEWo+swP8zjvvbF/85Fi659guz0vHl0kRV3nCttrxZuIheNktxR4weddWO7Nc2Q3lOTvSiOCaXYQj760vwioFsDgnPXcciSZ9OCyPGyucLyJwZBr7ybc7jjD7sfEyz8674rkAVj7YkXYHh4h04ZXpetjcPz1FAKcWhIEwEAbCQBgIA2EgDISBO2NAYuxSAczOrAs+dgvxk2Nn0t8PRSAiJF0A++8AI6705VJKA6HFFzz5l2vpGVe9S+vHmhGwCDN2kl0AE54vnuJ4teeb930lOhXX0yMsIlOCn91g/mppEL/mJID1xVQIX4lqhcdW8oc4xRGHMIhcOeKTV3HIUWQ++zFk8oWNCkPcMsyeAJbN+tZo4bMwAheynXSpP3LYQL71XP6Peo0AftSSj91hIAyEgTAQBsJAGAgDd8vAtQKY92YRp+yMsrOL4NW7oRir92L5QiaEFOF995Iw+vkivrCJXVTSQgTzRVUIP9JFcLWEJWnom6IRZ2Dq24wRY6UARoSTD4Q3WIh2RJyLTLARnqRHGMQkcbSjyq4oeVIa2Eae9fNGtYJGEJIm7/QqnL71GdELPj+3BId+jFpfLEYexIV/CRZYpIcN2KL8kj/txBOGvMKLBO2eACYOR9mxC1zyRz757F+MVQpgCX0XxTU+HsUvAvhRSjp2hoEwEAbCQBgIA2EgDLwYBhBK7G7q6DHiRe/xygiEpHZA8UNA8ZlvTkYoIpAQP+4QoDxnFxhhioglHRdH7IRyXNnxOX6LqCVdnpXHhB1D94oDFphg48iTp40f3+ZMuhLMLjh5Tlx2j9l1JgxHkcXNluir395VGuSVb4Hec+CQF/+GabhHtILDzwvVbMUGhDC88ZxFhPKbrEkbjlvpIPzB5g/HF5jVyrj8YjOOO1O2pEs+XVSTDum5HzyVfnu8nPl5BPCZSze2hYEwEAbCQBgIA2EgDDwMAxLAD2PwDQzluDO7ri6K2UlmJ1dC9gbZCuQFDEQAX0BWgoaBMBAGwkAYCANhIAyEgXtlIAL4+UuG3VTELkeQ2QHmj3eP/Tj28+ciCEcYiAA+wl7ihoEwEAbCQBgIA2EgDISBO2GA907LI7R3krVTZYMjyBzrRgTzx3Hr8qj5qQw+mTERwCcr0JgTBsJAGAgDYSAMhIEwEAbCQBgIA3UGIoDrvMQ3DISBMBAGwkAYCANhIAyEgTAQBk7GQATwyQo05oSBMBAGwkAYCANhIAyEgTAQBsJAnYEI4Dov8Q0DYSAMhIEwEAbCQBgIA2EgDISBkzEQAXyyAo05YSAMhIEwEAbCQBgIA2EgDISBMFBnIAK4zkt8w0AYCANhIAyEgTAQBsJAGAgDYeBkDEQAn6xAY04YCANhIAyEgTAQBsJAGAgDYSAM1BmIAK7zEt8wEAbCQBgIA2EgDISBMBAGwkAYOBkDEcAnK9CYEwbCQBgIA2EgDISBMBAGwkAYCAN1BiKA67zENwyEgTAQBsJAGAgDYSAMhIEwEAZOxkAE8MkKNOaEgTAQBsJAGAgDYSAMhIEwEAbCQJ2BCOA6L/ENA2EgDISBMBAGwkAYCANhIAyEgZMxEAF8sgKNOWEgDISBMBAGwkAYCANhIAyEgTBQZyACuM5LfMNAGAgDYSAMhIEwEAbCQBgIA2HgZAxEAJ+sQGNOGAgDYSAMhIEwEAbCQBgIA2EgDNQZiACu8xLfMBAGwkAYCANhIAyEgTAQBsJAGDgZAxHAJyvQmBMGwkAYCANhIAyEgTAQBsJAGAgDdQYigOu8xDcMhIEwEAbCQBgIA2EgDISBMBAGTsZABPDJCjTmhIEwEAbCQBgIA2EgDISBMBAGwkCdgQjgOi/xDQNhIAyEgTAQBsJAGAgDYSAMhIGTMRABfLICjTlhIAyEgTAQBsJAGAgDYSAMhIEwUGcgArjOS3zDQBgIA2EgDISBMBAGwkAYCANh4GQMRACfrEBjThgIA2EgDISBMBAGwkAYCANhIAzUGYgArvMS3zAQBsJAGAgDYSAMhIEwEAbCQBg4GQMRwCcr0JgTBsJAGAgDYSAMhIEwEAbCQBgIA3UGIoDrvMQ3DISBMBAGwkAYCANhIAyEgTAQBk7GQATwyQo05oSBMBAGwkAYCANhIAyEgTAQBsJAnYEI4Dov8Q0DYSAMhIEwEAbCQBgIA2EgDISBkzEQAXyyAo05YSAMhIEwEAbCQBgIA2EgDISBMFBnIAK4zks0i54cAAABUElEQVR8w0AYCANhIAyEgTAQBsJAGAgDYeBkDEQAn6xAY04YCANhIAyEgTAQBsJAGAgDYSAM1BmIAK7zEt8wEAbCQBgIA2EgDISBMBAGwkAYOBkDEcAnK9CYEwbCQBgIA2EgDISBMBAGwkAYCAN1BiKA67zENwyEgTAQBsJAGAgDYSAMhIEwEAZOxkAE8MkKNOaEgTAQBsJAGAgDYSAMhIEwEAbCQJ2BCOA6L/ENA2EgDISBMBAGwkAYCANhIAyEgZMxEAF8sgKNOWEgDISBMBAGwkAYCANhIAyEgTBQZyACuM5LfMNAGAgDYSAMhIEwEAbCQBgIA2HgZAxEAJ+sQGNOGAgDYSAMhIEwEAbCQBgIA2EgDNQZiACu8xLfMBAGwkAYCANhIAyEgTAQBsJAGDgZAxHAJyvQmBMGwkAYCANhIAyEgTAQBsJAGAgDdQb+D6WNYaOWWP9bAAAAAElFTkSuQmCC)"
      ]
    },
    {
      "cell_type": "markdown",
      "metadata": {
        "id": "h6fxNPqUwKsE"
      },
      "source": [
        "The Embedding layer does have limitations:\n",
        "\n",
        "The input needs to be integers in [0, vocab_length).\n",
        "No bias.\n",
        "No activation."
      ]
    },
    {
      "cell_type": "code",
      "metadata": {
        "colab": {
          "base_uri": "https://localhost:8080/"
        },
        "id": "Ea6fESFHUuLc",
        "outputId": "45e2a199-c505-4162-ca8a-ba7344c0e1b2"
      },
      "source": [
        "class MyModel(tf.keras.Model):\n",
        "  def __init__(self, vocab_size, embedding_dim, rnn_units):\n",
        "    super().__init__(self)\n",
        "    self.embedding = tf.keras.layers.Embedding(vocab_size, embedding_dim)\n",
        "    self.gru = tf.keras.layers.GRU(rnn_units,\n",
        "                                   return_sequences=True,\n",
        "                                   return_state=True)\n",
        "    self.dense = tf.keras.layers.Dense(vocab_size)\n",
        "\n",
        "  def call(self, inputs, states=None, return_state=False, training=False):\n",
        "    x = inputs\n",
        "    x = self.embedding(x, training=training)\n",
        "    if states is None:\n",
        "      states = self.gru.get_initial_state(x)\n",
        "    x, states = self.gru(x, initial_state=states, training=training)\n",
        "    x = self.dense(x, training=training)\n",
        "\n",
        "    if return_state:\n",
        "      return x, states\n",
        "    else:\n",
        "      return x\n",
        "\n",
        "# Simple definition\n",
        "# model = tf.keras.Sequential([\n",
        "#     tf.keras.layers.Embedding(66, 256),\n",
        "#     tf.keras.layers.LSTM(256, return_sequences=True), #Return sequences allows us to compute loss from all the intermediate-states\n",
        "#     tf.keras.layers.Dense(66, activation='softmax'),\n",
        "# ])\n",
        "\n",
        "model = MyModel(\n",
        "    vocab_size=len(chars_to_ids.get_vocabulary()),\n",
        "    embedding_dim=256,\n",
        "    rnn_units=1024)\n",
        "\n",
        "model.compile(optimizer='adam',\n",
        "              loss=tf.keras.losses.SparseCategoricalCrossentropy(from_logits=True),\n",
        "              metrics=['accuracy'])\n",
        "\n",
        "history = model.fit(train_dataset, epochs=20)"
      ],
      "execution_count": 23,
      "outputs": [
        {
          "output_type": "stream",
          "text": [
            "Epoch 1/20\n",
            "175/175 [==============================] - 12s 52ms/step - loss: 2.7354 - accuracy: 0.2799\n",
            "Epoch 2/20\n",
            "175/175 [==============================] - 10s 53ms/step - loss: 1.9926 - accuracy: 0.4176\n",
            "Epoch 3/20\n",
            "175/175 [==============================] - 10s 53ms/step - loss: 1.7133 - accuracy: 0.4922\n",
            "Epoch 4/20\n",
            "175/175 [==============================] - 10s 53ms/step - loss: 1.5509 - accuracy: 0.5351\n",
            "Epoch 5/20\n",
            "175/175 [==============================] - 10s 53ms/step - loss: 1.4525 - accuracy: 0.5596\n",
            "Epoch 6/20\n",
            "175/175 [==============================] - 10s 54ms/step - loss: 1.3836 - accuracy: 0.5767\n",
            "Epoch 7/20\n",
            "175/175 [==============================] - 10s 54ms/step - loss: 1.3313 - accuracy: 0.5903\n",
            "Epoch 8/20\n",
            "175/175 [==============================] - 10s 55ms/step - loss: 1.2864 - accuracy: 0.6011\n",
            "Epoch 9/20\n",
            "175/175 [==============================] - 10s 54ms/step - loss: 1.2448 - accuracy: 0.6122\n",
            "Epoch 10/20\n",
            "175/175 [==============================] - 11s 55ms/step - loss: 1.2057 - accuracy: 0.6224\n",
            "Epoch 11/20\n",
            "175/175 [==============================] - 10s 54ms/step - loss: 1.1658 - accuracy: 0.6333\n",
            "Epoch 12/20\n",
            "175/175 [==============================] - 10s 54ms/step - loss: 1.1234 - accuracy: 0.6453\n",
            "Epoch 13/20\n",
            "175/175 [==============================] - 11s 55ms/step - loss: 1.0805 - accuracy: 0.6578\n",
            "Epoch 14/20\n",
            "175/175 [==============================] - 11s 55ms/step - loss: 1.0324 - accuracy: 0.6726\n",
            "Epoch 15/20\n",
            "175/175 [==============================] - 10s 54ms/step - loss: 0.9843 - accuracy: 0.6876\n",
            "Epoch 16/20\n",
            "175/175 [==============================] - 10s 55ms/step - loss: 0.9316 - accuracy: 0.7038\n",
            "Epoch 17/20\n",
            "175/175 [==============================] - 11s 55ms/step - loss: 0.8789 - accuracy: 0.7209\n",
            "Epoch 18/20\n",
            "175/175 [==============================] - 10s 54ms/step - loss: 0.8267 - accuracy: 0.7376\n",
            "Epoch 19/20\n",
            "175/175 [==============================] - 10s 55ms/step - loss: 0.7747 - accuracy: 0.7539\n",
            "Epoch 20/20\n",
            "175/175 [==============================] - 11s 55ms/step - loss: 0.7255 - accuracy: 0.7701\n"
          ],
          "name": "stdout"
        }
      ]
    },
    {
      "cell_type": "code",
      "metadata": {
        "colab": {
          "base_uri": "https://localhost:8080/"
        },
        "id": "3BnvS_Nozb8D",
        "outputId": "cca82752-2bcb-47c9-d450-f46df8376ba6"
      },
      "source": [
        "generate_shakespeare(model, 400, start_string=\"ROMEO:\")"
      ],
      "execution_count": 24,
      "outputs": [
        {
          "output_type": "stream",
          "text": [
            "ROMEO:\n",
            "Father, be he night.\n",
            "\n",
            "MERCUTIO:\n",
            "Why, it were well fellows that I have, both: if\n",
            "it better, I'll see your woes of warwick; Elpow he mad\n",
            "And you becim before your grace:\n",
            "'You did but the stuff being one when you can brook it,\n",
            "He hath he in eleven hand of heaven;\n",
            "On she knew her, when menavelloo was but yet\n",
            "Ere yet the cause will or our meaning.\n",
            "\n",
            "LUCENTIO:\n",
            "And then, for I must pait your husband's Ka \n",
            "\n",
            "________________________________________________________________________________\n"
          ],
          "name": "stdout"
        }
      ]
    }
  ]
}