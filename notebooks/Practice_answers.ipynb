{
  "nbformat": 4,
  "nbformat_minor": 0,
  "metadata": {
    "colab": {
      "name": "Copy of Practice.ipynb",
      "provenance": [],
      "collapsed_sections": [],
      "authorship_tag": "ABX9TyMfzOvWwmzj2st9GGICN87i",
      "include_colab_link": true
    },
    "kernelspec": {
      "name": "python3",
      "display_name": "Python 3"
    },
    "language_info": {
      "name": "python"
    },
    "accelerator": "GPU"
  },
  "cells": [
    {
      "cell_type": "markdown",
      "metadata": {
        "id": "view-in-github",
        "colab_type": "text"
      },
      "source": [
        "<a href=\"https://colab.research.google.com/github/ML-Bioinfo-CEITEC/ECCB2021/blob/main/notebooks/Practice_answers.ipynb\" target=\"_parent\"><img src=\"https://colab.research.google.com/assets/colab-badge.svg\" alt=\"Open In Colab\"/></a>"
      ]
    },
    {
      "cell_type": "markdown",
      "metadata": {
        "id": "jQQnegoivCgW"
      },
      "source": [
        "# Get data into the correct format"
      ]
    },
    {
      "cell_type": "markdown",
      "metadata": {
        "id": "XiQIXYQX4uzl"
      },
      "source": [
        "## create TF dataset"
      ]
    },
    {
      "cell_type": "code",
      "metadata": {
        "id": "dOLJMaQYtaBx"
      },
      "source": [
        "#imports\n",
        "#DATA DOWNLOAD\n",
        "#TODO load data from folders\n",
        "#DATA LOAD hint: https://colab.research.google.com/github/ML-Bioinfo-CEITEC/ECCB2021/blob/main/notebooks/04_Transfer_Learning.ipynb\n",
        "#DATA PREPROCESS"
      ],
      "execution_count": 1,
      "outputs": []
    },
    {
      "cell_type": "code",
      "metadata": {
        "id": "BRZyNguShwhz"
      },
      "source": [
        "from io import BytesIO\n",
        "from urllib.request import urlopen\n",
        "from zipfile import ZipFile\n",
        "from pathlib import Path\n",
        "\n",
        "_URL = 'https://github.com/ML-Bioinfo-CEITEC/ECCB2021/raw/main/data/intergenic_vs_coding_20000_seqs.zip'\n",
        "PATH = Path('/content/datasets/dna_dataset')\n",
        "with urlopen(_URL) as zipresp:\n",
        "  with ZipFile(BytesIO(zipresp.read())) as zfile:\n",
        "      zfile.extractall(PATH)"
      ],
      "execution_count": 2,
      "outputs": []
    },
    {
      "cell_type": "code",
      "metadata": {
        "colab": {
          "base_uri": "https://localhost:8080/"
        },
        "id": "7s44UxiUjm0h",
        "outputId": "61a0d5b5-d464-4125-afbc-716e824aa8cf"
      },
      "source": [
        "import pandas as pd\n",
        "import numpy as np\n",
        "import tensorflow as tf\n",
        "import matplotlib.pyplot as plt\n",
        "\n",
        "train_dset = tf.keras.preprocessing.text_dataset_from_directory(PATH/'intergenic_vs_coding_10000_seqs'/'train', batch_size=32)\n",
        "valid_dset = tf.keras.preprocessing.text_dataset_from_directory(PATH/'intergenic_vs_coding_10000_seqs'/'valid', batch_size=32)\n"
      ],
      "execution_count": 3,
      "outputs": [
        {
          "output_type": "stream",
          "text": [
            "Found 18335 files belonging to 2 classes.\n",
            "Found 1665 files belonging to 2 classes.\n"
          ],
          "name": "stdout"
        }
      ]
    },
    {
      "cell_type": "code",
      "metadata": {
        "colab": {
          "base_uri": "https://localhost:8080/"
        },
        "id": "p8rirOpAu6SQ",
        "outputId": "5652afe8-1fe9-451d-cc3b-e065858c8da3"
      },
      "source": [
        "for x,y in train_dset.take(1):\n",
        "  print(x)\n",
        "  print(y)"
      ],
      "execution_count": 4,
      "outputs": [
        {
          "output_type": "stream",
          "text": [
            "tf.Tensor(\n",
            "[b'CTGGGGGAAGGTGGAGGCTGACATCCCAGGCCATGGGCAGGAAGTCCTCATCAGGCTCTTTAAGGGTCACCCAGAGACTCTGGAGAAGTTTGACAAGTTCAAGCACCTGAAGTCAGAGGACGAGATGAAGGCGTCTGAGGACTTAAAGAAGCATGGTGCCACCGTGCTCACCGCCCTGGGTGGCATCCTTAAGAAGAAGG'\n",
            " b'CTTTCTGTGACGGGTGTTGACAAAGAGATGATGCAAAGAATTAGAGAAAAATCTATTTTACAAGCACAAGAGAGAGCAAAAGAAGCTACAGAAGCAAAAGCTGCAGCAAAGCGGGAAGATCAAAAATACGCACTAAGTGTCATGATGAAGATTGAAGAAGAAGAGAGGAAAAAAATAGAAGATATGAAAGAAAATGAACG'\n",
            " b'CCACCCTAACATGCATTATGCAGTTGCTCGGCGCATTTCCTTCACCTAGTGGTCCTGCCTCTCCTTGTAGTCTTGTGAATGAGACCACTTTGATTAAATACTCCAGGCTGCCAACCATAAACAAGCATAGTTTCCGGTACTTTGTCTTGGATAACAGTGTCATCCTGGCAATGCTGGAACAACCTCTTGGAAATGAGCAG'\n",
            " b'ATCATTTGAACTTGATTTCATCTGGATAAATATGTGAGGAGGAGCAGGGGAGGAAGAGACGGGCAAAGAGGCCTCTGTGCCCTTTAGGGAGTGGGGTGCAGTGTAGTAGCAGATGGAGCCCAGCTGTGCTCCAGGCAGAGCTGGGTTCAAATCCTGGTTCAGCCACTTGCTCTCTGTTTAGCTGCGAGTTCACCACTTAC'\n",
            " b'AGCCCTGGACCTTCGTGGTTGTGAAGGACCCAGACGTGAAGCACAAGATTCGAAAGATCATTGAGGAGGAAGAGGAGATCAACTACATGAAAAGGATGGGACATCGCTGGGTCACAGACCTCAAGAAACTGAGAACCAACTGGATTAAAGAGTACTTGGATACTGCCCCTATTTTGATTCTCATTTTCAAACAAGTACAT'\n",
            " b'ATGACCAGCAAGGGTCCCGAGGAGGAGCACCCATCGGTGACGCTCTTCCGCCAGTACCTGCGTATCCGCACTGTCCAGCCCAAGCCTGACTATGAAAAAATACAAAAATTAGTCAGGAATGGTGGCACACCTGTAGTCCCAGCTACTCCAGAGGTTGAGGTGGGAGGATCGCTTGAGCCTGGGAGGTTGAGGCTGCAGTG'\n",
            " b'GCCAGAAGGGCCGTTGGTGAGGAAATTTCACCATTTGGTCTCCCCCTTTGTGGGTCAGCAGGTGGTCAAGACAGGGGGCAGCAGTAAGAAGCTACAGCCCGCCAGCCTGCAGTCTCTGTGGCTCCAGGACACCCAGGTCCATGGAAAGAAATTATTCCTTAGATTTGATCTAGATGAAGAAATGGGGCCCCCTGGCAGCA'\n",
            " b'ATGGAGCCACCCGGACGCCGGCGGGGCCGCGCGCAGCCGCCGCTGTTGCTGCCGCTCTCGCTGTTAGCGCTGCTCGCGCTGCTGGGAGGCGGCGGCGGCGGCGGCGCCGCGGCGCTGCCCGCCGGCTGCAAGCACGATGGGCGGCCCCGAGGGGCTGGCAGGGCGGCGGGCGCCGCCGAGGGCAAGGTGGTGTGCAGCAG'\n",
            " b'AGTGAGCAAGAGTGAGCGGGAGAAGATGGGTGTGACCGTGCAGGACGACGGTGAGTTCTGGATGACCTTCGAGGACGTGTGCCGGTACTTCACGGACATCATCAAGTGCCGCGTGATCAACACATCCCACCTGAGCATCCACAAGACGTGGGAGGAGGCCCGGCTGCATGGCGCCTGGACGCTGCATGAGGACCCGCGAC'\n",
            " b'AGCCAGGCACGTGTGTGAAGGTGCTGACCATCGAGCCCCCACCTGCAGACCCCCGCCTCCGGGAGGACATGGCGCTGCTGGCCGATTGTGCCCTGCCCCCCGAGCTCCGAGGTGATCTTTGGGAGCTGCCCTTCCCTTGTCCTGACGGCTTCAACAGCTGCCCTGACATCTGCTTCCGAGTGGCTGGCTGCAGCTTCCTC'\n",
            " b'ATTTTCAGGGCTGAGGAGTAGCTGTGCTTTTAATTTATCTATTGAGCTTCAGTCATGATAAGTAATAATCTTATAGAAAATATCAGTTCTTCACTAGGATATTCATACCCTGAAGCAGAGTGAGTGGTTTGCGGGCTTCCTCATAGGACTCAGGAAAGCCTGATTTTAAAGTGCTAACTAAGAATGCCCACAGACCTTTT'\n",
            " b'ATGAAAACTTTGAGGGCTACATGAAGGCCCTGGATATTGATTTTGCCACCCGCAAGATTGCAGTACGTCTCACTCAGACGAAGGTTATTGATCAAGATGGTGATAACTTCAAGACAAAAACCACTAGCACATTCCGCAACTATGATGTGGATTTCACTGTTGGAGTAGAGTTTGACGAGTACACAAAGAGCCTGGATAAC'\n",
            " b'CAGGATACTCACACCTTCCAGTCCAGCCTCCTAGTTTCAGATGATCTATATAATTTCCTCAGGTCAAGCCAGAATTTTAACCCTGATCTTAATATTCCAAATTCATTGTTTCCCACAGCCGCATCCTATTTCCTCTGCATGGCATGCTACTAAACATATGAGTCAAAAAGCAGCTTAGGTCGTGTGGGAATAAGGCTGGT'\n",
            " b'ATTGTAGTAGACTGGAGCCGGGGTGCTACAACTTTTATTTATAATAGAGCAGTTAAAAACACCAGAAAAGTTGCTGTGAGTTTGAGTGTGCACATTAAAAATCTTTTGAAGCATGGTGCATCTCTTGACAATTTTCATTTCATAGGTGTGAGCTTAGGGGCTCATATCAGTGGATTTGTTGGAAAGATATTTCATGGTCA'\n",
            " b'CAGAGCCCGGAAGAGTCGAGAGCCCAAAACCGCCGGCTGCTGCCCGACGCCCCCAACGCCCTACACATCCTGGACGGGCCCGAGCAGCGCTATTTCCTGGGCGTCGTGGATCTCGCCACAGTCTACGGGCTCCGCAAGCGGCTGGAGCACCTGTGGAAGACACTGCGCTACCCAGGCCGGACCTTCTCCACTGTCAGCCC'\n",
            " b'TGGCATTAAATTATGTTTCCAGTTATGCATATGTAACTTCCAAGGTCCTTGACATTAGGAGTTAAATTATAACTGCTATAAATAAATAATATGAAACAAATGCTTTTCATTTTCCAATTAAATTTGAATATATAATAAGGATTTCAAGTACCAGTGATTTTAATAACTGATTAAATTTATCTCCCTGTTAGAAGAAACCA'\n",
            " b'GTCATTTTTTCCCTGGAGGAACTCTCGTTGCATCAGCAAGAAATAGAAAGACTAGAACACATTGATAAATGGTGCCGGGATTTAAAAATTCTCTATCTTCAAAATAATCTTATTGGGAAAATTGAAAATGTTAGCAAACTCAAGAAACTTGAATATTTGAATTTAGCTTTAAACAACATTGAAAAAATAGAAAACTTGGA'\n",
            " b'GGCAAGCTCCGCCTCCTGGGTTCACGCCATTCTCCTGCCTCAGCCTCCGGAGTAGCTGGGACTACAGGAGCCCGCCACCACGCCCTGCTAATTTTTTATATTTTTAGTAGAGACGGGGTTTCATCGTGTTAGCCAGGATGGTCTTGATCTCCTGACTTCGTGATCCGCCCACCTAGGCCTTCCAAAGTGCTGGGATTACA'\n",
            " b'TTATATGATACAAAATCAGTATAGAAAAATCAGTAATGTTTCTATACACTAGTACTGAACCAGTTGAGAAAGACAAAATAAAGCAATTCTATTTACATTAGCTACAATAAAATAAACTGAAATGCCTATAAATGCATTTAATCAAGAAGATGAATATCTCTACAAAGAAAACTGCAAAATATTGATGAAAGCAATTAAAG'\n",
            " b'ACTCCTGACCTCGTGATCCGCCCACCTCGACCTCCCAAAGTGCTGGGATTACAGGTGGGAGCCACCGCGCCTGGCCCACTCTGTGATTTTTCTTGTTCCAAGTCCTATGCACATGCTTTCTACTCTGCTTGGAACATACCTCTCTCATGCTCTTCAACTGGGCAACACCTGTTTCTGCTTCAGATTGCATGAGAAATATC'\n",
            " b'TGGCAGGTCACTGTGAGATTAGCTTCTGTTAAACTGAGGGCTTGAAAATCTGTGTTTCTCACCTAATGAGTTTTAAAAGGAATTTCGTTATTTGCCATAAATGTCAGTGTGATCAGATGATGCTATGAACTTTTAAAAACGTTCACAAAATGGGAAGAACTATAAGAAGTAAACCATTTATGAGTCATAAATAAGGAAAC'\n",
            " b'AGTAAGGCAGACTGCCCTCCCCAGTGTGGGTGGCCCTCATCCTTCTCTCTGCCTGACACTCTTCTAGCTGGAACATTTGTCTTCTCCTACCCTCGGACTCAGACTATGACTGGAATTGATATCATTGACTCTCCTAGTTCTTCAGACTCAGATTGCTCTCCCGGGACTTCTCAGCTTCCAAATCACATGAACCAATTCAT'\n",
            " b'GAAGGACTGGAAAACTGCGTACTCATACTTCTATGAGGCATTTGAGGGTTATGACTCCATCGACAGCCCCAAGGCCATCACATCTCTGAAGTACATGTTGCTGTGCAAAATCATGCTCAACACCCCAGAAGATGTCCAGGCTTTGGTGAGCGGGAAGCTTGCACTTCGGTATGCAGGGAGGCAGACAGAAGCATTAAAAT'\n",
            " b'CACTAGGTCAGAGCCCTCAGGATCCAATCATCTCTTAAAGCCCGTTCTCTCAATATTGCCACATTGGGGATTGAAATTCACCATGAGGTTTTGAAGAGGGCAAATATTCAAATCACAGCAAAGGGTAAGTCACTGGAAGATAAAATTAAAAGGTAAATAGTATTTGGGAGGTTTTTCATATTAAGCATCCATCCTTCAGT'\n",
            " b'TGGAAGCCAACAGCTGGAGGAAGGGGAAGAGGGTAGGCGAGTGAGTGTTTAATGGGTATAACACAGTTTTAGCTTTGTAAAATGAAAAATAAGTGCTTGAAATCTGTTGAACAGCAATATAAATATACCAAACAGTATTGAACTGTAAACCTAAAGATATTTCAGCTGGTAAATTTAATGCTATTTATTTGTTACCACAA'\n",
            " b'TTGGTATGGAACCCTGAGTTGGTATGGAGCCCTGAGTTGGTATGGAACCCTGAGTTGGTATGGAGTCCTGAGTTGGTATGGAGCCCTGAGTTGGTATGGAGTCCTGAGTTGGTATGGAGTCCTGAGTTGGTATGGAACCTTGAGTTGGTATGGAGTCCTGAGTTGGTATGGAACTCTGAGTTGGTATGGAGCCCTGAGTT'\n",
            " b'GTCTCTGCAGCCTTTGTTACTTGCCCCAACGAGAAGGTCGCCAAGGAGATCGCCAGGGCCGTGGTGGAGAAGCGCCTAGCAGCCTGCGTCAACCTCATCCCTCAGATTACATCCATCTATGAGTGGAAAGGGAAGATCGAGGAAGACAGTGAGGTGCTGATGATGATTAAAACCCAAAGTTCCTTGGTCCCAGCTTTGAC'\n",
            " b'TGTCTTCTATCTGGTGTCACTTTAATTTGTCAAGTACTCCTCTGATTATCTTCCCTTTATTTAAAAAATAGCCCTTTATAATTTTCCTTAGTAACTCTTTTCTGGTGACAAACTCAGTTTCTGGTCTGAAATGTTACTGTTTTCTTGTTGTTATATCCTCAAACATCACCTCTGTCTCATTCTCTCACTCAACATTTGCG'\n",
            " b'ATGTCTCCACAGCATGTCAGAGACCTTCAAGGCAGCCCCTCCCGTCACAGGCCCAGAGGCCTAGGTGGGAAAAATGGTTTTGTGGGCCAGGCCCAGGGCCCCCCCTGCTATGTGCAGCCTTAGGACTTGGTGCTCTAATGCTTCAACTGTGGCTAAAAGGGGTCAAGGTACAGCTTGGACCTTGGCTTCAGGGATGCAAG'\n",
            " b'GAATACAGAGGGCAAAGATGGATCCAAAGTAACTAAACAGGAGCCCACAAGACGGTCTGCCAGATTGTCAGCGAAACCTGCTCCACCAAAACCTGAACCCAAACCAAGAAAAACATCTGCTAAGAAAGAACCTGGAGCAAAGATTAGCAGAGGTGCTAAAGGGAAGAAGGAGGAAAAGCAGGAAGCTGGAAAGGAAGGCA'\n",
            " b'GTAAAAGAACTGAATGGAGCCTTGTTGCTGCTTCCTCAGAAGGGAGGGGACACCATGTCCTCACATGTAGCAGGTACAGAAGGGAACAAACCCACACCCTCAAACCCATTTATAAGGGCCCGAATCCCTTCATCACCTTCTAAATACCCCATCTCTTAGTATTATTACATTGTCTATTCAGTCTCAATAAAAAATTTGGG'\n",
            " b'CCGAATGCACCAGGCCATAGAAAGATTTTATGATAAAATGCAAAATGCAGAATCAGGACGTGGACAGGTGATGTCGAGCCTGGCAGAGCTGGAGGACGACTTCAAAGAGGGCTACCTGGAGACAGTGGCGGCTTATTATGAGGAGCAGCACCCAGAGCTCACTCCTCTACTTGAAAAAGAAAGAGATGGATTACGGTGCC'], shape=(32,), dtype=string)\n",
            "tf.Tensor([1 1 1 0 1 1 1 1 1 1 0 1 0 1 1 0 1 0 0 0 0 0 1 0 0 0 1 0 0 1 0 1], shape=(32,), dtype=int32)\n"
          ],
          "name": "stdout"
        }
      ]
    },
    {
      "cell_type": "markdown",
      "metadata": {
        "id": "YGq6VuMJkhrq"
      },
      "source": [
        "## numerlicalization\n"
      ]
    },
    {
      "cell_type": "code",
      "metadata": {
        "colab": {
          "base_uri": "https://localhost:8080/"
        },
        "id": "-AgUo2Z1vFbs",
        "outputId": "31b365b1-eaa5-481d-9ccf-36e4095ad355"
      },
      "source": [
        "from tensorflow.keras.layers.experimental.preprocessing import TextVectorization\n",
        "\n",
        "train_text = train_dset.map(lambda x, y: x)\n",
        "\n",
        "def char_split(input_data):\n",
        "  return tf.strings.unicode_split(input_data, 'UTF-8')\n",
        "\n",
        "vectorize_layer = TextVectorization(output_mode='int', split=char_split, ngrams=3)\n",
        "vectorize_layer.adapt(train_text)\n",
        "print(len(vectorize_layer.get_vocabulary()))\n",
        "print(vectorize_layer.get_vocabulary())\n",
        "\n"
      ],
      "execution_count": 5,
      "outputs": [
        {
          "output_type": "stream",
          "text": [
            "86\n",
            "['', '[UNK]', 'a', 't', 'g', 'c', 'a a', 't t', 't g', 'c a', 'a g', 'c t', 'g a', 'a t', 'c c', 'g g', 't c', 'g c', 'a c', 't a', 'g t', 'a a a', 't t t', 'c a g', 'c t g', 'a g a', 'g a a', 't g g', 'a a g', 'c g', 'c c a', 'g g a', 'g a g', 't g a', 't c t', 'c c t', 'a c a', 't c a', 'c a a', 'a a t', 'a t t', 'a g g', 't t c', 'a t g', 'c t t', 't g t', 'a g c', 'c a t', 'c t c', 't t g', 'g c a', 't g c', 'g t g', 'g c t', 't c c', 'g c c', 'c c c', 'g g c', 'c a c', 't a t', 'g g g', 'a c t', 'a g t', 'a t a', 'a a c', 't t a', 'a c c', 'g a t', 't a a', 'a t c', 'g t t', 'g a c', 'g g t', 'c t a', 't a c', 'g t c', 't a g', 'g t a', 'c g g', 'c c g', 'c g c', 'g c g', 'c g a', 'a c g', 't c g', 'c g t']\n"
          ],
          "name": "stdout"
        }
      ]
    },
    {
      "cell_type": "code",
      "metadata": {
        "colab": {
          "base_uri": "https://localhost:8080/"
        },
        "id": "BrjPRxGMz2H-",
        "outputId": "35a39fb1-d412-42ba-d004-226c84f5057a"
      },
      "source": [
        "model = tf.keras.Sequential([vectorize_layer])\n",
        "res = model.predict(train_dset.take(1))\n",
        "print(res)\n",
        "print(res.shape)\n"
      ],
      "execution_count": 6,
      "outputs": [
        {
          "output_type": "stream",
          "text": [
            "[[ 5  2  5 ... 69 37 47]\n",
            " [ 2  3  4 ... 23 62 52]\n",
            " [ 2  5  5 ... 80 81 78]\n",
            " ...\n",
            " [ 2  3  4 ... 50 23 41]\n",
            " [ 2  2  3 ... 22 22 22]\n",
            " [ 2  2  5 ... 61 44 65]]\n",
            "(32, 597)\n"
          ],
          "name": "stdout"
        }
      ]
    },
    {
      "cell_type": "markdown",
      "metadata": {
        "id": "UXLKrEMdvSZI"
      },
      "source": [
        "# Define neural network model"
      ]
    },
    {
      "cell_type": "code",
      "metadata": {
        "id": "Veiu_OnOvWLs"
      },
      "source": [
        "vocab_size = len(vectorize_layer.get_vocabulary())\n",
        "embedding_dim = 64\n",
        "model = tf.keras.Sequential([\n",
        "    vectorize_layer,\n",
        "    tf.keras.layers.Embedding(vocab_size, embedding_dim),\n",
        "    # tf.keras.layers.Bidirectional(tf.keras.layers.LSTM(64)),\n",
        "    tf.keras.layers.LSTM(32),\n",
        "    tf.keras.layers.Dense(32, activation='relu'),\n",
        "    tf.keras.layers.Dense(1, activation='sigmoid')\n",
        "])\n",
        "\n",
        "#possible improvements\n",
        "# Adjust layers, number of neurons, correct activation function\n",
        "#LSTM layer - change parameters\n",
        "# add augmentations layer, embedding layer, split into different tokens (not only letters), dropout\n"
      ],
      "execution_count": 7,
      "outputs": []
    },
    {
      "cell_type": "markdown",
      "metadata": {
        "id": "QbiH9rjKvZW3"
      },
      "source": [
        "# Train the model"
      ]
    },
    {
      "cell_type": "code",
      "metadata": {
        "colab": {
          "base_uri": "https://localhost:8080/"
        },
        "id": "OpT37LzSvbZ8",
        "outputId": "7f93fdfc-8882-4cf4-b79a-cc1e90bcf927"
      },
      "source": [
        "model.compile(loss=tf.keras.losses.BinaryCrossentropy(),\n",
        "              optimizer=tf.keras.optimizers.Adam(learning_rate=0.001),\n",
        "              metrics=['accuracy'])\n",
        "\n",
        "history = model.fit(train_dset, epochs=5, validation_data=valid_dset)\n",
        "\n",
        "#possible improvements\n",
        "# change number of epochs, learning rate (if training is unstable), increase data amount"
      ],
      "execution_count": 8,
      "outputs": [
        {
          "output_type": "stream",
          "text": [
            "Epoch 1/5\n",
            "573/573 [==============================] - 26s 32ms/step - loss: 0.4672 - accuracy: 0.7841 - val_loss: 0.4783 - val_accuracy: 0.8336\n",
            "Epoch 2/5\n",
            "573/573 [==============================] - 18s 31ms/step - loss: 0.4144 - accuracy: 0.8105 - val_loss: 0.3101 - val_accuracy: 0.8763\n",
            "Epoch 3/5\n",
            "573/573 [==============================] - 17s 30ms/step - loss: 0.3391 - accuracy: 0.8586 - val_loss: 0.3082 - val_accuracy: 0.8799\n",
            "Epoch 4/5\n",
            "573/573 [==============================] - 18s 31ms/step - loss: 0.3253 - accuracy: 0.8651 - val_loss: 0.3520 - val_accuracy: 0.8595\n",
            "Epoch 5/5\n",
            "573/573 [==============================] - 18s 32ms/step - loss: 0.3294 - accuracy: 0.8647 - val_loss: 0.2871 - val_accuracy: 0.8883\n"
          ],
          "name": "stdout"
        }
      ]
    },
    {
      "cell_type": "markdown",
      "metadata": {
        "id": "HFXXFXKrvb9a"
      },
      "source": [
        "# Evaluate"
      ]
    },
    {
      "cell_type": "code",
      "metadata": {
        "colab": {
          "base_uri": "https://localhost:8080/",
          "height": 513
        },
        "id": "YH7JxlcSvdKs",
        "outputId": "8e0415e0-a546-44d2-a769-23c26faa331a"
      },
      "source": [
        "def plot_metrics(history):\n",
        "  acc = history.history['accuracy']\n",
        "  val_acc = history.history['val_accuracy']\n",
        "\n",
        "  loss = history.history['loss']\n",
        "  val_loss = history.history['val_loss']\n",
        "\n",
        "  plt.figure(figsize=(8, 8))\n",
        "  plt.subplot(2, 1, 1)\n",
        "  plt.plot(acc, label='Training Accuracy')\n",
        "  plt.plot(val_acc, label='Validation Accuracy')\n",
        "  plt.legend(loc='lower right')\n",
        "  plt.ylabel('Accuracy')\n",
        "  plt.ylim([min(plt.ylim()),1])\n",
        "  plt.title('Training and Validation Accuracy')\n",
        "\n",
        "  plt.subplot(2, 1, 2)\n",
        "  plt.plot(loss, label='Training Loss')\n",
        "  plt.plot(val_loss, label='Validation Loss')\n",
        "  plt.legend(loc='upper right')\n",
        "  plt.ylabel('Cross Entropy')\n",
        "  plt.ylim([0,2.0])\n",
        "  plt.title('Training and Validation Loss')\n",
        "  plt.xlabel('epoch')\n",
        "  plt.show()\n",
        "\n",
        "plot_metrics(history)"
      ],
      "execution_count": 10,
      "outputs": [
        {
          "output_type": "display_data",
          "data": {
            "image/png": "[encoded data removed]",
            "text/plain": [
              "<Figure size 576x576 with 2 Axes>"
            ]
          },
          "metadata": {
            "tags": [],
            "needs_background": "light"
          }
        }
      ]
    }
  ]
}