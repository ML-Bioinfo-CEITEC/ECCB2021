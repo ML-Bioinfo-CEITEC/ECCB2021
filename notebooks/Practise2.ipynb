{
  "nbformat": 4,
  "nbformat_minor": 0,
  "metadata": {
    "colab": {
      "name": "Practise.ipynb",
      "provenance": [],
      "collapsed_sections": [],
      "authorship_tag": "ABX9TyPIlrHMADRBO9VNnRj7ooQl",
      "include_colab_link": true
    },
    "kernelspec": {
      "name": "python3",
      "display_name": "Python 3"
    },
    "language_info": {
      "name": "python"
    },
    "accelerator": "GPU"
  },
  "cells": [
    {
      "cell_type": "markdown",
      "metadata": {
        "id": "view-in-github",
        "colab_type": "text"
      },
      "source": [
        "<a href=\"https://colab.research.google.com/github/ML-Bioinfo-CEITEC/ECCB2021/blob/main/notebooks/Practise2.ipynb\" target=\"_parent\"><img src=\"https://colab.research.google.com/assets/colab-badge.svg\" alt=\"Open In Colab\"/></a>"
      ]
    },
    {
      "cell_type": "markdown",
      "metadata": {
        "id": "uZlqwq6XSNDl"
      },
      "source": [
        "## Reading data"
      ]
    },
    {
      "cell_type": "code",
      "metadata": {
        "id": "jtOgTYEDSJhj"
      },
      "source": [
        "import urllib.request\n",
        "import zipfile\n",
        "import numpy as np\n",
        "\n",
        "import tensorflow as tf\n",
        "from tensorflow import keras\n",
        "from tensorflow.keras.layers.experimental.preprocessing import TextVectorization"
      ],
      "execution_count": 1,
      "outputs": []
    },
    {
      "cell_type": "code",
      "metadata": {
        "id": "m_pl34p8SV79"
      },
      "source": [
        "urllib.request.urlretrieve(\"https://github.com/ML-Bioinfo-CEITEC/ECCB2021/raw/main/data/intergenic_vs_coding_20000_seqs.zip\", \"intergenic_vs_coding_20000_seqs.zip\")\n",
        "with zipfile.ZipFile(\"intergenic_vs_coding_20000_seqs.zip\", 'r') as zip_ref:\n",
        "    zip_ref.extractall()"
      ],
      "execution_count": 2,
      "outputs": []
    },
    {
      "cell_type": "code",
      "metadata": {
        "colab": {
          "base_uri": "https://localhost:8080/"
        },
        "id": "Gu_DBr_bSkFu",
        "outputId": "eb6c1845-2d43-4b11-8a3d-f42ef547ea71"
      },
      "source": [
        "batch_size = 64\n",
        "\n",
        "raw_train_ds = tf.keras.preprocessing.text_dataset_from_directory(\n",
        "    'intergenic_vs_coding_10000_seqs/train/',\n",
        "    batch_size=64,\n",
        "    class_names=[\"intergenomic\", \"transcripts\"])\n",
        "\n",
        "raw_valid_ds = tf.keras.preprocessing.text_dataset_from_directory(\n",
        "    'intergenic_vs_coding_10000_seqs/valid/',\n",
        "    batch_size=64,\n",
        "    class_names=[\"intergenomic\", \"transcripts\"])"
      ],
      "execution_count": 3,
      "outputs": [
        {
          "output_type": "stream",
          "text": [
            "Found 18335 files belonging to 2 classes.\n",
            "Found 1665 files belonging to 2 classes.\n"
          ],
          "name": "stdout"
        }
      ]
    },
    {
      "cell_type": "code",
      "metadata": {
        "colab": {
          "base_uri": "https://localhost:8080/"
        },
        "id": "7VTy_JtlTKVF",
        "outputId": "d956759c-07c3-49cd-bb6c-9cbb95d2ac4c"
      },
      "source": [
        "text_batch, label_batch = next(iter(raw_train_ds))\n",
        "text_batch[0], label_batch[0]"
      ],
      "execution_count": 4,
      "outputs": [
        {
          "output_type": "execute_result",
          "data": {
            "text/plain": [
              "(<tf.Tensor: shape=(), dtype=string, numpy=b'TGCCCTAGAGTTCTGGGGGTGGCTACAGACACAACAAACACTGAGACGATGAAACTGACAGTAATTGATTAGTTACTCATACTCAGCCCAGGGGAGGATGCTGCTGCATCTCTCCAGATCTATGTGGGGGTTGCACTCAGGAACAGAAAGAACAAGCAGAGGGTGTGGGAGGCAGGCTTGGGAGTCATCAGAGGGTGGGT'>,\n",
              " <tf.Tensor: shape=(), dtype=int32, numpy=0>)"
            ]
          },
          "metadata": {
            "tags": []
          },
          "execution_count": 4
        }
      ]
    },
    {
      "cell_type": "code",
      "metadata": {
        "id": "Btw5gslJTZx4"
      },
      "source": [
        "def char_split(input_data):\n",
        "  return tf.strings.unicode_split(input_data, 'UTF-8')\n",
        "\n",
        "vectorize_layer = TextVectorization(output_mode='int', split=char_split)"
      ],
      "execution_count": 5,
      "outputs": []
    },
    {
      "cell_type": "code",
      "metadata": {
        "id": "4Zv51Cc1TeWw"
      },
      "source": [
        "train_text = raw_train_ds.map(lambda x, y: x)\n",
        "vectorize_layer.adapt(train_text)\n",
        "vectorize_layer.set_vocabulary(vocabulary=np.asarray(['a', 'c', 't', 'g', 'n']))"
      ],
      "execution_count": 6,
      "outputs": []
    },
    {
      "cell_type": "code",
      "metadata": {
        "colab": {
          "base_uri": "https://localhost:8080/"
        },
        "id": "4bWHwyvAUCMs",
        "outputId": "ba3699d1-a6c1-47a8-d358-4ac5d244949f"
      },
      "source": [
        "vectorize_layer.get_vocabulary()"
      ],
      "execution_count": 7,
      "outputs": [
        {
          "output_type": "execute_result",
          "data": {
            "text/plain": [
              "['', '[UNK]', 'a', 'c', 't', 'g', 'n']"
            ]
          },
          "metadata": {
            "tags": []
          },
          "execution_count": 7
        }
      ]
    },
    {
      "cell_type": "code",
      "metadata": {
        "id": "OdhjyyhkUIgF"
      },
      "source": [
        "def vectorize_text(text, label):\n",
        "  text = tf.expand_dims(text, -1)\n",
        "  vectorized_text = vectorize_layer(text)\n",
        "  onehot_text = tf.one_hot(tf.cast(vectorized_text-2,'int64'), 4)\n",
        "  return onehot_text, label"
      ],
      "execution_count": 8,
      "outputs": []
    },
    {
      "cell_type": "code",
      "metadata": {
        "colab": {
          "base_uri": "https://localhost:8080/"
        },
        "id": "8gZfXLT0U5U2",
        "outputId": "1c4ec6b4-c1d3-494e-96a7-c3e9cf24796a"
      },
      "source": [
        "text_batch[0], label_batch[0]"
      ],
      "execution_count": 9,
      "outputs": [
        {
          "output_type": "execute_result",
          "data": {
            "text/plain": [
              "(<tf.Tensor: shape=(), dtype=string, numpy=b'TGCCCTAGAGTTCTGGGGGTGGCTACAGACACAACAAACACTGAGACGATGAAACTGACAGTAATTGATTAGTTACTCATACTCAGCCCAGGGGAGGATGCTGCTGCATCTCTCCAGATCTATGTGGGGGTTGCACTCAGGAACAGAAAGAACAAGCAGAGGGTGTGGGAGGCAGGCTTGGGAGTCATCAGAGGGTGGGT'>,\n",
              " <tf.Tensor: shape=(), dtype=int32, numpy=0>)"
            ]
          },
          "metadata": {
            "tags": []
          },
          "execution_count": 9
        }
      ]
    },
    {
      "cell_type": "code",
      "metadata": {
        "colab": {
          "base_uri": "https://localhost:8080/"
        },
        "id": "p67mC3WxU7QP",
        "outputId": "4e042d4c-f93e-4e2c-caee-b4bcbe8b591d"
      },
      "source": [
        "first_seq, first_label = text_batch[0], label_batch[0]\n",
        "vectorize_text(first_seq, first_label)"
      ],
      "execution_count": 10,
      "outputs": [
        {
          "output_type": "execute_result",
          "data": {
            "text/plain": [
              "(<tf.Tensor: shape=(1, 200, 4), dtype=float32, numpy=\n",
              " array([[[0., 0., 1., 0.],\n",
              "         [0., 0., 0., 1.],\n",
              "         [0., 1., 0., 0.],\n",
              "         [0., 1., 0., 0.],\n",
              "         [0., 1., 0., 0.],\n",
              "         [0., 0., 1., 0.],\n",
              "         [1., 0., 0., 0.],\n",
              "         [0., 0., 0., 1.],\n",
              "         [1., 0., 0., 0.],\n",
              "         [0., 0., 0., 1.],\n",
              "         [0., 0., 1., 0.],\n",
              "         [0., 0., 1., 0.],\n",
              "         [0., 1., 0., 0.],\n",
              "         [0., 0., 1., 0.],\n",
              "         [0., 0., 0., 1.],\n",
              "         [0., 0., 0., 1.],\n",
              "         [0., 0., 0., 1.],\n",
              "         [0., 0., 0., 1.],\n",
              "         [0., 0., 0., 1.],\n",
              "         [0., 0., 1., 0.],\n",
              "         [0., 0., 0., 1.],\n",
              "         [0., 0., 0., 1.],\n",
              "         [0., 1., 0., 0.],\n",
              "         [0., 0., 1., 0.],\n",
              "         [1., 0., 0., 0.],\n",
              "         [0., 1., 0., 0.],\n",
              "         [1., 0., 0., 0.],\n",
              "         [0., 0., 0., 1.],\n",
              "         [1., 0., 0., 0.],\n",
              "         [0., 1., 0., 0.],\n",
              "         [1., 0., 0., 0.],\n",
              "         [0., 1., 0., 0.],\n",
              "         [1., 0., 0., 0.],\n",
              "         [1., 0., 0., 0.],\n",
              "         [0., 1., 0., 0.],\n",
              "         [1., 0., 0., 0.],\n",
              "         [1., 0., 0., 0.],\n",
              "         [1., 0., 0., 0.],\n",
              "         [0., 1., 0., 0.],\n",
              "         [1., 0., 0., 0.],\n",
              "         [0., 1., 0., 0.],\n",
              "         [0., 0., 1., 0.],\n",
              "         [0., 0., 0., 1.],\n",
              "         [1., 0., 0., 0.],\n",
              "         [0., 0., 0., 1.],\n",
              "         [1., 0., 0., 0.],\n",
              "         [0., 1., 0., 0.],\n",
              "         [0., 0., 0., 1.],\n",
              "         [1., 0., 0., 0.],\n",
              "         [0., 0., 1., 0.],\n",
              "         [0., 0., 0., 1.],\n",
              "         [1., 0., 0., 0.],\n",
              "         [1., 0., 0., 0.],\n",
              "         [1., 0., 0., 0.],\n",
              "         [0., 1., 0., 0.],\n",
              "         [0., 0., 1., 0.],\n",
              "         [0., 0., 0., 1.],\n",
              "         [1., 0., 0., 0.],\n",
              "         [0., 1., 0., 0.],\n",
              "         [1., 0., 0., 0.],\n",
              "         [0., 0., 0., 1.],\n",
              "         [0., 0., 1., 0.],\n",
              "         [1., 0., 0., 0.],\n",
              "         [1., 0., 0., 0.],\n",
              "         [0., 0., 1., 0.],\n",
              "         [0., 0., 1., 0.],\n",
              "         [0., 0., 0., 1.],\n",
              "         [1., 0., 0., 0.],\n",
              "         [0., 0., 1., 0.],\n",
              "         [0., 0., 1., 0.],\n",
              "         [1., 0., 0., 0.],\n",
              "         [0., 0., 0., 1.],\n",
              "         [0., 0., 1., 0.],\n",
              "         [0., 0., 1., 0.],\n",
              "         [1., 0., 0., 0.],\n",
              "         [0., 1., 0., 0.],\n",
              "         [0., 0., 1., 0.],\n",
              "         [0., 1., 0., 0.],\n",
              "         [1., 0., 0., 0.],\n",
              "         [0., 0., 1., 0.],\n",
              "         [1., 0., 0., 0.],\n",
              "         [0., 1., 0., 0.],\n",
              "         [0., 0., 1., 0.],\n",
              "         [0., 1., 0., 0.],\n",
              "         [1., 0., 0., 0.],\n",
              "         [0., 0., 0., 1.],\n",
              "         [0., 1., 0., 0.],\n",
              "         [0., 1., 0., 0.],\n",
              "         [0., 1., 0., 0.],\n",
              "         [1., 0., 0., 0.],\n",
              "         [0., 0., 0., 1.],\n",
              "         [0., 0., 0., 1.],\n",
              "         [0., 0., 0., 1.],\n",
              "         [0., 0., 0., 1.],\n",
              "         [1., 0., 0., 0.],\n",
              "         [0., 0., 0., 1.],\n",
              "         [0., 0., 0., 1.],\n",
              "         [1., 0., 0., 0.],\n",
              "         [0., 0., 1., 0.],\n",
              "         [0., 0., 0., 1.],\n",
              "         [0., 1., 0., 0.],\n",
              "         [0., 0., 1., 0.],\n",
              "         [0., 0., 0., 1.],\n",
              "         [0., 1., 0., 0.],\n",
              "         [0., 0., 1., 0.],\n",
              "         [0., 0., 0., 1.],\n",
              "         [0., 1., 0., 0.],\n",
              "         [1., 0., 0., 0.],\n",
              "         [0., 0., 1., 0.],\n",
              "         [0., 1., 0., 0.],\n",
              "         [0., 0., 1., 0.],\n",
              "         [0., 1., 0., 0.],\n",
              "         [0., 0., 1., 0.],\n",
              "         [0., 1., 0., 0.],\n",
              "         [0., 1., 0., 0.],\n",
              "         [1., 0., 0., 0.],\n",
              "         [0., 0., 0., 1.],\n",
              "         [1., 0., 0., 0.],\n",
              "         [0., 0., 1., 0.],\n",
              "         [0., 1., 0., 0.],\n",
              "         [0., 0., 1., 0.],\n",
              "         [1., 0., 0., 0.],\n",
              "         [0., 0., 1., 0.],\n",
              "         [0., 0., 0., 1.],\n",
              "         [0., 0., 1., 0.],\n",
              "         [0., 0., 0., 1.],\n",
              "         [0., 0., 0., 1.],\n",
              "         [0., 0., 0., 1.],\n",
              "         [0., 0., 0., 1.],\n",
              "         [0., 0., 0., 1.],\n",
              "         [0., 0., 1., 0.],\n",
              "         [0., 0., 1., 0.],\n",
              "         [0., 0., 0., 1.],\n",
              "         [0., 1., 0., 0.],\n",
              "         [1., 0., 0., 0.],\n",
              "         [0., 1., 0., 0.],\n",
              "         [0., 0., 1., 0.],\n",
              "         [0., 1., 0., 0.],\n",
              "         [1., 0., 0., 0.],\n",
              "         [0., 0., 0., 1.],\n",
              "         [0., 0., 0., 1.],\n",
              "         [1., 0., 0., 0.],\n",
              "         [1., 0., 0., 0.],\n",
              "         [0., 1., 0., 0.],\n",
              "         [1., 0., 0., 0.],\n",
              "         [0., 0., 0., 1.],\n",
              "         [1., 0., 0., 0.],\n",
              "         [1., 0., 0., 0.],\n",
              "         [1., 0., 0., 0.],\n",
              "         [0., 0., 0., 1.],\n",
              "         [1., 0., 0., 0.],\n",
              "         [1., 0., 0., 0.],\n",
              "         [0., 1., 0., 0.],\n",
              "         [1., 0., 0., 0.],\n",
              "         [1., 0., 0., 0.],\n",
              "         [0., 0., 0., 1.],\n",
              "         [0., 1., 0., 0.],\n",
              "         [1., 0., 0., 0.],\n",
              "         [0., 0., 0., 1.],\n",
              "         [1., 0., 0., 0.],\n",
              "         [0., 0., 0., 1.],\n",
              "         [0., 0., 0., 1.],\n",
              "         [0., 0., 0., 1.],\n",
              "         [0., 0., 1., 0.],\n",
              "         [0., 0., 0., 1.],\n",
              "         [0., 0., 1., 0.],\n",
              "         [0., 0., 0., 1.],\n",
              "         [0., 0., 0., 1.],\n",
              "         [0., 0., 0., 1.],\n",
              "         [1., 0., 0., 0.],\n",
              "         [0., 0., 0., 1.],\n",
              "         [0., 0., 0., 1.],\n",
              "         [0., 1., 0., 0.],\n",
              "         [1., 0., 0., 0.],\n",
              "         [0., 0., 0., 1.],\n",
              "         [0., 0., 0., 1.],\n",
              "         [0., 1., 0., 0.],\n",
              "         [0., 0., 1., 0.],\n",
              "         [0., 0., 1., 0.],\n",
              "         [0., 0., 0., 1.],\n",
              "         [0., 0., 0., 1.],\n",
              "         [0., 0., 0., 1.],\n",
              "         [1., 0., 0., 0.],\n",
              "         [0., 0., 0., 1.],\n",
              "         [0., 0., 1., 0.],\n",
              "         [0., 1., 0., 0.],\n",
              "         [1., 0., 0., 0.],\n",
              "         [0., 0., 1., 0.],\n",
              "         [0., 1., 0., 0.],\n",
              "         [1., 0., 0., 0.],\n",
              "         [0., 0., 0., 1.],\n",
              "         [1., 0., 0., 0.],\n",
              "         [0., 0., 0., 1.],\n",
              "         [0., 0., 0., 1.],\n",
              "         [0., 0., 0., 1.],\n",
              "         [0., 0., 1., 0.],\n",
              "         [0., 0., 0., 1.],\n",
              "         [0., 0., 0., 1.],\n",
              "         [0., 0., 0., 1.],\n",
              "         [0., 0., 1., 0.]]], dtype=float32)>,\n",
              " <tf.Tensor: shape=(), dtype=int32, numpy=0>)"
            ]
          },
          "metadata": {
            "tags": []
          },
          "execution_count": 10
        }
      ]
    },
    {
      "cell_type": "code",
      "metadata": {
        "id": "gnoXGMbtVBNK"
      },
      "source": [
        "train_ds = raw_train_ds.map(vectorize_text)\n",
        "valid_ds = raw_valid_ds.map(vectorize_text)"
      ],
      "execution_count": 11,
      "outputs": []
    },
    {
      "cell_type": "markdown",
      "metadata": {
        "id": "x8Iw3ZbCeIA-"
      },
      "source": [
        "## Model & Training"
      ]
    },
    {
      "cell_type": "code",
      "metadata": {
        "id": "J3baVNSWbaOX"
      },
      "source": [
        "## YOUR WORK"
      ],
      "execution_count": 12,
      "outputs": []
    }
  ]
}