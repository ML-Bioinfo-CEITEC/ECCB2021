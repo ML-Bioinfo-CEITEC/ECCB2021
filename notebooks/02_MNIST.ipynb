{
  "nbformat": 4,
  "nbformat_minor": 0,
  "metadata": {
    "colab": {
      "name": "02_MNIST.ipynb",
      "provenance": [],
      "collapsed_sections": [],
      "toc_visible": true
    },
    "kernelspec": {
      "name": "python3",
      "display_name": "Python 3"
    },
    "accelerator": "GPU"
  },
  "cells": [
    {
      "cell_type": "markdown",
      "metadata": {
        "id": "Di7WDFcEXzUO"
      },
      "source": [
        "# Hello MNIST!\n",
        "\n",
        "In this notebook, you'll learn how to train an image classifier train on the MNIST dataset - the \"hello world\" of computer vision. You'll go through all the steps, including loading the data, building and training a model.\n",
        "\n",
        "\n"
      ]
    },
    {
      "cell_type": "markdown",
      "metadata": {
        "id": "FkInZP-pHvZp"
      },
      "source": [
        "Let us start with downloading the MNIST dataset and loading necessary libraries."
      ]
    },
    {
      "cell_type": "markdown",
      "metadata": {
        "id": "LJg-clT5ZC81"
      },
      "source": [
        "## Step 1) Load the dataset\n",
        "\n",
        "The MNIST dataset contains thousands of grayscale images of handwritten digits. There are ten distinct categories, coresponding to numbers 0 - 9."
      ]
    },
    {
      "cell_type": "code",
      "metadata": {
        "id": "OKz-Xrfq-FsZ",
        "colab": {
          "base_uri": "https://localhost:8080/"
        },
        "outputId": "b8a06f2e-5436-4d3f-eec3-657db95daa6c"
      },
      "source": [
        "%matplotlib inline\n",
        "import numpy as np\n",
        "import tensorflow as tf\n",
        "import matplotlib.pyplot as plt\n",
        "\n",
        "from tensorflow.keras.datasets import mnist     \n",
        "from tensorflow.keras.models import Sequential  \n",
        "from tensorflow.keras.layers import Dense, Dropout, Activation \n",
        "from tensorflow.keras.utils import to_categorical \n",
        "\n",
        "(x_train, y_train), (x_test, y_test) = mnist.load_data()\n",
        "\n",
        "print(\"X_train shape\", x_train.shape)\n",
        "print(\"y_train shape\", y_train.shape)\n",
        "print(\"X_test shape\", x_test.shape)\n",
        "print(\"y_test shape\", y_test.shape)"
      ],
      "execution_count": null,
      "outputs": [
        {
          "output_type": "stream",
          "text": [
            "X_train shape (60000, 28, 28)\n",
            "y_train shape (60000,)\n",
            "X_test shape (10000, 28, 28)\n",
            "y_test shape (10000,)\n"
          ],
          "name": "stdout"
        }
      ]
    },
    {
      "cell_type": "code",
      "metadata": {
        "id": "HUfg6y5u-0nM",
        "colab": {
          "base_uri": "https://localhost:8080/",
          "height": 282
        },
        "outputId": "fa45ec6e-c52f-4bfa-c35b-32e9df36b0db"
      },
      "source": [
        "# get one image\n",
        "print(y_train[1])\n",
        "plt.imshow(x_train[1], cmap='gray', interpolation='none');"
      ],
      "execution_count": null,
      "outputs": [
        {
          "output_type": "stream",
          "text": [
            "0\n"
          ],
          "name": "stdout"
        },
        {
          "output_type": "display_data",
          "data": {
            "image/png": "[encoded data removed]",
            "text/plain": [
              "<Figure size 432x288 with 1 Axes>"
            ]
          },
          "metadata": {
            "tags": [],
            "needs_background": "light"
          }
        }
      ]
    },
    {
      "cell_type": "code",
      "metadata": {
        "colab": {
          "base_uri": "https://localhost:8080/"
        },
        "id": "bnCJWT2P9z70",
        "outputId": "34d12c2e-38d4-4c67-df9e-88dea216f95e"
      },
      "source": [
        "# flatten the arrays to fit into the first layer of our neural network\n",
        "x_train = x_train.reshape(60000, 28*28) \n",
        "x_test = x_test.reshape(10000, 28*28)   \n",
        "\n",
        "# normalize values to [0,1]\n",
        "x_train = x_train / 255                       \n",
        "x_test = x_test / 255\n",
        "\n",
        "print(\"Training matrix shape\", x_train.shape)\n",
        "print(\"Testing matrix shape\", x_test.shape)"
      ],
      "execution_count": null,
      "outputs": [
        {
          "output_type": "stream",
          "text": [
            "Training matrix shape (60000, 784)\n",
            "Testing matrix shape (10000, 784)\n"
          ],
          "name": "stdout"
        }
      ]
    },
    {
      "cell_type": "code",
      "metadata": {
        "colab": {
          "base_uri": "https://localhost:8080/"
        },
        "id": "xCNXkZ-Z_M_w",
        "outputId": "1b5782e2-0d7c-4858-9a5d-33e09bcc9df5"
      },
      "source": [
        "nb_classes = 10\n",
        "\n",
        "y_train_onehot = tf.keras.utils.to_categorical(y_train, nb_classes)\n",
        "y_test_onehot = tf.keras.utils.to_categorical(y_test, nb_classes)\n",
        "\n",
        "y_test[1], y_test_onehot[1]"
      ],
      "execution_count": null,
      "outputs": [
        {
          "output_type": "execute_result",
          "data": {
            "text/plain": [
              "(2, array([0., 0., 1., 0., 0., 0., 0., 0., 0., 0.], dtype=float32))"
            ]
          },
          "metadata": {
            "tags": []
          },
          "execution_count": 37
        }
      ]
    },
    {
      "cell_type": "markdown",
      "metadata": {
        "id": "cBPjRbgHbUYE"
      },
      "source": [
        "## Step 2) Visualize the data\n",
        "\n",
        "Show a random sample of the dataset along with it's corresponding labels:\n"
      ]
    },
    {
      "cell_type": "code",
      "metadata": {
        "id": "iYO_SSjpCMyN"
      },
      "source": [
        "indices = np.random.choice(range(60000), 9)"
      ],
      "execution_count": null,
      "outputs": []
    },
    {
      "cell_type": "code",
      "metadata": {
        "id": "618ZVdEZCOMu",
        "colab": {
          "base_uri": "https://localhost:8080/",
          "height": 284
        },
        "outputId": "a1c82551-3611-41b8-970b-bd8ca9a31df2"
      },
      "source": [
        "fig = plt.figure()\n",
        "for i, ind in enumerate(indices):\n",
        "  plt.subplot(3,3,i+1)\n",
        "  plt.tight_layout()\n",
        "  plt.imshow(x_train[ind].reshape((28,28)), cmap='gray', interpolation='none')\n",
        "  plt.title(f\"Label: {y_train[ind]}\")\n",
        "  plt.xticks([])\n",
        "  plt.yticks([])"
      ],
      "execution_count": null,
      "outputs": [
        {
          "output_type": "display_data",
          "data": {
            "image/png": "[encoded data removed]",
            "text/plain": [
              "<Figure size 432x288 with 9 Axes>"
            ]
          },
          "metadata": {
            "tags": []
          }
        }
      ]
    },
    {
      "cell_type": "markdown",
      "metadata": {
        "id": "8CBR8fR2cIf6"
      },
      "source": [
        "## Step 3) Build the model\n",
        "\n",
        "Architecture wise, we'll use a single layer network. All layers are Linear - the classic fully-connected neural network layers.\n",
        "* The hidden layer will have 512 units using the ReLU activation function.\n",
        "* The output layer will have 10 units, corresponding to the 10 digits, and use softmax function. \n"
      ]
    },
    {
      "cell_type": "code",
      "metadata": {
        "id": "BOEbfyVo_AdO",
        "colab": {
          "base_uri": "https://localhost:8080/"
        },
        "outputId": "efa60212-4f9f-4924-aebc-545993be1229"
      },
      "source": [
        "model = Sequential([\n",
        "    Dense(512, input_shape=(784,), activation=\"relu\"),\n",
        "    Dense(512, activation=\"relu\"),\n",
        "    Dense(10, activation=\"softmax\")\n",
        "])\n",
        "\n",
        "model.summary()"
      ],
      "execution_count": null,
      "outputs": [
        {
          "output_type": "stream",
          "text": [
            "Model: \"sequential_1\"\n",
            "_________________________________________________________________\n",
            "Layer (type)                 Output Shape              Param #   \n",
            "=================================================================\n",
            "dense_6 (Dense)              (None, 512)               401920    \n",
            "_________________________________________________________________\n",
            "dense_7 (Dense)              (None, 512)               262656    \n",
            "_________________________________________________________________\n",
            "dense_8 (Dense)              (None, 10)                5130      \n",
            "=================================================================\n",
            "Total params: 669,706\n",
            "Trainable params: 669,706\n",
            "Non-trainable params: 0\n",
            "_________________________________________________________________\n"
          ],
          "name": "stdout"
        }
      ]
    },
    {
      "cell_type": "markdown",
      "metadata": {
        "id": "d5yXTbCrgzH2"
      },
      "source": [
        "## Step 4) Training\n"
      ]
    },
    {
      "cell_type": "code",
      "metadata": {
        "id": "8BHcfUh7t-Hj"
      },
      "source": [
        "model.compile(loss='categorical_crossentropy', optimizer='adam', metrics=['accuracy'])\n"
      ],
      "execution_count": null,
      "outputs": []
    },
    {
      "cell_type": "markdown",
      "metadata": {
        "id": "tDgYL0LxiEl2"
      },
      "source": [
        "In each epoch, we will go through all data and print the loss and metrics."
      ]
    },
    {
      "cell_type": "code",
      "metadata": {
        "id": "Ts9pWEq81AXY",
        "colab": {
          "base_uri": "https://localhost:8080/"
        },
        "outputId": "8add11ec-7f40-4e97-b8b7-c7229f8e74be"
      },
      "source": [
        "model.fit(x_train, y_train_onehot,\n",
        "          batch_size=128, epochs=5,\n",
        "          verbose=1)"
      ],
      "execution_count": null,
      "outputs": [
        {
          "output_type": "stream",
          "text": [
            "Epoch 1/5\n",
            "469/469 [==============================] - 4s 3ms/step - loss: 0.2146 - accuracy: 0.9369\n",
            "Epoch 2/5\n",
            "469/469 [==============================] - 1s 3ms/step - loss: 0.0801 - accuracy: 0.9753\n",
            "Epoch 3/5\n",
            "469/469 [==============================] - 1s 3ms/step - loss: 0.0518 - accuracy: 0.9835\n",
            "Epoch 4/5\n",
            "469/469 [==============================] - 1s 3ms/step - loss: 0.0356 - accuracy: 0.9884\n",
            "Epoch 5/5\n",
            "469/469 [==============================] - 1s 3ms/step - loss: 0.0284 - accuracy: 0.9904\n"
          ],
          "name": "stdout"
        },
        {
          "output_type": "execute_result",
          "data": {
            "text/plain": [
              "<tensorflow.python.keras.callbacks.History at 0x7f9cef09d6d0>"
            ]
          },
          "metadata": {
            "tags": []
          },
          "execution_count": 44
        }
      ]
    },
    {
      "cell_type": "markdown",
      "metadata": {
        "id": "_1-Ytzu_CvJH"
      },
      "source": [
        "How are we doing on a testing set?"
      ]
    },
    {
      "cell_type": "code",
      "metadata": {
        "colab": {
          "base_uri": "https://localhost:8080/"
        },
        "id": "M8VJ-LWbDBMk",
        "outputId": "8b2cdd8f-83f7-4b83-f053-3f6009461482"
      },
      "source": [
        "score = model.evaluate(x_test, y_test_onehot)\n",
        "print('Test loss:', score[0])\n",
        "print('Test accuracy:', score[1])"
      ],
      "execution_count": null,
      "outputs": [
        {
          "output_type": "stream",
          "text": [
            "313/313 [==============================] - 1s 2ms/step - loss: 0.0647 - accuracy: 0.9824\n",
            "Test loss: 0.06468968838453293\n",
            "Test accuracy: 0.9824000000953674\n"
          ],
          "name": "stdout"
        }
      ]
    }
  ]
}