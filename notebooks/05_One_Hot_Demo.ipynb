{
  "nbformat": 4,
  "nbformat_minor": 0,
  "metadata": {
    "colab": {
      "name": "05_One_Hot_Demo.ipynb",
      "provenance": [],
      "collapsed_sections": [
        "WBib9OcB8gON"
      ],
      "toc_visible": true,
      "authorship_tag": "ABX9TyNd76NLTGzCSJTBwBUPS6/Q",
      "include_colab_link": true
    },
    "kernelspec": {
      "name": "python3",
      "display_name": "Python 3"
    },
    "language_info": {
      "name": "python"
    },
    "accelerator": "GPU"
  },
  "cells": [
    {
      "cell_type": "markdown",
      "metadata": {
        "id": "view-in-github",
        "colab_type": "text"
      },
      "source": [
        "<a href=\"https://colab.research.google.com/github/ML-Bioinfo-CEITEC/ECCB2021/blob/gh-pages-template/notebooks/05_One_Hot_Demo.ipynb\" target=\"_parent\"><img src=\"https://colab.research.google.com/assets/colab-badge.svg\" alt=\"Open In Colab\"/></a>"
      ]
    },
    {
      "cell_type": "markdown",
      "metadata": {
        "id": "sTrkmjCcY8h4"
      },
      "source": [
        "## Set up"
      ]
    },
    {
      "cell_type": "code",
      "metadata": {
        "id": "UK3ILipwZE_3"
      },
      "source": [
        "from tensorflow import keras as K\n",
        "import tensorflow as tf\n",
        "import numpy as np\n",
        "import pandas as pd\n",
        "import matplotlib.pyplot as plt\n"
      ],
      "execution_count": null,
      "outputs": []
    },
    {
      "cell_type": "markdown",
      "metadata": {
        "id": "JT7cPazsYdwD"
      },
      "source": [
        "## One-hot encoding"
      ]
    },
    {
      "cell_type": "markdown",
      "metadata": {
        "id": "WBib9OcB8gON"
      },
      "source": [
        "### One-hot description"
      ]
    },
    {
      "cell_type": "markdown",
      "metadata": {
        "id": "n2d8Rf9NRIDV"
      },
      "source": [
        "In natural language processing, a one-hot vector is a 1 × N matrix (vector) used to distinguish each word in a vocabulary from every other word in the vocabulary. The vector consists of 0s in all cells with the exception of a single 1 in a cell used uniquely to identify the word. One-hot encoding ensures that machine learning does not assume that higher numbers are more important. For example, the value '8' is bigger than the value '1', but that does not make '8' more important than '1'. The same is true for words: the value 'laughter' is not more important than 'laugh'.\n"
      ]
    },
    {
      "cell_type": "markdown",
      "metadata": {
        "id": "nizGUGs1RTQD"
      },
      "source": [
        "One hot encoding is useful for data that has no relationship to each other. Machine learning algorithms treat the order of numbers as an attribute of significance. In other words, they will read a higher number as better or more important than a lower number.\n",
        "\n",
        "While this is helpful for some ordinal situations, some input data does not have any ranking for category values, and this can lead to issues with predictions and poor performance. That’s when one hot encoding saves the day.\n"
      ]
    },
    {
      "cell_type": "markdown",
      "metadata": {
        "id": "8g8qtGJ9nML_"
      },
      "source": [
        "![onehot black.png](data:image/png;base64,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)"
      ]
    },
    {
      "cell_type": "markdown",
      "metadata": {
        "id": "w4z5THWu8qWM"
      },
      "source": [
        "### One-hot code"
      ]
    },
    {
      "cell_type": "code",
      "metadata": {
        "colab": {
          "base_uri": "https://localhost:8080/"
        },
        "id": "9Ttf8V4OYpf8",
        "outputId": "f0b776bd-b57c-4137-f703-88aaa08e71d1"
      },
      "source": [
        "# get train dataset\n",
        "!wget https://raw.githubusercontent.com/ML-Bioinfo-CEITEC/penguinn/master/Datasets/train_set_1_1.txt\n"
      ],
      "execution_count": null,
      "outputs": [
        {
          "output_type": "stream",
          "text": [
            "--2021-07-21 23:27:30--  https://raw.githubusercontent.com/ML-Bioinfo-CEITEC/penguinn/master/Datasets/train_set_1_1.txt\n",
            "Resolving raw.githubusercontent.com (raw.githubusercontent.com)... 185.199.108.133, 185.199.109.133, 185.199.110.133, ...\n",
            "Connecting to raw.githubusercontent.com (raw.githubusercontent.com)|185.199.108.133|:443... connected.\n",
            "HTTP request sent, awaiting response... 200 OK\n",
            "Length: 63000000 (60M) [text/plain]\n",
            "Saving to: ‘train_set_1_1.txt.2’\n",
            "\n",
            "train_set_1_1.txt.2 100%[===================>]  60.08M   221MB/s    in 0.3s    \n",
            "\n",
            "2021-07-21 23:27:30 (221 MB/s) - ‘train_set_1_1.txt.2’ saved [63000000/63000000]\n",
            "\n"
          ],
          "name": "stdout"
        }
      ]
    },
    {
      "cell_type": "code",
      "metadata": {
        "colab": {
          "base_uri": "https://localhost:8080/"
        },
        "id": "RA7TxENR9exo",
        "outputId": "7acbe078-010e-4a9e-847f-9f0184755f49"
      },
      "source": [
        "df_train = pd.read_csv(\"train_set_1_1.txt\", sep='\\t', names=['sequence', 'label'])\n",
        "\n",
        "labels_train = np.array(list(map((lambda x: 1 if x == 'positive' else 0), list(df_train['label']))))\n",
        "dataset_train = df_train['sequence'].tolist()\n",
        "\n",
        "\n",
        "nucleo_dic = {\n",
        "    \"A\": 0,\n",
        "    \"C\": 1,\n",
        "    \"T\": 2,\n",
        "    \"G\": 3,\n",
        "    \"N\": 4,\n",
        "}\n",
        "\n",
        "dataset_ordinal_train = [[nucleo_dic[letter] for letter in sequence] for sequence in dataset_train]\n",
        "\n",
        "print('Explore for a random sequence')\n",
        "example_sequence = 42\n",
        "print(dataset_train[example_sequence])\n",
        "print(dataset_ordinal_train[example_sequence])"
      ],
      "execution_count": null,
      "outputs": [
        {
          "output_type": "stream",
          "text": [
            "Explore for a random sequence\n",
            "CCGAGGTAAAAGTGCTGAAACCATGTGAATAAAATACAGGTGGGTTCCGCCAGCTTCGCTCCTGAACCTACCCGCGCTCGGGATCCAGAAGCTGCGCCGGGAGAGAGGGGCTCAGGCCTGGGCGGAGGGGACGGAGGTCAGACCGTGCGGAAAGTGACCCGGGCACCCCAGGGCGCCCAGGCCCCCAGGGAGCGCGGAAA\n",
            "[1, 1, 3, 0, 3, 3, 2, 0, 0, 0, 0, 3, 2, 3, 1, 2, 3, 0, 0, 0, 1, 1, 0, 2, 3, 2, 3, 0, 0, 2, 0, 0, 0, 0, 2, 0, 1, 0, 3, 3, 2, 3, 3, 3, 2, 2, 1, 1, 3, 1, 1, 0, 3, 1, 2, 2, 1, 3, 1, 2, 1, 1, 2, 3, 0, 0, 1, 1, 2, 0, 1, 1, 1, 3, 1, 3, 1, 2, 1, 3, 3, 3, 0, 2, 1, 1, 0, 3, 0, 0, 3, 1, 2, 3, 1, 3, 1, 1, 3, 3, 3, 0, 3, 0, 3, 0, 3, 3, 3, 3, 1, 2, 1, 0, 3, 3, 1, 1, 2, 3, 3, 3, 1, 3, 3, 0, 3, 3, 3, 3, 0, 1, 3, 3, 0, 3, 3, 2, 1, 0, 3, 0, 1, 1, 3, 2, 3, 1, 3, 3, 0, 0, 0, 3, 2, 3, 0, 1, 1, 1, 3, 3, 3, 1, 0, 1, 1, 1, 1, 0, 3, 3, 3, 1, 3, 1, 1, 1, 0, 3, 3, 1, 1, 1, 1, 1, 0, 3, 3, 3, 0, 3, 1, 3, 1, 3, 3, 0, 0, 0]\n"
          ],
          "name": "stdout"
        }
      ]
    },
    {
      "cell_type": "code",
      "metadata": {
        "colab": {
          "base_uri": "https://localhost:8080/"
        },
        "id": "gOyFkfgEjFbS",
        "outputId": "9f10c41c-a299-4209-9505-d1a7ffc2f5f1"
      },
      "source": [
        "dataset_onehot_train = tf.one_hot(dataset_ordinal_train, depth=5)\n",
        "\n",
        "print(\"the length of the dataset\", len(dataset_train), len(dataset_ordinal_train), len(dataset_onehot_train))\n",
        "\n",
        "print(\"the length of a sequence in the dataset\", len(dataset_train[example_sequence]), len(dataset_ordinal_train[example_sequence]), len(dataset_onehot_train[example_sequence]))\n",
        "\n",
        "print(\"\\n Let's check examples of how the ACTG characters got translated into one-hot: \\n\")\n",
        "print(\"characters: \", dataset_train[example_sequence][0:10])\n",
        "print(\"ordinal form: \", dataset_ordinal_train[example_sequence][0:10])\n",
        "print(\"one-hot: \", dataset_onehot_train[example_sequence][0:10], \"\\n\")\n",
        "\n",
        "print(\"characters: \", dataset_train[example_sequence][80:85])\n",
        "print(\"ordinal form: \", dataset_ordinal_train[example_sequence][80:85])\n",
        "print(\"one-hot: \", dataset_onehot_train[example_sequence][80:85])"
      ],
      "execution_count": null,
      "outputs": [
        {
          "output_type": "stream",
          "text": [
            "the length of the dataset 300000 300000 300000\n",
            "the length of a sequence in the dataset 200 200 200\n",
            "\n",
            " Let's check examples of how the ACTG characters got translated into one-hot: \n",
            "\n",
            "characters:  CCGAGGTAAA\n",
            "ordinal form:  [1, 1, 3, 0, 3, 3, 2, 0, 0, 0]\n",
            "one-hot:  tf.Tensor(\n",
            "[[0. 1. 0. 0. 0.]\n",
            " [0. 1. 0. 0. 0.]\n",
            " [0. 0. 0. 1. 0.]\n",
            " [1. 0. 0. 0. 0.]\n",
            " [0. 0. 0. 1. 0.]\n",
            " [0. 0. 0. 1. 0.]\n",
            " [0. 0. 1. 0. 0.]\n",
            " [1. 0. 0. 0. 0.]\n",
            " [1. 0. 0. 0. 0.]\n",
            " [1. 0. 0. 0. 0.]], shape=(10, 5), dtype=float32) \n",
            "\n",
            "characters:  GGATC\n",
            "ordinal form:  [3, 3, 0, 2, 1]\n",
            "one-hot:  tf.Tensor(\n",
            "[[0. 0. 0. 1. 0.]\n",
            " [0. 0. 0. 1. 0.]\n",
            " [1. 0. 0. 0. 0.]\n",
            " [0. 0. 1. 0. 0.]\n",
            " [0. 1. 0. 0. 0.]], shape=(5, 5), dtype=float32)\n"
          ],
          "name": "stdout"
        }
      ]
    },
    {
      "cell_type": "code",
      "metadata": {
        "id": "sjQJNgzN77Vv"
      },
      "source": [
        "# get test dataset\n",
        "!wget --quiet https://raw.githubusercontent.com/ML-Bioinfo-CEITEC/penguinn/master/Datasets/test_set_1_1.txt\n",
        "\n",
        "# preprocess the test set similarly\n",
        "df_test = pd.read_csv(\"test_set_1_1.txt\", sep='\\t', names=['sequence', 'label'])\n",
        "\n",
        "labels_test = np.array(list(map((lambda x: 1 if x == 'positive' else 0), list(df_test['label']))))\n",
        "dataset_test = df_test['sequence'].tolist()\n",
        "\n",
        "# we use the same nucleo_dic as on the example before\n",
        "dataset_ordinal_test = [[nucleo_dic[letter] for letter in sequence] for sequence in dataset_test]\n",
        "dataset_onehot_test = tf.one_hot(dataset_ordinal_test, depth=5)"
      ],
      "execution_count": null,
      "outputs": []
    },
    {
      "cell_type": "code",
      "metadata": {
        "id": "E7ecrIlDXrQv",
        "colab": {
          "base_uri": "https://localhost:8080/"
        },
        "outputId": "4a4687dc-08f6-4c9d-e019-a4634270b1b2"
      },
      "source": [
        "# Make the training dataset smaller so we do not have to wait long :)\n",
        "number_of_examples = 1000\n",
        "\n",
        "print(dataset_onehot_train[0:number_of_examples].shape)\n",
        "print(labels_train[0:number_of_examples].shape)\n",
        "\n",
        "dataset_onehot_train_small = dataset_onehot_train[0:number_of_examples]\n",
        "labels_train_small = labels_train[0:number_of_examples]"
      ],
      "execution_count": null,
      "outputs": [
        {
          "output_type": "stream",
          "text": [
            "(1000, 200, 5)\n",
            "(1000,)\n"
          ],
          "name": "stdout"
        }
      ]
    },
    {
      "cell_type": "code",
      "metadata": {
        "id": "YFGxet9OX-W-"
      },
      "source": [
        "# sequence_size = length of the sequence\n",
        "sequence_size = 200\n",
        "# channel = each channel corresponds to a nucleotide\n",
        "channel = len(nucleo_dic)"
      ],
      "execution_count": null,
      "outputs": []
    },
    {
      "cell_type": "markdown",
      "metadata": {
        "id": "ndgpLEb8YA0R"
      },
      "source": [
        "# The CNN model"
      ]
    },
    {
      "cell_type": "code",
      "metadata": {
        "id": "1ce9vn-HYAjn"
      },
      "source": [
        "# create the NN model\n",
        "model = tf.keras.Sequential([\n",
        "  tf.keras.layers.Conv1D(\n",
        "    filters=10,\n",
        "    kernel_size=6,\n",
        "    strides=1,\n",
        "    padding='same',\n",
        "    data_format=\"channels_last\",\n",
        "    activation='relu',\n",
        "    input_shape=(sequence_size, channel)),\n",
        "\n",
        "  tf.keras.layers.Conv1D(\n",
        "    filters=10,\n",
        "    kernel_size=6,\n",
        "    strides=1,\n",
        "    padding='same',\n",
        "    data_format=\"channels_last\",\n",
        "    activation='relu'),\n",
        "  \n",
        "  tf.keras.layers.Flatten(),\n",
        "  \n",
        "  tf.keras.layers.Dense(10, activation=\"relu\"),\n",
        "  tf.keras.layers.Dense(1, activation='sigmoid')\n",
        "])\n",
        "\n",
        "optimizer = K.optimizers.SGD()\n",
        "\n",
        "model.compile(\n",
        "    optimizer=optimizer,\n",
        "    loss='binary_crossentropy',\n",
        "    metrics=['accuracy']\n",
        ")"
      ],
      "execution_count": null,
      "outputs": []
    },
    {
      "cell_type": "code",
      "metadata": {
        "id": "xErbMbTLYMXH",
        "colab": {
          "base_uri": "https://localhost:8080/"
        },
        "outputId": "6c967a38-c78d-4d20-8fcf-d43d8b73343f"
      },
      "source": [
        "validation_split=0.5\n",
        "num_epochs=20\n",
        "\n",
        "history = model.fit(\n",
        "    dataset_onehot_train_small,\n",
        "    labels_train_small,\n",
        "    batch_size=32,\n",
        "    epochs=num_epochs,\n",
        "    # notice the validation split, this split is always taken from the end of the training dataset before shuffle\n",
        "    #   so, as long as our dataset is the same, train-validation split will also be the same\n",
        "    validation_split=validation_split\n",
        ")"
      ],
      "execution_count": null,
      "outputs": [
        {
          "output_type": "stream",
          "text": [
            "Epoch 1/20\n",
            "16/16 [==============================] - 3s 25ms/step - loss: 0.6968 - accuracy: 0.4800 - val_loss: 0.6928 - val_accuracy: 0.5200\n",
            "Epoch 2/20\n",
            "16/16 [==============================] - 0s 5ms/step - loss: 0.6932 - accuracy: 0.4980 - val_loss: 0.6922 - val_accuracy: 0.5160\n",
            "Epoch 3/20\n",
            "16/16 [==============================] - 0s 8ms/step - loss: 0.6910 - accuracy: 0.5000 - val_loss: 0.6916 - val_accuracy: 0.5220\n",
            "Epoch 4/20\n",
            "16/16 [==============================] - 0s 8ms/step - loss: 0.6883 - accuracy: 0.5400 - val_loss: 0.6912 - val_accuracy: 0.5180\n",
            "Epoch 5/20\n",
            "16/16 [==============================] - 0s 6ms/step - loss: 0.6856 - accuracy: 0.5440 - val_loss: 0.6905 - val_accuracy: 0.5380\n",
            "Epoch 6/20\n",
            "16/16 [==============================] - 0s 8ms/step - loss: 0.6830 - accuracy: 0.5840 - val_loss: 0.6900 - val_accuracy: 0.5400\n",
            "Epoch 7/20\n",
            "16/16 [==============================] - 0s 6ms/step - loss: 0.6801 - accuracy: 0.6020 - val_loss: 0.6890 - val_accuracy: 0.5580\n",
            "Epoch 8/20\n",
            "16/16 [==============================] - 0s 5ms/step - loss: 0.6769 - accuracy: 0.6200 - val_loss: 0.6880 - val_accuracy: 0.5540\n",
            "Epoch 9/20\n",
            "16/16 [==============================] - 0s 8ms/step - loss: 0.6736 - accuracy: 0.6280 - val_loss: 0.6864 - val_accuracy: 0.5680\n",
            "Epoch 10/20\n",
            "16/16 [==============================] - 0s 6ms/step - loss: 0.6686 - accuracy: 0.6600 - val_loss: 0.6845 - val_accuracy: 0.5780\n",
            "Epoch 11/20\n",
            "16/16 [==============================] - 0s 5ms/step - loss: 0.6633 - accuracy: 0.6800 - val_loss: 0.6815 - val_accuracy: 0.5840\n",
            "Epoch 12/20\n",
            "16/16 [==============================] - 0s 8ms/step - loss: 0.6571 - accuracy: 0.6840 - val_loss: 0.6779 - val_accuracy: 0.5920\n",
            "Epoch 13/20\n",
            "16/16 [==============================] - 0s 6ms/step - loss: 0.6488 - accuracy: 0.7060 - val_loss: 0.6728 - val_accuracy: 0.5900\n",
            "Epoch 14/20\n",
            "16/16 [==============================] - 0s 6ms/step - loss: 0.6388 - accuracy: 0.7080 - val_loss: 0.6663 - val_accuracy: 0.6240\n",
            "Epoch 15/20\n",
            "16/16 [==============================] - 0s 6ms/step - loss: 0.6264 - accuracy: 0.7380 - val_loss: 0.6554 - val_accuracy: 0.6200\n",
            "Epoch 16/20\n",
            "16/16 [==============================] - 0s 5ms/step - loss: 0.6079 - accuracy: 0.7760 - val_loss: 0.6405 - val_accuracy: 0.6540\n",
            "Epoch 17/20\n",
            "16/16 [==============================] - 0s 6ms/step - loss: 0.5852 - accuracy: 0.7720 - val_loss: 0.6159 - val_accuracy: 0.7000\n",
            "Epoch 18/20\n",
            "16/16 [==============================] - 0s 5ms/step - loss: 0.5510 - accuracy: 0.7960 - val_loss: 0.5880 - val_accuracy: 0.7340\n",
            "Epoch 19/20\n",
            "16/16 [==============================] - 0s 5ms/step - loss: 0.5090 - accuracy: 0.8180 - val_loss: 0.5470 - val_accuracy: 0.7600\n",
            "Epoch 20/20\n",
            "16/16 [==============================] - 0s 5ms/step - loss: 0.4597 - accuracy: 0.8360 - val_loss: 0.5290 - val_accuracy: 0.7340\n"
          ],
          "name": "stdout"
        }
      ]
    },
    {
      "cell_type": "code",
      "metadata": {
        "id": "dcNoeNWWYOnl"
      },
      "source": [
        "metrics = model.evaluate(\n",
        "    dataset_onehot_test,\n",
        "    labels_test,\n",
        "    verbose=0\n",
        ")"
      ],
      "execution_count": null,
      "outputs": []
    },
    {
      "cell_type": "code",
      "metadata": {
        "id": "iPq7J8ZeYeBG",
        "colab": {
          "base_uri": "https://localhost:8080/"
        },
        "outputId": "ba5568ee-ca3d-48c3-ce81-e43d9dc5305c"
      },
      "source": [
        "print('model evaluation on unknown (that is \"test\") dataset [loss, accuracy]:', metrics)\n",
        "\n",
        "# just a trick for the plotting\n",
        "for met in range(len(metrics)):\n",
        "  repeted_list = []\n",
        "  for i in range(len(history.history['accuracy'])):\n",
        "    repeted_list.append(metrics[met])\n",
        "  metrics[met] = repeted_list\n",
        "# print(metrics)\n"
      ],
      "execution_count": null,
      "outputs": [
        {
          "output_type": "stream",
          "text": [
            "model evaluation on unknown (that is \"test\") dataset [loss, accuracy]: [0.5253157019615173, 0.7468500137329102]\n"
          ],
          "name": "stdout"
        }
      ]
    },
    {
      "cell_type": "code",
      "metadata": {
        "id": "KI1cYvS3YpeO",
        "colab": {
          "base_uri": "https://localhost:8080/",
          "height": 325
        },
        "outputId": "4a88159d-413f-4aa6-c96e-61f940d32740"
      },
      "source": [
        "\n",
        "# training history\n",
        "acc = history.history['accuracy']\n",
        "val_acc = history.history['val_accuracy']\n",
        "\n",
        "loss = history.history['loss']\n",
        "val_loss = history.history['val_loss']\n",
        "\n",
        "# acc\n",
        "plt.figure(figsize=(16, 10))\n",
        "\n",
        "# acc\n",
        "plt.subplot(2, 2, 1)\n",
        "plt.plot(acc, label='Training Accuracy')\n",
        "plt.plot(val_acc, label='Validation Accuracy')\n",
        "plt.plot(metrics[1], label='Testing Accuracy')\n",
        "plt.legend(loc='lower right')\n",
        "plt.ylabel('Accuracy')\n",
        "plt.ylim([min(plt.ylim()),1])\n",
        "plt.title('Training and Validation Accuracy')\n",
        "\n",
        "# loss\n",
        "plt.subplot(2, 2, 2)\n",
        "plt.plot(loss, label='Training Loss')\n",
        "plt.plot(val_loss, label='Validation Loss')\n",
        "plt.plot(metrics[0], label='Testing Loss')\n",
        "plt.legend(loc='upper right')\n",
        "plt.ylabel('Cross Entropy')\n",
        "plt.ylim([0,2.0])\n",
        "plt.title('DTraining and Validation Loss')\n",
        "plt.xlabel('epoch')\n",
        "plt.show()"
      ],
      "execution_count": null,
      "outputs": [
        {
          "output_type": "display_data",
          "data": {
            "image/png": "[encoded data removed]",
            "text/plain": [
              "<Figure size 1152x720 with 2 Axes>"
            ]
          },
          "metadata": {
            "tags": [],
            "needs_background": "light"
          }
        }
      ]
    },
    {
      "cell_type": "code",
      "metadata": {
        "id": "TjYCveEwYzOS"
      },
      "source": [
        ""
      ],
      "execution_count": null,
      "outputs": []
    }
  ]
}